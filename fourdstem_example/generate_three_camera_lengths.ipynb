{
 "cells": [
  {
   "cell_type": "code",
   "execution_count": 1,
   "metadata": {},
   "outputs": [
    {
     "name": "stderr",
     "output_type": "stream",
     "text": [
      "/home/dl277493/JaxTemGym/src/jaxgym/ode.py:6: TqdmExperimentalWarning: Using `tqdm.autonotebook.tqdm` in notebook mode. Use `tqdm.tqdm` instead to force console mode (e.g. in jupyter console)\n",
      "  from tqdm.autonotebook import trange, tqdm\n"
     ]
    }
   ],
   "source": [
    "import numpy as np\n",
    "import matplotlib.pyplot as plt\n",
    "import jax.numpy as jnp\n",
    "import jax\n",
    "from jax.scipy.interpolate import RegularGridInterpolator\n",
    "\n",
    "import jaxgym.components as comp\n",
    "from jaxgym.stemoverfocus import compute_fourdstem_dataset_vmap, compute_fourdstem_dataset\n",
    "\n",
    "from scipy.ndimage import rotate\n",
    "from scipy.ndimage import zoom\n",
    "import json\n",
    "\n",
    "%matplotlib widget\n",
    "jax.config.update('jax_platform_name', 'cpu')\n",
    "\n"
   ]
  },
  {
   "cell_type": "markdown",
   "metadata": {},
   "source": [
    "Set up the sample."
   ]
  },
  {
   "cell_type": "code",
   "execution_count": 2,
   "metadata": {},
   "outputs": [],
   "source": [
    "\n",
    "sample_image = plt.imread(r'SilverFast_Resolution_Target_USAF_1951.png')[:, :, 0]\n",
    "image_shape = sample_image.shape\n",
    "\n",
    "#remove the black pixel border on the edges\n",
    "sample_image = sample_image[1:-1, 1:-1]\n",
    "\n",
    "# Downsample the sample_image by a factor of 2\n",
    "downsample_factor = 0.5\n",
    "sample_image = zoom(sample_image, downsample_factor)\n",
    "sample_image_shape = sample_image.shape\n",
    "\n",
    "#This is something we can never access in the reverse model, \n",
    "# but we can use it to make rotation of an image on the detector possible in the forward model\n",
    "sample_rotation = 64\n",
    "\n",
    "sample_image = np.array(sample_image, dtype=np.complex64)\n",
    "sample_px_size = 0.0001\n",
    "sample_rotated = rotate(sample_image, sample_rotation, reshape=True, cval=1.0)\n",
    "sample_rotated_edge_length_x = sample_rotated.shape[1] * sample_px_size\n",
    "sample_rotated_edge_length_y = sample_rotated.shape[0] * sample_px_size\n",
    "\n",
    "# Set up grid coordinates corresponding to the physical centers of the pixels.\n",
    "# Note: We use the rotated image’s physical edge lengths (sample_rotated_edge_length_x/y)\n",
    "# to generate coordinates that match each pixel center.\n",
    "sample_coords_x = np.linspace(-sample_rotated_edge_length_x/2,\n",
    "                              +sample_rotated_edge_length_x/2,\n",
    "                              sample_rotated.shape[1])\n",
    "\n",
    "sample_coords_y = np.linspace(-sample_rotated_edge_length_y/2,\n",
    "                              +sample_rotated_edge_length_y/2,\n",
    "                              sample_rotated.shape[0])\n",
    "\n",
    "# Flip the y-axis of the sample_rotated image because regular grid interpolator from jax cannot \n",
    "# handle a positive to negative grid coordinate\n",
    "sample_rotated_flipped = np.flipud(sample_rotated)\n",
    "\n",
    "# Build the RegularGridInterpolator\n",
    "sample_interpolant = RegularGridInterpolator(\n",
    "    (sample_coords_y, sample_coords_x), sample_rotated_flipped,\n",
    "    method='nearest', bounds_error=False, fill_value=0.0\n",
    ")\n",
    "\n",
    "extent = (\n",
    "    sample_coords_x[0], sample_coords_x[-1],\n",
    "    sample_coords_y[0], sample_coords_y[-1]\n",
    ")"
   ]
  },
  {
   "cell_type": "code",
   "execution_count": 3,
   "metadata": {},
   "outputs": [],
   "source": [
    "# Linear Descan Error #1, 1, 0, 0 represents no descan pos or tilt error \n",
    "\n",
    "## Descan Error matrix looks like this\n",
    "Axx, Ayy, Cxx, Cyy = 8, 6, -10, -8 # Normal Descan Error terms Axx, Ayy, Cxx, Cyy in transfer matrix\n",
    "Axy, Ayx, Cxy, Cyx = 12, -14, -6, 10 # Cross Descan Error terms Axy, Ayx, Cxy, Cyx in transfer matrix\n",
    "\n",
    "descan_error = [Axx, Axy, Ayx, Ayy, Cxx, Cxy, Cyx, Cyy]\n",
    "\n",
    "#Set up the parameters for the simulation\n",
    "semi_conv = 0.1\n",
    "defocus = 0.02\n",
    "camera_lengths = [0.5, 1.0, 1.5]\n",
    "scan_shape = sample_image_shape\n",
    "det_shape = (96, 96)\n",
    "scan_step = (0.0001, 0.0001) # XY Scan Step Pixel Size\n",
    "det_px_size= (0.004, 0.004)\n",
    "scan_rotation = 0\n",
    "\n",
    "params_dict = {\n",
    "    'semi_conv': semi_conv,\n",
    "    'defocus': defocus, # Distance from the crossover to the sample\n",
    "    'camera_length': camera_lengths, # Distance from the point source to the detector\n",
    "    'scan_shape': scan_shape, #YX!\n",
    "    'det_shape': det_shape, # YX!\n",
    "    'scan_step': scan_step, # YX!\n",
    "    'det_px_size': det_px_size, #YX!\n",
    "    'scan_rotation': scan_rotation,\n",
    "    'descan_error': descan_error,\n",
    "    'flip_y': False,\n",
    "}\n",
    "\n"
   ]
  },
  {
   "cell_type": "code",
   "execution_count": 4,
   "metadata": {},
   "outputs": [
    {
     "ename": "TypeError",
     "evalue": "Ray.__init__() missing 1 required positional argument: 'keys'",
     "output_type": "error",
     "traceback": [
      "\u001b[31m---------------------------------------------------------------------------\u001b[39m",
      "\u001b[31mTypeError\u001b[39m                                 Traceback (most recent call last)",
      "\u001b[36mCell\u001b[39m\u001b[36m \u001b[39m\u001b[32mIn[4]\u001b[39m\u001b[32m, line 18\u001b[39m\n\u001b[32m     15\u001b[39m fourdstem_array = jnp.zeros((ScanGrid.scan_shape[\u001b[32m0\u001b[39m]*ScanGrid.scan_shape[\u001b[32m1\u001b[39m], *Detector.det_shape), dtype=jnp.complex64)\n\u001b[32m     17\u001b[39m \u001b[38;5;66;03m# Compute the fourdstem dataset for the current camera length\u001b[39;00m\n\u001b[32m---> \u001b[39m\u001b[32m18\u001b[39m fourdstem_array = \u001b[43mcompute_fourdstem_dataset_vmap\u001b[49m\u001b[43m(\u001b[49m\n\u001b[32m     19\u001b[39m \u001b[43m    \u001b[49m\u001b[43mmodel\u001b[49m\u001b[43m,\u001b[49m\u001b[43m \u001b[49m\u001b[43mfourdstem_array\u001b[49m\u001b[43m,\u001b[49m\u001b[43m \u001b[49m\u001b[43msample_interpolant\u001b[49m\n\u001b[32m     20\u001b[39m \u001b[43m\u001b[49m\u001b[43m)\u001b[49m\n\u001b[32m     21\u001b[39m fourdstem_array = np.float64(np.abs(fourdstem_array))\n\u001b[32m     23\u001b[39m fourdstem_array = fourdstem_array.reshape(ScanGrid.scan_shape[\u001b[32m0\u001b[39m], ScanGrid.scan_shape[\u001b[32m1\u001b[39m], *Detector.det_shape)\n",
      "\u001b[36mFile \u001b[39m\u001b[32m~/JaxTemGym/src/jaxgym/stemoverfocus.py:153\u001b[39m, in \u001b[36mcompute_fourdstem_dataset_vmap\u001b[39m\u001b[34m(model, fourdstem_array, sample_interpolant)\u001b[39m\n\u001b[32m    150\u001b[39m scan_coords = ScanGrid.coords        \u001b[38;5;66;03m# shape (n_scan, 2)\u001b[39;00m\n\u001b[32m    151\u001b[39m det_coords  = Detector.coords        \u001b[38;5;66;03m# shape (n_rays, 2)\u001b[39;00m\n\u001b[32m--> \u001b[39m\u001b[32m153\u001b[39m det_y, det_x, vals = \u001b[43mjax\u001b[49m\u001b[43m.\u001b[49m\u001b[43mvmap\u001b[49m\u001b[43m(\u001b[49m\n\u001b[32m    154\u001b[39m \u001b[43m    \u001b[49m\u001b[38;5;28;43;01mlambda\u001b[39;49;00m\u001b[43m \u001b[49m\u001b[43msp\u001b[49m\u001b[43m:\u001b[49m\u001b[43m \u001b[49m\u001b[43mproject_frame_forward\u001b[49m\u001b[43m(\u001b[49m\u001b[43mmodel\u001b[49m\u001b[43m,\u001b[49m\u001b[43m \u001b[49m\u001b[43mdet_coords\u001b[49m\u001b[43m,\u001b[49m\u001b[43m \u001b[49m\u001b[43msample_interpolant\u001b[49m\u001b[43m,\u001b[49m\u001b[43m \u001b[49m\u001b[43msp\u001b[49m\u001b[43m)\u001b[49m\u001b[43m,\u001b[49m\n\u001b[32m    155\u001b[39m \u001b[43m    \u001b[49m\u001b[43min_axes\u001b[49m\u001b[43m=\u001b[49m\u001b[32;43m0\u001b[39;49m\u001b[43m,\u001b[49m\u001b[43m \u001b[49m\u001b[43mout_axes\u001b[49m\u001b[43m=\u001b[49m\u001b[32;43m0\u001b[39;49m\n\u001b[32m    156\u001b[39m \u001b[43m\u001b[49m\u001b[43m)\u001b[49m\u001b[43m(\u001b[49m\u001b[43mscan_coords\u001b[49m\u001b[43m)\u001b[49m\n\u001b[32m    158\u001b[39m \u001b[38;5;66;03m# build a (n_scan,1)-shaped index to broadcast into the first axis\u001b[39;00m\n\u001b[32m    159\u001b[39m scan_idx = jnp.arange(scan_coords.shape[\u001b[32m0\u001b[39m])[:, \u001b[38;5;28;01mNone\u001b[39;00m]  \u001b[38;5;66;03m# (n_scan,1)\u001b[39;00m\n",
      "    \u001b[31m[... skipping hidden 7 frame]\u001b[39m\n",
      "\u001b[36mFile \u001b[39m\u001b[32m~/JaxTemGym/src/jaxgym/stemoverfocus.py:154\u001b[39m, in \u001b[36mcompute_fourdstem_dataset_vmap.<locals>.<lambda>\u001b[39m\u001b[34m(sp)\u001b[39m\n\u001b[32m    150\u001b[39m scan_coords = ScanGrid.coords        \u001b[38;5;66;03m# shape (n_scan, 2)\u001b[39;00m\n\u001b[32m    151\u001b[39m det_coords  = Detector.coords        \u001b[38;5;66;03m# shape (n_rays, 2)\u001b[39;00m\n\u001b[32m    153\u001b[39m det_y, det_x, vals = jax.vmap(\n\u001b[32m--> \u001b[39m\u001b[32m154\u001b[39m     \u001b[38;5;28;01mlambda\u001b[39;00m sp: \u001b[43mproject_frame_forward\u001b[49m\u001b[43m(\u001b[49m\u001b[43mmodel\u001b[49m\u001b[43m,\u001b[49m\u001b[43m \u001b[49m\u001b[43mdet_coords\u001b[49m\u001b[43m,\u001b[49m\u001b[43m \u001b[49m\u001b[43msample_interpolant\u001b[49m\u001b[43m,\u001b[49m\u001b[43m \u001b[49m\u001b[43msp\u001b[49m\u001b[43m)\u001b[49m,\n\u001b[32m    155\u001b[39m     in_axes=\u001b[32m0\u001b[39m, out_axes=\u001b[32m0\u001b[39m\n\u001b[32m    156\u001b[39m )(scan_coords)\n\u001b[32m    158\u001b[39m \u001b[38;5;66;03m# build a (n_scan,1)-shaped index to broadcast into the first axis\u001b[39;00m\n\u001b[32m    159\u001b[39m scan_idx = jnp.arange(scan_coords.shape[\u001b[32m0\u001b[39m])[:, \u001b[38;5;28;01mNone\u001b[39;00m]  \u001b[38;5;66;03m# (n_scan,1)\u001b[39;00m\n",
      "\u001b[36mFile \u001b[39m\u001b[32m~/JaxTemGym/src/jaxgym/stemoverfocus.py:119\u001b[39m, in \u001b[36mproject_frame_forward\u001b[39m\u001b[34m(model, det_coords, sample_interpolant, scan_pos)\u001b[39m\n\u001b[32m    115\u001b[39m semi_conv = PointSource.semi_conv\n\u001b[32m    117\u001b[39m \u001b[38;5;66;03m# Return all the transfer matrices necessary for us to propagate rays through the system\u001b[39;00m\n\u001b[32m    118\u001b[39m \u001b[38;5;66;03m# We do this by propagating a single ray through the system, and finding it's gradients\u001b[39;00m\n\u001b[32m--> \u001b[39m\u001b[32m119\u001b[39m _, total_transfer_matrix, detector_to_scan = \u001b[43msolve_model_fourdstem_wrapper\u001b[49m\u001b[43m(\u001b[49m\u001b[43mmodel\u001b[49m\u001b[43m,\u001b[49m\u001b[43m \u001b[49m\u001b[43mscan_pos\u001b[49m\u001b[43m)\u001b[49m\n\u001b[32m    121\u001b[39m \u001b[38;5;66;03m# Get ray coordinates at the scan from the detector\u001b[39;00m\n\u001b[32m    122\u001b[39m scan_rays_x, scan_rays_y, mask = ray_coords_at_plane(\n\u001b[32m    123\u001b[39m     semi_conv, scan_pos, det_coords, total_transfer_matrix, detector_to_scan\n\u001b[32m    124\u001b[39m )\n",
      "\u001b[36mFile \u001b[39m\u001b[32m~/JaxTemGym/src/jaxgym/stemoverfocus.py:36\u001b[39m, in \u001b[36msolve_model_fourdstem_wrapper\u001b[39m\u001b[34m(model, scan_pos_m)\u001b[39m\n\u001b[32m     31\u001b[39m scan_x, scan_y = scan_pos_m[\u001b[32m0\u001b[39m], scan_pos_m[\u001b[32m1\u001b[39m]\n\u001b[32m     33\u001b[39m \u001b[38;5;66;03m# # Prepare input ray position for this scan point.\u001b[39;00m\n\u001b[32m     34\u001b[39m \u001b[38;5;66;03m# input_ray_positions = jnp.array([scan_x, scan_y, 0.0, 0.0, 1.0])\u001b[39;00m\n\u001b[32m---> \u001b[39m\u001b[32m36\u001b[39m ray = \u001b[43mRay\u001b[49m\u001b[43m(\u001b[49m\n\u001b[32m     37\u001b[39m \u001b[43m    \u001b[49m\u001b[43mx\u001b[49m\u001b[43m=\u001b[49m\u001b[43mscan_x\u001b[49m\u001b[43m,\u001b[49m\n\u001b[32m     38\u001b[39m \u001b[43m    \u001b[49m\u001b[43my\u001b[49m\u001b[43m=\u001b[49m\u001b[43mscan_y\u001b[49m\u001b[43m,\u001b[49m\n\u001b[32m     39\u001b[39m \u001b[43m    \u001b[49m\u001b[43mdx\u001b[49m\u001b[43m=\u001b[49m\u001b[32;43m0.0\u001b[39;49m\u001b[43m,\u001b[49m\n\u001b[32m     40\u001b[39m \u001b[43m    \u001b[49m\u001b[43mdy\u001b[49m\u001b[43m=\u001b[49m\u001b[32;43m0.0\u001b[39;49m\u001b[43m,\u001b[49m\n\u001b[32m     41\u001b[39m \u001b[43m    \u001b[49m\u001b[43m_one\u001b[49m\u001b[43m=\u001b[49m\u001b[32;43m1.0\u001b[39;49m\u001b[43m,\u001b[49m\n\u001b[32m     42\u001b[39m \u001b[43m    \u001b[49m\u001b[43mz\u001b[49m\u001b[43m=\u001b[49m\u001b[43mPointSource\u001b[49m\u001b[43m.\u001b[49m\u001b[43mz\u001b[49m\u001b[43m,\u001b[49m\n\u001b[32m     43\u001b[39m \u001b[43m    \u001b[49m\u001b[43mpathlength\u001b[49m\u001b[43m=\u001b[49m\u001b[43mjnp\u001b[49m\u001b[43m.\u001b[49m\u001b[43mzeros\u001b[49m\u001b[43m(\u001b[49m\u001b[32;43m1\u001b[39;49m\u001b[43m)\u001b[49m\u001b[43m,\u001b[49m\n\u001b[32m     44\u001b[39m \u001b[43m\u001b[49m\u001b[43m)\u001b[49m\n\u001b[32m     46\u001b[39m \u001b[38;5;66;03m# Create a new Descanner with the current scan offsets.\u001b[39;00m\n\u001b[32m     47\u001b[39m new_Descanner = comp.Descanner(\n\u001b[32m     48\u001b[39m     z=ScanGrid.z,\n\u001b[32m     49\u001b[39m     descan_error=Descanner.descan_error,\n\u001b[32m     50\u001b[39m     offset_x=scan_x,\n\u001b[32m     51\u001b[39m     offset_y=scan_y\n\u001b[32m     52\u001b[39m )\n",
      "\u001b[31mTypeError\u001b[39m: Ray.__init__() missing 1 required positional argument: 'keys'"
     ]
    }
   ],
   "source": [
    "for camera_length in camera_lengths:\n",
    "    #Create ray input z plane\n",
    "    crossover_z = jnp.zeros((1))\n",
    "    \n",
    "    PointSource = comp.PointSource(z=crossover_z, semi_conv=semi_conv)\n",
    "    ScanGrid = comp.ScanGrid(z=jnp.array([params_dict['defocus']]), scan_step=params_dict['scan_step'], scan_shape=params_dict['scan_shape'], scan_rotation=params_dict['scan_rotation'])\n",
    "    Descanner = comp.Descanner(z=jnp.array([params_dict['defocus']]), descan_error=params_dict['descan_error'], offset_x=0.0, offset_y=0.0)\n",
    "\n",
    "    scan_coordinates = ScanGrid.coords\n",
    "    scan_coords = ScanGrid.coords.reshape(ScanGrid.scan_shape[0], ScanGrid.scan_shape[1], 2)\n",
    "    Detector = comp.Detector(z=jnp.array(camera_length), det_shape=params_dict['det_shape'], det_pixel_size=params_dict['det_px_size'], flip_y=params_dict['flip_y'])\n",
    "    \n",
    "    model = [PointSource, ScanGrid, Descanner, Detector]\n",
    "\n",
    "    fourdstem_array = jnp.zeros((ScanGrid.scan_shape[0]*ScanGrid.scan_shape[1], *Detector.det_shape), dtype=jnp.complex64)\n",
    "\n",
    "    # Compute the fourdstem dataset for the current camera length\n",
    "    fourdstem_array = compute_fourdstem_dataset_vmap(\n",
    "        model, fourdstem_array, sample_interpolant\n",
    "    )\n",
    "    fourdstem_array = np.float64(np.abs(fourdstem_array))\n",
    "\n",
    "    fourdstem_array = fourdstem_array.reshape(ScanGrid.scan_shape[0], ScanGrid.scan_shape[1], *Detector.det_shape)\n",
    "    np.save(f'fourdstem_array_{camera_length}.npy', fourdstem_array)\n",
    "\n",
    "json.dump(params_dict, open('params_3cls.json', 'w'), indent=2)"
   ]
  }
 ],
 "metadata": {
  "kernelspec": {
   "display_name": "JaxGym",
   "language": "python",
   "name": "python3"
  },
  "language_info": {
   "codemirror_mode": {
    "name": "ipython",
    "version": 3
   },
   "file_extension": ".py",
   "mimetype": "text/x-python",
   "name": "python",
   "nbconvert_exporter": "python",
   "pygments_lexer": "ipython3",
   "version": "3.12.6"
  }
 },
 "nbformat": 4,
 "nbformat_minor": 2
}
