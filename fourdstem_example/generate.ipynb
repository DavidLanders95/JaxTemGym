{
 "cells": [
  {
   "cell_type": "code",
   "execution_count": null,
   "id": "61e09982",
   "metadata": {},
   "outputs": [],
   "source": [
    "import numpy as np\n",
    "import matplotlib.pyplot as plt\n",
    "import jax.numpy as jnp\n",
    "import jax\n",
    "from jax.scipy.interpolate import RegularGridInterpolator\n",
    "\n",
    "import jaxgym.components as comp\n",
    "from jaxgym.stemoverfocus import compute_fourdstem_dataset_vmap\n",
    "\n",
    "from scipy.ndimage import rotate\n",
    "from scipy.ndimage import zoom\n",
    "import json\n",
    "\n",
    "%matplotlib widget\n",
    "jax.config.update('jax_platform_name', 'cpu')"
   ]
  },
  {
   "cell_type": "code",
   "execution_count": null,
   "id": "e1d9fe13",
   "metadata": {},
   "outputs": [],
   "source": [
    "\n",
    "sample_image = plt.imread(r'SilverFast_Resolution_Target_USAF_1951.png')[:, :, 0]\n",
    "image_shape = sample_image.shape\n",
    "\n",
    "#remove the black pixel border on the edges\n",
    "sample_image = sample_image[1:-1, 1:-1]\n",
    "\n",
    "# Downsample the sample_image by a factor of 2\n",
    "downsample_factor = 0.5\n",
    "sample_image = zoom(sample_image, downsample_factor)\n",
    "sample_image_shape = sample_image.shape\n",
    "\n",
    "#This is something we can never access in the reverse model, \n",
    "# but we can use it to make rotation of an image on the detector possible in the forward model\n",
    "sample_rotation = 64\n",
    "\n",
    "sample_image = np.array(sample_image, dtype=np.complex64)\n",
    "sample_px_size = 0.0001\n",
    "sample_rotated = rotate(sample_image, sample_rotation, reshape=True, cval=1.0)\n",
    "sample_rotated_edge_length_x = sample_rotated.shape[1] * sample_px_size\n",
    "sample_rotated_edge_length_y = sample_rotated.shape[0] * sample_px_size\n",
    "\n",
    "# Set up grid coordinates corresponding to the physical centers of the pixels.\n",
    "# Note: We use the rotated image’s physical edge lengths (sample_rotated_edge_length_x/y)\n",
    "# to generate coordinates that match each pixel center.\n",
    "sample_coords_x = np.linspace(-sample_rotated_edge_length_x/2,\n",
    "                              +sample_rotated_edge_length_x/2,\n",
    "                              sample_rotated.shape[1])\n",
    "\n",
    "sample_coords_y = np.linspace(-sample_rotated_edge_length_y/2,\n",
    "                              +sample_rotated_edge_length_y/2,\n",
    "                              sample_rotated.shape[0])\n",
    "\n",
    "# Flip the y-axis of the sample_rotated image because regular grid interpolator from jax cannot \n",
    "# handle a positive to negative grid coordinate\n",
    "sample_rotated_flipped = np.flipud(sample_rotated)\n",
    "\n",
    "# Build the RegularGridInterpolator\n",
    "sample_interpolant = RegularGridInterpolator(\n",
    "    (sample_coords_y, sample_coords_x), sample_rotated_flipped,\n",
    "    method='nearest', bounds_error=False, fill_value=0.0\n",
    ")\n",
    "\n",
    "extent = (\n",
    "    sample_coords_x[0], sample_coords_x[-1],\n",
    "    sample_coords_y[0], sample_coords_y[-1]\n",
    ")"
   ]
  },
  {
   "cell_type": "code",
   "execution_count": null,
   "metadata": {},
   "outputs": [],
   "source": [
    "# Linear Descan Error #1, 1, 0, 0 represents no descan pos or tilt error \n",
    "\n",
    "## Descan Error matrix looks like this\n",
    "# Axx, Ayy, Cxx, Cyy = 4, 3, -5, -4 # Normal Descan Error terms Axx, Ayy, Cxx, Cyy in transfer matrix\n",
    "# Axy, Ayx, Cxy, Cyx = 6, -7, -3, 5 # Cross Descan Error terms Axy, Ayx, Cxy, Cyx in transfer matrix\n",
    "\n",
    "## NO Descan ERROR matrix looks like this - Remember that Axx, and Ayy in reality should be 1 for no error, \n",
    "# but if we set them to 1 to mean no error its a bit confusing, so we have offset their value inside the descanner. \n",
    "Axx, Ayy, Cxx, Cyy = 0, 0, 0, 0\n",
    "Axy, Ayx, Cxy, Cyx = 0, 0, 0, 0\n",
    "\n",
    "descan_error = [Axx, Axy, Ayx, Ayy, Cxx, Cxy, Cyx, Cyy]\n",
    "\n",
    "#Set up the parameters for the simulation\n",
    "semi_conv = 0.04\n",
    "defocus = 0.01\n",
    "camera_length = 1.0\n",
    "scan_shape = sample_image_shape\n",
    "det_shape = (96, 96)\n",
    "scan_step = (0.0001, 0.0001) # XY Scan Step Pixel Size\n",
    "det_px_size= (0.002, 0.002)\n",
    "scan_rotation = 0\n",
    "\n",
    "params_dict = {\n",
    "    'semi_conv': semi_conv,\n",
    "    'defocus': defocus, # Distance from the crossover to the sample\n",
    "    'camera_length': camera_length, # Distance from the sample to the detector\n",
    "    'scan_shape': scan_shape, #YX!\n",
    "    'det_shape': det_shape, # YX!\n",
    "    'scan_step': scan_step, # YX!\n",
    "    'det_px_size': det_px_size, #YX!\n",
    "    'scan_rotation': scan_rotation,\n",
    "    'descan_error': descan_error,\n",
    "    'flip_y': False,\n",
    "}\n",
    "\n",
    "#Create ray input z plane\n",
    "crossover_z = jnp.zeros((1))\n",
    "\n",
    "PointSource = comp.PointSource(z=crossover_z, semi_conv=semi_conv)\n",
    "ScanGrid = comp.ScanGrid(z=jnp.array([params_dict['defocus']]), scan_step=params_dict['scan_step'], scan_shape=params_dict['scan_shape'], scan_rotation=params_dict['scan_rotation'])\n",
    "Descanner = comp.Descanner(z=jnp.array([params_dict['defocus']]), descan_error=params_dict['descan_error'], offset_x=0.0, offset_y=0.0)\n",
    "Detector = comp.Detector(z=jnp.array([params_dict['camera_length']]), det_shape=params_dict['det_shape'], det_pixel_size=params_dict['det_px_size'], flip_y=params_dict['flip_y'])\n",
    "model = [PointSource, ScanGrid, Descanner, Detector]\n",
    "\n",
    "print(descan_error)"
   ]
  },
  {
   "cell_type": "code",
   "execution_count": null,
   "metadata": {},
   "outputs": [],
   "source": [
    "print(Detector.coords)"
   ]
  },
  {
   "cell_type": "markdown",
   "metadata": {},
   "source": [
    "Scan grid over Sample plot."
   ]
  },
  {
   "cell_type": "code",
   "execution_count": null,
   "metadata": {},
   "outputs": [],
   "source": [
    "scan_coordinates = ScanGrid.coords\n",
    "scan_coords = ScanGrid.coords.reshape(ScanGrid.scan_shape[0], ScanGrid.scan_shape[1], 2)\n",
    "interp_image = sample_interpolant((scan_coords[:, :, 1], scan_coords[:, :, 0]))\n",
    "\n",
    "plt.figure()\n",
    "plt.imshow(np.abs(interp_image), cmap='gray', extent=extent, origin='upper')\n",
    "plt.plot(scan_coords[0, :, 0], scan_coords[0, :, 1], 'ro', markersize=1)\n",
    "plt.plot(scan_coordinates[0, 0], scan_coordinates[0, 1], 'gx', markersize=5, label='Start Point of Scan Grid')\n",
    "plt.plot([], [], 'ro', markersize=1, label='First line of Scan Grid')\n",
    "plt.title('Sample Image')\n",
    "plt.xlabel('X (physical units)')\n",
    "plt.ylabel('Y (physical units)')\n",
    "plt.legend()\n",
    "plt.show()"
   ]
  },
  {
   "cell_type": "markdown",
   "metadata": {},
   "source": [
    "Generating the forward dataset:"
   ]
  },
  {
   "cell_type": "code",
   "execution_count": null,
   "metadata": {},
   "outputs": [],
   "source": [
    "fourdstem_array = jnp.zeros((ScanGrid.scan_shape[0]*ScanGrid.scan_shape[1], *Detector.det_shape), dtype=jnp.complex64)"
   ]
  },
  {
   "cell_type": "code",
   "execution_count": null,
   "metadata": {},
   "outputs": [],
   "source": [
    "fourdstem_array = compute_fourdstem_dataset_vmap(\n",
    "    model, fourdstem_array, sample_interpolant\n",
    ")"
   ]
  },
  {
   "cell_type": "code",
   "execution_count": null,
   "metadata": {},
   "outputs": [],
   "source": [
    "fourdstem_array = fourdstem_array.reshape(ScanGrid.scan_shape[0], ScanGrid.scan_shape[1], *Detector.det_shape)"
   ]
  },
  {
   "cell_type": "markdown",
   "metadata": {},
   "source": [
    "Plotting a scan coordinate"
   ]
  },
  {
   "cell_type": "code",
   "execution_count": null,
   "metadata": {},
   "outputs": [],
   "source": [
    "scan_idx_x, scan_idx_y = 63, 99\n",
    "scan_pos_x, scan_pos_y = scan_coords[scan_idx_y, scan_idx_x]\n",
    "det_image_selected = fourdstem_array[scan_idx_y, scan_idx_x]\n",
    "\n",
    "fig, ax = plt.subplots(1, 2, figsize=(10, 5))\n",
    "\n",
    "ax[0].imshow(np.abs(sample_rotated), extent=extent, cmap='gray', origin='upper')\n",
    "ax[0].scatter(scan_pos_x, scan_pos_y, c='g', marker='x', alpha=1)\n",
    "ax[0].set_title('Sample')\n",
    "\n",
    "ax[1].imshow(np.abs(det_image_selected), cmap='gray')\n",
    "ax[1].axhline(Detector.det_shape[0]/2, color='lightgrey', linestyle='--')\n",
    "ax[1].axvline(Detector.det_shape[1]/2, color='lightgrey', linestyle='--')\n",
    "ax[1].set_title('Detector Image')\n",
    "plt.show()"
   ]
  },
  {
   "cell_type": "markdown",
   "metadata": {},
   "source": [
    "Saving the data."
   ]
  },
  {
   "cell_type": "code",
   "execution_count": null,
   "metadata": {},
   "outputs": [],
   "source": [
    "fourdstem_array = np.reshape(fourdstem_array, (ScanGrid.scan_shape[0]*ScanGrid.scan_shape[1], *Detector.det_shape))\n",
    "json.dump(params_dict, open('params.json', 'w'), indent=2)\n",
    "np.save('fourdstem_array.npy', fourdstem_array)"
   ]
  }
 ],
 "metadata": {
  "kernelspec": {
   "display_name": "temgym",
   "language": "python",
   "name": "python3"
  },
  "language_info": {
   "name": "python",
   "version": "3.12.6"
  }
 },
 "nbformat": 4,
 "nbformat_minor": 5
}
