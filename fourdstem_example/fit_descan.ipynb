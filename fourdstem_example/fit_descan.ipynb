{
 "cells": [
  {
   "cell_type": "code",
   "execution_count": 10,
   "metadata": {},
   "outputs": [],
   "source": [
    "import numpy as np\n",
    "import matplotlib.pyplot as plt\n",
    "import jax.numpy as jnp\n",
    "import jax\n",
    "from jax.scipy.interpolate import RegularGridInterpolator\n",
    "\n",
    "import jaxgym.components as comp\n",
    "from jaxgym.stemoverfocus import compute_fourdstem_dataset\n",
    "\n",
    "from scipy.ndimage import rotate\n",
    "from scipy.ndimage import zoom, center_of_mass\n",
    "import json\n",
    "\n",
    "from scipy.optimize import curve_fit\n",
    "%matplotlib widget\n",
    "jax.config.update('jax_platform_name', 'cpu')\n"
   ]
  },
  {
   "cell_type": "code",
   "execution_count": 11,
   "metadata": {},
   "outputs": [],
   "source": [
    "from libertem_ui.windows.imaging import VirtualDetectorWindow\n",
    "import libertem.api as lt\n",
    "ctx = lt.Context.make_with(\"inline\")\n",
    "ds = ctx.load(\"npy\", \"./fourdstem_array_0.5.npy\")"
   ]
  },
  {
   "cell_type": "code",
   "execution_count": 12,
   "metadata": {},
   "outputs": [
    {
     "data": {
      "application/vnd.jupyter.widget-view+json": {
       "model_id": "3c5c839ea46e40058d0853c741a75c60",
       "version_major": 2,
       "version_minor": 0
      },
      "text/plain": [
       "BokehModel(combine_events=True, render_bundle={'docs_json': {'8438c257-84fc-495f-be43-55598d787ab1': {'version…"
      ]
     },
     "execution_count": 12,
     "metadata": {},
     "output_type": "execute_result"
    }
   ],
   "source": [
    "v_window = VirtualDetectorWindow.using(ctx, ds)\n",
    "v_window.layout()"
   ]
  },
  {
   "cell_type": "code",
   "execution_count": 4,
   "metadata": {},
   "outputs": [],
   "source": [
    "# from libertem_ui.windows.com import CoMImagingWindow\n",
    "# com_window = CoMImagingWindow.using(ctx, ds)\n",
    "# com_window.layout()"
   ]
  },
  {
   "cell_type": "code",
   "execution_count": 5,
   "metadata": {},
   "outputs": [],
   "source": [
    "\n",
    "sample_image = plt.imread(r'SilverFast_Resolution_Target_USAF_1951.png')[:, :, 0]\n",
    "image_shape = sample_image.shape\n",
    "\n",
    "#remove the black pixel border on the edges\n",
    "sample_image = sample_image[1:-1, 1:-1]\n",
    "\n",
    "# Downsample the sample_image by a factor of 2\n",
    "downsample_factor = 0.5\n",
    "sample_image = zoom(sample_image, downsample_factor)\n",
    "sample_image_shape = sample_image.shape\n",
    "\n",
    "#This is something we can never access in the reverse model, \n",
    "# but we can use it to make rotation of an image on the detector possible in the forward model\n",
    "sample_rotation = 64\n",
    "\n",
    "sample_image = np.array(sample_image, dtype=np.complex64)\n",
    "sample_px_size = 0.0001\n",
    "sample_rotated = rotate(sample_image, sample_rotation, reshape=True, cval=1.0)\n",
    "sample_rotated_edge_length_x = sample_rotated.shape[1] * sample_px_size\n",
    "sample_rotated_edge_length_y = sample_rotated.shape[0] * sample_px_size\n",
    "\n",
    "# Set up grid coordinates corresponding to the physical centers of the pixels.\n",
    "# Note: We use the rotated image’s physical edge lengths (sample_rotated_edge_length_x/y)\n",
    "# to generate coordinates that match each pixel center.\n",
    "sample_coords_x = np.linspace(-sample_rotated_edge_length_x/2,\n",
    "                              +sample_rotated_edge_length_x/2,\n",
    "                              sample_rotated.shape[1])\n",
    "\n",
    "sample_coords_y = np.linspace(-sample_rotated_edge_length_y/2,\n",
    "                              +sample_rotated_edge_length_y/2,\n",
    "                              sample_rotated.shape[0])\n",
    "\n",
    "# Flip the y-axis of the sample_rotated image because regular grid interpolator from jax cannot \n",
    "# handle a positive to negative grid coordinate\n",
    "sample_rotated_flipped = np.flipud(sample_rotated)\n",
    "\n",
    "# Build the RegularGridInterpolator\n",
    "sample_interpolant = RegularGridInterpolator(\n",
    "    (sample_coords_y, sample_coords_x), sample_rotated_flipped,\n",
    "    method='nearest', bounds_error=False, fill_value=0.0\n",
    ")\n",
    "\n",
    "extent = (\n",
    "    sample_coords_x[0], sample_coords_x[-1],\n",
    "    sample_coords_y[0], sample_coords_y[-1]\n",
    ")"
   ]
  },
  {
   "cell_type": "code",
   "execution_count": 6,
   "metadata": {},
   "outputs": [],
   "source": [
    "import json\n",
    "\n",
    "#load params.json as a dictionary\n",
    "with open('params.json') as f:\n",
    "    params_dict = json.load(f)\n",
    "\n",
    "# Set up the parameters for the simulation\n",
    "camera_lengths = params_dict['camera_length']"
   ]
  },
  {
   "cell_type": "code",
   "execution_count": 7,
   "metadata": {},
   "outputs": [],
   "source": [
    "x_ins = []\n",
    "y_ins = []\n",
    "Bs = []\n",
    "x_dets = []\n",
    "y_dets = []\n",
    "\n",
    "for camera_length in camera_lengths:\n",
    "\n",
    "    #Create ray input z plane\n",
    "    crossover_z = jnp.zeros((1))\n",
    "    ScanGrid = comp.ScanGrid(z=jnp.array([params_dict['defocus']]), scan_step=params_dict['scan_step'], scan_shape=params_dict['scan_shape'], scan_rotation=params_dict['scan_rotation'])\n",
    "    scan_coordinates = ScanGrid.coords\n",
    "    Detector = comp.Detector(z=jnp.array(camera_length), det_shape=params_dict['det_shape'], det_pixel_size=params_dict['det_px_size'], flip_y=params_dict['flip_y'])\n",
    "    \n",
    "    # Load the fourdstem array for the current camera length\n",
    "    fourdstem_array = np.load(f'fourdstem_array_{camera_length}.npy')\n",
    "\n",
    "    fourdstem_array = fourdstem_array.reshape(ScanGrid.scan_shape[0] * ScanGrid.scan_shape[1], *Detector.det_shape)\n",
    "    \n",
    "    x_in, y_in = scan_coordinates[:, 0], scan_coordinates[:, 1]\n",
    "    x_ins.append(x_in)\n",
    "    y_ins.append(y_in)\n",
    "\n",
    "    B = camera_length - params_dict['defocus']\n",
    "    B = np.ones_like(x_in) * B\n",
    "    Bs.append(B)\n",
    "\n",
    "    for image in fourdstem_array:\n",
    "\n",
    "        # thresold the image\n",
    "        image = np.where(np.abs(image) > 0.00, np.abs(image), 0)\n",
    "        yx_px_det = center_of_mass(np.abs(image))\n",
    "\n",
    "        xy_det = Detector.pixels_to_metres(yx_px_det)\n",
    "        x_det, y_det = xy_det[0], xy_det[1]\n",
    "        x_dets.append(float(x_det))\n",
    "        y_dets.append(float(y_det))\n",
    "\n",
    "    fourdstem_array = fourdstem_array.reshape(ScanGrid.scan_shape[0], ScanGrid.scan_shape[1], *Detector.det_shape)\n",
    "    scan_idx_x, scan_idx_y = -1, -1\n",
    "    scan_coords = scan_coordinates.reshape(ScanGrid.scan_shape[0], ScanGrid.scan_shape[1], 2)\n",
    "    scan_pos_x, scan_pos_y = scan_coords[scan_idx_y, scan_idx_x]\n",
    "    det_image_selected = fourdstem_array[scan_idx_y, scan_idx_x]\n"
   ]
  },
  {
   "cell_type": "code",
   "execution_count": 8,
   "metadata": {},
   "outputs": [
    {
     "name": "stdout",
     "output_type": "stream",
     "text": [
      "Transfer Matrix from sample to detector:\n"
     ]
    },
    {
     "data": {
      "text/latex": [
       "$\\displaystyle \\left[\\begin{matrix}A_{xx\\_dpos} + B_{xx\\_cl} C_{xx\\_dslope} & A_{xy\\_dpos} + B_{xx\\_cl} C_{xy\\_dslope} & B_{xx\\_cl} & 0\\\\A_{yx\\_dpos} + B_{yy\\_cl} C_{yx\\_dslope} & A_{yy\\_dpos} + B_{yy\\_cl} C_{yy\\_dslope} & 0 & B_{yy\\_cl}\\\\C_{xx\\_dslope} & C_{xy\\_dslope} & 1 & 0\\\\C_{yx\\_dslope} & C_{yy\\_dslope} & 0 & 1\\end{matrix}\\right]$"
      ],
      "text/plain": [
       "Matrix([\n",
       "[A_{xx\\_dpos} + B_{xx\\_cl}*C_{xx\\_dslope}, A_{xy\\_dpos} + B_{xx\\_cl}*C_{xy\\_dslope}, B_{xx\\_cl},          0],\n",
       "[A_{yx\\_dpos} + B_{yy\\_cl}*C_{yx\\_dslope}, A_{yy\\_dpos} + B_{yy\\_cl}*C_{yy\\_dslope},          0, B_{yy\\_cl}],\n",
       "[                          C_{xx\\_dslope},                           C_{xy\\_dslope},          1,          0],\n",
       "[                          C_{yx\\_dslope},                           C_{yy\\_dslope},          0,          1]])"
      ]
     },
     "metadata": {},
     "output_type": "display_data"
    },
    {
     "name": "stdout",
     "output_type": "stream",
     "text": [
      "Transfer Equation with input slope of rays set to 0.0 (i.e finding the central ray of the point source through the system)\n"
     ]
    },
    {
     "data": {
      "text/latex": [
       "$\\displaystyle x_{det} = x_{in} \\left(A_{xx\\_dpos} + B_{xx\\_cl} C_{xx\\_dslope}\\right) + y_{in} \\left(A_{xy\\_dpos} + B_{xx\\_cl} C_{xy\\_dslope}\\right)$"
      ],
      "text/plain": [
       "Eq(x_det, x_in*(A_{xx\\_dpos} + B_{xx\\_cl}*C_{xx\\_dslope}) + y_in*(A_{xy\\_dpos} + B_{xx\\_cl}*C_{xy\\_dslope}))"
      ]
     },
     "metadata": {},
     "output_type": "display_data"
    },
    {
     "data": {
      "text/latex": [
       "$\\displaystyle y_{det} = x_{in} \\left(A_{yx\\_dpos} + B_{yy\\_cl} C_{yx\\_dslope}\\right) + y_{in} \\left(A_{yy\\_dpos} + B_{yy\\_cl} C_{yy\\_dslope}\\right)$"
      ],
      "text/plain": [
       "Eq(y_det, x_in*(A_{yx\\_dpos} + B_{yy\\_cl}*C_{yx\\_dslope}) + y_in*(A_{yy\\_dpos} + B_{yy\\_cl}*C_{yy\\_dslope}))"
      ]
     },
     "metadata": {},
     "output_type": "display_data"
    }
   ],
   "source": [
    "import sympy as sp\n",
    "from sympy import symbols, Matrix\n",
    "\n",
    "x_in, y_in, dx_in, dy_in = symbols('x_in y_in dx_in dy_in')\n",
    "x_det, y_det, dx_det, dy_det = symbols('x_det y_det dx_det dy_det')\n",
    "\n",
    "ray_in = Matrix([[x_in], [y_in], [dx_in], [dy_in]])\n",
    "ray_out = Matrix([[x_det], [y_det], [dx_det], [dy_det]])\n",
    "\n",
    "# Descan error matrix elements (position only)\n",
    "Axx_dp, Axy_dp, Ayx_dp, Ayy_dp = symbols('A_{xx\\\\_dpos} A_{xy\\\\_dpos} A_{yx\\\\_dpos} A_{yy\\\\_dpos}')\n",
    "Bxx_cl, Bxy_cl, Byx_cl, Byy_cl = symbols('B_{xx\\\\_cl} B_{xy\\\\_cl} B_{yx\\\\_cl} B_{yy\\\\_cl}')\n",
    "Cxx_ds, Cxy_ds, Cyx_ds, Cyy_ds = symbols('C_{xx\\\\_dslope} C_{xy\\\\_dslope} C_{yx\\\\_dslope} C_{yy\\\\_dslope}')\n",
    "\n",
    "descan_error_matrix = Matrix([[Axx_dp, Axy_dp, 0, 0],\n",
    "                              [Ayx_dp, Ayy_dp, 0, 0],\n",
    "                              [Cxx_ds, Cxy_ds, 1, 0],\n",
    "                              [Cyx_ds, Cyy_ds, 0, 1]])\n",
    "\n",
    "camera_length_prop_matrix = Matrix([[1, 0, Bxx_cl, 0],\n",
    "                                    [0, 1, 0, Byy_cl],\n",
    "                                    [0, 0, 1, 0],\n",
    "                                    [0, 0, 0, 1]])\n",
    "\n",
    "print('Transfer Matrix from sample to detector:')\n",
    "T = camera_length_prop_matrix * descan_error_matrix\n",
    "display(T)\n",
    "\n",
    "print('Transfer Equation with input slope of rays set to 0.0 (i.e finding the central ray of the point source through the system)')\n",
    "eq = sp.Eq(ray_out, T * ray_in)\n",
    "\n",
    "# set dx_in and dy_in to 0.0\n",
    "eq = eq.subs({dx_in: 0.0, dy_in: 0.0})\n",
    "\n",
    "# Display the x_det and y_det equations independently by extracting the first two rows of the transfer matrix\n",
    "eq_x = sp.Eq(x_det, eq.rhs[0])\n",
    "eq_y = sp.Eq(y_det, eq.rhs[1])\n",
    "\n",
    "display(eq_x)\n",
    "display(eq_y)"
   ]
  },
  {
   "cell_type": "code",
   "execution_count": 9,
   "metadata": {},
   "outputs": [
    {
     "name": "stdout",
     "output_type": "stream",
     "text": [
      "\n",
      "Fit ABCD Values:\n",
      "Axx_dpos = 8.1  Cxx_dslope = -9.7\n",
      "Axy_dpos = 12.1  Cxy_dslope = -6.1\n",
      "Ayx_dpos = -14.1  Cyx_dslope = 10.1\n",
      "Ayy_dpos = 6.1  Cyy_dslope = -7.7\n",
      "\n",
      "Actual ABCD Values:\n",
      "Axx_dpos = 8.0  Cxx_dslope = -10.0\n",
      "Axy_dpos = 12.0  Cxy_dslope = -6.0\n",
      "Ayx_dpos = -14.0  Cyx_dslope = 10.0\n",
      "Ayy_dpos = 6.0  Cyy_dslope = -8.0\n"
     ]
    }
   ],
   "source": [
    "# Obtain centre of mass of each image in the fourdstem array\n",
    "# using thresholding for anything above 0.0\n",
    "\n",
    "def get_centre_of_mass(image):\n",
    "    threshold = 0.0\n",
    "    y_indices, x_indices = np.where(image > threshold)\n",
    "    if len(x_indices) == 0 or len(y_indices) == 0:\n",
    "        return None, None\n",
    "    x_com = np.mean(x_indices)\n",
    "    y_com = np.mean(y_indices)\n",
    "    return x_com, y_com\n",
    "\n",
    "\n",
    "def model_x(vars, Axx_dpos, Cxx_dslope, Axy_dpos, Cxy_dslope):\n",
    "    xin, yin, Bxx = vars\n",
    "    return xin*(Axx_dpos + Bxx*Cxx_dslope) + yin*(Axy_dpos + Bxx*Cxy_dslope)\n",
    "\n",
    "def model_y(vars, Ayx_dpos, Cyx_dslope, Ayy_dpos, Cyy_dslope):\n",
    "    xin, yin, Byy = vars\n",
    "    return xin*(Ayx_dpos + Byy*Cyx_dslope) + yin*(Ayy_dpos + Byy*Cyy_dslope)\n",
    "\n",
    "x_ins = np.array(x_ins).flatten()\n",
    "y_ins = np.array(y_ins).flatten()\n",
    "Bxx_cl = np.array(Bs).flatten()\n",
    "Byy_cl = np.array(Bs).flatten()\n",
    "x_dets = np.array(x_dets).flatten()\n",
    "y_dets = np.array(y_dets).flatten()\n",
    "\n",
    "popt_x, pcov_x = curve_fit(model_x, (x_ins, y_ins, Bxx_cl), x_dets, p0=np.zeros(4))\n",
    "Axx_dpos, Cxx_dslope, Axy_dpos, Cxy_dslope = popt_x\n",
    "\n",
    "popt_y, pcov_y = curve_fit(model_y, (x_ins, y_ins, Byy_cl), y_dets, p0=np.zeros(4))\n",
    "Ayx_dpos, Cyx_dslope, Ayy_dpos, Cyy_dslope = popt_y\n",
    "\n",
    "print(\"\\nFit ABCD Values:\")\n",
    "print(f\"Axx_dpos = {Axx_dpos:.1f}  Cxx_dslope = {Cxx_dslope:.1f}\")\n",
    "print(f\"Axy_dpos = {Axy_dpos:.1f}  Cxy_dslope = {Cxy_dslope:.1f}\")\n",
    "print(f\"Ayx_dpos = {Ayx_dpos:.1f}  Cyx_dslope = {Cyx_dslope:.1f}\")\n",
    "print(f\"Ayy_dpos = {Ayy_dpos:.1f}  Cyy_dslope = {Cyy_dslope:.1f}\")\n",
    "\n",
    "Axx, Axy, Ayx, Ayy, Cxx, Cxy, Cyx, Cyy = params_dict['descan_error']\n",
    "print(\"\\nActual ABCD Values:\")\n",
    "print(f\"Axx_dpos = {Axx:.1f}  Cxx_dslope = {Cxx:.1f}\")\n",
    "print(f\"Axy_dpos = {Axy:.1f}  Cxy_dslope = {Cxy:.1f}\")\n",
    "print(f\"Ayx_dpos = {Ayx:.1f}  Cyx_dslope = {Cyx:.1f}\")\n",
    "print(f\"Ayy_dpos = {Ayy:.1f}  Cyy_dslope = {Cyy:.1f}\")\n",
    "\n",
    "\n"
   ]
  }
 ],
 "metadata": {
  "kernelspec": {
   "display_name": "JaxGym",
   "language": "python",
   "name": "python3"
  },
  "language_info": {
   "codemirror_mode": {
    "name": "ipython",
    "version": 3
   },
   "file_extension": ".py",
   "mimetype": "text/x-python",
   "name": "python",
   "nbconvert_exporter": "python",
   "pygments_lexer": "ipython3",
   "version": "3.12.6"
  }
 },
 "nbformat": 4,
 "nbformat_minor": 2
}
