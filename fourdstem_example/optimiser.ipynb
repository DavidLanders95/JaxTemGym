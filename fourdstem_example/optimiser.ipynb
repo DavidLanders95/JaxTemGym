{
 "cells": [
  {
   "cell_type": "code",
   "execution_count": 12,
   "metadata": {},
   "outputs": [],
   "source": [
    "import numpy as np\n",
    "import matplotlib.pyplot as plt\n",
    "import jax.numpy as jnp\n",
    "import jax\n",
    "from jaxgym.run import propagate\n",
    "import jaxgym.components as comp\n",
    "from jaxgym.stemoverfocus import project_frame_backward, project_frame_forward, run_model_for_rays_and_slopes\n",
    "from optax import adam, apply_updates\n",
    "from jaxgym.ray import Ray\n",
    "import os\n",
    "import tqdm.auto as tqdm\n",
    "import json\n",
    "\n",
    "jax.config.update('jax_platform_name', 'cpu')\n",
    "\n",
    "from libertem_ui.display.display_base import Curve\n",
    "import panel as pn\n",
    "from bokeh.plotting import figure\n",
    "\n"
   ]
  },
  {
   "cell_type": "code",
   "execution_count": null,
   "metadata": {},
   "outputs": [],
   "source": [
    "def run_model_for_jacobians(ray, model):\n",
    "\n",
    "    model_ray_jacobians = []\n",
    "\n",
    "    # Get all jacobians from one component to another\n",
    "    for i in range(1, len(model)):\n",
    "        distance = (model[i].z - ray.z).squeeze()\n",
    "\n",
    "        '''\n",
    "        This block of code here is akin to calling value_and_grad on a function in jax\n",
    "        to get it's gradients, except we are doing instead value_and_jacobian to get the ray transfer matrix. \n",
    "        We need to step the ray that represents the optical axis through the system, and we also need it's jacobian\n",
    "        (ABCD transfer matrix) through each propagation and step. \n",
    "        First we call the jacobian on the propagation step to get the transfer matrix. This\n",
    "        does not actually propagate the ray, it only gets its derivatives, so to get the rays \"value\" from the \n",
    "        propagation function, we then call the propagate step on the ray without calling the jacobian. \n",
    "        Thus once the same function has been called with and without the jacobian, we have calcualted the \"value_and_jacobian\" of the ray.\n",
    "        This process is repeated for the step function of the component to get the value and jacobian of the ray. \n",
    "        '''\n",
    "        # Get the jacobian of the ray propagation\n",
    "        # from the previous component to the current component\n",
    "        propagate_jacobian = jax.jacobian(propagate, argnums=1)(distance, ray)\n",
    "        model_ray_jacobians.append(propagate_jacobian)\n",
    "\n",
    "        # Propagate the ray\n",
    "        ray = propagate(distance, ray)\n",
    "\n",
    "        # Get the jacobian of the step function of the current component\n",
    "        component_jacobian = jax.jacobian(model[i].step)(ray)\n",
    "        model_ray_jacobians.append(component_jacobian)\n",
    "\n",
    "        #Step the ray\n",
    "        ray = model[i].step(ray)\n",
    "\n",
    "    # Edit the jacobian matrices to include shifts calculated \n",
    "    # from the optical path length derivative - not the best solution for now but it works.\n",
    "    ABCDs = [] #ABCD matrices at each component\n",
    "\n",
    "    for ray_jacobian in model_ray_jacobians:\n",
    "        shift_vector = ray_jacobian.pathlength.matrix # This is the shift vector for each ray, dopl_out/dr_in\n",
    "        ABCD = ray_jacobian.matrix.matrix # This is the ABCD matrix for each ray, dr_out/dr_in\n",
    "        ABCD = ABCD.at[:, -1].set(shift_vector[0, :])\n",
    "        ABCD = ABCD.at[-1, -1].set(1.0) # Add the final one to bottom right corner of the matrix.\n",
    "        ABCDs.append(ABCD)\n",
    "\n",
    "    return jnp.array(ABCDs)\n",
    "\n",
    "\n",
    "def analytically_evaluate_tilts(\n",
    "    det_coords, scan_pos, semi_conv, transformation_matrix\n",
    "):\n",
    "    \"\"\"\n",
    "    Given a set of detector pixel coordinates, a semi-convergence angle from a source, and a transformation matrix,\n",
    "    find a the input slopes which will hit the detector pixels. Also mask out the input slopes which are greater \n",
    "    than the semi-convergence angle.\n",
    "    \"\"\"\n",
    "    scan_pos_y, scan_pos_x = scan_pos\n",
    "\n",
    "    A_xx, A_xy, B_xx, B_xy = transformation_matrix[0, :4]  # Select first row excluding the last column\n",
    "    A_yx, A_yy, B_yx, B_yy = transformation_matrix[1, :4]  # Select second row excluding the last column\n",
    "\n",
    "    delta_x, delta_y = transformation_matrix[0, 4], transformation_matrix[1, 4]\n",
    "\n",
    "    y_out, x_out = det_coords[:, 0], det_coords[:, 1]\n",
    "\n",
    "    denom = B_xx * B_yy - B_xy * B_yx\n",
    "    theta_x_in = (\n",
    "        -A_xx * B_yy * scan_pos_x\n",
    "        - A_xy * B_yy * scan_pos_y\n",
    "        + A_yx * B_xy * scan_pos_x\n",
    "        + A_yy * B_xy * scan_pos_y\n",
    "        + B_xy * delta_y\n",
    "        - B_xy * y_out\n",
    "        - B_yy * delta_x\n",
    "        + B_yy * x_out\n",
    "    ) / denom\n",
    "\n",
    "    theta_y_in = (\n",
    "        A_xx * B_yx * scan_pos_x\n",
    "        + A_xy * B_yx * scan_pos_y\n",
    "        - A_yx * B_xx * scan_pos_x\n",
    "        - A_yy * B_xx * scan_pos_y\n",
    "        - B_xx * delta_y\n",
    "        + B_xx * y_out\n",
    "        + B_yx * delta_x\n",
    "        - B_yx * x_out\n",
    "    ) / denom\n",
    "\n",
    "    F = (theta_x_in**2 + theta_y_in**2) - semi_conv**2\n",
    "\n",
    "    semi_conv_mask = F <= 0\n",
    "    input_slopes = np.stack([theta_x_in, theta_y_in])\n",
    "\n",
    "    return input_slopes, semi_conv_mask\n",
    "\n",
    "def loss(det_coords, tilts, inv_matrix, scan_pos_yx):\n",
    "    n_rays = det_coords.shape[0]\n",
    "\n",
    "    det_coords_y, det_coords_x = det_coords[:, 0], det_coords[:, 1]\n",
    "    \n",
    "    rays_det_matrix = jnp.array([det_coords_x, \n",
    "                                 det_coords_y,\n",
    "                                 tilts[:, 0],\n",
    "                                 tilts[:, 1],\n",
    "                                 jnp.ones(n_rays)])\n",
    "    \n",
    "    rays_pt_source = jnp.matmul(inv_matrix, rays_det_matrix).T\n",
    "\n",
    "    rays_pt_source_y = rays_pt_source[:, 1]\n",
    "    rays_pt_source_x = rays_pt_source[:, 0]\n",
    "    \n",
    "    start_position = jnp.array([rays_pt_source_y, rays_pt_source_x])   \n",
    "\n",
    "    error = jnp.linalg.norm(start_position - scan_pos_yx) \n",
    "\n",
    "    return error\n"
   ]
  },
  {
   "cell_type": "code",
   "execution_count": 14,
   "metadata": {},
   "outputs": [],
   "source": [
    "fourdstem_array = np.load('fourdstem_array.npy')\n",
    "params_dict = json.load(open('params.json'))\n",
    "\n",
    "semi_conv = params_dict['semi_conv']\n",
    "defocus = params_dict['defocus']\n",
    "camera_length = params_dict['camera_length']\n",
    "scan_shape = params_dict['scan_shape']\n",
    "det_shape = params_dict['det_shape']\n",
    "scan_step_yx = params_dict['scan_step_yx']\n",
    "det_px_size = params_dict['det_px_size']\n",
    "scan_rotation = params_dict['scan_rotation']\n",
    "descan_error = params_dict['descan_error']"
   ]
  },
  {
   "cell_type": "code",
   "execution_count": 15,
   "metadata": {},
   "outputs": [],
   "source": [
    "#Create ray input z plane\n",
    "crossover_z = jnp.zeros((1))\n",
    "\n",
    "PointSource = comp.PointSource(z=crossover_z, semi_conv=semi_conv)\n",
    "ScanGrid = comp.ScanGrid(z=jnp.array([params_dict['defocus']]), \n",
    "                         scan_step_yx=params_dict['scan_step_yx'], \n",
    "                         scan_shape_yx=params_dict['scan_shape'], \n",
    "                         scan_rotation=params_dict['scan_rotation'])\n",
    "\n",
    "scan_coords_yx = ScanGrid.coords\n",
    "scan_y, scan_x = scan_coords_yx[0, 0], scan_coords_yx[0, 1]\n",
    "\n",
    "Descanner = comp.Descanner(z=jnp.array([params_dict['defocus']]), \n",
    "                           descan_error=params_dict['descan_error'], \n",
    "                           offset_x=scan_x, \n",
    "                           offset_y=scan_y)\n",
    "\n",
    "Detector = comp.Detector(z=jnp.array([params_dict['camera_length']]), det_shape_yx=params_dict['det_shape'], det_pixel_size_yx=params_dict['det_px_size'])\n",
    "model = [PointSource, ScanGrid, Descanner, Detector]"
   ]
  },
  {
   "cell_type": "code",
   "execution_count": null,
   "metadata": {},
   "outputs": [],
   "source": [
    "# Prepare input ray position for this scan point.\n",
    "input_ray_positions = jnp.array([scan_x, scan_y, 0.0, 0.0, 1.0])\n",
    "\n",
    "ray = Ray(\n",
    "    z=PointSource.z,\n",
    "    matrix=input_ray_positions,\n",
    "    amplitude=jnp.ones(1),\n",
    "    pathlength=jnp.zeros(1),\n",
    "    wavelength=jnp.ones(1),\n",
    "    blocked=jnp.zeros(1, dtype=float)\n",
    ")\n",
    "\n",
    "transfer_matrices = run_model_for_jacobians(ray, model)\n",
    "\n",
    "# Initialise the total_transfer_matrix\n",
    "# as the last transfer matrix in the list,\n",
    "# and multiply it with the previous transfer matrices\n",
    "# in reverse order to get the total transfer matrix\n",
    "# for the whole model.\n",
    "total_transfer_matrix = transfer_matrices[-1]\n",
    "for tm in reversed(transfer_matrices[:-1]):\n",
    "    total_transfer_matrix = total_transfer_matrix @ tm\n",
    "\n",
    "detector_to_point_source_matrix = jnp.linalg.inv(total_transfer_matrix)"
   ]
  },
  {
   "cell_type": "markdown",
   "metadata": {},
   "source": [
    "There are two pathways to finding the tilts that will strike each detector pixel:\n",
    "\n",
    "1. Propagate rays back from the detector, and minimise the loss of their distance from a perfect point source at the scan position  \n",
    "2. Analytically solve for the tilts using the ray transfer matrix, because the system is linear. (Remember we can still do this for a non-linear system, it just becomes a root solving problem instead)"
   ]
  },
  {
   "cell_type": "code",
   "execution_count": null,
   "metadata": {},
   "outputs": [
    {
     "data": {
      "application/vnd.jupyter.widget-view+json": {
       "model_id": "79d706e35a7d4aefa4a9583671a02c58",
       "version_major": 2,
       "version_minor": 0
      },
      "text/plain": [
       "BokehModel(combine_events=True, render_bundle={'docs_json': {'f1628018-d089-4063-b803-ce8776c7b624': {'version…"
      ]
     },
     "execution_count": 18,
     "metadata": {},
     "output_type": "execute_result"
    }
   ],
   "source": [
    "bkfig = figure()\n",
    "bkplot = (\n",
    "    Curve\n",
    "    .new()\n",
    "    .from_vectors([], [])\n",
    "    .on(bkfig)\n",
    ")\n",
    "\n",
    "bkfig.xaxis.axis_label = \"Iteration\"\n",
    "bkfig.yaxis.axis_label = \"Loss\"\n",
    "\n",
    "pn.pane.Bokeh(bkfig)"
   ]
  },
  {
   "cell_type": "code",
   "execution_count": 19,
   "metadata": {},
   "outputs": [
    {
     "data": {
      "application/vnd.jupyter.widget-view+json": {
       "model_id": "0f96fb2a729c44cc935baeebcb4b65ae",
       "version_major": 2,
       "version_minor": 0
      },
      "text/plain": [
       "  0%|          | 0/4000 [00:00<?, ?it/s]"
      ]
     },
     "metadata": {},
     "output_type": "display_data"
    }
   ],
   "source": [
    "\n",
    "det_coords = Detector.get_coords()\n",
    "tilts = jax.random.uniform(jax.random.PRNGKey(0), shape=(det_coords.shape[0], 2), minval=0.0, maxval=0.1)\n",
    "scan_pos_yx = jnp.array([[scan_y, scan_x]]).T\n",
    "\n",
    "optimiser = adam(learning_rate=1e-4)\n",
    "opt_state = optimiser.init(tilts)\n",
    "n_iterations = 4000\n",
    "\n",
    "iterations = []\n",
    "losses = []\n",
    "\n",
    "for i in tqdm.tqdm(range(n_iterations)):\n",
    "    loss_value, gradients = jax.value_and_grad(loss, argnums=1)(\n",
    "        det_coords, tilts, detector_to_point_source, scan_pos_yx\n",
    "    )\n",
    "\n",
    "    updates, opt_state = optimiser.update(gradients, opt_state)\n",
    "    tilts = apply_updates(tilts, updates)\n",
    "    \n",
    "    iterations.append(i)\n",
    "    losses.append(loss_value)\n",
    "\n",
    "    if loss_value < 1e-5:\n",
    "        break"
   ]
  },
  {
   "cell_type": "code",
   "execution_count": 20,
   "metadata": {},
   "outputs": [
    {
     "name": "stdout",
     "output_type": "stream",
     "text": [
      "0.0\n"
     ]
    }
   ],
   "source": [
    "analytic_input_slopes = analytically_evaluate_tilts(det_coords, scan_pos_yx, semi_conv, total_transfer_matrix)\n",
    "\n",
    "# Run the model to obtain the ray coordinates at each component in the model\n",
    "coords = run_model_for_rays_and_slopes(transfer_matrices, analytic_input_slopes, scan_pos_yx)\n",
    "xs, ys, dxs, dys = coords\n",
    "analytic_output_slopes = jnp.array([dxs[-1], dys[-1]]).T\n",
    "\n",
    "loss_value = loss(\n",
    "    det_coords, analytic_output_slopes, detector_to_point_source, scan_pos_yx\n",
    ")\n",
    "print(loss_value)"
   ]
  },
  {
   "cell_type": "code",
   "execution_count": 21,
   "metadata": {},
   "outputs": [
    {
     "data": {
      "text/plain": [
       "[<matplotlib.lines.Line2D at 0x70593295d430>]"
      ]
     },
     "execution_count": 21,
     "metadata": {},
     "output_type": "execute_result"
    },
    {
     "data": {
      "image/png": "[encoded data removed]",
      "text/plain": [
       "<Figure size 640x480 with 1 Axes>"
      ]
     },
     "metadata": {},
     "output_type": "display_data"
    }
   ],
   "source": [
    "plt.figure()\n",
    "plt.plot(iterations, losses)\n",
    "\n"
   ]
  },
  {
   "cell_type": "code",
   "execution_count": 22,
   "metadata": {},
   "outputs": [
    {
     "data": {
      "text/plain": [
       "[<matplotlib.lines.Line2D at 0x70593152bbc0>]"
      ]
     },
     "execution_count": 22,
     "metadata": {},
     "output_type": "execute_result"
    },
    {
     "data": {
      "image/png": "[encoded data removed]",
      "text/plain": [
       "<Figure size 640x480 with 1 Axes>"
      ]
     },
     "metadata": {},
     "output_type": "display_data"
    }
   ],
   "source": [
    "n_rays = det_coords.shape[0]\n",
    "det_coords_y, det_coords_x = det_coords[:, 0], det_coords[:, 1]\n",
    "\n",
    "rays_det_matrix = jnp.array([det_coords_x, \n",
    "                                det_coords_y,\n",
    "                                tilts[:, 0],\n",
    "                                tilts[:, 1],\n",
    "                                jnp.ones(n_rays)])\n",
    "\n",
    "rays_pt_source = jnp.matmul(detector_to_point_source, rays_det_matrix).T\n",
    "\n",
    "rays_pt_source_y = rays_pt_source[:, 1]\n",
    "rays_pt_source_x = rays_pt_source[:, 0]\n",
    "\n",
    "plt.figure()\n",
    "plt.plot(scan_pos_yx[1], scan_pos_yx[0], 'rx', label='Scan Position', markersize=10, zorder=10)\n",
    "plt.plot(rays_pt_source_x, rays_pt_source_y, 'bo', label='Ray Position', alpha=0.1)"
   ]
  }
 ],
 "metadata": {
  "kernelspec": {
   "display_name": "JaxGym",
   "language": "python",
   "name": "python3"
  },
  "language_info": {
   "codemirror_mode": {
    "name": "ipython",
    "version": 3
   },
   "file_extension": ".py",
   "mimetype": "text/x-python",
   "name": "python",
   "nbconvert_exporter": "python",
   "pygments_lexer": "ipython3",
   "version": "3.12.6"
  }
 },
 "nbformat": 4,
 "nbformat_minor": 2
}
