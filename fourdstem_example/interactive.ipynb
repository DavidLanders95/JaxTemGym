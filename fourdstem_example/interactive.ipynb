{
 "cells": [
  {
   "cell_type": "markdown",
   "id": "ba812409",
   "metadata": {},
   "source": [
    "# Descan + STEM Overfocus procedure"
   ]
  },
  {
   "cell_type": "markdown",
   "id": "60801cab",
   "metadata": {},
   "source": [
    "Suppose we want to calibriate and verify the experimental microscope parameters of a fourdstem dataset which suffers from descan error - \n",
    "\n",
    "This notebook shows that using three vacuum reference datasets, taken at three *known* camera lengths (e.g. calibrated with polycrystalline gold diffraction rings), one can characterise first the descan error, and semi-convergence angle of the beam. \n",
    "\n",
    "Then using a back reconstruction step with the known descan error and semi-convergence values, and the 4D stem experimental dataset, we can determine the scan step, scan rotation, detector flip and defocus values of the microscope system. "
   ]
  },
  {
   "cell_type": "code",
   "execution_count": 1,
   "id": "6895c945-cc50-4a82-8120-a9b6e7283cac",
   "metadata": {},
   "outputs": [],
   "source": [
    "import jax\n",
    "jax.config.update(\"jax_platform_name\", \"cpu\")"
   ]
  },
  {
   "cell_type": "code",
   "execution_count": 2,
   "id": "7153eb91",
   "metadata": {},
   "outputs": [],
   "source": [
    "%matplotlib widget\n",
    "import matplotlib.pyplot as plt\n",
    "import numpy as np\n",
    "import copy\n",
    "import jax.numpy as jnp\n",
    "from scipy.optimize import curve_fit\n",
    "import libertem.api as lt\n",
    "from libertem.udf.sum import SumUDF\n",
    "from libertem.udf.com import CoMUDF, RegressionOptions\n",
    "from libertem.udf.masks import ApplyMasksUDF\n",
    "from skimage.measure import label, regionprops\n",
    "from concurrent.futures import ProcessPoolExecutor"
   ]
  },
  {
   "cell_type": "code",
   "execution_count": 3,
   "id": "c962461e",
   "metadata": {},
   "outputs": [
    {
     "name": "stderr",
     "output_type": "stream",
     "text": [
      "Exception ignored in: <bound method IPythonKernel._clean_thread_parent_frames of <ipykernel.ipkernel.IPythonKernel object at 0x7622f449fa10>>\n",
      "Traceback (most recent call last):\n",
      "  File \"/nobackup/dl277493/.pyenv/versions/JaxGym/lib/python3.12/site-packages/ipykernel/ipkernel.py\", line 775, in _clean_thread_parent_frames\n",
      "    def _clean_thread_parent_frames(\n",
      "\n",
      "KeyboardInterrupt: \n"
     ]
    },
    {
     "data": {
      "text/html": [
       "<script type=\"esms-options\">{\"shimMode\": true}</script><style>*[data-root-id],\n",
       "*[data-root-id] > * {\n",
       "  box-sizing: border-box;\n",
       "  font-family: var(--jp-ui-font-family);\n",
       "  font-size: var(--jp-ui-font-size1);\n",
       "  color: var(--vscode-editor-foreground, var(--jp-ui-font-color1));\n",
       "}\n",
       "\n",
       "/* Override VSCode background color */\n",
       ".cell-output-ipywidget-background:has(\n",
       "    > .cell-output-ipywidget-background > .lm-Widget > *[data-root-id]\n",
       "  ),\n",
       ".cell-output-ipywidget-background:has(> .lm-Widget > *[data-root-id]) {\n",
       "  background-color: transparent !important;\n",
       "}\n",
       "</style>"
      ]
     },
     "metadata": {},
     "output_type": "display_data"
    },
    {
     "data": {
      "application/javascript": "(function(root) {\n  function now() {\n    return new Date();\n  }\n\n  const force = true;\n  const py_version = '3.6.3'.replace('rc', '-rc.').replace('.dev', '-dev.');\n  const reloading = false;\n  const Bokeh = root.Bokeh;\n\n  // Set a timeout for this load but only if we are not already initializing\n  if (typeof (root._bokeh_timeout) === \"undefined\" || (force || !root._bokeh_is_initializing)) {\n    root._bokeh_timeout = Date.now() + 5000;\n    root._bokeh_failed_load = false;\n  }\n\n  function run_callbacks() {\n    try {\n      root._bokeh_onload_callbacks.forEach(function(callback) {\n        if (callback != null)\n          callback();\n      });\n    } finally {\n      delete root._bokeh_onload_callbacks;\n    }\n    console.debug(\"Bokeh: all callbacks have finished\");\n  }\n\n  function load_libs(css_urls, js_urls, js_modules, js_exports, callback) {\n    if (css_urls == null) css_urls = [];\n    if (js_urls == null) js_urls = [];\n    if (js_modules == null) js_modules = [];\n    if (js_exports == null) js_exports = {};\n\n    root._bokeh_onload_callbacks.push(callback);\n\n    if (root._bokeh_is_loading > 0) {\n      // Don't load bokeh if it is still initializing\n      console.debug(\"Bokeh: BokehJS is being loaded, scheduling callback at\", now());\n      return null;\n    } else if (js_urls.length === 0 && js_modules.length === 0 && Object.keys(js_exports).length === 0) {\n      // There is nothing to load\n      run_callbacks();\n      return null;\n    }\n\n    function on_load() {\n      root._bokeh_is_loading--;\n      if (root._bokeh_is_loading === 0) {\n        console.debug(\"Bokeh: all BokehJS libraries/stylesheets loaded\");\n        run_callbacks()\n      }\n    }\n    window._bokeh_on_load = on_load\n\n    function on_error(e) {\n      const src_el = e.srcElement\n      console.error(\"failed to load \" + (src_el.href || src_el.src));\n    }\n\n    const skip = [];\n    if (window.requirejs) {\n      window.requirejs.config({'packages': {}, 'paths': {}, 'shim': {}});\n      root._bokeh_is_loading = css_urls.length + 0;\n    } else {\n      root._bokeh_is_loading = css_urls.length + js_urls.length + js_modules.length + Object.keys(js_exports).length;\n    }\n\n    const existing_stylesheets = []\n    const links = document.getElementsByTagName('link')\n    for (let i = 0; i < links.length; i++) {\n      const link = links[i]\n      if (link.href != null) {\n        existing_stylesheets.push(link.href)\n      }\n    }\n    for (let i = 0; i < css_urls.length; i++) {\n      const url = css_urls[i];\n      const escaped = encodeURI(url)\n      if (existing_stylesheets.indexOf(escaped) !== -1) {\n        on_load()\n        continue;\n      }\n      const element = document.createElement(\"link\");\n      element.onload = on_load;\n      element.onerror = on_error;\n      element.rel = \"stylesheet\";\n      element.type = \"text/css\";\n      element.href = url;\n      console.debug(\"Bokeh: injecting link tag for BokehJS stylesheet: \", url);\n      document.body.appendChild(element);\n    }    var existing_scripts = []\n    const scripts = document.getElementsByTagName('script')\n    for (let i = 0; i < scripts.length; i++) {\n      var script = scripts[i]\n      if (script.src != null) {\n        existing_scripts.push(script.src)\n      }\n    }\n    for (let i = 0; i < js_urls.length; i++) {\n      const url = js_urls[i];\n      const escaped = encodeURI(url)\n      if (skip.indexOf(escaped) !== -1 || existing_scripts.indexOf(escaped) !== -1) {\n        if (!window.requirejs) {\n          on_load();\n        }\n        continue;\n      }\n      const element = document.createElement('script');\n      element.onload = on_load;\n      element.onerror = on_error;\n      element.async = false;\n      element.src = url;\n      console.debug(\"Bokeh: injecting script tag for BokehJS library: \", url);\n      document.head.appendChild(element);\n    }\n    for (let i = 0; i < js_modules.length; i++) {\n      const url = js_modules[i];\n      const escaped = encodeURI(url)\n      if (skip.indexOf(escaped) !== -1 || existing_scripts.indexOf(escaped) !== -1) {\n        if (!window.requirejs) {\n          on_load();\n        }\n        continue;\n      }\n      var element = document.createElement('script');\n      element.onload = on_load;\n      element.onerror = on_error;\n      element.async = false;\n      element.src = url;\n      element.type = \"module\";\n      console.debug(\"Bokeh: injecting script tag for BokehJS library: \", url);\n      document.head.appendChild(element);\n    }\n    for (const name in js_exports) {\n      const url = js_exports[name];\n      const escaped = encodeURI(url)\n      if (skip.indexOf(escaped) >= 0 || root[name] != null) {\n        if (!window.requirejs) {\n          on_load();\n        }\n        continue;\n      }\n      var element = document.createElement('script');\n      element.onerror = on_error;\n      element.async = false;\n      element.type = \"module\";\n      console.debug(\"Bokeh: injecting script tag for BokehJS library: \", url);\n      element.textContent = `\n      import ${name} from \"${url}\"\n      window.${name} = ${name}\n      window._bokeh_on_load()\n      `\n      document.head.appendChild(element);\n    }\n    if (!js_urls.length && !js_modules.length) {\n      on_load()\n    }\n  };\n\n  function inject_raw_css(css) {\n    const element = document.createElement(\"style\");\n    element.appendChild(document.createTextNode(css));\n    document.body.appendChild(element);\n  }\n\n  const js_urls = [\"https://cdn.holoviz.org/panel/1.6.1/dist/bundled/reactiveesm/es-module-shims@^1.10.0/dist/es-module-shims.min.js\", \"https://cdn.bokeh.org/bokeh/release/bokeh-3.6.3.min.js\", \"https://cdn.bokeh.org/bokeh/release/bokeh-gl-3.6.3.min.js\", \"https://cdn.bokeh.org/bokeh/release/bokeh-widgets-3.6.3.min.js\", \"https://cdn.bokeh.org/bokeh/release/bokeh-tables-3.6.3.min.js\", \"https://cdn.holoviz.org/panel/1.6.1/dist/panel.min.js\"];\n  const js_modules = [];\n  const js_exports = {};\n  const css_urls = [\"https://cdn.holoviz.org/panel/1.6.1/dist/bundled/font-awesome/css/all.min.css\"];\n  const inline_js = [    function(Bokeh) {\n      Bokeh.set_log_level(\"info\");\n    },\nfunction(Bokeh) {} // ensure no trailing comma for IE\n  ];\n\n  function run_inline_js() {\n    if ((root.Bokeh !== undefined) || (force === true)) {\n      for (let i = 0; i < inline_js.length; i++) {\n        try {\n          inline_js[i].call(root, root.Bokeh);\n        } catch(e) {\n          if (!reloading) {\n            throw e;\n          }\n        }\n      }\n      // Cache old bokeh versions\n      if (Bokeh != undefined && !reloading) {\n        var NewBokeh = root.Bokeh;\n        if (Bokeh.versions === undefined) {\n          Bokeh.versions = new Map();\n        }\n        if (NewBokeh.version !== Bokeh.version) {\n          Bokeh.versions.set(NewBokeh.version, NewBokeh)\n        }\n        root.Bokeh = Bokeh;\n      }\n    } else if (Date.now() < root._bokeh_timeout) {\n      setTimeout(run_inline_js, 100);\n    } else if (!root._bokeh_failed_load) {\n      console.log(\"Bokeh: BokehJS failed to load within specified timeout.\");\n      root._bokeh_failed_load = true;\n    }\n    root._bokeh_is_initializing = false\n  }\n\n  function load_or_wait() {\n    // Implement a backoff loop that tries to ensure we do not load multiple\n    // versions of Bokeh and its dependencies at the same time.\n    // In recent versions we use the root._bokeh_is_initializing flag\n    // to determine whether there is an ongoing attempt to initialize\n    // bokeh, however for backward compatibility we also try to ensure\n    // that we do not start loading a newer (Panel>=1.0 and Bokeh>3) version\n    // before older versions are fully initialized.\n    if (root._bokeh_is_initializing && Date.now() > root._bokeh_timeout) {\n      // If the timeout and bokeh was not successfully loaded we reset\n      // everything and try loading again\n      root._bokeh_timeout = Date.now() + 5000;\n      root._bokeh_is_initializing = false;\n      root._bokeh_onload_callbacks = undefined;\n      root._bokeh_is_loading = 0\n      console.log(\"Bokeh: BokehJS was loaded multiple times but one version failed to initialize.\");\n      load_or_wait();\n    } else if (root._bokeh_is_initializing || (typeof root._bokeh_is_initializing === \"undefined\" && root._bokeh_onload_callbacks !== undefined)) {\n      setTimeout(load_or_wait, 100);\n    } else {\n      root._bokeh_is_initializing = true\n      root._bokeh_onload_callbacks = []\n      const bokeh_loaded = root.Bokeh != null && (root.Bokeh.version === py_version || (root.Bokeh.versions !== undefined && root.Bokeh.versions.has(py_version)));\n      if (!reloading && !bokeh_loaded) {\n        if (root.Bokeh) {\n          root.Bokeh = undefined;\n        }\n        console.debug(\"Bokeh: BokehJS not loaded, scheduling load and callback at\", now());\n      }\n      load_libs(css_urls, js_urls, js_modules, js_exports, function() {\n        console.debug(\"Bokeh: BokehJS plotting callback run at\", now());\n        run_inline_js();\n      });\n    }\n  }\n  // Give older versions of the autoload script a head-start to ensure\n  // they initialize before we start loading newer version.\n  setTimeout(load_or_wait, 100)\n}(window));",
      "application/vnd.holoviews_load.v0+json": ""
     },
     "metadata": {},
     "output_type": "display_data"
    },
    {
     "data": {
      "application/javascript": "\nif ((window.PyViz === undefined) || (window.PyViz instanceof HTMLElement)) {\n  window.PyViz = {comms: {}, comm_status:{}, kernels:{}, receivers: {}, plot_index: []}\n}\n\n\n    function JupyterCommManager() {\n    }\n\n    JupyterCommManager.prototype.register_target = function(plot_id, comm_id, msg_handler) {\n      if (window.comm_manager || ((window.Jupyter !== undefined) && (Jupyter.notebook.kernel != null))) {\n        var comm_manager = window.comm_manager || Jupyter.notebook.kernel.comm_manager;\n        comm_manager.register_target(comm_id, function(comm) {\n          comm.on_msg(msg_handler);\n        });\n      } else if ((plot_id in window.PyViz.kernels) && (window.PyViz.kernels[plot_id])) {\n        window.PyViz.kernels[plot_id].registerCommTarget(comm_id, function(comm) {\n          comm.onMsg = msg_handler;\n        });\n      } else if (typeof google != 'undefined' && google.colab.kernel != null) {\n        google.colab.kernel.comms.registerTarget(comm_id, (comm) => {\n          var messages = comm.messages[Symbol.asyncIterator]();\n          function processIteratorResult(result) {\n            var message = result.value;\n            console.log(message)\n            var content = {data: message.data, comm_id};\n            var buffers = []\n            for (var buffer of message.buffers || []) {\n              buffers.push(new DataView(buffer))\n            }\n            var metadata = message.metadata || {};\n            var msg = {content, buffers, metadata}\n            msg_handler(msg);\n            return messages.next().then(processIteratorResult);\n          }\n          return messages.next().then(processIteratorResult);\n        })\n      }\n    }\n\n    JupyterCommManager.prototype.get_client_comm = function(plot_id, comm_id, msg_handler) {\n      if (comm_id in window.PyViz.comms) {\n        return window.PyViz.comms[comm_id];\n      } else if (window.comm_manager || ((window.Jupyter !== undefined) && (Jupyter.notebook.kernel != null))) {\n        var comm_manager = window.comm_manager || Jupyter.notebook.kernel.comm_manager;\n        var comm = comm_manager.new_comm(comm_id, {}, {}, {}, comm_id);\n        if (msg_handler) {\n          comm.on_msg(msg_handler);\n        }\n      } else if ((plot_id in window.PyViz.kernels) && (window.PyViz.kernels[plot_id])) {\n        var comm = window.PyViz.kernels[plot_id].connectToComm(comm_id);\n        comm.open();\n        if (msg_handler) {\n          comm.onMsg = msg_handler;\n        }\n      } else if (typeof google != 'undefined' && google.colab.kernel != null) {\n        var comm_promise = google.colab.kernel.comms.open(comm_id)\n        comm_promise.then((comm) => {\n          window.PyViz.comms[comm_id] = comm;\n          if (msg_handler) {\n            var messages = comm.messages[Symbol.asyncIterator]();\n            function processIteratorResult(result) {\n              var message = result.value;\n              var content = {data: message.data};\n              var metadata = message.metadata || {comm_id};\n              var msg = {content, metadata}\n              msg_handler(msg);\n              return messages.next().then(processIteratorResult);\n            }\n            return messages.next().then(processIteratorResult);\n          }\n        })\n        var sendClosure = (data, metadata, buffers, disposeOnDone) => {\n          return comm_promise.then((comm) => {\n            comm.send(data, metadata, buffers, disposeOnDone);\n          });\n        };\n        var comm = {\n          send: sendClosure\n        };\n      }\n      window.PyViz.comms[comm_id] = comm;\n      return comm;\n    }\n    window.PyViz.comm_manager = new JupyterCommManager();\n    \n\n\nvar JS_MIME_TYPE = 'application/javascript';\nvar HTML_MIME_TYPE = 'text/html';\nvar EXEC_MIME_TYPE = 'application/vnd.holoviews_exec.v0+json';\nvar CLASS_NAME = 'output';\n\n/**\n * Render data to the DOM node\n */\nfunction render(props, node) {\n  var div = document.createElement(\"div\");\n  var script = document.createElement(\"script\");\n  node.appendChild(div);\n  node.appendChild(script);\n}\n\n/**\n * Handle when a new output is added\n */\nfunction handle_add_output(event, handle) {\n  var output_area = handle.output_area;\n  var output = handle.output;\n  if ((output.data == undefined) || (!output.data.hasOwnProperty(EXEC_MIME_TYPE))) {\n    return\n  }\n  var id = output.metadata[EXEC_MIME_TYPE][\"id\"];\n  var toinsert = output_area.element.find(\".\" + CLASS_NAME.split(' ')[0]);\n  if (id !== undefined) {\n    var nchildren = toinsert.length;\n    var html_node = toinsert[nchildren-1].children[0];\n    html_node.innerHTML = output.data[HTML_MIME_TYPE];\n    var scripts = [];\n    var nodelist = html_node.querySelectorAll(\"script\");\n    for (var i in nodelist) {\n      if (nodelist.hasOwnProperty(i)) {\n        scripts.push(nodelist[i])\n      }\n    }\n\n    scripts.forEach( function (oldScript) {\n      var newScript = document.createElement(\"script\");\n      var attrs = [];\n      var nodemap = oldScript.attributes;\n      for (var j in nodemap) {\n        if (nodemap.hasOwnProperty(j)) {\n          attrs.push(nodemap[j])\n        }\n      }\n      attrs.forEach(function(attr) { newScript.setAttribute(attr.name, attr.value) });\n      newScript.appendChild(document.createTextNode(oldScript.innerHTML));\n      oldScript.parentNode.replaceChild(newScript, oldScript);\n    });\n    if (JS_MIME_TYPE in output.data) {\n      toinsert[nchildren-1].children[1].textContent = output.data[JS_MIME_TYPE];\n    }\n    output_area._hv_plot_id = id;\n    if ((window.Bokeh !== undefined) && (id in Bokeh.index)) {\n      window.PyViz.plot_index[id] = Bokeh.index[id];\n    } else {\n      window.PyViz.plot_index[id] = null;\n    }\n  } else if (output.metadata[EXEC_MIME_TYPE][\"server_id\"] !== undefined) {\n    var bk_div = document.createElement(\"div\");\n    bk_div.innerHTML = output.data[HTML_MIME_TYPE];\n    var script_attrs = bk_div.children[0].attributes;\n    for (var i = 0; i < script_attrs.length; i++) {\n      toinsert[toinsert.length - 1].childNodes[1].setAttribute(script_attrs[i].name, script_attrs[i].value);\n    }\n    // store reference to server id on output_area\n    output_area._bokeh_server_id = output.metadata[EXEC_MIME_TYPE][\"server_id\"];\n  }\n}\n\n/**\n * Handle when an output is cleared or removed\n */\nfunction handle_clear_output(event, handle) {\n  var id = handle.cell.output_area._hv_plot_id;\n  var server_id = handle.cell.output_area._bokeh_server_id;\n  if (((id === undefined) || !(id in PyViz.plot_index)) && (server_id !== undefined)) { return; }\n  var comm = window.PyViz.comm_manager.get_client_comm(\"hv-extension-comm\", \"hv-extension-comm\", function () {});\n  if (server_id !== null) {\n    comm.send({event_type: 'server_delete', 'id': server_id});\n    return;\n  } else if (comm !== null) {\n    comm.send({event_type: 'delete', 'id': id});\n  }\n  delete PyViz.plot_index[id];\n  if ((window.Bokeh !== undefined) & (id in window.Bokeh.index)) {\n    var doc = window.Bokeh.index[id].model.document\n    doc.clear();\n    const i = window.Bokeh.documents.indexOf(doc);\n    if (i > -1) {\n      window.Bokeh.documents.splice(i, 1);\n    }\n  }\n}\n\n/**\n * Handle kernel restart event\n */\nfunction handle_kernel_cleanup(event, handle) {\n  delete PyViz.comms[\"hv-extension-comm\"];\n  window.PyViz.plot_index = {}\n}\n\n/**\n * Handle update_display_data messages\n */\nfunction handle_update_output(event, handle) {\n  handle_clear_output(event, {cell: {output_area: handle.output_area}})\n  handle_add_output(event, handle)\n}\n\nfunction register_renderer(events, OutputArea) {\n  function append_mime(data, metadata, element) {\n    // create a DOM node to render to\n    var toinsert = this.create_output_subarea(\n    metadata,\n    CLASS_NAME,\n    EXEC_MIME_TYPE\n    );\n    this.keyboard_manager.register_events(toinsert);\n    // Render to node\n    var props = {data: data, metadata: metadata[EXEC_MIME_TYPE]};\n    render(props, toinsert[0]);\n    element.append(toinsert);\n    return toinsert\n  }\n\n  events.on('output_added.OutputArea', handle_add_output);\n  events.on('output_updated.OutputArea', handle_update_output);\n  events.on('clear_output.CodeCell', handle_clear_output);\n  events.on('delete.Cell', handle_clear_output);\n  events.on('kernel_ready.Kernel', handle_kernel_cleanup);\n\n  OutputArea.prototype.register_mime_type(EXEC_MIME_TYPE, append_mime, {\n    safe: true,\n    index: 0\n  });\n}\n\nif (window.Jupyter !== undefined) {\n  try {\n    var events = require('base/js/events');\n    var OutputArea = require('notebook/js/outputarea').OutputArea;\n    if (OutputArea.prototype.mime_types().indexOf(EXEC_MIME_TYPE) == -1) {\n      register_renderer(events, OutputArea);\n    }\n  } catch(err) {\n  }\n}\n",
      "application/vnd.holoviews_load.v0+json": ""
     },
     "metadata": {},
     "output_type": "display_data"
    },
    {
     "data": {
      "application/vnd.holoviews_exec.v0+json": "",
      "text/html": [
       "<div id='15044b46-ec35-4d85-b5e0-3a6e02a77048'>\n",
       "  <div id=\"c9f684b3-6b13-461c-a52a-b00423b7b290\" data-root-id=\"15044b46-ec35-4d85-b5e0-3a6e02a77048\" style=\"display: contents;\"></div>\n",
       "</div>\n",
       "<script type=\"application/javascript\">(function(root) {\n",
       "  var docs_json = {\"de899f81-5d98-4ed6-8644-da88015e67fb\":{\"version\":\"3.6.3\",\"title\":\"Bokeh Application\",\"roots\":[{\"type\":\"object\",\"name\":\"panel.models.browser.BrowserInfo\",\"id\":\"15044b46-ec35-4d85-b5e0-3a6e02a77048\"},{\"type\":\"object\",\"name\":\"panel.models.comm_manager.CommManager\",\"id\":\"02e36783-9c94-41c2-8c55-6b3a210f537f\",\"attributes\":{\"plot_id\":\"15044b46-ec35-4d85-b5e0-3a6e02a77048\",\"comm_id\":\"07cf02d3ceca48a5974f06c5786f9018\",\"client_comm_id\":\"21747256a61a43d19a2b8de25be6f358\"}}],\"defs\":[{\"type\":\"model\",\"name\":\"ReactiveHTML1\"},{\"type\":\"model\",\"name\":\"FlexBox1\",\"properties\":[{\"name\":\"align_content\",\"kind\":\"Any\",\"default\":\"flex-start\"},{\"name\":\"align_items\",\"kind\":\"Any\",\"default\":\"flex-start\"},{\"name\":\"flex_direction\",\"kind\":\"Any\",\"default\":\"row\"},{\"name\":\"flex_wrap\",\"kind\":\"Any\",\"default\":\"wrap\"},{\"name\":\"gap\",\"kind\":\"Any\",\"default\":\"\"},{\"name\":\"justify_content\",\"kind\":\"Any\",\"default\":\"flex-start\"}]},{\"type\":\"model\",\"name\":\"FloatPanel1\",\"properties\":[{\"name\":\"config\",\"kind\":\"Any\",\"default\":{\"type\":\"map\"}},{\"name\":\"contained\",\"kind\":\"Any\",\"default\":true},{\"name\":\"position\",\"kind\":\"Any\",\"default\":\"right-top\"},{\"name\":\"offsetx\",\"kind\":\"Any\",\"default\":null},{\"name\":\"offsety\",\"kind\":\"Any\",\"default\":null},{\"name\":\"theme\",\"kind\":\"Any\",\"default\":\"primary\"},{\"name\":\"status\",\"kind\":\"Any\",\"default\":\"normalized\"}]},{\"type\":\"model\",\"name\":\"GridStack1\",\"properties\":[{\"name\":\"mode\",\"kind\":\"Any\",\"default\":\"warn\"},{\"name\":\"ncols\",\"kind\":\"Any\",\"default\":null},{\"name\":\"nrows\",\"kind\":\"Any\",\"default\":null},{\"name\":\"allow_resize\",\"kind\":\"Any\",\"default\":true},{\"name\":\"allow_drag\",\"kind\":\"Any\",\"default\":true},{\"name\":\"state\",\"kind\":\"Any\",\"default\":[]}]},{\"type\":\"model\",\"name\":\"drag1\",\"properties\":[{\"name\":\"slider_width\",\"kind\":\"Any\",\"default\":5},{\"name\":\"slider_color\",\"kind\":\"Any\",\"default\":\"black\"},{\"name\":\"value\",\"kind\":\"Any\",\"default\":50}]},{\"type\":\"model\",\"name\":\"click1\",\"properties\":[{\"name\":\"terminal_output\",\"kind\":\"Any\",\"default\":\"\"},{\"name\":\"debug_name\",\"kind\":\"Any\",\"default\":\"\"},{\"name\":\"clears\",\"kind\":\"Any\",\"default\":0}]},{\"type\":\"model\",\"name\":\"FastWrapper1\",\"properties\":[{\"name\":\"object\",\"kind\":\"Any\",\"default\":null},{\"name\":\"style\",\"kind\":\"Any\",\"default\":null}]},{\"type\":\"model\",\"name\":\"NotificationAreaBase1\",\"properties\":[{\"name\":\"js_events\",\"kind\":\"Any\",\"default\":{\"type\":\"map\"}},{\"name\":\"position\",\"kind\":\"Any\",\"default\":\"bottom-right\"},{\"name\":\"_clear\",\"kind\":\"Any\",\"default\":0}]},{\"type\":\"model\",\"name\":\"NotificationArea1\",\"properties\":[{\"name\":\"js_events\",\"kind\":\"Any\",\"default\":{\"type\":\"map\"}},{\"name\":\"notifications\",\"kind\":\"Any\",\"default\":[]},{\"name\":\"position\",\"kind\":\"Any\",\"default\":\"bottom-right\"},{\"name\":\"_clear\",\"kind\":\"Any\",\"default\":0},{\"name\":\"types\",\"kind\":\"Any\",\"default\":[{\"type\":\"map\",\"entries\":[[\"type\",\"warning\"],[\"background\",\"#ffc107\"],[\"icon\",{\"type\":\"map\",\"entries\":[[\"className\",\"fas fa-exclamation-triangle\"],[\"tagName\",\"i\"],[\"color\",\"white\"]]}]]},{\"type\":\"map\",\"entries\":[[\"type\",\"info\"],[\"background\",\"#007bff\"],[\"icon\",{\"type\":\"map\",\"entries\":[[\"className\",\"fas fa-info-circle\"],[\"tagName\",\"i\"],[\"color\",\"white\"]]}]]}]}]},{\"type\":\"model\",\"name\":\"Notification\",\"properties\":[{\"name\":\"background\",\"kind\":\"Any\",\"default\":null},{\"name\":\"duration\",\"kind\":\"Any\",\"default\":3000},{\"name\":\"icon\",\"kind\":\"Any\",\"default\":null},{\"name\":\"message\",\"kind\":\"Any\",\"default\":\"\"},{\"name\":\"notification_type\",\"kind\":\"Any\",\"default\":null},{\"name\":\"_rendered\",\"kind\":\"Any\",\"default\":false},{\"name\":\"_destroyed\",\"kind\":\"Any\",\"default\":false}]},{\"type\":\"model\",\"name\":\"TemplateActions1\",\"properties\":[{\"name\":\"open_modal\",\"kind\":\"Any\",\"default\":0},{\"name\":\"close_modal\",\"kind\":\"Any\",\"default\":0}]},{\"type\":\"model\",\"name\":\"BootstrapTemplateActions1\",\"properties\":[{\"name\":\"open_modal\",\"kind\":\"Any\",\"default\":0},{\"name\":\"close_modal\",\"kind\":\"Any\",\"default\":0}]},{\"type\":\"model\",\"name\":\"TemplateEditor1\",\"properties\":[{\"name\":\"layout\",\"kind\":\"Any\",\"default\":[]}]},{\"type\":\"model\",\"name\":\"MaterialTemplateActions1\",\"properties\":[{\"name\":\"open_modal\",\"kind\":\"Any\",\"default\":0},{\"name\":\"close_modal\",\"kind\":\"Any\",\"default\":0}]},{\"type\":\"model\",\"name\":\"ReactiveESM1\",\"properties\":[{\"name\":\"esm_constants\",\"kind\":\"Any\",\"default\":{\"type\":\"map\"}}]},{\"type\":\"model\",\"name\":\"JSComponent1\",\"properties\":[{\"name\":\"esm_constants\",\"kind\":\"Any\",\"default\":{\"type\":\"map\"}}]},{\"type\":\"model\",\"name\":\"ReactComponent1\",\"properties\":[{\"name\":\"esm_constants\",\"kind\":\"Any\",\"default\":{\"type\":\"map\"}}]},{\"type\":\"model\",\"name\":\"AnyWidgetComponent1\",\"properties\":[{\"name\":\"esm_constants\",\"kind\":\"Any\",\"default\":{\"type\":\"map\"}}]},{\"type\":\"model\",\"name\":\"request_value1\",\"properties\":[{\"name\":\"fill\",\"kind\":\"Any\",\"default\":\"none\"},{\"name\":\"_synced\",\"kind\":\"Any\",\"default\":null},{\"name\":\"_request_sync\",\"kind\":\"Any\",\"default\":0}]}]}};\n",
       "  var render_items = [{\"docid\":\"de899f81-5d98-4ed6-8644-da88015e67fb\",\"roots\":{\"15044b46-ec35-4d85-b5e0-3a6e02a77048\":\"c9f684b3-6b13-461c-a52a-b00423b7b290\"},\"root_ids\":[\"15044b46-ec35-4d85-b5e0-3a6e02a77048\"]}];\n",
       "  var docs = Object.values(docs_json)\n",
       "  if (!docs) {\n",
       "    return\n",
       "  }\n",
       "  const py_version = docs[0].version.replace('rc', '-rc.').replace('.dev', '-dev.')\n",
       "  async function embed_document(root) {\n",
       "    var Bokeh = get_bokeh(root)\n",
       "    await Bokeh.embed.embed_items_notebook(docs_json, render_items);\n",
       "    for (const render_item of render_items) {\n",
       "      for (const root_id of render_item.root_ids) {\n",
       "\tconst id_el = document.getElementById(root_id)\n",
       "\tif (id_el.children.length && id_el.children[0].hasAttribute('data-root-id')) {\n",
       "\t  const root_el = id_el.children[0]\n",
       "\t  root_el.id = root_el.id + '-rendered'\n",
       "\t  for (const child of root_el.children) {\n",
       "            // Ensure JupyterLab does not capture keyboard shortcuts\n",
       "            // see: https://jupyterlab.readthedocs.io/en/4.1.x/extension/notebook.html#keyboard-interaction-model\n",
       "\t    child.setAttribute('data-lm-suppress-shortcuts', 'true')\n",
       "\t  }\n",
       "\t}\n",
       "      }\n",
       "    }\n",
       "  }\n",
       "  function get_bokeh(root) {\n",
       "    if (root.Bokeh === undefined) {\n",
       "      return null\n",
       "    } else if (root.Bokeh.version !== py_version) {\n",
       "      if (root.Bokeh.versions === undefined || !root.Bokeh.versions.has(py_version)) {\n",
       "\treturn null\n",
       "      }\n",
       "      return root.Bokeh.versions.get(py_version);\n",
       "    } else if (root.Bokeh.version === py_version) {\n",
       "      return root.Bokeh\n",
       "    }\n",
       "    return null\n",
       "  }\n",
       "  function is_loaded(root) {\n",
       "    var Bokeh = get_bokeh(root)\n",
       "    return (Bokeh != null && Bokeh.Panel !== undefined)\n",
       "  }\n",
       "  if (is_loaded(root)) {\n",
       "    embed_document(root);\n",
       "  } else {\n",
       "    var attempts = 0;\n",
       "    var timer = setInterval(function(root) {\n",
       "      if (is_loaded(root)) {\n",
       "        clearInterval(timer);\n",
       "        embed_document(root);\n",
       "      } else if (document.readyState == \"complete\") {\n",
       "        attempts++;\n",
       "        if (attempts > 200) {\n",
       "          clearInterval(timer);\n",
       "\t  var Bokeh = get_bokeh(root)\n",
       "\t  if (Bokeh == null || Bokeh.Panel == null) {\n",
       "            console.warn(\"Panel: ERROR: Unable to run Panel code because Bokeh or Panel library is missing\");\n",
       "\t  } else {\n",
       "\t    console.warn(\"Panel: WARNING: Attempting to render but not all required libraries could be resolved.\")\n",
       "\t    embed_document(root)\n",
       "\t  }\n",
       "        }\n",
       "      }\n",
       "    }, 25, root)\n",
       "  }\n",
       "})(window);</script>"
      ]
     },
     "metadata": {
      "application/vnd.holoviews_exec.v0+json": {
       "id": "15044b46-ec35-4d85-b5e0-3a6e02a77048"
      }
     },
     "output_type": "display_data"
    },
    {
     "data": {
      "text/html": [
       "<script type=\"esms-options\">{\"shimMode\": true}</script><style>*[data-root-id],\n",
       "*[data-root-id] > * {\n",
       "  box-sizing: border-box;\n",
       "  font-family: var(--jp-ui-font-family);\n",
       "  font-size: var(--jp-ui-font-size1);\n",
       "  color: var(--vscode-editor-foreground, var(--jp-ui-font-color1));\n",
       "}\n",
       "\n",
       "/* Override VSCode background color */\n",
       ".cell-output-ipywidget-background:has(\n",
       "    > .cell-output-ipywidget-background > .lm-Widget > *[data-root-id]\n",
       "  ),\n",
       ".cell-output-ipywidget-background:has(> .lm-Widget > *[data-root-id]) {\n",
       "  background-color: transparent !important;\n",
       "}\n",
       "</style>"
      ]
     },
     "metadata": {},
     "output_type": "display_data"
    },
    {
     "data": {
      "application/javascript": "(function(root) {\n  function now() {\n    return new Date();\n  }\n\n  const force = false;\n  const py_version = '3.6.3'.replace('rc', '-rc.').replace('.dev', '-dev.');\n  const reloading = true;\n  const Bokeh = root.Bokeh;\n\n  // Set a timeout for this load but only if we are not already initializing\n  if (typeof (root._bokeh_timeout) === \"undefined\" || (force || !root._bokeh_is_initializing)) {\n    root._bokeh_timeout = Date.now() + 5000;\n    root._bokeh_failed_load = false;\n  }\n\n  function run_callbacks() {\n    try {\n      root._bokeh_onload_callbacks.forEach(function(callback) {\n        if (callback != null)\n          callback();\n      });\n    } finally {\n      delete root._bokeh_onload_callbacks;\n    }\n    console.debug(\"Bokeh: all callbacks have finished\");\n  }\n\n  function load_libs(css_urls, js_urls, js_modules, js_exports, callback) {\n    if (css_urls == null) css_urls = [];\n    if (js_urls == null) js_urls = [];\n    if (js_modules == null) js_modules = [];\n    if (js_exports == null) js_exports = {};\n\n    root._bokeh_onload_callbacks.push(callback);\n\n    if (root._bokeh_is_loading > 0) {\n      // Don't load bokeh if it is still initializing\n      console.debug(\"Bokeh: BokehJS is being loaded, scheduling callback at\", now());\n      return null;\n    } else if (js_urls.length === 0 && js_modules.length === 0 && Object.keys(js_exports).length === 0) {\n      // There is nothing to load\n      run_callbacks();\n      return null;\n    }\n\n    function on_load() {\n      root._bokeh_is_loading--;\n      if (root._bokeh_is_loading === 0) {\n        console.debug(\"Bokeh: all BokehJS libraries/stylesheets loaded\");\n        run_callbacks()\n      }\n    }\n    window._bokeh_on_load = on_load\n\n    function on_error(e) {\n      const src_el = e.srcElement\n      console.error(\"failed to load \" + (src_el.href || src_el.src));\n    }\n\n    const skip = [];\n    if (window.requirejs) {\n      window.requirejs.config({'packages': {}, 'paths': {'jspanel': 'https://cdn.jsdelivr.net/npm/jspanel4@4.12.0/dist/jspanel', 'jspanel-modal': 'https://cdn.jsdelivr.net/npm/jspanel4@4.12.0/dist/extensions/modal/jspanel.modal', 'jspanel-tooltip': 'https://cdn.jsdelivr.net/npm/jspanel4@4.12.0/dist/extensions/tooltip/jspanel.tooltip', 'jspanel-hint': 'https://cdn.jsdelivr.net/npm/jspanel4@4.12.0/dist/extensions/hint/jspanel.hint', 'jspanel-layout': 'https://cdn.jsdelivr.net/npm/jspanel4@4.12.0/dist/extensions/layout/jspanel.layout', 'jspanel-contextmenu': 'https://cdn.jsdelivr.net/npm/jspanel4@4.12.0/dist/extensions/contextmenu/jspanel.contextmenu', 'jspanel-dock': 'https://cdn.jsdelivr.net/npm/jspanel4@4.12.0/dist/extensions/dock/jspanel.dock'}, 'shim': {'jspanel': {'exports': 'jsPanel'}}});\n      require([\"jspanel\"], function(jsPanel) {\n        window.jsPanel = jsPanel\n        on_load()\n      })\n      require([\"jspanel-modal\"], function() {\n        on_load()\n      })\n      require([\"jspanel-tooltip\"], function() {\n        on_load()\n      })\n      require([\"jspanel-hint\"], function() {\n        on_load()\n      })\n      require([\"jspanel-layout\"], function() {\n        on_load()\n      })\n      require([\"jspanel-contextmenu\"], function() {\n        on_load()\n      })\n      require([\"jspanel-dock\"], function() {\n        on_load()\n      })\n      root._bokeh_is_loading = css_urls.length + 7;\n    } else {\n      root._bokeh_is_loading = css_urls.length + js_urls.length + js_modules.length + Object.keys(js_exports).length;\n    }\n\n    const existing_stylesheets = []\n    const links = document.getElementsByTagName('link')\n    for (let i = 0; i < links.length; i++) {\n      const link = links[i]\n      if (link.href != null) {\n        existing_stylesheets.push(link.href)\n      }\n    }\n    for (let i = 0; i < css_urls.length; i++) {\n      const url = css_urls[i];\n      const escaped = encodeURI(url)\n      if (existing_stylesheets.indexOf(escaped) !== -1) {\n        on_load()\n        continue;\n      }\n      const element = document.createElement(\"link\");\n      element.onload = on_load;\n      element.onerror = on_error;\n      element.rel = \"stylesheet\";\n      element.type = \"text/css\";\n      element.href = url;\n      console.debug(\"Bokeh: injecting link tag for BokehJS stylesheet: \", url);\n      document.body.appendChild(element);\n    }    if (((window.jsPanel !== undefined) && (!(window.jsPanel instanceof HTMLElement))) || window.requirejs) {\n      var urls = ['https://cdn.holoviz.org/panel/1.6.1/dist/bundled/floatpanel/jspanel4@4.12.0/dist/jspanel.js', 'https://cdn.holoviz.org/panel/1.6.1/dist/bundled/floatpanel/jspanel4@4.12.0/dist/extensions/modal/jspanel.modal.js', 'https://cdn.holoviz.org/panel/1.6.1/dist/bundled/floatpanel/jspanel4@4.12.0/dist/extensions/tooltip/jspanel.tooltip.js', 'https://cdn.holoviz.org/panel/1.6.1/dist/bundled/floatpanel/jspanel4@4.12.0/dist/extensions/hint/jspanel.hint.js', 'https://cdn.holoviz.org/panel/1.6.1/dist/bundled/floatpanel/jspanel4@4.12.0/dist/extensions/layout/jspanel.layout.js', 'https://cdn.holoviz.org/panel/1.6.1/dist/bundled/floatpanel/jspanel4@4.12.0/dist/extensions/contextmenu/jspanel.contextmenu.js', 'https://cdn.holoviz.org/panel/1.6.1/dist/bundled/floatpanel/jspanel4@4.12.0/dist/extensions/dock/jspanel.dock.js'];\n      for (var i = 0; i < urls.length; i++) {\n        skip.push(encodeURI(urls[i]))\n      }\n    }    var existing_scripts = []\n    const scripts = document.getElementsByTagName('script')\n    for (let i = 0; i < scripts.length; i++) {\n      var script = scripts[i]\n      if (script.src != null) {\n        existing_scripts.push(script.src)\n      }\n    }\n    for (let i = 0; i < js_urls.length; i++) {\n      const url = js_urls[i];\n      const escaped = encodeURI(url)\n      if (skip.indexOf(escaped) !== -1 || existing_scripts.indexOf(escaped) !== -1) {\n        if (!window.requirejs) {\n          on_load();\n        }\n        continue;\n      }\n      const element = document.createElement('script');\n      element.onload = on_load;\n      element.onerror = on_error;\n      element.async = false;\n      element.src = url;\n      console.debug(\"Bokeh: injecting script tag for BokehJS library: \", url);\n      document.head.appendChild(element);\n    }\n    for (let i = 0; i < js_modules.length; i++) {\n      const url = js_modules[i];\n      const escaped = encodeURI(url)\n      if (skip.indexOf(escaped) !== -1 || existing_scripts.indexOf(escaped) !== -1) {\n        if (!window.requirejs) {\n          on_load();\n        }\n        continue;\n      }\n      var element = document.createElement('script');\n      element.onload = on_load;\n      element.onerror = on_error;\n      element.async = false;\n      element.src = url;\n      element.type = \"module\";\n      console.debug(\"Bokeh: injecting script tag for BokehJS library: \", url);\n      document.head.appendChild(element);\n    }\n    for (const name in js_exports) {\n      const url = js_exports[name];\n      const escaped = encodeURI(url)\n      if (skip.indexOf(escaped) >= 0 || root[name] != null) {\n        if (!window.requirejs) {\n          on_load();\n        }\n        continue;\n      }\n      var element = document.createElement('script');\n      element.onerror = on_error;\n      element.async = false;\n      element.type = \"module\";\n      console.debug(\"Bokeh: injecting script tag for BokehJS library: \", url);\n      element.textContent = `\n      import ${name} from \"${url}\"\n      window.${name} = ${name}\n      window._bokeh_on_load()\n      `\n      document.head.appendChild(element);\n    }\n    if (!js_urls.length && !js_modules.length) {\n      on_load()\n    }\n  };\n\n  function inject_raw_css(css) {\n    const element = document.createElement(\"style\");\n    element.appendChild(document.createTextNode(css));\n    document.body.appendChild(element);\n  }\n\n  const js_urls = [\"https://cdn.holoviz.org/panel/1.6.1/dist/bundled/reactiveesm/es-module-shims@^1.10.0/dist/es-module-shims.min.js\", \"https://cdn.holoviz.org/panel/1.6.1/dist/bundled/floatpanel/jspanel4@4.12.0/dist/jspanel.js\", \"https://cdn.holoviz.org/panel/1.6.1/dist/bundled/floatpanel/jspanel4@4.12.0/dist/extensions/modal/jspanel.modal.js\", \"https://cdn.holoviz.org/panel/1.6.1/dist/bundled/floatpanel/jspanel4@4.12.0/dist/extensions/tooltip/jspanel.tooltip.js\", \"https://cdn.holoviz.org/panel/1.6.1/dist/bundled/floatpanel/jspanel4@4.12.0/dist/extensions/hint/jspanel.hint.js\", \"https://cdn.holoviz.org/panel/1.6.1/dist/bundled/floatpanel/jspanel4@4.12.0/dist/extensions/layout/jspanel.layout.js\", \"https://cdn.holoviz.org/panel/1.6.1/dist/bundled/floatpanel/jspanel4@4.12.0/dist/extensions/contextmenu/jspanel.contextmenu.js\", \"https://cdn.holoviz.org/panel/1.6.1/dist/bundled/floatpanel/jspanel4@4.12.0/dist/extensions/dock/jspanel.dock.js\"];\n  const js_modules = [];\n  const js_exports = {};\n  const css_urls = [\"https://cdn.holoviz.org/panel/1.6.1/dist/bundled/floatpanel/jspanel4@4.12.0/dist/jspanel.css?v=1.6.1\", \"https://cdn.holoviz.org/panel/1.6.1/dist/bundled/font-awesome/css/all.min.css\"];\n  const inline_js = [    function(Bokeh) {\n      Bokeh.set_log_level(\"info\");\n    },\nfunction(Bokeh) {} // ensure no trailing comma for IE\n  ];\n\n  function run_inline_js() {\n    if ((root.Bokeh !== undefined) || (force === true)) {\n      for (let i = 0; i < inline_js.length; i++) {\n        try {\n          inline_js[i].call(root, root.Bokeh);\n        } catch(e) {\n          if (!reloading) {\n            throw e;\n          }\n        }\n      }\n      // Cache old bokeh versions\n      if (Bokeh != undefined && !reloading) {\n        var NewBokeh = root.Bokeh;\n        if (Bokeh.versions === undefined) {\n          Bokeh.versions = new Map();\n        }\n        if (NewBokeh.version !== Bokeh.version) {\n          Bokeh.versions.set(NewBokeh.version, NewBokeh)\n        }\n        root.Bokeh = Bokeh;\n      }\n    } else if (Date.now() < root._bokeh_timeout) {\n      setTimeout(run_inline_js, 100);\n    } else if (!root._bokeh_failed_load) {\n      console.log(\"Bokeh: BokehJS failed to load within specified timeout.\");\n      root._bokeh_failed_load = true;\n    }\n    root._bokeh_is_initializing = false\n  }\n\n  function load_or_wait() {\n    // Implement a backoff loop that tries to ensure we do not load multiple\n    // versions of Bokeh and its dependencies at the same time.\n    // In recent versions we use the root._bokeh_is_initializing flag\n    // to determine whether there is an ongoing attempt to initialize\n    // bokeh, however for backward compatibility we also try to ensure\n    // that we do not start loading a newer (Panel>=1.0 and Bokeh>3) version\n    // before older versions are fully initialized.\n    if (root._bokeh_is_initializing && Date.now() > root._bokeh_timeout) {\n      // If the timeout and bokeh was not successfully loaded we reset\n      // everything and try loading again\n      root._bokeh_timeout = Date.now() + 5000;\n      root._bokeh_is_initializing = false;\n      root._bokeh_onload_callbacks = undefined;\n      root._bokeh_is_loading = 0\n      console.log(\"Bokeh: BokehJS was loaded multiple times but one version failed to initialize.\");\n      load_or_wait();\n    } else if (root._bokeh_is_initializing || (typeof root._bokeh_is_initializing === \"undefined\" && root._bokeh_onload_callbacks !== undefined)) {\n      setTimeout(load_or_wait, 100);\n    } else {\n      root._bokeh_is_initializing = true\n      root._bokeh_onload_callbacks = []\n      const bokeh_loaded = root.Bokeh != null && (root.Bokeh.version === py_version || (root.Bokeh.versions !== undefined && root.Bokeh.versions.has(py_version)));\n      if (!reloading && !bokeh_loaded) {\n        if (root.Bokeh) {\n          root.Bokeh = undefined;\n        }\n        console.debug(\"Bokeh: BokehJS not loaded, scheduling load and callback at\", now());\n      }\n      load_libs(css_urls, js_urls, js_modules, js_exports, function() {\n        console.debug(\"Bokeh: BokehJS plotting callback run at\", now());\n        run_inline_js();\n      });\n    }\n  }\n  // Give older versions of the autoload script a head-start to ensure\n  // they initialize before we start loading newer version.\n  setTimeout(load_or_wait, 100)\n}(window));",
      "application/vnd.holoviews_load.v0+json": ""
     },
     "metadata": {},
     "output_type": "display_data"
    },
    {
     "data": {
      "application/javascript": "\nif ((window.PyViz === undefined) || (window.PyViz instanceof HTMLElement)) {\n  window.PyViz = {comms: {}, comm_status:{}, kernels:{}, receivers: {}, plot_index: []}\n}\n\n\n    function JupyterCommManager() {\n    }\n\n    JupyterCommManager.prototype.register_target = function(plot_id, comm_id, msg_handler) {\n      if (window.comm_manager || ((window.Jupyter !== undefined) && (Jupyter.notebook.kernel != null))) {\n        var comm_manager = window.comm_manager || Jupyter.notebook.kernel.comm_manager;\n        comm_manager.register_target(comm_id, function(comm) {\n          comm.on_msg(msg_handler);\n        });\n      } else if ((plot_id in window.PyViz.kernels) && (window.PyViz.kernels[plot_id])) {\n        window.PyViz.kernels[plot_id].registerCommTarget(comm_id, function(comm) {\n          comm.onMsg = msg_handler;\n        });\n      } else if (typeof google != 'undefined' && google.colab.kernel != null) {\n        google.colab.kernel.comms.registerTarget(comm_id, (comm) => {\n          var messages = comm.messages[Symbol.asyncIterator]();\n          function processIteratorResult(result) {\n            var message = result.value;\n            console.log(message)\n            var content = {data: message.data, comm_id};\n            var buffers = []\n            for (var buffer of message.buffers || []) {\n              buffers.push(new DataView(buffer))\n            }\n            var metadata = message.metadata || {};\n            var msg = {content, buffers, metadata}\n            msg_handler(msg);\n            return messages.next().then(processIteratorResult);\n          }\n          return messages.next().then(processIteratorResult);\n        })\n      }\n    }\n\n    JupyterCommManager.prototype.get_client_comm = function(plot_id, comm_id, msg_handler) {\n      if (comm_id in window.PyViz.comms) {\n        return window.PyViz.comms[comm_id];\n      } else if (window.comm_manager || ((window.Jupyter !== undefined) && (Jupyter.notebook.kernel != null))) {\n        var comm_manager = window.comm_manager || Jupyter.notebook.kernel.comm_manager;\n        var comm = comm_manager.new_comm(comm_id, {}, {}, {}, comm_id);\n        if (msg_handler) {\n          comm.on_msg(msg_handler);\n        }\n      } else if ((plot_id in window.PyViz.kernels) && (window.PyViz.kernels[plot_id])) {\n        var comm = window.PyViz.kernels[plot_id].connectToComm(comm_id);\n        comm.open();\n        if (msg_handler) {\n          comm.onMsg = msg_handler;\n        }\n      } else if (typeof google != 'undefined' && google.colab.kernel != null) {\n        var comm_promise = google.colab.kernel.comms.open(comm_id)\n        comm_promise.then((comm) => {\n          window.PyViz.comms[comm_id] = comm;\n          if (msg_handler) {\n            var messages = comm.messages[Symbol.asyncIterator]();\n            function processIteratorResult(result) {\n              var message = result.value;\n              var content = {data: message.data};\n              var metadata = message.metadata || {comm_id};\n              var msg = {content, metadata}\n              msg_handler(msg);\n              return messages.next().then(processIteratorResult);\n            }\n            return messages.next().then(processIteratorResult);\n          }\n        })\n        var sendClosure = (data, metadata, buffers, disposeOnDone) => {\n          return comm_promise.then((comm) => {\n            comm.send(data, metadata, buffers, disposeOnDone);\n          });\n        };\n        var comm = {\n          send: sendClosure\n        };\n      }\n      window.PyViz.comms[comm_id] = comm;\n      return comm;\n    }\n    window.PyViz.comm_manager = new JupyterCommManager();\n    \n\n\nvar JS_MIME_TYPE = 'application/javascript';\nvar HTML_MIME_TYPE = 'text/html';\nvar EXEC_MIME_TYPE = 'application/vnd.holoviews_exec.v0+json';\nvar CLASS_NAME = 'output';\n\n/**\n * Render data to the DOM node\n */\nfunction render(props, node) {\n  var div = document.createElement(\"div\");\n  var script = document.createElement(\"script\");\n  node.appendChild(div);\n  node.appendChild(script);\n}\n\n/**\n * Handle when a new output is added\n */\nfunction handle_add_output(event, handle) {\n  var output_area = handle.output_area;\n  var output = handle.output;\n  if ((output.data == undefined) || (!output.data.hasOwnProperty(EXEC_MIME_TYPE))) {\n    return\n  }\n  var id = output.metadata[EXEC_MIME_TYPE][\"id\"];\n  var toinsert = output_area.element.find(\".\" + CLASS_NAME.split(' ')[0]);\n  if (id !== undefined) {\n    var nchildren = toinsert.length;\n    var html_node = toinsert[nchildren-1].children[0];\n    html_node.innerHTML = output.data[HTML_MIME_TYPE];\n    var scripts = [];\n    var nodelist = html_node.querySelectorAll(\"script\");\n    for (var i in nodelist) {\n      if (nodelist.hasOwnProperty(i)) {\n        scripts.push(nodelist[i])\n      }\n    }\n\n    scripts.forEach( function (oldScript) {\n      var newScript = document.createElement(\"script\");\n      var attrs = [];\n      var nodemap = oldScript.attributes;\n      for (var j in nodemap) {\n        if (nodemap.hasOwnProperty(j)) {\n          attrs.push(nodemap[j])\n        }\n      }\n      attrs.forEach(function(attr) { newScript.setAttribute(attr.name, attr.value) });\n      newScript.appendChild(document.createTextNode(oldScript.innerHTML));\n      oldScript.parentNode.replaceChild(newScript, oldScript);\n    });\n    if (JS_MIME_TYPE in output.data) {\n      toinsert[nchildren-1].children[1].textContent = output.data[JS_MIME_TYPE];\n    }\n    output_area._hv_plot_id = id;\n    if ((window.Bokeh !== undefined) && (id in Bokeh.index)) {\n      window.PyViz.plot_index[id] = Bokeh.index[id];\n    } else {\n      window.PyViz.plot_index[id] = null;\n    }\n  } else if (output.metadata[EXEC_MIME_TYPE][\"server_id\"] !== undefined) {\n    var bk_div = document.createElement(\"div\");\n    bk_div.innerHTML = output.data[HTML_MIME_TYPE];\n    var script_attrs = bk_div.children[0].attributes;\n    for (var i = 0; i < script_attrs.length; i++) {\n      toinsert[toinsert.length - 1].childNodes[1].setAttribute(script_attrs[i].name, script_attrs[i].value);\n    }\n    // store reference to server id on output_area\n    output_area._bokeh_server_id = output.metadata[EXEC_MIME_TYPE][\"server_id\"];\n  }\n}\n\n/**\n * Handle when an output is cleared or removed\n */\nfunction handle_clear_output(event, handle) {\n  var id = handle.cell.output_area._hv_plot_id;\n  var server_id = handle.cell.output_area._bokeh_server_id;\n  if (((id === undefined) || !(id in PyViz.plot_index)) && (server_id !== undefined)) { return; }\n  var comm = window.PyViz.comm_manager.get_client_comm(\"hv-extension-comm\", \"hv-extension-comm\", function () {});\n  if (server_id !== null) {\n    comm.send({event_type: 'server_delete', 'id': server_id});\n    return;\n  } else if (comm !== null) {\n    comm.send({event_type: 'delete', 'id': id});\n  }\n  delete PyViz.plot_index[id];\n  if ((window.Bokeh !== undefined) & (id in window.Bokeh.index)) {\n    var doc = window.Bokeh.index[id].model.document\n    doc.clear();\n    const i = window.Bokeh.documents.indexOf(doc);\n    if (i > -1) {\n      window.Bokeh.documents.splice(i, 1);\n    }\n  }\n}\n\n/**\n * Handle kernel restart event\n */\nfunction handle_kernel_cleanup(event, handle) {\n  delete PyViz.comms[\"hv-extension-comm\"];\n  window.PyViz.plot_index = {}\n}\n\n/**\n * Handle update_display_data messages\n */\nfunction handle_update_output(event, handle) {\n  handle_clear_output(event, {cell: {output_area: handle.output_area}})\n  handle_add_output(event, handle)\n}\n\nfunction register_renderer(events, OutputArea) {\n  function append_mime(data, metadata, element) {\n    // create a DOM node to render to\n    var toinsert = this.create_output_subarea(\n    metadata,\n    CLASS_NAME,\n    EXEC_MIME_TYPE\n    );\n    this.keyboard_manager.register_events(toinsert);\n    // Render to node\n    var props = {data: data, metadata: metadata[EXEC_MIME_TYPE]};\n    render(props, toinsert[0]);\n    element.append(toinsert);\n    return toinsert\n  }\n\n  events.on('output_added.OutputArea', handle_add_output);\n  events.on('output_updated.OutputArea', handle_update_output);\n  events.on('clear_output.CodeCell', handle_clear_output);\n  events.on('delete.Cell', handle_clear_output);\n  events.on('kernel_ready.Kernel', handle_kernel_cleanup);\n\n  OutputArea.prototype.register_mime_type(EXEC_MIME_TYPE, append_mime, {\n    safe: true,\n    index: 0\n  });\n}\n\nif (window.Jupyter !== undefined) {\n  try {\n    var events = require('base/js/events');\n    var OutputArea = require('notebook/js/outputarea').OutputArea;\n    if (OutputArea.prototype.mime_types().indexOf(EXEC_MIME_TYPE) == -1) {\n      register_renderer(events, OutputArea);\n    }\n  } catch(err) {\n  }\n}\n",
      "application/vnd.holoviews_load.v0+json": ""
     },
     "metadata": {},
     "output_type": "display_data"
    }
   ],
   "source": [
    "import microscope_calibration.components as comp\n",
    "from microscope_calibration.model import ModelParameters, DescannerErrorParameters\n",
    "from microscope_calibration.generate import generate_dataset_from_image\n",
    "from microscope_calibration.interactive import interactive_window"
   ]
  },
  {
   "cell_type": "code",
   "execution_count": null,
   "id": "209e17aa",
   "metadata": {},
   "outputs": [],
   "source": [
    "ctx = lt.Context.make_with(\"inline\")"
   ]
  },
  {
   "cell_type": "markdown",
   "id": "7731df7f",
   "metadata": {},
   "source": [
    "This notebook assumes you know the *pixel size* of your detector, and have acquired three overfocus dataset acquired at a *known camera lengths*, calibrated using some other method.\n",
    "\n",
    "To begin we will generate these data so that this notebook is standalone."
   ]
  },
  {
   "cell_type": "markdown",
   "id": "729578e0",
   "metadata": {},
   "source": [
    "## 0 - Generate data"
   ]
  },
  {
   "cell_type": "code",
   "execution_count": null,
   "id": "b4edd413",
   "metadata": {},
   "outputs": [
    {
     "data": {
      "text/plain": [
       "(206, 213)"
      ]
     },
     "execution_count": 5,
     "metadata": {},
     "output_type": "execute_result"
    }
   ],
   "source": [
    "sample_image = plt.imread(r\"SilverFast_Resolution_Target_USAF_1951.png\")[:, :, 0]\n",
    "sample_image = sample_image[1:-1, 1:-1]\n",
    "sample_image = np.ones_like(sample_image)\n",
    "sample_image.shape"
   ]
  },
  {
   "cell_type": "code",
   "execution_count": null,
   "id": "4c987706",
   "metadata": {},
   "outputs": [],
   "source": [
    "descan_error = np.random.rand(12) * 0.1\n",
    "params = ModelParameters(\n",
    "    semi_conv=0.1,\n",
    "    defocus=0.01,  # Distance from the crossover to the sample\n",
    "    camera_length=1.0,  # Distance from the point source to the detector\n",
    "    scan_shape=(32, 32),  # YX!\n",
    "    det_shape=(128, 128),  # YX!\n",
    "    scan_step=(0.0001, 0.0001),  # YX!\n",
    "    det_px_size=(0.004, 0.004),  # YX!\n",
    "    scan_rotation=0.,\n",
    "    descan_error=descan_error,\n",
    "    flip_y=False,\n",
    ")"
   ]
  },
  {
   "cell_type": "code",
   "execution_count": null,
   "id": "71eb7f7b",
   "metadata": {},
   "outputs": [],
   "source": [
    "datasets = {}\n",
    "clengths = (0.5, 1.0, 1.5)\n",
    "with ProcessPoolExecutor(max_workers=3) as p:\n",
    "    futures = []\n",
    "    for cl in clengths:\n",
    "        _params = copy.deepcopy(params)\n",
    "        _params[\"camera_length\"] = cl\n",
    "        f = p.submit(generate_dataset_from_image, _params, sample_image, method=\"linear\", progress=False)\n",
    "        futures.append(f)\n",
    "    \n",
    "    for f, cl in zip(futures, clengths):\n",
    "        data = f.result()\n",
    "        datasets[cl] = ctx.load(\"memory\", data=data, num_partitions=1)"
   ]
  },
  {
   "cell_type": "markdown",
   "id": "24f09fff",
   "metadata": {},
   "source": [
    "## 1 - Determine approximate semiconvergence angle\n",
    "\n",
    "We can determine an approximate $\\alpha$ by measuring the radius of the transmitted beam in pixels, and using the pixel size and camera length to measure the angle of the triangle with origin at the point source."
   ]
  },
  {
   "cell_type": "code",
   "execution_count": null,
   "id": "a5ed78a7",
   "metadata": {},
   "outputs": [
    {
     "name": "stdout",
     "output_type": "stream",
     "text": [
      "Camera length: 0.5, Approximte semiconv: 0.101, True value 0.1\n",
      "Camera length: 1.0, Approximte semiconv: 0.101, True value 0.1\n",
      "Camera length: 1.5, Approximte semiconv: 0.095, True value 0.1\n",
      "Average approximte semiconv: 0.099, True value 0.1\n"
     ]
    }
   ],
   "source": [
    "guesses = []\n",
    "for cl in datasets.keys():\n",
    "    det_px_size = min(params[\"det_px_size\"])\n",
    "    sy, sx = datasets[cl].shape.nav\n",
    "    pick_a = ctx.create_pick_analysis(datasets[cl], sx // 2, sy // 2)\n",
    "    frame = ctx.run(pick_a).intensity.raw_data\n",
    "    radius = (\n",
    "        max(\n",
    "            regionprops(label(frame > frame.max() * 0.5)), key=lambda r: r.area\n",
    "        ).equivalent_diameter\n",
    "        / 2\n",
    "    )\n",
    "    semi_conv_guess = float(np.atan2(radius * det_px_size, cl)) # Still in small angle approximation, so atan2 should make no difference.\n",
    "    guesses.append(semi_conv_guess)\n",
    "    print(f\"Camera length: {cl}, Approximte semiconv: {semi_conv_guess:.3f}, True value {params['semi_conv']}\")\n",
    "\n",
    "semi_conv_guess = np.mean(guesses)\n",
    "print(f\"Average approximte semiconv: {semi_conv_guess:.3f}, True value {params['semi_conv']}\")"
   ]
  },
  {
   "cell_type": "markdown",
   "id": "b21997f0",
   "metadata": {},
   "source": [
    "## 2 - Visualise descan error"
   ]
  },
  {
   "cell_type": "markdown",
   "id": "56eec9fa",
   "metadata": {},
   "source": [
    "Just for visualisation, we start with a sum image of all dataset frames, and the CoM shift magnitude relative to the frame centre for each scan position:"
   ]
  },
  {
   "cell_type": "code",
   "execution_count": null,
   "id": "0f2c205e",
   "metadata": {},
   "outputs": [
    {
     "data": {
      "application/vnd.jupyter.widget-view+json": {
       "model_id": "5c40aa08e5964282876e0917103cf0fd",
       "version_major": 2,
       "version_minor": 0
      },
      "image/png": "[encoded data removed]",
      "text/html": [
       "\n",
       "            <div style=\"display: inline-block;\">\n",
       "                <div class=\"jupyter-widgets widget-label\" style=\"text-align: center;\">\n",
       "                    Figure\n",
       "                </div>\n",
       "                <img src='data:image/png;base64,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' width=640.0/>\n",
       "            </div>\n",
       "        "
      ],
      "text/plain": [
       "Canvas(toolbar=Toolbar(toolitems=[('Home', 'Reset original view', 'home', 'home'), ('Back', 'Back to previous …"
      ]
     },
     "metadata": {},
     "output_type": "display_data"
    }
   ],
   "source": [
    "fig, axs = plt.subplots(2, 3)\n",
    "\n",
    "com_r = {}\n",
    "com_udf = CoMUDF.with_params()\n",
    "for i, (cl, ds) in enumerate(datasets.items()):\n",
    "    sum_res, com_res = ctx.run_udf(ds, [SumUDF(), com_udf])\n",
    "    com_r[cl] = com_res\n",
    "    axs[0, i].imshow(sum_res[\"intensity\"].data, cmap=\"gray\")\n",
    "    axs[0, i].set_title(f\"Sum cl={cl}\")\n",
    "for i, (cl, ds) in enumerate(datasets.items()):\n",
    "    axs[1, i].imshow(com_r[cl][\"magnitude\"].data)\n",
    "    axs[1, i].set_title(f\"CoM shift cl={cl}\")"
   ]
  },
  {
   "cell_type": "markdown",
   "id": "fde08914",
   "metadata": {},
   "source": [
    "We can see that there is more descan error at longer camera lengths, meaning we have an error dependent on the slope of the rays leaving the descanner.\n",
    "\n",
    "## 3 - Determine parameters ignoring descan error\n",
    "\n",
    "Even in the presence of descan error, we can reconstruct a single dataset to determine the scan geometry and defocus. The result will be distorted, but should still be sharp when the right parameters are found. We start from a scan step which is know approximately, but with no knowledge of the scan step or defocus value:"
   ]
  },
  {
   "cell_type": "code",
   "execution_count": null,
   "id": "e242ae4f",
   "metadata": {},
   "outputs": [
    {
     "data": {
      "text/html": [
       "<script type=\"esms-options\">{\"shimMode\": true}</script><style>*[data-root-id],\n",
       "*[data-root-id] > * {\n",
       "  box-sizing: border-box;\n",
       "  font-family: var(--jp-ui-font-family);\n",
       "  font-size: var(--jp-ui-font-size1);\n",
       "  color: var(--vscode-editor-foreground, var(--jp-ui-font-color1));\n",
       "}\n",
       "\n",
       "/* Override VSCode background color */\n",
       ".cell-output-ipywidget-background:has(\n",
       "    > .cell-output-ipywidget-background > .lm-Widget > *[data-root-id]\n",
       "  ),\n",
       ".cell-output-ipywidget-background:has(> .lm-Widget > *[data-root-id]) {\n",
       "  background-color: transparent !important;\n",
       "}\n",
       "</style>"
      ]
     },
     "metadata": {},
     "output_type": "display_data"
    },
    {
     "data": {
      "application/javascript": "(function(root) {\n  function now() {\n    return new Date();\n  }\n\n  const force = true;\n  const py_version = '3.6.3'.replace('rc', '-rc.').replace('.dev', '-dev.');\n  const reloading = false;\n  const Bokeh = root.Bokeh;\n\n  // Set a timeout for this load but only if we are not already initializing\n  if (typeof (root._bokeh_timeout) === \"undefined\" || (force || !root._bokeh_is_initializing)) {\n    root._bokeh_timeout = Date.now() + 5000;\n    root._bokeh_failed_load = false;\n  }\n\n  function run_callbacks() {\n    try {\n      root._bokeh_onload_callbacks.forEach(function(callback) {\n        if (callback != null)\n          callback();\n      });\n    } finally {\n      delete root._bokeh_onload_callbacks;\n    }\n    console.debug(\"Bokeh: all callbacks have finished\");\n  }\n\n  function load_libs(css_urls, js_urls, js_modules, js_exports, callback) {\n    if (css_urls == null) css_urls = [];\n    if (js_urls == null) js_urls = [];\n    if (js_modules == null) js_modules = [];\n    if (js_exports == null) js_exports = {};\n\n    root._bokeh_onload_callbacks.push(callback);\n\n    if (root._bokeh_is_loading > 0) {\n      // Don't load bokeh if it is still initializing\n      console.debug(\"Bokeh: BokehJS is being loaded, scheduling callback at\", now());\n      return null;\n    } else if (js_urls.length === 0 && js_modules.length === 0 && Object.keys(js_exports).length === 0) {\n      // There is nothing to load\n      run_callbacks();\n      return null;\n    }\n\n    function on_load() {\n      root._bokeh_is_loading--;\n      if (root._bokeh_is_loading === 0) {\n        console.debug(\"Bokeh: all BokehJS libraries/stylesheets loaded\");\n        run_callbacks()\n      }\n    }\n    window._bokeh_on_load = on_load\n\n    function on_error(e) {\n      const src_el = e.srcElement\n      console.error(\"failed to load \" + (src_el.href || src_el.src));\n    }\n\n    const skip = [];\n    if (window.requirejs) {\n      window.requirejs.config({'packages': {}, 'paths': {'jsoneditor': '//cdn.jsdelivr.net/npm/jsoneditor@10.0.1/dist/jsoneditor.min', 'tabulator': 'https://cdn.jsdelivr.net/npm/tabulator-tables@6.3.1/dist/js/tabulator.min', 'moment': 'https://cdn.jsdelivr.net/npm/luxon/build/global/luxon.min', 'jspanel': 'https://cdn.jsdelivr.net/npm/jspanel4@4.12.0/dist/jspanel', 'jspanel-modal': 'https://cdn.jsdelivr.net/npm/jspanel4@4.12.0/dist/extensions/modal/jspanel.modal', 'jspanel-tooltip': 'https://cdn.jsdelivr.net/npm/jspanel4@4.12.0/dist/extensions/tooltip/jspanel.tooltip', 'jspanel-hint': 'https://cdn.jsdelivr.net/npm/jspanel4@4.12.0/dist/extensions/hint/jspanel.hint', 'jspanel-layout': 'https://cdn.jsdelivr.net/npm/jspanel4@4.12.0/dist/extensions/layout/jspanel.layout', 'jspanel-contextmenu': 'https://cdn.jsdelivr.net/npm/jspanel4@4.12.0/dist/extensions/contextmenu/jspanel.contextmenu', 'jspanel-dock': 'https://cdn.jsdelivr.net/npm/jspanel4@4.12.0/dist/extensions/dock/jspanel.dock'}, 'shim': {'jsoneditor': {'exports': 'JSONEditor'}, 'jspanel': {'exports': 'jsPanel'}}});\n      require([\"jsoneditor\"], function(JSONEditor) {\n        window.JSONEditor = JSONEditor\n        on_load()\n      })\n      require([\"tabulator\"], function(Tabulator) {\n        window.Tabulator = Tabulator\n        on_load()\n      })\n      require([\"moment\"], function(moment) {\n        window.moment = moment\n        on_load()\n      })\n      require([\"jspanel\"], function(jsPanel) {\n        window.jsPanel = jsPanel\n        on_load()\n      })\n      require([\"jspanel-modal\"], function() {\n        on_load()\n      })\n      require([\"jspanel-tooltip\"], function() {\n        on_load()\n      })\n      require([\"jspanel-hint\"], function() {\n        on_load()\n      })\n      require([\"jspanel-layout\"], function() {\n        on_load()\n      })\n      require([\"jspanel-contextmenu\"], function() {\n        on_load()\n      })\n      require([\"jspanel-dock\"], function() {\n        on_load()\n      })\n      root._bokeh_is_loading = css_urls.length + 10;\n    } else {\n      root._bokeh_is_loading = css_urls.length + js_urls.length + js_modules.length + Object.keys(js_exports).length;\n    }\n\n    const existing_stylesheets = []\n    const links = document.getElementsByTagName('link')\n    for (let i = 0; i < links.length; i++) {\n      const link = links[i]\n      if (link.href != null) {\n        existing_stylesheets.push(link.href)\n      }\n    }\n    for (let i = 0; i < css_urls.length; i++) {\n      const url = css_urls[i];\n      const escaped = encodeURI(url)\n      if (existing_stylesheets.indexOf(escaped) !== -1) {\n        on_load()\n        continue;\n      }\n      const element = document.createElement(\"link\");\n      element.onload = on_load;\n      element.onerror = on_error;\n      element.rel = \"stylesheet\";\n      element.type = \"text/css\";\n      element.href = url;\n      console.debug(\"Bokeh: injecting link tag for BokehJS stylesheet: \", url);\n      document.body.appendChild(element);\n    }    if (((window.JSONEditor !== undefined) && (!(window.JSONEditor instanceof HTMLElement))) || window.requirejs) {\n      var urls = ['https://cdn.holoviz.org/panel/1.6.1/dist/bundled/jsoneditor/jsoneditor@10.0.1/dist/jsoneditor.min.js'];\n      for (var i = 0; i < urls.length; i++) {\n        skip.push(encodeURI(urls[i]))\n      }\n    }    if (((window.Tabulator !== undefined) && (!(window.Tabulator instanceof HTMLElement))) || window.requirejs) {\n      var urls = ['https://cdn.holoviz.org/panel/1.6.1/dist/bundled/datatabulator/tabulator-tables@6.3.1/dist/js/tabulator.min.js'];\n      for (var i = 0; i < urls.length; i++) {\n        skip.push(encodeURI(urls[i]))\n      }\n    }    if (((window.moment !== undefined) && (!(window.moment instanceof HTMLElement))) || window.requirejs) {\n      var urls = ['https://cdn.holoviz.org/panel/1.6.1/dist/bundled/datatabulator/luxon/build/global/luxon.min.js'];\n      for (var i = 0; i < urls.length; i++) {\n        skip.push(encodeURI(urls[i]))\n      }\n    }    if (((window.jsPanel !== undefined) && (!(window.jsPanel instanceof HTMLElement))) || window.requirejs) {\n      var urls = ['https://cdn.holoviz.org/panel/1.6.1/dist/bundled/floatpanel/jspanel4@4.12.0/dist/jspanel.js', 'https://cdn.holoviz.org/panel/1.6.1/dist/bundled/floatpanel/jspanel4@4.12.0/dist/extensions/modal/jspanel.modal.js', 'https://cdn.holoviz.org/panel/1.6.1/dist/bundled/floatpanel/jspanel4@4.12.0/dist/extensions/tooltip/jspanel.tooltip.js', 'https://cdn.holoviz.org/panel/1.6.1/dist/bundled/floatpanel/jspanel4@4.12.0/dist/extensions/hint/jspanel.hint.js', 'https://cdn.holoviz.org/panel/1.6.1/dist/bundled/floatpanel/jspanel4@4.12.0/dist/extensions/layout/jspanel.layout.js', 'https://cdn.holoviz.org/panel/1.6.1/dist/bundled/floatpanel/jspanel4@4.12.0/dist/extensions/contextmenu/jspanel.contextmenu.js', 'https://cdn.holoviz.org/panel/1.6.1/dist/bundled/floatpanel/jspanel4@4.12.0/dist/extensions/dock/jspanel.dock.js'];\n      for (var i = 0; i < urls.length; i++) {\n        skip.push(encodeURI(urls[i]))\n      }\n    }    var existing_scripts = []\n    const scripts = document.getElementsByTagName('script')\n    for (let i = 0; i < scripts.length; i++) {\n      var script = scripts[i]\n      if (script.src != null) {\n        existing_scripts.push(script.src)\n      }\n    }\n    for (let i = 0; i < js_urls.length; i++) {\n      const url = js_urls[i];\n      const escaped = encodeURI(url)\n      if (skip.indexOf(escaped) !== -1 || existing_scripts.indexOf(escaped) !== -1) {\n        if (!window.requirejs) {\n          on_load();\n        }\n        continue;\n      }\n      const element = document.createElement('script');\n      element.onload = on_load;\n      element.onerror = on_error;\n      element.async = false;\n      element.src = url;\n      console.debug(\"Bokeh: injecting script tag for BokehJS library: \", url);\n      document.head.appendChild(element);\n    }\n    for (let i = 0; i < js_modules.length; i++) {\n      const url = js_modules[i];\n      const escaped = encodeURI(url)\n      if (skip.indexOf(escaped) !== -1 || existing_scripts.indexOf(escaped) !== -1) {\n        if (!window.requirejs) {\n          on_load();\n        }\n        continue;\n      }\n      var element = document.createElement('script');\n      element.onload = on_load;\n      element.onerror = on_error;\n      element.async = false;\n      element.src = url;\n      element.type = \"module\";\n      console.debug(\"Bokeh: injecting script tag for BokehJS library: \", url);\n      document.head.appendChild(element);\n    }\n    for (const name in js_exports) {\n      const url = js_exports[name];\n      const escaped = encodeURI(url)\n      if (skip.indexOf(escaped) >= 0 || root[name] != null) {\n        if (!window.requirejs) {\n          on_load();\n        }\n        continue;\n      }\n      var element = document.createElement('script');\n      element.onerror = on_error;\n      element.async = false;\n      element.type = \"module\";\n      console.debug(\"Bokeh: injecting script tag for BokehJS library: \", url);\n      element.textContent = `\n      import ${name} from \"${url}\"\n      window.${name} = ${name}\n      window._bokeh_on_load()\n      `\n      document.head.appendChild(element);\n    }\n    if (!js_urls.length && !js_modules.length) {\n      on_load()\n    }\n  };\n\n  function inject_raw_css(css) {\n    const element = document.createElement(\"style\");\n    element.appendChild(document.createTextNode(css));\n    document.body.appendChild(element);\n  }\n\n  const js_urls = [\"https://cdn.holoviz.org/panel/1.6.1/dist/bundled/reactiveesm/es-module-shims@^1.10.0/dist/es-module-shims.min.js\", \"https://cdn.holoviz.org/panel/1.6.1/dist/bundled/jsoneditor/jsoneditor@10.0.1/dist/jsoneditor.min.js\", \"https://cdn.holoviz.org/panel/1.6.1/dist/bundled/datatabulator/tabulator-tables@6.3.1/dist/js/tabulator.min.js\", \"https://cdn.holoviz.org/panel/1.6.1/dist/bundled/datatabulator/luxon/build/global/luxon.min.js\", \"https://cdn.bokeh.org/bokeh/release/bokeh-3.6.3.min.js\", \"https://cdn.bokeh.org/bokeh/release/bokeh-gl-3.6.3.min.js\", \"https://cdn.bokeh.org/bokeh/release/bokeh-widgets-3.6.3.min.js\", \"https://cdn.bokeh.org/bokeh/release/bokeh-tables-3.6.3.min.js\", \"https://cdn.holoviz.org/panel/1.6.1/dist/bundled/floatpanel/jspanel4@4.12.0/dist/jspanel.js\", \"https://cdn.holoviz.org/panel/1.6.1/dist/bundled/floatpanel/jspanel4@4.12.0/dist/extensions/modal/jspanel.modal.js\", \"https://cdn.holoviz.org/panel/1.6.1/dist/bundled/floatpanel/jspanel4@4.12.0/dist/extensions/tooltip/jspanel.tooltip.js\", \"https://cdn.holoviz.org/panel/1.6.1/dist/bundled/floatpanel/jspanel4@4.12.0/dist/extensions/hint/jspanel.hint.js\", \"https://cdn.holoviz.org/panel/1.6.1/dist/bundled/floatpanel/jspanel4@4.12.0/dist/extensions/layout/jspanel.layout.js\", \"https://cdn.holoviz.org/panel/1.6.1/dist/bundled/floatpanel/jspanel4@4.12.0/dist/extensions/contextmenu/jspanel.contextmenu.js\", \"https://cdn.holoviz.org/panel/1.6.1/dist/bundled/floatpanel/jspanel4@4.12.0/dist/extensions/dock/jspanel.dock.js\", \"https://cdn.holoviz.org/panel/1.6.1/dist/panel.min.js\"];\n  const js_modules = [];\n  const js_exports = {};\n  const css_urls = [\"https://cdn.holoviz.org/panel/1.6.1/dist/bundled/jsoneditor/jsoneditor@10.0.1/dist/jsoneditor.min.css?v=1.6.1\", \"https://cdn.holoviz.org/panel/1.6.1/dist/bundled/datatabulator/tabulator-tables@6.3.1/dist/css/tabulator_simple.min.css?v=1.6.1\", \"https://cdn.holoviz.org/panel/1.6.1/dist/bundled/floatpanel/jspanel4@4.12.0/dist/jspanel.css?v=1.6.1\", \"https://cdn.holoviz.org/panel/1.6.1/dist/bundled/font-awesome/css/all.min.css\"];\n  const inline_js = [    function(Bokeh) {\n      Bokeh.set_log_level(\"info\");\n    },\nfunction(Bokeh) {} // ensure no trailing comma for IE\n  ];\n\n  function run_inline_js() {\n    if ((root.Bokeh !== undefined) || (force === true)) {\n      for (let i = 0; i < inline_js.length; i++) {\n        try {\n          inline_js[i].call(root, root.Bokeh);\n        } catch(e) {\n          if (!reloading) {\n            throw e;\n          }\n        }\n      }\n      // Cache old bokeh versions\n      if (Bokeh != undefined && !reloading) {\n        var NewBokeh = root.Bokeh;\n        if (Bokeh.versions === undefined) {\n          Bokeh.versions = new Map();\n        }\n        if (NewBokeh.version !== Bokeh.version) {\n          Bokeh.versions.set(NewBokeh.version, NewBokeh)\n        }\n        root.Bokeh = Bokeh;\n      }\n    } else if (Date.now() < root._bokeh_timeout) {\n      setTimeout(run_inline_js, 100);\n    } else if (!root._bokeh_failed_load) {\n      console.log(\"Bokeh: BokehJS failed to load within specified timeout.\");\n      root._bokeh_failed_load = true;\n    }\n    root._bokeh_is_initializing = false\n  }\n\n  function load_or_wait() {\n    // Implement a backoff loop that tries to ensure we do not load multiple\n    // versions of Bokeh and its dependencies at the same time.\n    // In recent versions we use the root._bokeh_is_initializing flag\n    // to determine whether there is an ongoing attempt to initialize\n    // bokeh, however for backward compatibility we also try to ensure\n    // that we do not start loading a newer (Panel>=1.0 and Bokeh>3) version\n    // before older versions are fully initialized.\n    if (root._bokeh_is_initializing && Date.now() > root._bokeh_timeout) {\n      // If the timeout and bokeh was not successfully loaded we reset\n      // everything and try loading again\n      root._bokeh_timeout = Date.now() + 5000;\n      root._bokeh_is_initializing = false;\n      root._bokeh_onload_callbacks = undefined;\n      root._bokeh_is_loading = 0\n      console.log(\"Bokeh: BokehJS was loaded multiple times but one version failed to initialize.\");\n      load_or_wait();\n    } else if (root._bokeh_is_initializing || (typeof root._bokeh_is_initializing === \"undefined\" && root._bokeh_onload_callbacks !== undefined)) {\n      setTimeout(load_or_wait, 100);\n    } else {\n      root._bokeh_is_initializing = true\n      root._bokeh_onload_callbacks = []\n      const bokeh_loaded = root.Bokeh != null && (root.Bokeh.version === py_version || (root.Bokeh.versions !== undefined && root.Bokeh.versions.has(py_version)));\n      if (!reloading && !bokeh_loaded) {\n        if (root.Bokeh) {\n          root.Bokeh = undefined;\n        }\n        console.debug(\"Bokeh: BokehJS not loaded, scheduling load and callback at\", now());\n      }\n      load_libs(css_urls, js_urls, js_modules, js_exports, function() {\n        console.debug(\"Bokeh: BokehJS plotting callback run at\", now());\n        run_inline_js();\n      });\n    }\n  }\n  // Give older versions of the autoload script a head-start to ensure\n  // they initialize before we start loading newer version.\n  setTimeout(load_or_wait, 100)\n}(window));",
      "application/vnd.holoviews_load.v0+json": ""
     },
     "metadata": {},
     "output_type": "display_data"
    },
    {
     "data": {
      "application/javascript": "\nif ((window.PyViz === undefined) || (window.PyViz instanceof HTMLElement)) {\n  window.PyViz = {comms: {}, comm_status:{}, kernels:{}, receivers: {}, plot_index: []}\n}\n\n\n    function JupyterCommManager() {\n    }\n\n    JupyterCommManager.prototype.register_target = function(plot_id, comm_id, msg_handler) {\n      if (window.comm_manager || ((window.Jupyter !== undefined) && (Jupyter.notebook.kernel != null))) {\n        var comm_manager = window.comm_manager || Jupyter.notebook.kernel.comm_manager;\n        comm_manager.register_target(comm_id, function(comm) {\n          comm.on_msg(msg_handler);\n        });\n      } else if ((plot_id in window.PyViz.kernels) && (window.PyViz.kernels[plot_id])) {\n        window.PyViz.kernels[plot_id].registerCommTarget(comm_id, function(comm) {\n          comm.onMsg = msg_handler;\n        });\n      } else if (typeof google != 'undefined' && google.colab.kernel != null) {\n        google.colab.kernel.comms.registerTarget(comm_id, (comm) => {\n          var messages = comm.messages[Symbol.asyncIterator]();\n          function processIteratorResult(result) {\n            var message = result.value;\n            console.log(message)\n            var content = {data: message.data, comm_id};\n            var buffers = []\n            for (var buffer of message.buffers || []) {\n              buffers.push(new DataView(buffer))\n            }\n            var metadata = message.metadata || {};\n            var msg = {content, buffers, metadata}\n            msg_handler(msg);\n            return messages.next().then(processIteratorResult);\n          }\n          return messages.next().then(processIteratorResult);\n        })\n      }\n    }\n\n    JupyterCommManager.prototype.get_client_comm = function(plot_id, comm_id, msg_handler) {\n      if (comm_id in window.PyViz.comms) {\n        return window.PyViz.comms[comm_id];\n      } else if (window.comm_manager || ((window.Jupyter !== undefined) && (Jupyter.notebook.kernel != null))) {\n        var comm_manager = window.comm_manager || Jupyter.notebook.kernel.comm_manager;\n        var comm = comm_manager.new_comm(comm_id, {}, {}, {}, comm_id);\n        if (msg_handler) {\n          comm.on_msg(msg_handler);\n        }\n      } else if ((plot_id in window.PyViz.kernels) && (window.PyViz.kernels[plot_id])) {\n        var comm = window.PyViz.kernels[plot_id].connectToComm(comm_id);\n        comm.open();\n        if (msg_handler) {\n          comm.onMsg = msg_handler;\n        }\n      } else if (typeof google != 'undefined' && google.colab.kernel != null) {\n        var comm_promise = google.colab.kernel.comms.open(comm_id)\n        comm_promise.then((comm) => {\n          window.PyViz.comms[comm_id] = comm;\n          if (msg_handler) {\n            var messages = comm.messages[Symbol.asyncIterator]();\n            function processIteratorResult(result) {\n              var message = result.value;\n              var content = {data: message.data};\n              var metadata = message.metadata || {comm_id};\n              var msg = {content, metadata}\n              msg_handler(msg);\n              return messages.next().then(processIteratorResult);\n            }\n            return messages.next().then(processIteratorResult);\n          }\n        })\n        var sendClosure = (data, metadata, buffers, disposeOnDone) => {\n          return comm_promise.then((comm) => {\n            comm.send(data, metadata, buffers, disposeOnDone);\n          });\n        };\n        var comm = {\n          send: sendClosure\n        };\n      }\n      window.PyViz.comms[comm_id] = comm;\n      return comm;\n    }\n    window.PyViz.comm_manager = new JupyterCommManager();\n    \n\n\nvar JS_MIME_TYPE = 'application/javascript';\nvar HTML_MIME_TYPE = 'text/html';\nvar EXEC_MIME_TYPE = 'application/vnd.holoviews_exec.v0+json';\nvar CLASS_NAME = 'output';\n\n/**\n * Render data to the DOM node\n */\nfunction render(props, node) {\n  var div = document.createElement(\"div\");\n  var script = document.createElement(\"script\");\n  node.appendChild(div);\n  node.appendChild(script);\n}\n\n/**\n * Handle when a new output is added\n */\nfunction handle_add_output(event, handle) {\n  var output_area = handle.output_area;\n  var output = handle.output;\n  if ((output.data == undefined) || (!output.data.hasOwnProperty(EXEC_MIME_TYPE))) {\n    return\n  }\n  var id = output.metadata[EXEC_MIME_TYPE][\"id\"];\n  var toinsert = output_area.element.find(\".\" + CLASS_NAME.split(' ')[0]);\n  if (id !== undefined) {\n    var nchildren = toinsert.length;\n    var html_node = toinsert[nchildren-1].children[0];\n    html_node.innerHTML = output.data[HTML_MIME_TYPE];\n    var scripts = [];\n    var nodelist = html_node.querySelectorAll(\"script\");\n    for (var i in nodelist) {\n      if (nodelist.hasOwnProperty(i)) {\n        scripts.push(nodelist[i])\n      }\n    }\n\n    scripts.forEach( function (oldScript) {\n      var newScript = document.createElement(\"script\");\n      var attrs = [];\n      var nodemap = oldScript.attributes;\n      for (var j in nodemap) {\n        if (nodemap.hasOwnProperty(j)) {\n          attrs.push(nodemap[j])\n        }\n      }\n      attrs.forEach(function(attr) { newScript.setAttribute(attr.name, attr.value) });\n      newScript.appendChild(document.createTextNode(oldScript.innerHTML));\n      oldScript.parentNode.replaceChild(newScript, oldScript);\n    });\n    if (JS_MIME_TYPE in output.data) {\n      toinsert[nchildren-1].children[1].textContent = output.data[JS_MIME_TYPE];\n    }\n    output_area._hv_plot_id = id;\n    if ((window.Bokeh !== undefined) && (id in Bokeh.index)) {\n      window.PyViz.plot_index[id] = Bokeh.index[id];\n    } else {\n      window.PyViz.plot_index[id] = null;\n    }\n  } else if (output.metadata[EXEC_MIME_TYPE][\"server_id\"] !== undefined) {\n    var bk_div = document.createElement(\"div\");\n    bk_div.innerHTML = output.data[HTML_MIME_TYPE];\n    var script_attrs = bk_div.children[0].attributes;\n    for (var i = 0; i < script_attrs.length; i++) {\n      toinsert[toinsert.length - 1].childNodes[1].setAttribute(script_attrs[i].name, script_attrs[i].value);\n    }\n    // store reference to server id on output_area\n    output_area._bokeh_server_id = output.metadata[EXEC_MIME_TYPE][\"server_id\"];\n  }\n}\n\n/**\n * Handle when an output is cleared or removed\n */\nfunction handle_clear_output(event, handle) {\n  var id = handle.cell.output_area._hv_plot_id;\n  var server_id = handle.cell.output_area._bokeh_server_id;\n  if (((id === undefined) || !(id in PyViz.plot_index)) && (server_id !== undefined)) { return; }\n  var comm = window.PyViz.comm_manager.get_client_comm(\"hv-extension-comm\", \"hv-extension-comm\", function () {});\n  if (server_id !== null) {\n    comm.send({event_type: 'server_delete', 'id': server_id});\n    return;\n  } else if (comm !== null) {\n    comm.send({event_type: 'delete', 'id': id});\n  }\n  delete PyViz.plot_index[id];\n  if ((window.Bokeh !== undefined) & (id in window.Bokeh.index)) {\n    var doc = window.Bokeh.index[id].model.document\n    doc.clear();\n    const i = window.Bokeh.documents.indexOf(doc);\n    if (i > -1) {\n      window.Bokeh.documents.splice(i, 1);\n    }\n  }\n}\n\n/**\n * Handle kernel restart event\n */\nfunction handle_kernel_cleanup(event, handle) {\n  delete PyViz.comms[\"hv-extension-comm\"];\n  window.PyViz.plot_index = {}\n}\n\n/**\n * Handle update_display_data messages\n */\nfunction handle_update_output(event, handle) {\n  handle_clear_output(event, {cell: {output_area: handle.output_area}})\n  handle_add_output(event, handle)\n}\n\nfunction register_renderer(events, OutputArea) {\n  function append_mime(data, metadata, element) {\n    // create a DOM node to render to\n    var toinsert = this.create_output_subarea(\n    metadata,\n    CLASS_NAME,\n    EXEC_MIME_TYPE\n    );\n    this.keyboard_manager.register_events(toinsert);\n    // Render to node\n    var props = {data: data, metadata: metadata[EXEC_MIME_TYPE]};\n    render(props, toinsert[0]);\n    element.append(toinsert);\n    return toinsert\n  }\n\n  events.on('output_added.OutputArea', handle_add_output);\n  events.on('output_updated.OutputArea', handle_update_output);\n  events.on('clear_output.CodeCell', handle_clear_output);\n  events.on('delete.Cell', handle_clear_output);\n  events.on('kernel_ready.Kernel', handle_kernel_cleanup);\n\n  OutputArea.prototype.register_mime_type(EXEC_MIME_TYPE, append_mime, {\n    safe: true,\n    index: 0\n  });\n}\n\nif (window.Jupyter !== undefined) {\n  try {\n    var events = require('base/js/events');\n    var OutputArea = require('notebook/js/outputarea').OutputArea;\n    if (OutputArea.prototype.mime_types().indexOf(EXEC_MIME_TYPE) == -1) {\n      register_renderer(events, OutputArea);\n    }\n  } catch(err) {\n  }\n}\n",
      "application/vnd.holoviews_load.v0+json": ""
     },
     "metadata": {},
     "output_type": "display_data"
    },
    {
     "data": {
      "application/vnd.holoviews_exec.v0+json": "",
      "text/html": [
       "<div id='364187bc-480a-4ce3-92e3-590fb6f6f071'>\n",
       "  <div id=\"a973dcc2-4907-4418-ab4b-28b8c763e47a\" data-root-id=\"364187bc-480a-4ce3-92e3-590fb6f6f071\" style=\"display: contents;\"></div>\n",
       "</div>\n",
       "<script type=\"application/javascript\">(function(root) {\n",
       "  var docs_json = {\"5a55305a-2fb1-492d-a4c9-c32b2f0011bd\":{\"version\":\"3.6.3\",\"title\":\"Bokeh Application\",\"roots\":[{\"type\":\"object\",\"name\":\"panel.models.browser.BrowserInfo\",\"id\":\"364187bc-480a-4ce3-92e3-590fb6f6f071\"},{\"type\":\"object\",\"name\":\"panel.models.comm_manager.CommManager\",\"id\":\"9ba6816a-aa05-4735-93c0-c5501802ba37\",\"attributes\":{\"plot_id\":\"364187bc-480a-4ce3-92e3-590fb6f6f071\",\"comm_id\":\"81f8e61135024a018c79ffd50bc358ef\",\"client_comm_id\":\"a30ac5c568b64b31abd56c6d8fffa443\"}}],\"defs\":[{\"type\":\"model\",\"name\":\"ReactiveHTML1\"},{\"type\":\"model\",\"name\":\"FlexBox1\",\"properties\":[{\"name\":\"align_content\",\"kind\":\"Any\",\"default\":\"flex-start\"},{\"name\":\"align_items\",\"kind\":\"Any\",\"default\":\"flex-start\"},{\"name\":\"flex_direction\",\"kind\":\"Any\",\"default\":\"row\"},{\"name\":\"flex_wrap\",\"kind\":\"Any\",\"default\":\"wrap\"},{\"name\":\"gap\",\"kind\":\"Any\",\"default\":\"\"},{\"name\":\"justify_content\",\"kind\":\"Any\",\"default\":\"flex-start\"}]},{\"type\":\"model\",\"name\":\"FloatPanel1\",\"properties\":[{\"name\":\"config\",\"kind\":\"Any\",\"default\":{\"type\":\"map\"}},{\"name\":\"contained\",\"kind\":\"Any\",\"default\":true},{\"name\":\"position\",\"kind\":\"Any\",\"default\":\"right-top\"},{\"name\":\"offsetx\",\"kind\":\"Any\",\"default\":null},{\"name\":\"offsety\",\"kind\":\"Any\",\"default\":null},{\"name\":\"theme\",\"kind\":\"Any\",\"default\":\"primary\"},{\"name\":\"status\",\"kind\":\"Any\",\"default\":\"normalized\"}]},{\"type\":\"model\",\"name\":\"GridStack1\",\"properties\":[{\"name\":\"mode\",\"kind\":\"Any\",\"default\":\"warn\"},{\"name\":\"ncols\",\"kind\":\"Any\",\"default\":null},{\"name\":\"nrows\",\"kind\":\"Any\",\"default\":null},{\"name\":\"allow_resize\",\"kind\":\"Any\",\"default\":true},{\"name\":\"allow_drag\",\"kind\":\"Any\",\"default\":true},{\"name\":\"state\",\"kind\":\"Any\",\"default\":[]}]},{\"type\":\"model\",\"name\":\"drag1\",\"properties\":[{\"name\":\"slider_width\",\"kind\":\"Any\",\"default\":5},{\"name\":\"slider_color\",\"kind\":\"Any\",\"default\":\"black\"},{\"name\":\"value\",\"kind\":\"Any\",\"default\":50}]},{\"type\":\"model\",\"name\":\"click1\",\"properties\":[{\"name\":\"terminal_output\",\"kind\":\"Any\",\"default\":\"\"},{\"name\":\"debug_name\",\"kind\":\"Any\",\"default\":\"\"},{\"name\":\"clears\",\"kind\":\"Any\",\"default\":0}]},{\"type\":\"model\",\"name\":\"FastWrapper1\",\"properties\":[{\"name\":\"object\",\"kind\":\"Any\",\"default\":null},{\"name\":\"style\",\"kind\":\"Any\",\"default\":null}]},{\"type\":\"model\",\"name\":\"NotificationAreaBase1\",\"properties\":[{\"name\":\"js_events\",\"kind\":\"Any\",\"default\":{\"type\":\"map\"}},{\"name\":\"position\",\"kind\":\"Any\",\"default\":\"bottom-right\"},{\"name\":\"_clear\",\"kind\":\"Any\",\"default\":0}]},{\"type\":\"model\",\"name\":\"NotificationArea1\",\"properties\":[{\"name\":\"js_events\",\"kind\":\"Any\",\"default\":{\"type\":\"map\"}},{\"name\":\"notifications\",\"kind\":\"Any\",\"default\":[]},{\"name\":\"position\",\"kind\":\"Any\",\"default\":\"bottom-right\"},{\"name\":\"_clear\",\"kind\":\"Any\",\"default\":0},{\"name\":\"types\",\"kind\":\"Any\",\"default\":[{\"type\":\"map\",\"entries\":[[\"type\",\"warning\"],[\"background\",\"#ffc107\"],[\"icon\",{\"type\":\"map\",\"entries\":[[\"className\",\"fas fa-exclamation-triangle\"],[\"tagName\",\"i\"],[\"color\",\"white\"]]}]]},{\"type\":\"map\",\"entries\":[[\"type\",\"info\"],[\"background\",\"#007bff\"],[\"icon\",{\"type\":\"map\",\"entries\":[[\"className\",\"fas fa-info-circle\"],[\"tagName\",\"i\"],[\"color\",\"white\"]]}]]}]}]},{\"type\":\"model\",\"name\":\"Notification\",\"properties\":[{\"name\":\"background\",\"kind\":\"Any\",\"default\":null},{\"name\":\"duration\",\"kind\":\"Any\",\"default\":3000},{\"name\":\"icon\",\"kind\":\"Any\",\"default\":null},{\"name\":\"message\",\"kind\":\"Any\",\"default\":\"\"},{\"name\":\"notification_type\",\"kind\":\"Any\",\"default\":null},{\"name\":\"_rendered\",\"kind\":\"Any\",\"default\":false},{\"name\":\"_destroyed\",\"kind\":\"Any\",\"default\":false}]},{\"type\":\"model\",\"name\":\"TemplateActions1\",\"properties\":[{\"name\":\"open_modal\",\"kind\":\"Any\",\"default\":0},{\"name\":\"close_modal\",\"kind\":\"Any\",\"default\":0}]},{\"type\":\"model\",\"name\":\"BootstrapTemplateActions1\",\"properties\":[{\"name\":\"open_modal\",\"kind\":\"Any\",\"default\":0},{\"name\":\"close_modal\",\"kind\":\"Any\",\"default\":0}]},{\"type\":\"model\",\"name\":\"TemplateEditor1\",\"properties\":[{\"name\":\"layout\",\"kind\":\"Any\",\"default\":[]}]},{\"type\":\"model\",\"name\":\"MaterialTemplateActions1\",\"properties\":[{\"name\":\"open_modal\",\"kind\":\"Any\",\"default\":0},{\"name\":\"close_modal\",\"kind\":\"Any\",\"default\":0}]},{\"type\":\"model\",\"name\":\"ReactiveESM1\",\"properties\":[{\"name\":\"esm_constants\",\"kind\":\"Any\",\"default\":{\"type\":\"map\"}}]},{\"type\":\"model\",\"name\":\"JSComponent1\",\"properties\":[{\"name\":\"esm_constants\",\"kind\":\"Any\",\"default\":{\"type\":\"map\"}}]},{\"type\":\"model\",\"name\":\"ReactComponent1\",\"properties\":[{\"name\":\"esm_constants\",\"kind\":\"Any\",\"default\":{\"type\":\"map\"}}]},{\"type\":\"model\",\"name\":\"AnyWidgetComponent1\",\"properties\":[{\"name\":\"esm_constants\",\"kind\":\"Any\",\"default\":{\"type\":\"map\"}}]},{\"type\":\"model\",\"name\":\"request_value1\",\"properties\":[{\"name\":\"fill\",\"kind\":\"Any\",\"default\":\"none\"},{\"name\":\"_synced\",\"kind\":\"Any\",\"default\":null},{\"name\":\"_request_sync\",\"kind\":\"Any\",\"default\":0}]}]}};\n",
       "  var render_items = [{\"docid\":\"5a55305a-2fb1-492d-a4c9-c32b2f0011bd\",\"roots\":{\"364187bc-480a-4ce3-92e3-590fb6f6f071\":\"a973dcc2-4907-4418-ab4b-28b8c763e47a\"},\"root_ids\":[\"364187bc-480a-4ce3-92e3-590fb6f6f071\"]}];\n",
       "  var docs = Object.values(docs_json)\n",
       "  if (!docs) {\n",
       "    return\n",
       "  }\n",
       "  const py_version = docs[0].version.replace('rc', '-rc.').replace('.dev', '-dev.')\n",
       "  async function embed_document(root) {\n",
       "    var Bokeh = get_bokeh(root)\n",
       "    await Bokeh.embed.embed_items_notebook(docs_json, render_items);\n",
       "    for (const render_item of render_items) {\n",
       "      for (const root_id of render_item.root_ids) {\n",
       "\tconst id_el = document.getElementById(root_id)\n",
       "\tif (id_el.children.length && id_el.children[0].hasAttribute('data-root-id')) {\n",
       "\t  const root_el = id_el.children[0]\n",
       "\t  root_el.id = root_el.id + '-rendered'\n",
       "\t  for (const child of root_el.children) {\n",
       "            // Ensure JupyterLab does not capture keyboard shortcuts\n",
       "            // see: https://jupyterlab.readthedocs.io/en/4.1.x/extension/notebook.html#keyboard-interaction-model\n",
       "\t    child.setAttribute('data-lm-suppress-shortcuts', 'true')\n",
       "\t  }\n",
       "\t}\n",
       "      }\n",
       "    }\n",
       "  }\n",
       "  function get_bokeh(root) {\n",
       "    if (root.Bokeh === undefined) {\n",
       "      return null\n",
       "    } else if (root.Bokeh.version !== py_version) {\n",
       "      if (root.Bokeh.versions === undefined || !root.Bokeh.versions.has(py_version)) {\n",
       "\treturn null\n",
       "      }\n",
       "      return root.Bokeh.versions.get(py_version);\n",
       "    } else if (root.Bokeh.version === py_version) {\n",
       "      return root.Bokeh\n",
       "    }\n",
       "    return null\n",
       "  }\n",
       "  function is_loaded(root) {\n",
       "    var Bokeh = get_bokeh(root)\n",
       "    return (Bokeh != null && Bokeh.Panel !== undefined && ( root.jsPanel !== undefined) && ( root.Tabulator !== undefined) && ( root.Tabulator !== undefined))\n",
       "  }\n",
       "  if (is_loaded(root)) {\n",
       "    embed_document(root);\n",
       "  } else {\n",
       "    var attempts = 0;\n",
       "    var timer = setInterval(function(root) {\n",
       "      if (is_loaded(root)) {\n",
       "        clearInterval(timer);\n",
       "        embed_document(root);\n",
       "      } else if (document.readyState == \"complete\") {\n",
       "        attempts++;\n",
       "        if (attempts > 200) {\n",
       "          clearInterval(timer);\n",
       "\t  var Bokeh = get_bokeh(root)\n",
       "\t  if (Bokeh == null || Bokeh.Panel == null) {\n",
       "            console.warn(\"Panel: ERROR: Unable to run Panel code because Bokeh or Panel library is missing\");\n",
       "\t  } else {\n",
       "\t    console.warn(\"Panel: WARNING: Attempting to render but not all required libraries could be resolved.\")\n",
       "\t    embed_document(root)\n",
       "\t  }\n",
       "        }\n",
       "      }\n",
       "    }, 25, root)\n",
       "  }\n",
       "})(window);</script>"
      ]
     },
     "metadata": {
      "application/vnd.holoviews_exec.v0+json": {
       "id": "364187bc-480a-4ce3-92e3-590fb6f6f071"
      }
     },
     "output_type": "display_data"
    },
    {
     "data": {
      "application/vnd.jupyter.widget-view+json": {
       "model_id": "98d53d90e4504840b802989c9c7e58dd",
       "version_major": 2,
       "version_minor": 0
      },
      "text/plain": [
       "BokehModel(combine_events=True, render_bundle={'docs_json': {'256a032b-4ec0-4263-9c2c-3852c6c8ac24': {'version…"
      ]
     },
     "execution_count": 10,
     "metadata": {},
     "output_type": "execute_result"
    }
   ],
   "source": [
    "guess_params = copy.deepcopy(params)\n",
    "cl = 1.0\n",
    "guess_params[\"camera_length\"] = cl\n",
    "guess_params[\"semi_conv\"] = semi_conv_guess\n",
    "guess_params[\"defocus\"] = 0.\n",
    "guess_params[\"scan_step\"] = np.asarray(guess_params[\"scan_step\"]) * np.random.uniform(0.8, 1.2)\n",
    "guess_params[\"scan_rotation\"] = 0.\n",
    "interactive_window(ctx, datasets[cl], guess_params)"
   ]
  },
  {
   "cell_type": "markdown",
   "id": "4c393e7a",
   "metadata": {},
   "source": [
    "\n",
    "Now we have an estimate of the CoM shift for each dataset we can compute a point virtual detector image with the most basic kind of error compensation: Simply fitting a 3x3 affine transform matrix to the pixel shifts, and using that to registrate each disk back to the centre of the detector. The drawback is we must compute a new affine transform for each camera length, and we do not correct for astigmatism in the disks."
   ]
  },
  {
   "cell_type": "markdown",
   "id": "12341c81",
   "metadata": {},
   "source": [
    "## 4 - Descan error fit"
   ]
  },
  {
   "cell_type": "markdown",
   "id": "5b88642d",
   "metadata": {},
   "source": [
    "With these parameters determined and more certainty on the input coordinate scan coordinates, we can then solve simultaneously on the three datasets to determine the descan error matrix that describes the microscope experiment. This descan error matrix will determine the propagation matrix of the microscope that describes the descan error dependance on camera length, and enable us to correct for astigmatism in the disks also."
   ]
  },
  {
   "cell_type": "code",
   "execution_count": null,
   "id": "b903fb74",
   "metadata": {},
   "outputs": [
    {
     "data": {
      "text/plain": [
       "array([0.00809984, 0.04860377, 0.04917502, 0.0908881 , 0.08026486,\n",
       "       0.06316199, 0.08562295, 0.05046768, 0.00910625, 0.01995654,\n",
       "       0.0747436 , 0.08454912])"
      ]
     },
     "execution_count": 11,
     "metadata": {},
     "output_type": "execute_result"
    }
   ],
   "source": [
    "params['defocus']\n",
    "params['descan_error']"
   ]
  },
  {
   "cell_type": "code",
   "execution_count": null,
   "id": "58113a62",
   "metadata": {},
   "outputs": [
    {
     "name": "stdout",
     "output_type": "stream",
     "text": [
      "[[0.04633859 0.06233858]\n",
      " [0.04633859 0.06233858]\n",
      " [0.04633859 0.06233858]\n",
      " ...\n",
      " [0.11807075 0.13462666]\n",
      " [0.11807075 0.13462666]\n",
      " [0.11807075 0.13462666]]\n"
     ]
    }
   ],
   "source": [
    "scan_coords = []\n",
    "det_coords = []\n",
    "b_vals = []\n",
    "for camera_length, ds in datasets.items():\n",
    "    crossover_z = jnp.zeros((1))\n",
    "    ScanGrid = comp.ScanGrid(\n",
    "        z=jnp.array(params['defocus']),\n",
    "        scan_step=params['scan_step'],\n",
    "        scan_shape=ds.shape.nav.to_tuple(),\n",
    "        scan_rotation=params['scan_rotation'],\n",
    "    )\n",
    "    scan_coords.append(ScanGrid.coords)\n",
    "    Detector = comp.Detector(\n",
    "        z=jnp.array(camera_length),\n",
    "        det_shape=ds.shape.sig.to_tuple(),\n",
    "        det_pixel_size=params['det_px_size'],\n",
    "        flip_y=params['flip_y'],\n",
    "    )\n",
    "    yx_px_det = com_r[camera_length][\"raw_com\"].data.reshape(-1, 2)\n",
    "    det_coords.append(np.stack(Detector.pixels_to_metres(yx_px_det.T), axis=1))\n",
    "    b_vals.append(camera_length - params['defocus'])\n",
    "\n",
    "bvals = np.concatenate(\n",
    "    tuple(np.full((c.shape[0],), b) for b, c in zip(b_vals, scan_coords))\n",
    ")\n",
    "scan_coords = np.concatenate(scan_coords, axis=0)\n",
    "det_coords = np.concatenate(det_coords, axis=0)\n",
    "bvals.shape\n",
    "\n",
    "print(det_coords)\n"
   ]
  },
  {
   "cell_type": "code",
   "execution_count": null,
   "id": "4aa75f9c",
   "metadata": {},
   "outputs": [],
   "source": [
    "def descan_model_x(vars, pxo_pxi, pxo_pyi, sxo_pxi, sxo_pyi, offpxi, offsxi):\n",
    "    spx, spy, B = vars\n",
    "    return (spx * pxo_pxi + spy * pxo_pyi + offpxi +\n",
    "            B * (spx * sxo_pxi + spy * sxo_pyi + offsxi))\n",
    "\n",
    "def descan_model_y(vars, pyo_pxi, pyo_pyi, syo_pxi, syo_pyi, offpyi, offsyi):\n",
    "    spx, spy, B = vars\n",
    "    return (spx * pyo_pxi + spy * pyo_pyi + offpyi +\n",
    "            B * (spx * syo_pxi + spy * syo_pyi + offsyi))\n",
    "\n",
    "# Take only N random samples from the data\n",
    "num_samples = 100\n",
    "indices = np.random.choice(bvals.size, num_samples, replace=False)\n",
    "\n",
    "popt_x, pcov_x = curve_fit(\n",
    "    descan_model_x,\n",
    "    (scan_coords[:, 0][indices], scan_coords[:, 1][indices], bvals[indices]),\n",
    "    det_coords[:, 0][indices],\n",
    "    p0=np.zeros(6),\n",
    ")\n",
    "pxo_pxi, pxo_pyi, sxo_pxi, sxo_pyi, offpxi, offsxi = popt_x\n",
    "\n",
    "popt_y, pcov_y = curve_fit(\n",
    "    descan_model_y,\n",
    "    (scan_coords[:, 0][indices], scan_coords[:, 1][indices], bvals[indices]),\n",
    "    det_coords[:, 1][indices],\n",
    "    p0=np.zeros(6),\n",
    ")\n",
    "pyo_pxi, pyo_pyi, syo_pxi, syo_pyi, offpyi, offsyi = popt_y"
   ]
  },
  {
   "cell_type": "code",
   "execution_count": null,
   "id": "064f26b8",
   "metadata": {},
   "outputs": [
    {
     "name": "stdout",
     "output_type": "stream",
     "text": [
      "pxo_pxi: 0.224, pxo_pyi: 0.131, sxo_pxi: -0.177, sxo_pyi: -0.167, offpxi: 0.012, offsxi: 0.072\n",
      "pyo_pxi: 0.529, pyo_pyi: 0.611, syo_pxi: -0.641, syo_pyi: -0.663, offpyi: 0.028, offsyi: 0.073\n"
     ]
    }
   ],
   "source": [
    "print(f\"pxo_pxi: {pxo_pxi:.3f}, pxo_pyi: {pxo_pyi:.3f}, sxo_pxi: {sxo_pxi:.3f}, sxo_pyi: {sxo_pyi:.3f}, offpxi: {offpxi:.3f}, offsxi: {offsxi:.3f}\")\n",
    "print(f\"pyo_pxi: {pyo_pxi:.3f}, pyo_pyi: {pyo_pyi:.3f}, syo_pxi: {syo_pxi:.3f}, syo_pyi: {syo_pyi:.3f}, offpyi: {offpyi:.3f}, offsyi: {offsyi:.3f}\")"
   ]
  },
  {
   "cell_type": "markdown",
   "id": "51d7a93d",
   "metadata": {},
   "source": [
    "## Show final result"
   ]
  },
  {
   "cell_type": "code",
   "execution_count": null,
   "id": "0c006c76",
   "metadata": {},
   "outputs": [
    {
     "ename": "NameError",
     "evalue": "name 'semiconv' is not defined",
     "output_type": "error",
     "traceback": [
      "\u001b[31m---------------------------------------------------------------------------\u001b[39m",
      "\u001b[31mNameError\u001b[39m                                 Traceback (most recent call last)",
      "\u001b[36mCell\u001b[39m\u001b[36m \u001b[39m\u001b[32mIn[16]\u001b[39m\u001b[32m, line 5\u001b[39m\n\u001b[32m      2\u001b[39m ds = datasets[cl]\n\u001b[32m      3\u001b[39m \u001b[38;5;66;03m# initial_guesses\u001b[39;00m\n\u001b[32m      4\u001b[39m model_parameters = {\n\u001b[32m----> \u001b[39m\u001b[32m5\u001b[39m     \u001b[33m\"\u001b[39m\u001b[33msemi_conv\u001b[39m\u001b[33m\"\u001b[39m: \u001b[43msemiconv\u001b[49m,\n\u001b[32m      6\u001b[39m     \u001b[33m\"\u001b[39m\u001b[33mdefocus\u001b[39m\u001b[33m\"\u001b[39m: defocus,  \u001b[38;5;66;03m# Distance from the crossover to the sample\u001b[39;00m\n\u001b[32m      7\u001b[39m     \u001b[33m\"\u001b[39m\u001b[33mcamera_length\u001b[39m\u001b[33m\"\u001b[39m: cl,  \u001b[38;5;66;03m# Distance from the sample to the detector\u001b[39;00m\n\u001b[32m      8\u001b[39m     \u001b[33m\"\u001b[39m\u001b[33mscan_shape\u001b[39m\u001b[33m\"\u001b[39m: ds.shape.nav,  \u001b[38;5;66;03m# YX!\u001b[39;00m\n\u001b[32m      9\u001b[39m     \u001b[33m\"\u001b[39m\u001b[33mdet_shape\u001b[39m\u001b[33m\"\u001b[39m: ds.shape.sig,  \u001b[38;5;66;03m# YX!\u001b[39;00m\n\u001b[32m     10\u001b[39m     \u001b[33m\"\u001b[39m\u001b[33mscan_step\u001b[39m\u001b[33m\"\u001b[39m: scan_step,  \u001b[38;5;66;03m# YX!\u001b[39;00m\n\u001b[32m     11\u001b[39m     \u001b[33m\"\u001b[39m\u001b[33mdet_px_size\u001b[39m\u001b[33m\"\u001b[39m: det_px_size,  \u001b[38;5;66;03m# YX!\u001b[39;00m\n\u001b[32m     12\u001b[39m     \u001b[33m\"\u001b[39m\u001b[33mscan_rotation\u001b[39m\u001b[33m\"\u001b[39m: scan_rotation,\n\u001b[32m     13\u001b[39m     \u001b[33m\"\u001b[39m\u001b[33mdescan_error\u001b[39m\u001b[33m\"\u001b[39m: np.asarray([Axx - \u001b[32m1\u001b[39m, Axy, Ayx, Ayy - \u001b[32m1\u001b[39m, Cxx, Cxy, Cyx, Cyy]),\n\u001b[32m     14\u001b[39m     \u001b[33m\"\u001b[39m\u001b[33mflip_y\u001b[39m\u001b[33m\"\u001b[39m: flip_y,\n\u001b[32m     15\u001b[39m     \u001b[33m\"\u001b[39m\u001b[33mpx_shifts\u001b[39m\u001b[33m\"\u001b[39m: \u001b[38;5;28;01mNone\u001b[39;00m,  \u001b[38;5;66;03m# YX!\u001b[39;00m\n\u001b[32m     16\u001b[39m }\n\u001b[32m     17\u001b[39m interactive_window(ctx, ds, model_parameters)\n",
      "\u001b[31mNameError\u001b[39m: name 'semiconv' is not defined"
     ]
    }
   ],
   "source": [
    "cl = 1.0\n",
    "ds = datasets[cl]\n",
    "# initial_guesses\n",
    "model_parameters = {\n",
    "    \"semi_conv\": semiconv,\n",
    "    \"defocus\": defocus,  # Distance from the crossover to the sample\n",
    "    \"camera_length\": cl,  # Distance from the sample to the detector\n",
    "    \"scan_shape\": ds.shape.nav,  # YX!\n",
    "    \"det_shape\": ds.shape.sig,  # YX!\n",
    "    \"scan_step\": scan_step,  # YX!\n",
    "    \"det_px_size\": det_px_size,  # YX!\n",
    "    \"scan_rotation\": scan_rotation,\n",
    "    \"descan_error\": np.asarray([Axx - 1, Axy, Ayx, Ayy - 1, Cxx, Cxy, Cyx, Cyy]),\n",
    "    \"flip_y\": flip_y,\n",
    "    \"px_shifts\": None,  # YX!\n",
    "}\n",
    "interactive_window(ctx, ds, model_parameters)"
   ]
  }
 ],
 "metadata": {
  "kernelspec": {
   "display_name": "JaxGym",
   "language": "python",
   "name": "python3"
  },
  "language_info": {
   "codemirror_mode": {
    "name": "ipython",
    "version": 3
   },
   "file_extension": ".py",
   "mimetype": "text/x-python",
   "name": "python",
   "nbconvert_exporter": "python",
   "pygments_lexer": "ipython3",
   "version": "3.12.6"
  }
 },
 "nbformat": 4,
 "nbformat_minor": 5
}
