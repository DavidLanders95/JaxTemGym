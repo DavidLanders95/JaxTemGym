{
 "cells": [
  {
   "cell_type": "code",
<<<<<<< HEAD
   "execution_count": 5,
=======
   "execution_count": 1,
>>>>>>> d100968d87f9b36c546668875964713ac19a3d4b
   "id": "ae3dfd8e",
   "metadata": {},
   "outputs": [],
   "source": [
    "import jax\n",
    "import jax_dataclasses as jdc\n",
    "import os\n",
    "import jax.numpy as jnp\n",
    "\n",
    "jax.config.update(\"jax_platform_name\", \"cpu\")\n",
    "os.environ[\"XLA_PYTHON_CLIENT_PREALLOCATE\"] = \"false\"\n",
    "os.environ[\"XLA_PYTHON_CLIENT_MEM_LIMIT_MB\"] = \"400\""
   ]
  },
  {
   "cell_type": "markdown",
   "id": "0bce4703",
   "metadata": {},
   "source": [
    "Option 1:\n",
    "\n",
    "Ray dataclass with all variables explicitly named.\n",
    "\n",
    "Advantages: \n",
    "\n",
    "1. Obtain an easy to use partial derivative structure - i.e ray_jac.x.dx = $\\frac{\\partial x}{\\partial dx}$\n",
    "\n",
    "2. Can pass a complete ray object into the step function of each component.\n",
    "\n",
    "Disadvantages: \n",
    "\n",
    "1. Jacobian call gives a somewhat verbose looking stucture, not a clean matrix - as a result need a custom jacobian matrix function to form the jacobian matrix. \n",
    "\n",
    "2. To only compute specific gradients with respect to ray parameters, need to write a more complicated pytree indexing method. \n",
    "\n"
   ]
  },
  {
   "cell_type": "code",
<<<<<<< HEAD
   "execution_count": 6,
=======
   "execution_count": null,
>>>>>>> d100968d87f9b36c546668875964713ac19a3d4b
   "id": "e132894b",
   "metadata": {},
   "outputs": [
    {
     "name": "stdout",
     "output_type": "stream",
     "text": [
      "[[ 1.  0.  0.  0.  0.]\n",
      " [ 0.  1.  0.  0.  0.]\n",
      " [-4.  0.  1.  0.  0.]\n",
      " [ 0. -4.  0.  1.  0.]\n",
      " [ 0.  0.  0.  0.  1.]]\n",
      "[1. 1.]\n"
     ]
    }
   ],
   "source": [
    "def custom_jacobian_matrix(ray_jac):\n",
    "    return jnp.array([[ray_jac.x.x, ray_jac.x.y, ray_jac.x.dx, ray_jac.x.dy, ray_jac.x._one],\n",
    "                      [ray_jac.y.x, ray_jac.y.y, ray_jac.y.dx, ray_jac.y.dy, ray_jac.y._one],\n",
    "                      [ray_jac.dx.x, ray_jac.dx.y, ray_jac.dx.dx, ray_jac.dx.dy, ray_jac.dx._one],\n",
    "                      [ray_jac.dy.x, ray_jac.dy.y, ray_jac.dy.dx, ray_jac.dy.dy, ray_jac.dy._one],\n",
    "                      [ray_jac._one.x, ray_jac._one.y, ray_jac._one.dx, ray_jac._one.dy, ray_jac._one._one]])\n",
    "\n",
    "@jdc.pytree_dataclass\n",
    "class Ray:\n",
    "    x: float\n",
    "    y: float\n",
    "    dx: float\n",
    "    dy: float\n",
    "    z: float\n",
    "    pathlength: float\n",
    "    _one: float = 1.0\n",
    "\n",
    "\n",
    "@jdc.pytree_dataclass\n",
    "class Lens:\n",
    "    f: float\n",
    "    z: float\n",
    "\n",
    "    def step(self, ray: Ray) -> Ray:\n",
    "        z = self.z\n",
    "        f = self.f\n",
    "        dx = ray.dx - ray.x / f\n",
    "        dy = ray.dy - ray.y / f\n",
    "        one = ray._one * 1.0\n",
    "        \n",
    "        return Ray(\n",
    "            x=ray.x,\n",
    "            y=ray.y,\n",
    "            dx=dx,\n",
    "            dy=dy,\n",
    "            _one=one,\n",
    "            pathlength=ray.pathlength,\n",
    "            z=z\n",
    "        )\n",
    "\n",
    "lens = Lens(f=0.25, z=0.0)\n",
    "ray = Ray(x=0.1, y=0.2, dx=0.3, dy=0.4, z=0.0, pathlength=0.6, _one=1.0)\n",
    "jac = jax.jacobian(lens.step)(ray)\n",
    "jacobian_matrix = custom_jacobian_matrix(jac)\n",
    "print(jacobian_matrix)\n",
    "\n",
    "#vmapping over a ray works too:\n",
    "rays = Ray(x=jnp.array([0.1, 0.2]), y=jnp.array([0.2, 0.3]),\n",
    "           dx=jnp.array([0.3, 0.4]), dy=jnp.array([0.4, 0.5]),\n",
    "           z=jnp.array([0.0, 0.0]), pathlength=jnp.array([0.6, 0.7]), _one=jnp.array([1.0, 1.0]))\n",
    "jacs = jax.vmap(jax.jacobian(lens.step))(rays)\n",
    "\n",
    "# Returns a simple vector of jacobian values which is convenient. \n",
    "print(jacs.x.x)"
   ]
  },
  {
   "cell_type": "markdown",
   "id": "58b62d54",
   "metadata": {},
   "source": [
    "Option 2: \n",
    "\n",
    "Ray tuple, with explicit unravelling of ray variables into each step function:\n",
    "\n",
    "Advantages:\n",
    "\n",
    "1. Can easily choose what what parameters to calculate gradients with respect to (argnums parameter of jacobian) \n",
    "\n",
    "Disadvantages:\n",
    "\n",
    "1. Loses the explicit naming structure of the dataclass - no more ray.x.dx - only ray.x[1] for the variable index. \n",
    "\n",
    "2. Very rigid input of an unravelled ray into each step function of component."
   ]
  },
  {
   "cell_type": "code",
   "execution_count": null,
   "id": "a2e07c27",
   "metadata": {},
   "outputs": [
    {
<<<<<<< HEAD
     "ename": "TypeError",
     "evalue": "Ray.__init__() got an unexpected keyword argument 'x'",
     "output_type": "error",
     "traceback": [
      "\u001b[31m---------------------------------------------------------------------------\u001b[39m",
      "\u001b[31mTypeError\u001b[39m                                 Traceback (most recent call last)",
      "\u001b[36mCell\u001b[39m\u001b[36m \u001b[39m\u001b[32mIn[7]\u001b[39m\u001b[32m, line 41\u001b[39m\n\u001b[32m     30\u001b[39m         \u001b[38;5;28;01mreturn\u001b[39;00m Ray(\n\u001b[32m     31\u001b[39m             x=x,\n\u001b[32m     32\u001b[39m             y=y,\n\u001b[32m   (...)\u001b[39m\u001b[32m     37\u001b[39m             z=z\n\u001b[32m     38\u001b[39m         )\n\u001b[32m     40\u001b[39m lens = Lens(f=\u001b[32m0.25\u001b[39m, z=\u001b[32m0.0\u001b[39m)\n\u001b[32m---> \u001b[39m\u001b[32m41\u001b[39m ray = \u001b[43mRay\u001b[49m\u001b[43m(\u001b[49m\u001b[43mx\u001b[49m\u001b[43m=\u001b[49m\u001b[32;43m0.1\u001b[39;49m\u001b[43m,\u001b[49m\u001b[43m \u001b[49m\u001b[43my\u001b[49m\u001b[43m=\u001b[49m\u001b[32;43m0.2\u001b[39;49m\u001b[43m,\u001b[49m\u001b[43m \u001b[49m\u001b[43mdx\u001b[49m\u001b[43m=\u001b[49m\u001b[32;43m0.3\u001b[39;49m\u001b[43m,\u001b[49m\u001b[43m \u001b[49m\u001b[43mdy\u001b[49m\u001b[43m=\u001b[49m\u001b[32;43m0.4\u001b[39;49m\u001b[43m,\u001b[49m\u001b[43m \u001b[49m\u001b[43mz\u001b[49m\u001b[43m=\u001b[49m\u001b[32;43m0.0\u001b[39;49m\u001b[43m,\u001b[49m\u001b[43m \u001b[49m\u001b[43mpathlength\u001b[49m\u001b[43m=\u001b[49m\u001b[32;43m0.6\u001b[39;49m\u001b[43m,\u001b[49m\u001b[43m \u001b[49m\u001b[43m_one\u001b[49m\u001b[43m=\u001b[49m\u001b[32;43m1.0\u001b[39;49m\u001b[43m)\u001b[49m\n\u001b[32m     43\u001b[39m \u001b[38;5;66;03m# Now we can easily and explicitly choose gradients, but still need to form manually the final structure of the ray. \u001b[39;00m\n\u001b[32m     44\u001b[39m ray = astuple(ray)\n",
      "\u001b[31mTypeError\u001b[39m: Ray.__init__() got an unexpected keyword argument 'x'"
=======
     "name": "stdout",
     "output_type": "stream",
     "text": [
      "[[ 1.  0.  0.  0.  0.]\n",
      " [ 0.  1.  0.  0.  0.]\n",
      " [-4.  0.  1.  0.  0.]\n",
      " [ 0. -4.  0.  1.  0.]\n",
      " [ 0.  0.  0.  0.  1.]]\n",
      "[1. 1.]\n"
>>>>>>> d100968d87f9b36c546668875964713ac19a3d4b
     ]
    }
   ],
   "source": [
    "from dataclasses import astuple\n",
    "\n",
    "def custom_jacobian_matrix(ray_jac):\n",
    "    return jnp.array([[ray_jac.x[X], ray_jac.x[Y], ray_jac.x[DX], ray_jac.x[DY], ray_jac.x[-1]],\n",
    "                      [ray_jac.y[X], ray_jac.y[Y], ray_jac.y[DX], ray_jac.y[DY], ray_jac.y[-1]],\n",
    "                      [ray_jac.dx[X], ray_jac.dx[Y], ray_jac.dx[DX], ray_jac.dx[DY], ray_jac.dx[-1]],\n",
    "                      [ray_jac.dy[X], ray_jac.dy[Y], ray_jac.dy[DX], ray_jac.dy[DY], ray_jac.dy[-1]],\n",
    "                      [ray_jac._one[X], ray_jac._one[Y], ray_jac._one[DX], ray_jac._one[DY], ray_jac._one[-1]]])\n",
    "#Enums:\n",
    "X, Y, DX, DY, Z, PATHLENGTH, _ONE = 0, 1, 2, 3, 4, 5, 6\n",
    "\n",
    "@jdc.pytree_dataclass\n",
    "class Ray:\n",
<<<<<<< HEAD
    "    x: float\n",
    "    y: float\n",
    "    dx: float\n",
    "    dy: float\n",
    "    z: float\n",
    "    pathlength: float\n",
    "    _one: float = 1.0\n",
    "\n",
=======
    "    matrix: jnp.ndarray\n",
    "    z: float\n",
    "    pathlength: float\n",
>>>>>>> d100968d87f9b36c546668875964713ac19a3d4b
    "\n",
    "@jdc.pytree_dataclass\n",
    "class Lens:\n",
    "    f: float\n",
    "    z: float\n",
    "\n",
    "    def step(self, x, y, dx, dy, z, pathlength, _one) -> Ray:\n",
    "        z = self.z\n",
    "        f = self.f\n",
    "        dx = dx - x / f\n",
    "        dy = dy - y / f\n",
    "        one = _one * 1.0\n",
    "        \n",
    "        return Ray(\n",
    "            x=x,\n",
    "            y=y,\n",
    "            dx=dx,\n",
    "            dy=dy,\n",
    "            _one=one,\n",
    "            pathlength=pathlength,\n",
    "            z=z\n",
    "        )\n",
    "\n",
    "lens = Lens(f=0.25, z=0.0)\n",
<<<<<<< HEAD
    "ray = Ray(x=0.1, y=0.2, dx=0.3, dy=0.4, z=0.0, pathlength=0.6, _one=1.0)\n",
=======
    "ray = Ray(matrix=jnp.array([z=0.0, pathlength=0.6, _one=1.0)\n",
>>>>>>> d100968d87f9b36c546668875964713ac19a3d4b
    "\n",
    "# Now we can easily and explicitly choose gradients, but still need to form manually the final structure of the ray. \n",
    "ray = astuple(ray)\n",
    "jac = jax.jacobian(lens.step, argnums = [X, Y, DX, DY, _ONE])(*ray)\n",
    "\n",
    "\n",
    "jacobian_matrix = custom_jacobian_matrix(jac)\n",
    "print(jacobian_matrix)\n",
    "\n",
    "#vmapping over a ray works too:\n",
    "rays = Ray(x=jnp.array([0.1, 0.2]), y=jnp.array([0.2, 0.3]),\n",
    "           dx=jnp.array([0.3, 0.4]), dy=jnp.array([0.4, 0.5]),\n",
    "           z=jnp.array([0.0, 0.0]), pathlength=jnp.array([0.6, 0.7]), _one=jnp.array([1.0, 1.0]))\n",
    "rays_unraveled = astuple(rays)\n",
    "jacs = jax.vmap(jax.jacobian(lens.step, argnums=[X, Y, DX, DY, _ONE]))(*rays_unraveled)\n",
    "\n",
    "#The one issue is that jacobian array shape row indices are not the same as the Original ray ENUMS\n",
    "print(jacs.x[X])\n",
    "\n"
   ]
  },
  {
   "cell_type": "markdown",
   "id": "58409277",
   "metadata": {},
   "source": [
    "Option 3:\n",
    "\n",
    "David' orignal solution: Ray dataclass with explicit matrix structure, and auxillary parameters z and optical path length.\n",
    "\n",
    "Advantages:\n",
    "\n",
    "1. Matrix variable of [x, y, dx, dy, _one] gives natural vector for calculating jacobians of optical components. \n",
    "\n",
<<<<<<< HEAD
    "2. No need for a custom jacobian formulator now. \n",
    "\n",
    "Disadvantages: \n",
    "\n",
    "1. Again not easy to take gradients with repect to specific parameters of the ray.\n",
=======
    "Disadvantages: \n",
    "\n",
    "1. Again not easy to take gradients with repect to specific parameters of the ray. \n",
>>>>>>> d100968d87f9b36c546668875964713ac19a3d4b
    "\n",
    "2. Mixture of matrix and floats on dataclass perhaps obtuse. "
   ]
  },
  {
   "cell_type": "code",
   "execution_count": null,
   "id": "3b608603",
   "metadata": {},
<<<<<<< HEAD
   "outputs": [
    {
     "ename": "NameError",
     "evalue": "name 'jdc' is not defined",
     "output_type": "error",
     "traceback": [
      "\u001b[31m---------------------------------------------------------------------------\u001b[39m",
      "\u001b[31mNameError\u001b[39m                                 Traceback (most recent call last)",
      "\u001b[36mCell\u001b[39m\u001b[36m \u001b[39m\u001b[32mIn[1]\u001b[39m\u001b[32m, line 1\u001b[39m\n\u001b[32m----> \u001b[39m\u001b[32m1\u001b[39m \u001b[38;5;129m@jdc\u001b[39m.pytree_dataclass\n\u001b[32m      2\u001b[39m \u001b[38;5;28;01mclass\u001b[39;00m\u001b[38;5;250m \u001b[39m\u001b[34;01mRay\u001b[39;00m:\n\u001b[32m      3\u001b[39m     matrix: jnp.ndarray\n\u001b[32m      4\u001b[39m     z: \u001b[38;5;28mfloat\u001b[39m\n",
      "\u001b[31mNameError\u001b[39m: name 'jdc' is not defined"
     ]
    }
   ],
   "source": [
=======
   "outputs": [],
   "source": [
    "def custom_jacobian_matrix(ray_jac):\n",
    "    return jnp.array([[ray_jac.x.x, ray_jac.x.y, ray_jac.x.dx, ray_jac.x.dy, ray_jac.x._one],\n",
    "                      [ray_jac.y.x, ray_jac.y.y, ray_jac.y.dx, ray_jac.y.dy, ray_jac.y._one],\n",
    "                      [ray_jac.dx.x, ray_jac.dx.y, ray_jac.dx.dx, ray_jac.dx.dy, ray_jac.dx._one],\n",
    "                      [ray_jac.dy.x, ray_jac.dy.y, ray_jac.dy.dx, ray_jac.dy.dy, ray_jac.dy._one],\n",
    "                      [ray_jac._one.x, ray_jac._one.y, ray_jac._one.dx, ray_jac._one.dy, ray_jac._one._one]])\n",
    "\n",
>>>>>>> d100968d87f9b36c546668875964713ac19a3d4b
    "@jdc.pytree_dataclass\n",
    "class Ray:\n",
    "    matrix: jnp.ndarray\n",
    "    z: float\n",
    "    pathlength: float\n",
    "\n",
<<<<<<< HEAD
    "    @property\n",
    "    def x(self):\n",
    "        return self.matrix[..., 0]\n",
    "\n",
    "    @property\n",
    "    def y(self):\n",
    "        return self.matrix[..., 1]\n",
    "\n",
    "    @property\n",
    "    def dx(self):\n",
    "        return self.matrix[..., 2]\n",
    "\n",
    "    @property\n",
    "    def dy(self):\n",
    "        return self.matrix[..., 3]\n",
    "    \n",
    "    @property\n",
    "    def _one(self):\n",
    "        return self.matrix[..., 4]\n",
=======
    "    def x(self):\n",
    "        return self.matrix[0]\n",
    "    \n",
    "    def y(self):\n",
    "        return self.matrix[1]\n",
    "    \n",
    "    def dx(self):\n",
    "        return self.matrix[2]\n",
    "    \n",
    "    def dy(self):\n",
    "        return self.matrix[3]\n",
    "    \n",
    "    def _one(self):\n",
    "        return self.matrix[4]\n",
>>>>>>> d100968d87f9b36c546668875964713ac19a3d4b
    "\n",
    "\n",
    "@jdc.pytree_dataclass\n",
    "class Lens:\n",
    "    f: float\n",
    "    z: float\n",
    "\n",
    "    def step(self, ray: Ray) -> Ray:\n",
    "        z = self.z\n",
    "        f = self.f\n",
    "        dx = ray.dx - ray.x / f\n",
    "        dy = ray.dy - ray.y / f\n",
    "        one = ray._one * 1.0\n",
    "        \n",
<<<<<<< HEAD
    "        matrix = jnp.array([ray.x, ray.y, dx, dy, one])\n",
    "        return Ray(matrix=matrix,\n",
=======
    "        return Ray(\n",
    "            x=ray.x,\n",
    "            y=ray.y,\n",
    "            dx=dx,\n",
    "            dy=dy,\n",
    "            _one=one,\n",
>>>>>>> d100968d87f9b36c546668875964713ac19a3d4b
    "            pathlength=ray.pathlength,\n",
    "            z=z\n",
    "        )\n",
    "\n",
    "lens = Lens(f=0.25, z=0.0)\n",
<<<<<<< HEAD
    "matrix = jnp.array([[0.1, 0.2, 0.3, 0.4, 1.0]])\n",
    "ray = Ray(matrix=matrix, pathlength=0.6, z=0.0)\n",
    "jac = jax.jacobian(lens.step)(ray)\n",
    "\n",
    "print(jacobian_matrix)\n",
    "\n",
=======
    "ray = Ray(x=0.1, y=0.2, dx=0.3, dy=0.4, z=0.0, pathlength=0.6, _one=1.0)\n",
    "jac = jax.jacobian(lens.step)(ray)\n",
    "jacobian_matrix = custom_jacobian_matrix(jac)\n",
    "print(jacobian_matrix)\n",
    "\n",
    "#vmapping over a ray works too:\n",
    "rays = Ray(x=jnp.array([0.1, 0.2]), y=jnp.array([0.2, 0.3]),\n",
    "           dx=jnp.array([0.3, 0.4]), dy=jnp.array([0.4, 0.5]),\n",
    "           z=jnp.array([0.0, 0.0]), pathlength=jnp.array([0.6, 0.7]), _one=jnp.array([1.0, 1.0]))\n",
    "jacs = jax.vmap(jax.jacobian(lens.step))(rays)\n",
    "\n",
>>>>>>> d100968d87f9b36c546668875964713ac19a3d4b
    "# Returns a simple vector of jacobian values which is convenient. \n",
    "print(jacs.x.x)"
   ]
  }
 ],
 "metadata": {
  "kernelspec": {
   "display_name": "JaxGym (pyenv)",
   "language": "python",
   "name": "jaxgym"
  },
  "language_info": {
   "codemirror_mode": {
    "name": "ipython",
    "version": 3
   },
   "file_extension": ".py",
   "mimetype": "text/x-python",
   "name": "python",
   "nbconvert_exporter": "python",
   "pygments_lexer": "ipython3",
   "version": "3.12.6"
  }
 },
 "nbformat": 4,
 "nbformat_minor": 5
}
