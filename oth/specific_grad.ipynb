{
 "cells": [
  {
   "cell_type": "code",
   "execution_count": 2,
   "id": "ae3dfd8e",
   "metadata": {},
   "outputs": [],
   "source": [
    "import jax\n",
    "import jax_dataclasses as jdc"
   ]
  },
  {
   "cell_type": "code",
   "execution_count": null,
   "id": "e132894b",
   "metadata": {},
   "outputs": [
    {
     "name": "stdout",
     "output_type": "stream",
     "text": [
      "Ray(x=Ray(x=Array(1., dtype=float32, weak_type=True), y=Array(0., dtype=float32, weak_type=True), dx=Array(0., dtype=float32, weak_type=True), dy=Array(0., dtype=float32, weak_type=True), z=Array(0., dtype=float32, weak_type=True), pathlength=Array(0., dtype=float32, weak_type=True)), y=Ray(x=Array(0., dtype=float32, weak_type=True), y=Array(1., dtype=float32, weak_type=True), dx=Array(0., dtype=float32, weak_type=True), dy=Array(0., dtype=float32, weak_type=True), z=Array(0., dtype=float32, weak_type=True), pathlength=Array(0., dtype=float32, weak_type=True)), dx=Ray(x=Array(-1., dtype=float32, weak_type=True), y=Array(0., dtype=float32, weak_type=True), dx=Array(1., dtype=float32, weak_type=True), dy=Array(0., dtype=float32, weak_type=True), z=Array(0., dtype=float32, weak_type=True), pathlength=Array(0., dtype=float32, weak_type=True)), dy=Ray(x=Array(0., dtype=float32, weak_type=True), y=Array(-1., dtype=float32, weak_type=True), dx=Array(0., dtype=float32, weak_type=True), dy=Array(1., dtype=float32, weak_type=True), z=Array(0., dtype=float32, weak_type=True), pathlength=Array(0., dtype=float32, weak_type=True)), z=Ray(x=Array(0., dtype=float32, weak_type=True), y=Array(0., dtype=float32, weak_type=True), dx=Array(0., dtype=float32, weak_type=True), dy=Array(0., dtype=float32, weak_type=True), z=Array(0., dtype=float32, weak_type=True), pathlength=Array(0., dtype=float32, weak_type=True)), pathlength=Ray(x=Array(0., dtype=float32, weak_type=True), y=Array(0., dtype=float32, weak_type=True), dx=Array(0., dtype=float32, weak_type=True), dy=Array(0., dtype=float32, weak_type=True), z=Array(0., dtype=float32, weak_type=True), pathlength=Array(1., dtype=float32, weak_type=True)))\n"
     ]
    }
   ],
   "source": [
    "@jdc.pytree_dataclass\n",
    "class Ray:\n",
    "    x: float\n",
    "    y: float\n",
    "    dx: float\n",
    "    dy: float\n",
    "    z: float\n",
    "    pathlength: float\n",
    "    _one =  1.0\n",
    "\n",
    "@jdc.pytree_dataclass\n",
    "class Lens:\n",
    "    f: float\n",
    "    z: float\n",
    "\n",
    "    def step(self, ray):\n",
    "        z = self.z\n",
    "        f = self.f\n",
    "        dx = ray.dx - ray.x / f\n",
    "        dy = ray.dy - ray.y / f\n",
    "        \n",
    "        return Ray(\n",
    "            x=ray.x,\n",
    "            y=ray.y,\n",
    "            dx=dx,\n",
    "            dy=dy,\n",
    "            z=z,\n",
    "            pathlength=ray.pathlength,\n",
    "        )\n",
    "\n",
    "def mask_ray(ray, grad_mask):\n",
    "    def mask_field(name, value):\n",
    "        return value if grad_mask.get(name, True) else jax.lax.stop_gradient(value)\n",
    "    \n",
    "    ray_dict = ray.__dict__\n",
    "    ray_masked = Ray(**{name: mask_field(name, pytree) for name, pytree in ray_dict.items()})\n",
    "\n",
    "    return ray_masked\n",
    "\n",
    "\n",
    "# Create a grad_mask indicating which fields should allow gradients.\n",
    "# For example, here we allow gradients for x, y, dx, dy, and pathlength,\n",
    "# but not for z.\n",
    "grad_mask = {\n",
    "    \"x\": True,\n",
    "    \"y\": True,\n",
    "    \"dx\": True,\n",
    "    \"dy\": True,\n",
    "    \"_one\": True,  # This is not a field we care about for gradients\n",
    "    \"z\": False,\n",
    "    \"pathlength\": False,\n",
    "\n",
    "}\n",
    "\n",
    "lens = Lens(f=1.0, z=0.0)\n",
    "ray = Ray(x=0.1, y=0.2, dx=0.3, dy=0.4, z=0.0, pathlength=0.6)\n",
    "\n",
    "ray_masked = mask_ray(ray, grad_mask)\n",
    "\n",
    "jac = jax.jacobian(lens.step)(ray)\n",
    "jac = jax.jacobian(lens.step)(ray_masked)\n",
    "jacjac = jax.jacobian(jax.jacobian(lens.step))(ray_masked)\n",
    "print(jac)\n",
    "\n",
    "\n",
    "\n",
    "    "
   ]
  },
  {
   "cell_type": "code",
   "execution_count": 48,
   "id": "294ddec7",
   "metadata": {},
   "outputs": [
    {
     "data": {
      "text/plain": [
       "Array(0., dtype=float32, weak_type=True)"
      ]
     },
     "execution_count": 48,
     "metadata": {},
     "output_type": "execute_result"
    }
   ],
   "source": [
    "jacjac.x.dx.x"
   ]
  }
 ],
 "metadata": {
  "kernelspec": {
   "display_name": "temgym",
   "language": "python",
   "name": "python3"
  },
  "language_info": {
   "codemirror_mode": {
    "name": "ipython",
    "version": 3
   },
   "file_extension": ".py",
   "mimetype": "text/x-python",
   "name": "python",
   "nbconvert_exporter": "python",
   "pygments_lexer": "ipython3",
   "version": "3.12.8"
  }
 },
 "nbformat": 4,
 "nbformat_minor": 5
}
