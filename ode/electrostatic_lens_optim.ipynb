{
 "cells": [
  {
   "cell_type": "code",
   "execution_count": 1,
   "id": "c7601df9",
   "metadata": {},
   "outputs": [
    {
     "name": "stderr",
     "output_type": "stream",
     "text": [
      "/home/dl277493/JaxTemGym/src/jaxgym/ode.py:6: TqdmExperimentalWarning: Using `tqdm.autonotebook.tqdm` in notebook mode. Use `tqdm.tqdm` instead to force console mode (e.g. in jupyter console)\n",
      "  from tqdm.autonotebook import trange, tqdm\n"
     ]
    }
   ],
   "source": [
    "from jaxgym.ode import odedopri,  electron_equation_of_motion_DA\n",
    "from jaxgym.field import schiske_lens_expansion_xyz, obtain_first_order_electrostatic_lens_properties\n",
    "import jaxgym.components as comp\n",
    "from jaxgym.ray import Ray\n",
    "from jaxgym.run import run_to_end, calculate_derivatives\n",
    "from jaxgym.taylor import poly_dict, order_indices, poly_dict_to_sympy_expr\n",
    "\n",
    "import jax\n",
    "import jax.numpy as jnp\n",
    "import numpy as np\n",
    "import optimistix as optx\n",
    "\n",
    "import tqdm\n",
    "\n",
    "from scipy.constants import h as h_planck, e, m_e\n",
    "from daceypy import array, DA\n",
    "import sympy as sp\n",
    "import os\n",
    "\n",
    "from scipy.integrate import simpson\n",
    "import matplotlib.pyplot as plt\n",
    "\n",
    "jax.config.update(\"jax_platform_name\", \"gpu\")\n",
    "jax.config.update(\"jax_enable_x64\", True)\n",
    "os.environ[\"XLA_PYTHON_CLIENT_PREALLOCATE\"] = \"false\"\n",
    "\n",
    "\n",
    "%matplotlib widget"
   ]
  },
  {
   "cell_type": "code",
   "execution_count": 2,
   "id": "d2710361",
   "metadata": {},
   "outputs": [],
   "source": [
    "X, Y, Z = sp.symbols('X Y Z')\n",
    "\n",
    "scale = 1 #set to mm scale\n",
    "# Set Parameters for Schiske Electrostatic Lens\n",
    "# Define lens parameters\n",
    "\n",
    "z_init = -0.015*scale  # Convert m to um units\n",
    "a = 0.0004*scale  # Convert m to um units\n",
    "phi_0 = 1000  # Volts\n",
    "\n",
    "k = 0.4**(1/2)  # Unitless\n",
    "\n",
    "(\n",
    "    phi_expansion_symbolic,\n",
    "    E_lambda, phi_lambda,\n",
    "    phi_lambda_axial,\n",
    "    phi_lambda_prime,\n",
    "    phi_lambda_double_prime,\n",
    "    phi_lambda_quadruple_prime,\n",
    "    phi_lambda_sextuple_prime\n",
    ") = schiske_lens_expansion_xyz(X, Y, Z, phi_0, a, k)\n",
    "\n",
    "wavelength = h_planck/(2*abs(e)*m_e*phi_lambda_axial(z_init))**(1/2)*scale\n",
    "\n",
    "\n",
    "z_pos, g, g_, h, h_, mag_real, z_image, z_focal_real, z_focal_asymp, z_pi = obtain_first_order_electrostatic_lens_properties(\n",
    "    z_init, phi_lambda_axial, phi_lambda_prime, phi_lambda_double_prime, z_sampling=1000)"
   ]
  },
  {
   "cell_type": "code",
   "execution_count": 3,
   "id": "4178ff56",
   "metadata": {},
   "outputs": [],
   "source": [
    "z_init = jnp.array(z_init, float)\n",
    "z_image = jnp.array(z_image, float)\n",
    "\n",
    "PointSource = comp.InputPlane(z=z_init)\n",
    "ElectrostaticLens = comp.ODE(z=z_init, z_end=z_image, phi_lambda=phi_lambda, E_lambda=E_lambda)\n",
    "Detector = comp.Detector(z=z_image, det_pixel_size=(5e-9 * scale, 5e-9 * scale), det_shape = (10, 10))\n",
    "model = [PointSource, ElectrostaticLens, Detector]\n",
    "\n",
    "det_coords = Detector.get_coords()"
   ]
  },
  {
   "cell_type": "code",
   "execution_count": null,
   "id": "3a0221c7",
   "metadata": {},
   "outputs": [
    {
     "name": "stderr",
     "output_type": "stream",
     "text": [
      "Adam Optimizer:   0%|          | 1/1000 [00:05<1:24:08,  5.05s/it]"
     ]
    },
    {
     "name": "stdout",
     "output_type": "stream",
     "text": [
      "9.760328956835573e-07\n"
     ]
    },
    {
     "name": "stderr",
     "output_type": "stream",
     "text": [
      "Adam Optimizer:   0%|          | 2/1000 [00:05<37:07,  2.23s/it]  "
     ]
    },
    {
     "name": "stdout",
     "output_type": "stream",
     "text": [
      "1.326204130175946e-06\n"
     ]
    },
    {
     "name": "stderr",
     "output_type": "stream",
     "text": [
      "Adam Optimizer:   0%|          | 3/1000 [00:05<22:04,  1.33s/it]"
     ]
    },
    {
     "name": "stdout",
     "output_type": "stream",
     "text": [
      "1.3733831557971794e-06\n"
     ]
    },
    {
     "name": "stderr",
     "output_type": "stream",
     "text": [
      "Adam Optimizer:   0%|          | 4/1000 [00:05<14:59,  1.11it/s]"
     ]
    },
    {
     "name": "stdout",
     "output_type": "stream",
     "text": [
      "1.2432836550980118e-06\n"
     ]
    },
    {
     "name": "stderr",
     "output_type": "stream",
     "text": [
      "Adam Optimizer:   0%|          | 5/1000 [00:06<11:03,  1.50it/s]"
     ]
    },
    {
     "name": "stdout",
     "output_type": "stream",
     "text": [
      "9.591771870392426e-07\n"
     ]
    },
    {
     "name": "stderr",
     "output_type": "stream",
     "text": [
      "Adam Optimizer:   1%|          | 6/1000 [00:06<08:40,  1.91it/s]"
     ]
    },
    {
     "name": "stdout",
     "output_type": "stream",
     "text": [
      "8.451670234743631e-07\n"
     ]
    },
    {
     "name": "stderr",
     "output_type": "stream",
     "text": [
      "Adam Optimizer:   1%|          | 7/1000 [00:06<07:09,  2.31it/s]"
     ]
    },
    {
     "name": "stdout",
     "output_type": "stream",
     "text": [
      "6.971022815056095e-07\n"
     ]
    },
    {
     "name": "stderr",
     "output_type": "stream",
     "text": [
      "Adam Optimizer:   1%|          | 8/1000 [00:06<06:07,  2.70it/s]"
     ]
    },
    {
     "name": "stdout",
     "output_type": "stream",
     "text": [
      "5.193872463530637e-07\n"
     ]
    },
    {
     "name": "stderr",
     "output_type": "stream",
     "text": [
      "Adam Optimizer:   1%|          | 9/1000 [00:07<05:18,  3.11it/s]"
     ]
    },
    {
     "name": "stdout",
     "output_type": "stream",
     "text": [
      "4.990546586029939e-07\n"
     ]
    },
    {
     "name": "stderr",
     "output_type": "stream",
     "text": [
      "Adam Optimizer:   1%|          | 10/1000 [00:07<04:45,  3.46it/s]"
     ]
    },
    {
     "name": "stdout",
     "output_type": "stream",
     "text": [
      "5.726162434808552e-07\n"
     ]
    },
    {
     "name": "stderr",
     "output_type": "stream",
     "text": [
      "Adam Optimizer:   1%|          | 11/1000 [00:07<04:23,  3.75it/s]"
     ]
    },
    {
     "name": "stdout",
     "output_type": "stream",
     "text": [
      "5.108466746983843e-07\n"
     ]
    },
    {
     "name": "stderr",
     "output_type": "stream",
     "text": [
      "Adam Optimizer:   1%|          | 12/1000 [00:07<04:07,  3.99it/s]"
     ]
    },
    {
     "name": "stdout",
     "output_type": "stream",
     "text": [
      "3.724987563178083e-07\n"
     ]
    },
    {
     "name": "stderr",
     "output_type": "stream",
     "text": [
      "Adam Optimizer:   1%|▏         | 13/1000 [00:07<03:55,  4.18it/s]"
     ]
    },
    {
     "name": "stdout",
     "output_type": "stream",
     "text": [
      "3.4237568776540824e-07\n"
     ]
    },
    {
     "name": "stderr",
     "output_type": "stream",
     "text": [
      "Adam Optimizer:   1%|▏         | 14/1000 [00:08<03:48,  4.31it/s]"
     ]
    },
    {
     "name": "stdout",
     "output_type": "stream",
     "text": [
      "3.568565551828964e-07\n"
     ]
    },
    {
     "name": "stderr",
     "output_type": "stream",
     "text": [
      "Adam Optimizer:   2%|▏         | 15/1000 [00:08<03:42,  4.42it/s]"
     ]
    },
    {
     "name": "stdout",
     "output_type": "stream",
     "text": [
      "3.0980442903587503e-07\n"
     ]
    },
    {
     "name": "stderr",
     "output_type": "stream",
     "text": [
      "Adam Optimizer:   2%|▏         | 16/1000 [00:08<03:39,  4.49it/s]"
     ]
    },
    {
     "name": "stdout",
     "output_type": "stream",
     "text": [
      "2.4432267057022576e-07\n"
     ]
    },
    {
     "name": "stderr",
     "output_type": "stream",
     "text": [
      "Adam Optimizer:   2%|▏         | 17/1000 [00:08<03:36,  4.55it/s]"
     ]
    },
    {
     "name": "stdout",
     "output_type": "stream",
     "text": [
      "2.293926797778997e-07\n"
     ]
    },
    {
     "name": "stderr",
     "output_type": "stream",
     "text": [
      "Adam Optimizer:   2%|▏         | 18/1000 [00:08<03:34,  4.59it/s]"
     ]
    },
    {
     "name": "stdout",
     "output_type": "stream",
     "text": [
      "2.3608682392120766e-07\n"
     ]
    },
    {
     "name": "stderr",
     "output_type": "stream",
     "text": [
      "Adam Optimizer:   2%|▏         | 19/1000 [00:09<03:32,  4.62it/s]"
     ]
    },
    {
     "name": "stdout",
     "output_type": "stream",
     "text": [
      "2.4230841212742093e-07\n"
     ]
    },
    {
     "name": "stderr",
     "output_type": "stream",
     "text": [
      "Adam Optimizer:   2%|▏         | 20/1000 [00:09<03:31,  4.64it/s]"
     ]
    },
    {
     "name": "stdout",
     "output_type": "stream",
     "text": [
      "2.5145336767115373e-07\n"
     ]
    },
    {
     "name": "stderr",
     "output_type": "stream",
     "text": [
      "Adam Optimizer:   2%|▏         | 21/1000 [00:09<03:30,  4.66it/s]"
     ]
    },
    {
     "name": "stdout",
     "output_type": "stream",
     "text": [
      "2.397042955209184e-07\n"
     ]
    },
    {
     "name": "stderr",
     "output_type": "stream",
     "text": [
      "Adam Optimizer:   2%|▏         | 22/1000 [00:09<03:29,  4.67it/s]"
     ]
    },
    {
     "name": "stdout",
     "output_type": "stream",
     "text": [
      "2.1652076349388686e-07\n"
     ]
    },
    {
     "name": "stderr",
     "output_type": "stream",
     "text": [
      "Adam Optimizer:   2%|▏         | 23/1000 [00:09<03:28,  4.68it/s]"
     ]
    },
    {
     "name": "stdout",
     "output_type": "stream",
     "text": [
      "2.161678093676394e-07\n"
     ]
    },
    {
     "name": "stderr",
     "output_type": "stream",
     "text": [
      "Adam Optimizer:   2%|▏         | 24/1000 [00:10<03:28,  4.69it/s]"
     ]
    },
    {
     "name": "stdout",
     "output_type": "stream",
     "text": [
      "2.1096523844553642e-07\n"
     ]
    },
    {
     "name": "stderr",
     "output_type": "stream",
     "text": [
      "Adam Optimizer:   2%|▎         | 25/1000 [00:10<03:27,  4.71it/s]"
     ]
    },
    {
     "name": "stdout",
     "output_type": "stream",
     "text": [
      "1.9506050495285937e-07\n"
     ]
    },
    {
     "name": "stderr",
     "output_type": "stream",
     "text": [
      "Adam Optimizer:   3%|▎         | 26/1000 [00:10<03:26,  4.71it/s]"
     ]
    },
    {
     "name": "stdout",
     "output_type": "stream",
     "text": [
      "1.8382644322474626e-07\n"
     ]
    },
    {
     "name": "stderr",
     "output_type": "stream",
     "text": [
      "Adam Optimizer:   3%|▎         | 27/1000 [00:10<03:26,  4.71it/s]"
     ]
    },
    {
     "name": "stdout",
     "output_type": "stream",
     "text": [
      "1.7371569816818623e-07\n"
     ]
    },
    {
     "name": "stderr",
     "output_type": "stream",
     "text": [
      "Adam Optimizer:   3%|▎         | 28/1000 [00:11<03:26,  4.70it/s]"
     ]
    },
    {
     "name": "stdout",
     "output_type": "stream",
     "text": [
      "1.7647424008189524e-07\n"
     ]
    },
    {
     "name": "stderr",
     "output_type": "stream",
     "text": [
      "Adam Optimizer:   3%|▎         | 29/1000 [00:11<03:25,  4.72it/s]"
     ]
    },
    {
     "name": "stdout",
     "output_type": "stream",
     "text": [
      "1.679242806725128e-07\n"
     ]
    },
    {
     "name": "stderr",
     "output_type": "stream",
     "text": [
      "Adam Optimizer:   3%|▎         | 30/1000 [00:11<03:25,  4.73it/s]"
     ]
    },
    {
     "name": "stdout",
     "output_type": "stream",
     "text": [
      "1.689581991862271e-07\n"
     ]
    },
    {
     "name": "stderr",
     "output_type": "stream",
     "text": [
      "Adam Optimizer:   3%|▎         | 31/1000 [00:11<03:24,  4.73it/s]"
     ]
    },
    {
     "name": "stdout",
     "output_type": "stream",
     "text": [
      "1.586897435207719e-07\n"
     ]
    },
    {
     "name": "stderr",
     "output_type": "stream",
     "text": [
      "Adam Optimizer:   3%|▎         | 32/1000 [00:11<03:25,  4.71it/s]"
     ]
    },
    {
     "name": "stdout",
     "output_type": "stream",
     "text": [
      "1.5733922746448815e-07\n"
     ]
    },
    {
     "name": "stderr",
     "output_type": "stream",
     "text": [
      "Adam Optimizer:   3%|▎         | 33/1000 [00:12<03:25,  4.71it/s]"
     ]
    },
    {
     "name": "stdout",
     "output_type": "stream",
     "text": [
      "1.6170128621440837e-07\n"
     ]
    },
    {
     "name": "stderr",
     "output_type": "stream",
     "text": [
      "Adam Optimizer:   3%|▎         | 34/1000 [00:12<03:24,  4.72it/s]"
     ]
    },
    {
     "name": "stdout",
     "output_type": "stream",
     "text": [
      "1.4447372655435608e-07\n"
     ]
    },
    {
     "name": "stderr",
     "output_type": "stream",
     "text": [
      "Adam Optimizer:   4%|▎         | 35/1000 [00:12<03:24,  4.72it/s]"
     ]
    },
    {
     "name": "stdout",
     "output_type": "stream",
     "text": [
      "1.4696819683596391e-07\n"
     ]
    },
    {
     "name": "stderr",
     "output_type": "stream",
     "text": [
      "Adam Optimizer:   4%|▎         | 36/1000 [00:12<03:24,  4.71it/s]"
     ]
    },
    {
     "name": "stdout",
     "output_type": "stream",
     "text": [
      "1.3934139587514603e-07\n"
     ]
    },
    {
     "name": "stderr",
     "output_type": "stream",
     "text": [
      "Adam Optimizer:   4%|▎         | 37/1000 [00:12<03:24,  4.71it/s]"
     ]
    },
    {
     "name": "stdout",
     "output_type": "stream",
     "text": [
      "1.3517084161501227e-07\n"
     ]
    },
    {
     "name": "stderr",
     "output_type": "stream",
     "text": [
      "Adam Optimizer:   4%|▍         | 38/1000 [00:13<03:24,  4.69it/s]"
     ]
    },
    {
     "name": "stdout",
     "output_type": "stream",
     "text": [
      "1.371728989121718e-07\n"
     ]
    },
    {
     "name": "stderr",
     "output_type": "stream",
     "text": [
      "Adam Optimizer:   4%|▍         | 39/1000 [00:13<03:23,  4.71it/s]"
     ]
    },
    {
     "name": "stdout",
     "output_type": "stream",
     "text": [
      "1.2613622068231232e-07\n"
     ]
    },
    {
     "name": "stderr",
     "output_type": "stream",
     "text": [
      "Adam Optimizer:   4%|▍         | 40/1000 [00:13<03:23,  4.71it/s]"
     ]
    },
    {
     "name": "stdout",
     "output_type": "stream",
     "text": [
      "1.2314495954366473e-07\n"
     ]
    },
    {
     "name": "stderr",
     "output_type": "stream",
     "text": [
      "Adam Optimizer:   4%|▍         | 41/1000 [00:13<03:23,  4.71it/s]"
     ]
    },
    {
     "name": "stdout",
     "output_type": "stream",
     "text": [
      "1.3891028778040317e-07\n"
     ]
    },
    {
     "name": "stderr",
     "output_type": "stream",
     "text": [
      "Adam Optimizer:   4%|▍         | 42/1000 [00:14<03:23,  4.72it/s]"
     ]
    },
    {
     "name": "stdout",
     "output_type": "stream",
     "text": [
      "1.090286301681729e-07\n"
     ]
    },
    {
     "name": "stderr",
     "output_type": "stream",
     "text": [
      "Adam Optimizer:   4%|▍         | 43/1000 [00:14<03:22,  4.72it/s]"
     ]
    },
    {
     "name": "stdout",
     "output_type": "stream",
     "text": [
      "1.0895081332828246e-07\n"
     ]
    },
    {
     "name": "stderr",
     "output_type": "stream",
     "text": [
      "Adam Optimizer:   4%|▍         | 44/1000 [00:14<03:23,  4.71it/s]"
     ]
    },
    {
     "name": "stdout",
     "output_type": "stream",
     "text": [
      "1.1311519784500662e-07\n"
     ]
    },
    {
     "name": "stderr",
     "output_type": "stream",
     "text": [
      "Adam Optimizer:   4%|▍         | 45/1000 [00:14<03:23,  4.69it/s]"
     ]
    },
    {
     "name": "stdout",
     "output_type": "stream",
     "text": [
      "1.0811127482966939e-07\n"
     ]
    },
    {
     "name": "stderr",
     "output_type": "stream",
     "text": [
      "Adam Optimizer:   5%|▍         | 46/1000 [00:14<03:22,  4.70it/s]"
     ]
    },
    {
     "name": "stdout",
     "output_type": "stream",
     "text": [
      "1.0322429498804078e-07\n"
     ]
    },
    {
     "name": "stderr",
     "output_type": "stream",
     "text": [
      "Adam Optimizer:   5%|▍         | 47/1000 [00:15<03:22,  4.70it/s]"
     ]
    },
    {
     "name": "stdout",
     "output_type": "stream",
     "text": [
      "1.0433114412876945e-07\n"
     ]
    },
    {
     "name": "stderr",
     "output_type": "stream",
     "text": [
      "Adam Optimizer:   5%|▍         | 48/1000 [00:15<03:22,  4.71it/s]"
     ]
    },
    {
     "name": "stdout",
     "output_type": "stream",
     "text": [
      "1.0185384441482198e-07\n"
     ]
    },
    {
     "name": "stderr",
     "output_type": "stream",
     "text": [
      "Adam Optimizer:   5%|▍         | 49/1000 [00:15<03:21,  4.71it/s]"
     ]
    },
    {
     "name": "stdout",
     "output_type": "stream",
     "text": [
      "1.0355901295750826e-07\n"
     ]
    },
    {
     "name": "stderr",
     "output_type": "stream",
     "text": [
      "Adam Optimizer:   5%|▌         | 50/1000 [00:15<03:22,  4.70it/s]"
     ]
    },
    {
     "name": "stdout",
     "output_type": "stream",
     "text": [
      "1.1196017784179467e-07\n"
     ]
    },
    {
     "name": "stderr",
     "output_type": "stream",
     "text": [
      "Adam Optimizer:   5%|▌         | 51/1000 [00:15<03:21,  4.71it/s]"
     ]
    },
    {
     "name": "stdout",
     "output_type": "stream",
     "text": [
      "1.0482040730279062e-07\n"
     ]
    },
    {
     "name": "stderr",
     "output_type": "stream",
     "text": [
      "Adam Optimizer:   5%|▌         | 52/1000 [00:16<03:21,  4.71it/s]"
     ]
    },
    {
     "name": "stdout",
     "output_type": "stream",
     "text": [
      "9.992898831591709e-08\n"
     ]
    },
    {
     "name": "stderr",
     "output_type": "stream",
     "text": [
      "Adam Optimizer:   5%|▌         | 53/1000 [00:16<03:21,  4.69it/s]"
     ]
    },
    {
     "name": "stdout",
     "output_type": "stream",
     "text": [
      "1.0190487583427986e-07\n"
     ]
    },
    {
     "name": "stderr",
     "output_type": "stream",
     "text": [
      "Adam Optimizer:   5%|▌         | 54/1000 [00:16<03:21,  4.70it/s]"
     ]
    },
    {
     "name": "stdout",
     "output_type": "stream",
     "text": [
      "9.977041131097467e-08\n"
     ]
    },
    {
     "name": "stderr",
     "output_type": "stream",
     "text": [
      "Adam Optimizer:   6%|▌         | 55/1000 [00:16<03:20,  4.71it/s]"
     ]
    },
    {
     "name": "stdout",
     "output_type": "stream",
     "text": [
      "1.2390201909988724e-07\n"
     ]
    },
    {
     "name": "stderr",
     "output_type": "stream",
     "text": [
      "Adam Optimizer:   6%|▌         | 56/1000 [00:17<03:20,  4.72it/s]"
     ]
    },
    {
     "name": "stdout",
     "output_type": "stream",
     "text": [
      "9.372636009032803e-08\n"
     ]
    },
    {
     "name": "stderr",
     "output_type": "stream",
     "text": [
      "Adam Optimizer:   6%|▌         | 57/1000 [00:17<03:19,  4.73it/s]"
     ]
    },
    {
     "name": "stdout",
     "output_type": "stream",
     "text": [
      "9.537109013363286e-08\n"
     ]
    },
    {
     "name": "stderr",
     "output_type": "stream",
     "text": [
      "Adam Optimizer:   6%|▌         | 58/1000 [00:17<03:18,  4.73it/s]"
     ]
    },
    {
     "name": "stdout",
     "output_type": "stream",
     "text": [
      "1.453976650018275e-07\n"
     ]
    },
    {
     "name": "stderr",
     "output_type": "stream",
     "text": [
      "Adam Optimizer:   6%|▌         | 59/1000 [00:17<03:18,  4.74it/s]"
     ]
    },
    {
     "name": "stdout",
     "output_type": "stream",
     "text": [
      "9.848511578604203e-08\n"
     ]
    },
    {
     "name": "stderr",
     "output_type": "stream",
     "text": [
      "Adam Optimizer:   6%|▌         | 60/1000 [00:17<03:17,  4.75it/s]"
     ]
    },
    {
     "name": "stdout",
     "output_type": "stream",
     "text": [
      "8.835229981822355e-08\n"
     ]
    },
    {
     "name": "stderr",
     "output_type": "stream",
     "text": [
      "Adam Optimizer:   6%|▌         | 61/1000 [00:18<03:18,  4.74it/s]"
     ]
    },
    {
     "name": "stdout",
     "output_type": "stream",
     "text": [
      "1.507361246652119e-07\n"
     ]
    },
    {
     "name": "stderr",
     "output_type": "stream",
     "text": [
      "Adam Optimizer:   6%|▌         | 62/1000 [00:18<03:17,  4.74it/s]"
     ]
    },
    {
     "name": "stdout",
     "output_type": "stream",
     "text": [
      "8.571404168670979e-08\n"
     ]
    },
    {
     "name": "stderr",
     "output_type": "stream",
     "text": [
      "Adam Optimizer:   6%|▋         | 63/1000 [00:18<03:17,  4.75it/s]"
     ]
    },
    {
     "name": "stdout",
     "output_type": "stream",
     "text": [
      "9.542025009078605e-08\n"
     ]
    },
    {
     "name": "stderr",
     "output_type": "stream",
     "text": [
      "Adam Optimizer:   6%|▋         | 64/1000 [00:18<03:16,  4.76it/s]"
     ]
    },
    {
     "name": "stdout",
     "output_type": "stream",
     "text": [
      "9.354157854208206e-08\n"
     ]
    },
    {
     "name": "stderr",
     "output_type": "stream",
     "text": [
      "Adam Optimizer:   6%|▋         | 65/1000 [00:18<03:17,  4.73it/s]"
     ]
    },
    {
     "name": "stdout",
     "output_type": "stream",
     "text": [
      "1.2545676082608613e-07\n"
     ]
    },
    {
     "name": "stderr",
     "output_type": "stream",
     "text": [
      "Adam Optimizer:   7%|▋         | 66/1000 [00:19<03:17,  4.74it/s]"
     ]
    },
    {
     "name": "stdout",
     "output_type": "stream",
     "text": [
      "1.3009098142386818e-07\n"
     ]
    },
    {
     "name": "stderr",
     "output_type": "stream",
     "text": [
      "Adam Optimizer:   7%|▋         | 67/1000 [00:19<03:17,  4.73it/s]"
     ]
    },
    {
     "name": "stdout",
     "output_type": "stream",
     "text": [
      "1.4346264681137392e-07\n"
     ]
    },
    {
     "name": "stderr",
     "output_type": "stream",
     "text": [
      "Adam Optimizer:   7%|▋         | 68/1000 [00:19<03:17,  4.72it/s]"
     ]
    },
    {
     "name": "stdout",
     "output_type": "stream",
     "text": [
      "8.706632261279257e-08\n"
     ]
    },
    {
     "name": "stderr",
     "output_type": "stream",
     "text": [
      "Adam Optimizer:   7%|▋         | 69/1000 [00:19<03:17,  4.72it/s]"
     ]
    },
    {
     "name": "stdout",
     "output_type": "stream",
     "text": [
      "9.589586211233703e-08\n"
     ]
    },
    {
     "name": "stderr",
     "output_type": "stream",
     "text": [
      "Adam Optimizer:   7%|▋         | 70/1000 [00:19<03:17,  4.72it/s]"
     ]
    },
    {
     "name": "stdout",
     "output_type": "stream",
     "text": [
      "1.177504373153269e-07\n"
     ]
    },
    {
     "name": "stderr",
     "output_type": "stream",
     "text": [
      "Adam Optimizer:   7%|▋         | 71/1000 [00:20<03:17,  4.71it/s]"
     ]
    },
    {
     "name": "stdout",
     "output_type": "stream",
     "text": [
      "8.13626742576502e-08\n"
     ]
    },
    {
     "name": "stderr",
     "output_type": "stream",
     "text": [
      "Adam Optimizer:   7%|▋         | 72/1000 [00:20<03:16,  4.73it/s]"
     ]
    },
    {
     "name": "stdout",
     "output_type": "stream",
     "text": [
      "1.0807225813915348e-07\n"
     ]
    },
    {
     "name": "stderr",
     "output_type": "stream",
     "text": [
      "Adam Optimizer:   7%|▋         | 73/1000 [00:20<03:16,  4.73it/s]"
     ]
    },
    {
     "name": "stdout",
     "output_type": "stream",
     "text": [
      "1.410860418381395e-07\n"
     ]
    },
    {
     "name": "stderr",
     "output_type": "stream",
     "text": [
      "Adam Optimizer:   7%|▋         | 74/1000 [00:20<03:15,  4.74it/s]"
     ]
    },
    {
     "name": "stdout",
     "output_type": "stream",
     "text": [
      "8.668564150878066e-08\n"
     ]
    },
    {
     "name": "stderr",
     "output_type": "stream",
     "text": [
      "Adam Optimizer:   8%|▊         | 75/1000 [00:21<03:14,  4.75it/s]"
     ]
    },
    {
     "name": "stdout",
     "output_type": "stream",
     "text": [
      "8.539763758999826e-08\n"
     ]
    },
    {
     "name": "stderr",
     "output_type": "stream",
     "text": [
      "Adam Optimizer:   8%|▊         | 76/1000 [00:21<03:15,  4.72it/s]"
     ]
    },
    {
     "name": "stdout",
     "output_type": "stream",
     "text": [
      "1.5510862950526677e-07\n"
     ]
    },
    {
     "name": "stderr",
     "output_type": "stream",
     "text": [
      "Adam Optimizer:   8%|▊         | 77/1000 [00:21<03:15,  4.73it/s]"
     ]
    },
    {
     "name": "stdout",
     "output_type": "stream",
     "text": [
      "1.1737451670904045e-07\n"
     ]
    },
    {
     "name": "stderr",
     "output_type": "stream",
     "text": [
      "Adam Optimizer:   8%|▊         | 78/1000 [00:21<03:14,  4.75it/s]"
     ]
    },
    {
     "name": "stdout",
     "output_type": "stream",
     "text": [
      "9.374549963754518e-08\n"
     ]
    },
    {
     "name": "stderr",
     "output_type": "stream",
     "text": [
      "Adam Optimizer:   8%|▊         | 79/1000 [00:21<03:14,  4.74it/s]"
     ]
    },
    {
     "name": "stdout",
     "output_type": "stream",
     "text": [
      "1.0222451924723341e-07\n"
     ]
    },
    {
     "name": "stderr",
     "output_type": "stream",
     "text": [
      "Adam Optimizer:   8%|▊         | 80/1000 [00:22<03:14,  4.73it/s]"
     ]
    },
    {
     "name": "stdout",
     "output_type": "stream",
     "text": [
      "1.4645360008065712e-07\n"
     ]
    },
    {
     "name": "stderr",
     "output_type": "stream",
     "text": [
      "Adam Optimizer:   8%|▊         | 81/1000 [00:22<03:14,  4.72it/s]"
     ]
    },
    {
     "name": "stdout",
     "output_type": "stream",
     "text": [
      "9.689769567821473e-08\n"
     ]
    },
    {
     "name": "stderr",
     "output_type": "stream",
     "text": [
      "Adam Optimizer:   8%|▊         | 82/1000 [00:22<03:14,  4.73it/s]"
     ]
    },
    {
     "name": "stdout",
     "output_type": "stream",
     "text": [
      "1.103090394756206e-07\n"
     ]
    },
    {
     "name": "stderr",
     "output_type": "stream",
     "text": [
      "Adam Optimizer:   8%|▊         | 83/1000 [00:22<03:14,  4.72it/s]"
     ]
    },
    {
     "name": "stdout",
     "output_type": "stream",
     "text": [
      "1.603508287996666e-07\n"
     ]
    },
    {
     "name": "stderr",
     "output_type": "stream",
     "text": [
      "Adam Optimizer:   8%|▊         | 84/1000 [00:22<03:13,  4.73it/s]"
     ]
    },
    {
     "name": "stdout",
     "output_type": "stream",
     "text": [
      "1.0554428082970699e-07\n"
     ]
    },
    {
     "name": "stderr",
     "output_type": "stream",
     "text": [
      "Adam Optimizer:   8%|▊         | 85/1000 [00:23<03:13,  4.74it/s]"
     ]
    },
    {
     "name": "stdout",
     "output_type": "stream",
     "text": [
      "8.363248472566858e-08\n"
     ]
    },
    {
     "name": "stderr",
     "output_type": "stream",
     "text": [
      "Adam Optimizer:   9%|▊         | 86/1000 [00:23<03:13,  4.72it/s]"
     ]
    },
    {
     "name": "stdout",
     "output_type": "stream",
     "text": [
      "1.4257090190512638e-07\n"
     ]
    },
    {
     "name": "stderr",
     "output_type": "stream",
     "text": [
      "Adam Optimizer:   9%|▊         | 87/1000 [00:23<03:13,  4.72it/s]"
     ]
    },
    {
     "name": "stdout",
     "output_type": "stream",
     "text": [
      "8.86576137239127e-08\n"
     ]
    },
    {
     "name": "stderr",
     "output_type": "stream",
     "text": [
      "Adam Optimizer:   9%|▉         | 88/1000 [00:23<03:12,  4.73it/s]"
     ]
    },
    {
     "name": "stdout",
     "output_type": "stream",
     "text": [
      "6.446715568279134e-08\n"
     ]
    },
    {
     "name": "stderr",
     "output_type": "stream",
     "text": [
      "Adam Optimizer:   9%|▉         | 89/1000 [00:23<03:12,  4.74it/s]"
     ]
    },
    {
     "name": "stdout",
     "output_type": "stream",
     "text": [
      "8.786119568933347e-08\n"
     ]
    },
    {
     "name": "stderr",
     "output_type": "stream",
     "text": [
      "Adam Optimizer:   9%|▉         | 90/1000 [00:24<03:11,  4.75it/s]"
     ]
    },
    {
     "name": "stdout",
     "output_type": "stream",
     "text": [
      "1.2076300733769335e-07\n"
     ]
    },
    {
     "name": "stderr",
     "output_type": "stream",
     "text": [
      "Adam Optimizer:   9%|▉         | 91/1000 [00:24<03:11,  4.75it/s]"
     ]
    },
    {
     "name": "stdout",
     "output_type": "stream",
     "text": [
      "1.0933139305752771e-07\n"
     ]
    },
    {
     "name": "stderr",
     "output_type": "stream",
     "text": [
      "Adam Optimizer:   9%|▉         | 92/1000 [00:24<03:11,  4.74it/s]"
     ]
    },
    {
     "name": "stdout",
     "output_type": "stream",
     "text": [
      "1.0304528576080374e-07\n"
     ]
    },
    {
     "name": "stderr",
     "output_type": "stream",
     "text": [
      "Adam Optimizer:   9%|▉         | 93/1000 [00:24<03:12,  4.72it/s]"
     ]
    },
    {
     "name": "stdout",
     "output_type": "stream",
     "text": [
      "9.723353402600887e-08\n"
     ]
    },
    {
     "name": "stderr",
     "output_type": "stream",
     "text": [
      "Adam Optimizer:   9%|▉         | 94/1000 [00:25<03:11,  4.74it/s]"
     ]
    },
    {
     "name": "stdout",
     "output_type": "stream",
     "text": [
      "7.470769070229156e-08\n"
     ]
    },
    {
     "name": "stderr",
     "output_type": "stream",
     "text": [
      "Adam Optimizer:  10%|▉         | 95/1000 [00:25<03:11,  4.73it/s]"
     ]
    },
    {
     "name": "stdout",
     "output_type": "stream",
     "text": [
      "1.1756272042879847e-07\n"
     ]
    },
    {
     "name": "stderr",
     "output_type": "stream",
     "text": [
      "Adam Optimizer:  10%|▉         | 96/1000 [00:25<03:10,  4.74it/s]"
     ]
    },
    {
     "name": "stdout",
     "output_type": "stream",
     "text": [
      "1.0124248265918997e-07\n"
     ]
    },
    {
     "name": "stderr",
     "output_type": "stream",
     "text": [
      "Adam Optimizer:  10%|▉         | 97/1000 [00:25<03:10,  4.75it/s]"
     ]
    },
    {
     "name": "stdout",
     "output_type": "stream",
     "text": [
      "8.5445257111004e-08\n"
     ]
    },
    {
     "name": "stderr",
     "output_type": "stream",
     "text": [
      "Adam Optimizer:  10%|▉         | 98/1000 [00:25<03:09,  4.75it/s]"
     ]
    },
    {
     "name": "stdout",
     "output_type": "stream",
     "text": [
      "8.895107809991303e-08\n"
     ]
    },
    {
     "name": "stderr",
     "output_type": "stream",
     "text": [
      "Adam Optimizer:  10%|▉         | 99/1000 [00:26<03:10,  4.74it/s]"
     ]
    },
    {
     "name": "stdout",
     "output_type": "stream",
     "text": [
      "1.554412343183421e-07\n"
     ]
    },
    {
     "name": "stderr",
     "output_type": "stream",
     "text": [
      "Adam Optimizer:  10%|█         | 100/1000 [00:26<03:09,  4.75it/s]"
     ]
    },
    {
     "name": "stdout",
     "output_type": "stream",
     "text": [
      "9.889393776076543e-08\n"
     ]
    },
    {
     "name": "stderr",
     "output_type": "stream",
     "text": [
      "Adam Optimizer:  10%|█         | 101/1000 [00:26<03:09,  4.76it/s]"
     ]
    },
    {
     "name": "stdout",
     "output_type": "stream",
     "text": [
      "8.431632258609364e-08\n"
     ]
    },
    {
     "name": "stderr",
     "output_type": "stream",
     "text": [
      "Adam Optimizer:  10%|█         | 102/1000 [00:26<03:08,  4.76it/s]"
     ]
    },
    {
     "name": "stdout",
     "output_type": "stream",
     "text": [
      "1.1145008814465311e-07\n"
     ]
    },
    {
     "name": "stderr",
     "output_type": "stream",
     "text": [
      "Adam Optimizer:  10%|█         | 103/1000 [00:26<03:08,  4.75it/s]"
     ]
    },
    {
     "name": "stdout",
     "output_type": "stream",
     "text": [
      "1.0026200932351798e-07\n"
     ]
    },
    {
     "name": "stderr",
     "output_type": "stream",
     "text": [
      "Adam Optimizer:  10%|█         | 104/1000 [00:27<03:08,  4.75it/s]"
     ]
    },
    {
     "name": "stdout",
     "output_type": "stream",
     "text": [
      "7.863884819836757e-08\n"
     ]
    },
    {
     "name": "stderr",
     "output_type": "stream",
     "text": [
      "Adam Optimizer:  10%|█         | 105/1000 [00:27<03:08,  4.75it/s]"
     ]
    },
    {
     "name": "stdout",
     "output_type": "stream",
     "text": [
      "1.0799556525733674e-07\n"
     ]
    },
    {
     "name": "stderr",
     "output_type": "stream",
     "text": [
      "Adam Optimizer:  11%|█         | 106/1000 [00:27<03:08,  4.73it/s]"
     ]
    },
    {
     "name": "stdout",
     "output_type": "stream",
     "text": [
      "9.919885623886068e-08\n"
     ]
    },
    {
     "name": "stderr",
     "output_type": "stream",
     "text": [
      "Adam Optimizer:  11%|█         | 107/1000 [00:27<03:08,  4.74it/s]"
     ]
    },
    {
     "name": "stdout",
     "output_type": "stream",
     "text": [
      "1.1249245725601416e-07\n"
     ]
    },
    {
     "name": "stderr",
     "output_type": "stream",
     "text": [
      "Adam Optimizer:  11%|█         | 108/1000 [00:27<03:08,  4.72it/s]"
     ]
    },
    {
     "name": "stdout",
     "output_type": "stream",
     "text": [
      "1.0028708572542826e-07\n"
     ]
    },
    {
     "name": "stderr",
     "output_type": "stream",
     "text": [
      "Adam Optimizer:  11%|█         | 109/1000 [00:28<03:10,  4.68it/s]"
     ]
    },
    {
     "name": "stdout",
     "output_type": "stream",
     "text": [
      "2.1872543104990498e-07\n"
     ]
    },
    {
     "name": "stderr",
     "output_type": "stream",
     "text": [
      "Adam Optimizer:  11%|█         | 110/1000 [00:28<03:10,  4.67it/s]"
     ]
    },
    {
     "name": "stdout",
     "output_type": "stream",
     "text": [
      "1.6367566588466087e-07\n"
     ]
    },
    {
     "name": "stderr",
     "output_type": "stream",
     "text": [
      "Adam Optimizer:  11%|█         | 111/1000 [00:28<03:09,  4.70it/s]"
     ]
    },
    {
     "name": "stdout",
     "output_type": "stream",
     "text": [
      "9.57938004333698e-08\n"
     ]
    },
    {
     "name": "stderr",
     "output_type": "stream",
     "text": [
      "Adam Optimizer:  11%|█         | 112/1000 [00:28<03:10,  4.66it/s]"
     ]
    },
    {
     "name": "stdout",
     "output_type": "stream",
     "text": [
      "2.499152867370456e-07\n"
     ]
    },
    {
     "name": "stderr",
     "output_type": "stream",
     "text": [
      "Adam Optimizer:  11%|█▏        | 113/1000 [00:29<03:11,  4.63it/s]"
     ]
    },
    {
     "name": "stdout",
     "output_type": "stream",
     "text": [
      "2.0752049452470296e-07\n"
     ]
    },
    {
     "name": "stderr",
     "output_type": "stream",
     "text": [
      "Adam Optimizer:  11%|█▏        | 114/1000 [00:29<03:09,  4.67it/s]"
     ]
    },
    {
     "name": "stdout",
     "output_type": "stream",
     "text": [
      "8.837256998071073e-08\n"
     ]
    },
    {
     "name": "stderr",
     "output_type": "stream",
     "text": [
      "Adam Optimizer:  12%|█▏        | 115/1000 [00:29<03:08,  4.69it/s]"
     ]
    },
    {
     "name": "stdout",
     "output_type": "stream",
     "text": [
      "1.2792815820567143e-07\n"
     ]
    },
    {
     "name": "stderr",
     "output_type": "stream",
     "text": [
      "Adam Optimizer:  12%|█▏        | 116/1000 [00:29<03:09,  4.67it/s]"
     ]
    },
    {
     "name": "stdout",
     "output_type": "stream",
     "text": [
      "2.591627113898923e-07\n"
     ]
    },
    {
     "name": "stderr",
     "output_type": "stream",
     "text": [
      "Adam Optimizer:  12%|█▏        | 117/1000 [00:29<03:08,  4.67it/s]"
     ]
    },
    {
     "name": "stdout",
     "output_type": "stream",
     "text": [
      "1.2305640316692806e-07\n"
     ]
    },
    {
     "name": "stderr",
     "output_type": "stream",
     "text": [
      "Adam Optimizer:  12%|█▏        | 118/1000 [00:30<03:07,  4.70it/s]"
     ]
    },
    {
     "name": "stdout",
     "output_type": "stream",
     "text": [
      "9.939955346371184e-08\n"
     ]
    },
    {
     "name": "stderr",
     "output_type": "stream",
     "text": [
      "Adam Optimizer:  12%|█▏        | 119/1000 [00:30<03:06,  4.72it/s]"
     ]
    },
    {
     "name": "stdout",
     "output_type": "stream",
     "text": [
      "8.038093068579081e-08\n"
     ]
    },
    {
     "name": "stderr",
     "output_type": "stream",
     "text": [
      "Adam Optimizer:  12%|█▏        | 120/1000 [00:30<03:07,  4.68it/s]"
     ]
    },
    {
     "name": "stdout",
     "output_type": "stream",
     "text": [
      "1.7777614407247472e-07\n"
     ]
    },
    {
     "name": "stderr",
     "output_type": "stream",
     "text": [
      "Adam Optimizer:  12%|█▏        | 121/1000 [00:30<03:07,  4.69it/s]"
     ]
    },
    {
     "name": "stdout",
     "output_type": "stream",
     "text": [
      "1.4618018709509985e-07\n"
     ]
    },
    {
     "name": "stderr",
     "output_type": "stream",
     "text": [
      "Adam Optimizer:  12%|█▏        | 122/1000 [00:30<03:07,  4.69it/s]"
     ]
    },
    {
     "name": "stdout",
     "output_type": "stream",
     "text": [
      "8.707677976003503e-08\n"
     ]
    },
    {
     "name": "stderr",
     "output_type": "stream",
     "text": [
      "Adam Optimizer:  12%|█▏        | 123/1000 [00:31<03:06,  4.71it/s]"
     ]
    },
    {
     "name": "stdout",
     "output_type": "stream",
     "text": [
      "7.506170669635862e-08\n"
     ]
    },
    {
     "name": "stderr",
     "output_type": "stream",
     "text": [
      "Adam Optimizer:  12%|█▏        | 124/1000 [00:31<03:05,  4.72it/s]"
     ]
    },
    {
     "name": "stdout",
     "output_type": "stream",
     "text": [
      "9.150676575530314e-08\n"
     ]
    },
    {
     "name": "stderr",
     "output_type": "stream",
     "text": [
      "Adam Optimizer:  12%|█▎        | 125/1000 [00:31<03:04,  4.73it/s]"
     ]
    },
    {
     "name": "stdout",
     "output_type": "stream",
     "text": [
      "8.625415041740455e-08\n"
     ]
    },
    {
     "name": "stderr",
     "output_type": "stream",
     "text": [
      "Adam Optimizer:  13%|█▎        | 126/1000 [00:31<03:04,  4.74it/s]"
     ]
    },
    {
     "name": "stdout",
     "output_type": "stream",
     "text": [
      "1.1378896485202534e-07\n"
     ]
    },
    {
     "name": "stderr",
     "output_type": "stream",
     "text": [
      "Adam Optimizer:  13%|█▎        | 127/1000 [00:32<03:04,  4.74it/s]"
     ]
    },
    {
     "name": "stdout",
     "output_type": "stream",
     "text": [
      "1.366758880933425e-07\n"
     ]
    },
    {
     "name": "stderr",
     "output_type": "stream",
     "text": [
      "Adam Optimizer:  13%|█▎        | 128/1000 [00:32<03:03,  4.74it/s]"
     ]
    },
    {
     "name": "stdout",
     "output_type": "stream",
     "text": [
      "1.1155822048272789e-07\n"
     ]
    },
    {
     "name": "stderr",
     "output_type": "stream",
     "text": [
      "Adam Optimizer:  13%|█▎        | 129/1000 [00:32<03:03,  4.75it/s]"
     ]
    },
    {
     "name": "stdout",
     "output_type": "stream",
     "text": [
      "7.605850270585778e-08\n"
     ]
    },
    {
     "name": "stderr",
     "output_type": "stream",
     "text": [
      "Adam Optimizer:  13%|█▎        | 130/1000 [00:32<03:04,  4.73it/s]"
     ]
    },
    {
     "name": "stdout",
     "output_type": "stream",
     "text": [
      "9.802169396724622e-08\n"
     ]
    },
    {
     "name": "stderr",
     "output_type": "stream",
     "text": [
      "Adam Optimizer:  13%|█▎        | 131/1000 [00:32<03:03,  4.74it/s]"
     ]
    },
    {
     "name": "stdout",
     "output_type": "stream",
     "text": [
      "8.262558839250005e-08\n"
     ]
    },
    {
     "name": "stderr",
     "output_type": "stream",
     "text": [
      "Adam Optimizer:  13%|█▎        | 132/1000 [00:33<03:05,  4.69it/s]"
     ]
    },
    {
     "name": "stdout",
     "output_type": "stream",
     "text": [
      "3.505777496777865e-07\n"
     ]
    },
    {
     "name": "stderr",
     "output_type": "stream",
     "text": [
      "Adam Optimizer:  13%|█▎        | 133/1000 [00:33<03:04,  4.69it/s]"
     ]
    },
    {
     "name": "stdout",
     "output_type": "stream",
     "text": [
      "1.8322420077830727e-07\n"
     ]
    },
    {
     "name": "stderr",
     "output_type": "stream",
     "text": [
      "Adam Optimizer:  13%|█▎        | 134/1000 [00:33<03:04,  4.69it/s]"
     ]
    },
    {
     "name": "stdout",
     "output_type": "stream",
     "text": [
      "1.0284679419181978e-07\n"
     ]
    },
    {
     "name": "stderr",
     "output_type": "stream",
     "text": [
      "Adam Optimizer:  14%|█▎        | 135/1000 [00:33<03:06,  4.63it/s]"
     ]
    },
    {
     "name": "stdout",
     "output_type": "stream",
     "text": [
      "4.464102643357559e-07\n"
     ]
    },
    {
     "name": "stderr",
     "output_type": "stream",
     "text": [
      "Adam Optimizer:  14%|█▎        | 136/1000 [00:33<03:08,  4.58it/s]"
     ]
    },
    {
     "name": "stdout",
     "output_type": "stream",
     "text": [
      "4.1595156172386765e-07\n"
     ]
    },
    {
     "name": "stderr",
     "output_type": "stream",
     "text": [
      "Adam Optimizer:  14%|█▎        | 137/1000 [00:34<03:06,  4.62it/s]"
     ]
    },
    {
     "name": "stdout",
     "output_type": "stream",
     "text": [
      "8.522641327410333e-08\n"
     ]
    },
    {
     "name": "stderr",
     "output_type": "stream",
     "text": [
      "Adam Optimizer:  14%|█▍        | 138/1000 [00:34<03:05,  4.66it/s]"
     ]
    },
    {
     "name": "stdout",
     "output_type": "stream",
     "text": [
      "1.2648554401373133e-07\n"
     ]
    },
    {
     "name": "stderr",
     "output_type": "stream",
     "text": [
      "Adam Optimizer:  14%|█▍        | 139/1000 [00:34<03:05,  4.64it/s]"
     ]
    },
    {
     "name": "stdout",
     "output_type": "stream",
     "text": [
      "3.8117901450621346e-07\n"
     ]
    },
    {
     "name": "stderr",
     "output_type": "stream",
     "text": [
      "Adam Optimizer:  14%|█▍        | 140/1000 [00:34<03:06,  4.60it/s]"
     ]
    },
    {
     "name": "stdout",
     "output_type": "stream",
     "text": [
      "3.36859488677418e-07\n"
     ]
    },
    {
     "name": "stderr",
     "output_type": "stream",
     "text": [
      "Adam Optimizer:  14%|█▍        | 141/1000 [00:35<03:05,  4.63it/s]"
     ]
    },
    {
     "name": "stdout",
     "output_type": "stream",
     "text": [
      "1.4674216315324175e-07\n"
     ]
    },
    {
     "name": "stderr",
     "output_type": "stream",
     "text": [
      "Adam Optimizer:  14%|█▍        | 142/1000 [00:35<03:04,  4.65it/s]"
     ]
    },
    {
     "name": "stdout",
     "output_type": "stream",
     "text": [
      "1.099245111902826e-07\n"
     ]
    },
    {
     "name": "stderr",
     "output_type": "stream",
     "text": [
      "Adam Optimizer:  14%|█▍        | 143/1000 [00:35<03:03,  4.67it/s]"
     ]
    },
    {
     "name": "stdout",
     "output_type": "stream",
     "text": [
      "1.2207369376054965e-07\n"
     ]
    },
    {
     "name": "stderr",
     "output_type": "stream",
     "text": [
      "Adam Optimizer:  14%|█▍        | 144/1000 [00:35<03:02,  4.69it/s]"
     ]
    },
    {
     "name": "stdout",
     "output_type": "stream",
     "text": [
      "1.003346001750351e-07\n"
     ]
    },
    {
     "name": "stderr",
     "output_type": "stream",
     "text": [
      "Adam Optimizer:  14%|█▍        | 145/1000 [00:35<03:02,  4.67it/s]"
     ]
    },
    {
     "name": "stdout",
     "output_type": "stream",
     "text": [
      "1.7408741060293046e-07\n"
     ]
    },
    {
     "name": "stderr",
     "output_type": "stream",
     "text": [
      "Adam Optimizer:  15%|█▍        | 146/1000 [00:36<03:02,  4.68it/s]"
     ]
    },
    {
     "name": "stdout",
     "output_type": "stream",
     "text": [
      "1.1236984552656008e-07\n"
     ]
    },
    {
     "name": "stderr",
     "output_type": "stream",
     "text": [
      "Adam Optimizer:  15%|█▍        | 147/1000 [00:36<03:01,  4.69it/s]"
     ]
    },
    {
     "name": "stdout",
     "output_type": "stream",
     "text": [
      "1.3834744753207533e-07\n"
     ]
    },
    {
     "name": "stderr",
     "output_type": "stream",
     "text": [
      "Adam Optimizer:  15%|█▍        | 148/1000 [00:36<03:01,  4.69it/s]"
     ]
    },
    {
     "name": "stdout",
     "output_type": "stream",
     "text": [
      "9.92936165665869e-08\n"
     ]
    },
    {
     "name": "stderr",
     "output_type": "stream",
     "text": [
      "Adam Optimizer:  15%|█▍        | 149/1000 [00:36<03:03,  4.64it/s]"
     ]
    },
    {
     "name": "stdout",
     "output_type": "stream",
     "text": [
      "2.812821743774237e-07\n"
     ]
    },
    {
     "name": "stderr",
     "output_type": "stream",
     "text": [
      "Adam Optimizer:  15%|█▌        | 150/1000 [00:36<03:01,  4.67it/s]"
     ]
    },
    {
     "name": "stdout",
     "output_type": "stream",
     "text": [
      "7.727993099537053e-08\n"
     ]
    },
    {
     "name": "stderr",
     "output_type": "stream",
     "text": [
      "Adam Optimizer:  15%|█▌        | 151/1000 [00:37<03:00,  4.70it/s]"
     ]
    },
    {
     "name": "stdout",
     "output_type": "stream",
     "text": [
      "1.0841430018401875e-07\n"
     ]
    },
    {
     "name": "stderr",
     "output_type": "stream",
     "text": [
      "Adam Optimizer:  15%|█▌        | 152/1000 [00:37<03:02,  4.66it/s]"
     ]
    },
    {
     "name": "stdout",
     "output_type": "stream",
     "text": [
      "3.2321509115922243e-07\n"
     ]
    },
    {
     "name": "stderr",
     "output_type": "stream",
     "text": [
      "Adam Optimizer:  15%|█▌        | 153/1000 [00:37<03:01,  4.67it/s]"
     ]
    },
    {
     "name": "stdout",
     "output_type": "stream",
     "text": [
      "1.110578401896661e-07\n"
     ]
    },
    {
     "name": "stderr",
     "output_type": "stream",
     "text": [
      "Adam Optimizer:  15%|█▌        | 154/1000 [00:37<02:59,  4.70it/s]"
     ]
    },
    {
     "name": "stdout",
     "output_type": "stream",
     "text": [
      "9.6470644844756e-08\n"
     ]
    },
    {
     "name": "stderr",
     "output_type": "stream",
     "text": [
      "Adam Optimizer:  16%|█▌        | 155/1000 [00:38<02:59,  4.71it/s]"
     ]
    },
    {
     "name": "stdout",
     "output_type": "stream",
     "text": [
      "1.3800308600361415e-07\n"
     ]
    },
    {
     "name": "stderr",
     "output_type": "stream",
     "text": [
      "Adam Optimizer:  16%|█▌        | 156/1000 [00:38<03:00,  4.68it/s]"
     ]
    },
    {
     "name": "stdout",
     "output_type": "stream",
     "text": [
      "1.8804141268757073e-07\n"
     ]
    },
    {
     "name": "stderr",
     "output_type": "stream",
     "text": [
      "Adam Optimizer:  16%|█▌        | 157/1000 [00:38<02:59,  4.70it/s]"
     ]
    },
    {
     "name": "stdout",
     "output_type": "stream",
     "text": [
      "8.429605966476589e-08\n"
     ]
    },
    {
     "name": "stderr",
     "output_type": "stream",
     "text": [
      "Adam Optimizer:  16%|█▌        | 158/1000 [00:38<02:58,  4.73it/s]"
     ]
    },
    {
     "name": "stdout",
     "output_type": "stream",
     "text": [
      "6.669805083296406e-08\n"
     ]
    },
    {
     "name": "stderr",
     "output_type": "stream",
     "text": [
      "Adam Optimizer:  16%|█▌        | 159/1000 [00:38<02:58,  4.72it/s]"
     ]
    },
    {
     "name": "stdout",
     "output_type": "stream",
     "text": [
      "6.466059222610278e-08\n"
     ]
    },
    {
     "name": "stderr",
     "output_type": "stream",
     "text": [
      "Adam Optimizer:  16%|█▌        | 160/1000 [00:39<02:57,  4.73it/s]"
     ]
    },
    {
     "name": "stdout",
     "output_type": "stream",
     "text": [
      "9.879087337134626e-08\n"
     ]
    },
    {
     "name": "stderr",
     "output_type": "stream",
     "text": [
      "Adam Optimizer:  16%|█▌        | 161/1000 [00:39<02:57,  4.73it/s]"
     ]
    },
    {
     "name": "stdout",
     "output_type": "stream",
     "text": [
      "1.2226576457698887e-07\n"
     ]
    },
    {
     "name": "stderr",
     "output_type": "stream",
     "text": [
      "Adam Optimizer:  16%|█▌        | 162/1000 [00:39<03:02,  4.60it/s]"
     ]
    },
    {
     "name": "stdout",
     "output_type": "stream",
     "text": [
      "1.0248826018729176e-07\n"
     ]
    },
    {
     "name": "stderr",
     "output_type": "stream",
     "text": [
      "Adam Optimizer:  16%|█▋        | 163/1000 [00:39<03:11,  4.38it/s]"
     ]
    },
    {
     "name": "stdout",
     "output_type": "stream",
     "text": [
      "2.7374506704017453e-07\n"
     ]
    },
    {
     "name": "stderr",
     "output_type": "stream",
     "text": [
      "Adam Optimizer:  16%|█▋        | 164/1000 [00:40<03:17,  4.24it/s]"
     ]
    },
    {
     "name": "stdout",
     "output_type": "stream",
     "text": [
      "1.9362764389367672e-07\n"
     ]
    },
    {
     "name": "stderr",
     "output_type": "stream",
     "text": [
      "Adam Optimizer:  16%|█▋        | 165/1000 [00:40<03:18,  4.20it/s]"
     ]
    },
    {
     "name": "stdout",
     "output_type": "stream",
     "text": [
      "5.595306433479197e-07\n"
     ]
    },
    {
     "name": "stderr",
     "output_type": "stream",
     "text": [
      "Adam Optimizer:  17%|█▋        | 166/1000 [00:40<03:14,  4.28it/s]"
     ]
    },
    {
     "name": "stdout",
     "output_type": "stream",
     "text": [
      "5.764564835903177e-07\n"
     ]
    },
    {
     "name": "stderr",
     "output_type": "stream",
     "text": [
      "Adam Optimizer:  17%|█▋        | 167/1000 [00:40<03:10,  4.38it/s]"
     ]
    },
    {
     "name": "stdout",
     "output_type": "stream",
     "text": [
      "1.0573874340037463e-07\n"
     ]
    },
    {
     "name": "stderr",
     "output_type": "stream",
     "text": [
      "Adam Optimizer:  17%|█▋        | 168/1000 [00:40<03:06,  4.46it/s]"
     ]
    },
    {
     "name": "stdout",
     "output_type": "stream",
     "text": [
      "9.064896305039717e-08\n"
     ]
    },
    {
     "name": "stderr",
     "output_type": "stream",
     "text": [
      "Adam Optimizer:  17%|█▋        | 169/1000 [00:41<03:06,  4.46it/s]"
     ]
    },
    {
     "name": "stdout",
     "output_type": "stream",
     "text": [
      "4.086452264332144e-07\n"
     ]
    },
    {
     "name": "stderr",
     "output_type": "stream",
     "text": [
      "Adam Optimizer:  17%|█▋        | 170/1000 [00:41<03:05,  4.47it/s]"
     ]
    },
    {
     "name": "stdout",
     "output_type": "stream",
     "text": [
      "4.421431777329807e-07\n"
     ]
    },
    {
     "name": "stderr",
     "output_type": "stream",
     "text": [
      "Adam Optimizer:  17%|█▋        | 171/1000 [00:41<03:03,  4.52it/s]"
     ]
    },
    {
     "name": "stdout",
     "output_type": "stream",
     "text": [
      "1.3586804435100467e-07\n"
     ]
    },
    {
     "name": "stderr",
     "output_type": "stream",
     "text": [
      "Adam Optimizer:  17%|█▋        | 172/1000 [00:41<03:00,  4.58it/s]"
     ]
    },
    {
     "name": "stdout",
     "output_type": "stream",
     "text": [
      "7.076444203935328e-08\n"
     ]
    },
    {
     "name": "stderr",
     "output_type": "stream",
     "text": [
      "Adam Optimizer:  17%|█▋        | 173/1000 [00:42<02:59,  4.61it/s]"
     ]
    },
    {
     "name": "stdout",
     "output_type": "stream",
     "text": [
      "9.673935317429643e-08\n"
     ]
    },
    {
     "name": "stderr",
     "output_type": "stream",
     "text": [
      "Adam Optimizer:  17%|█▋        | 174/1000 [00:42<02:58,  4.64it/s]"
     ]
    },
    {
     "name": "stdout",
     "output_type": "stream",
     "text": [
      "1.5145420327149068e-07\n"
     ]
    },
    {
     "name": "stderr",
     "output_type": "stream",
     "text": [
      "Adam Optimizer:  18%|█▊        | 175/1000 [00:42<02:58,  4.62it/s]"
     ]
    },
    {
     "name": "stdout",
     "output_type": "stream",
     "text": [
      "3.8180633089151295e-07\n"
     ]
    },
    {
     "name": "stderr",
     "output_type": "stream",
     "text": [
      "Adam Optimizer:  18%|█▊        | 176/1000 [00:42<02:59,  4.58it/s]"
     ]
    },
    {
     "name": "stdout",
     "output_type": "stream",
     "text": [
      "2.7915769609498455e-07\n"
     ]
    },
    {
     "name": "stderr",
     "output_type": "stream",
     "text": [
      "Adam Optimizer:  18%|█▊        | 177/1000 [00:42<03:00,  4.56it/s]"
     ]
    },
    {
     "name": "stdout",
     "output_type": "stream",
     "text": [
      "2.885330376988386e-07\n"
     ]
    },
    {
     "name": "stderr",
     "output_type": "stream",
     "text": [
      "Adam Optimizer:  18%|█▊        | 178/1000 [00:43<02:59,  4.59it/s]"
     ]
    },
    {
     "name": "stdout",
     "output_type": "stream",
     "text": [
      "1.2141997685548533e-07\n"
     ]
    },
    {
     "name": "stderr",
     "output_type": "stream",
     "text": [
      "Adam Optimizer:  18%|█▊        | 179/1000 [00:43<02:59,  4.58it/s]"
     ]
    },
    {
     "name": "stdout",
     "output_type": "stream",
     "text": [
      "1.9293312377660138e-07\n"
     ]
    },
    {
     "name": "stderr",
     "output_type": "stream",
     "text": [
      "Adam Optimizer:  18%|█▊        | 180/1000 [00:43<02:59,  4.56it/s]"
     ]
    },
    {
     "name": "stdout",
     "output_type": "stream",
     "text": [
      "3.6310154254135607e-07\n"
     ]
    },
    {
     "name": "stderr",
     "output_type": "stream",
     "text": [
      "Adam Optimizer:  18%|█▊        | 181/1000 [00:43<02:59,  4.57it/s]"
     ]
    },
    {
     "name": "stdout",
     "output_type": "stream",
     "text": [
      "2.1868180701982853e-07\n"
     ]
    },
    {
     "name": "stderr",
     "output_type": "stream",
     "text": [
      "Adam Optimizer:  18%|█▊        | 182/1000 [00:43<02:58,  4.57it/s]"
     ]
    },
    {
     "name": "stdout",
     "output_type": "stream",
     "text": [
      "2.4148614879416933e-07\n"
     ]
    },
    {
     "name": "stderr",
     "output_type": "stream",
     "text": [
      "Adam Optimizer:  18%|█▊        | 183/1000 [00:44<02:59,  4.55it/s]"
     ]
    },
    {
     "name": "stdout",
     "output_type": "stream",
     "text": [
      "3.2394336095273026e-07\n"
     ]
    },
    {
     "name": "stderr",
     "output_type": "stream",
     "text": [
      "Adam Optimizer:  18%|█▊        | 184/1000 [00:44<02:59,  4.56it/s]"
     ]
    },
    {
     "name": "stdout",
     "output_type": "stream",
     "text": [
      "2.048993992940418e-07\n"
     ]
    },
    {
     "name": "stderr",
     "output_type": "stream",
     "text": [
      "Adam Optimizer:  18%|█▊        | 185/1000 [00:44<02:59,  4.54it/s]"
     ]
    },
    {
     "name": "stdout",
     "output_type": "stream",
     "text": [
      "3.753990139433962e-07\n"
     ]
    },
    {
     "name": "stderr",
     "output_type": "stream",
     "text": [
      "Adam Optimizer:  19%|█▊        | 186/1000 [00:44<02:58,  4.56it/s]"
     ]
    },
    {
     "name": "stdout",
     "output_type": "stream",
     "text": [
      "1.4501447489119558e-07\n"
     ]
    },
    {
     "name": "stderr",
     "output_type": "stream",
     "text": [
      "Adam Optimizer:  19%|█▊        | 187/1000 [00:45<02:56,  4.60it/s]"
     ]
    },
    {
     "name": "stdout",
     "output_type": "stream",
     "text": [
      "1.4128183135596944e-07\n"
     ]
    },
    {
     "name": "stderr",
     "output_type": "stream",
     "text": [
      "Adam Optimizer:  19%|█▉        | 188/1000 [00:45<02:56,  4.61it/s]"
     ]
    },
    {
     "name": "stdout",
     "output_type": "stream",
     "text": [
      "1.7005296465042585e-07\n"
     ]
    },
    {
     "name": "stderr",
     "output_type": "stream",
     "text": [
      "Adam Optimizer:  19%|█▉        | 189/1000 [00:45<02:56,  4.60it/s]"
     ]
    },
    {
     "name": "stdout",
     "output_type": "stream",
     "text": [
      "2.2571576383566817e-07\n"
     ]
    },
    {
     "name": "stderr",
     "output_type": "stream",
     "text": [
      "Adam Optimizer:  19%|█▉        | 190/1000 [00:45<02:55,  4.61it/s]"
     ]
    },
    {
     "name": "stdout",
     "output_type": "stream",
     "text": [
      "1.3525028324275458e-07\n"
     ]
    },
    {
     "name": "stderr",
     "output_type": "stream",
     "text": [
      "Adam Optimizer:  19%|█▉        | 191/1000 [00:45<02:54,  4.65it/s]"
     ]
    },
    {
     "name": "stdout",
     "output_type": "stream",
     "text": [
      "8.289033906949211e-08\n"
     ]
    },
    {
     "name": "stderr",
     "output_type": "stream",
     "text": [
      "Adam Optimizer:  19%|█▉        | 192/1000 [00:46<02:53,  4.66it/s]"
     ]
    },
    {
     "name": "stdout",
     "output_type": "stream",
     "text": [
      "8.941074138090543e-08\n"
     ]
    },
    {
     "name": "stderr",
     "output_type": "stream",
     "text": [
      "Adam Optimizer:  19%|█▉        | 193/1000 [00:46<02:53,  4.65it/s]"
     ]
    },
    {
     "name": "stdout",
     "output_type": "stream",
     "text": [
      "1.019533906841357e-07\n"
     ]
    },
    {
     "name": "stderr",
     "output_type": "stream",
     "text": [
      "Adam Optimizer:  19%|█▉        | 194/1000 [00:46<02:54,  4.62it/s]"
     ]
    },
    {
     "name": "stdout",
     "output_type": "stream",
     "text": [
      "1.7300344304558972e-07\n"
     ]
    },
    {
     "name": "stderr",
     "output_type": "stream",
     "text": [
      "Adam Optimizer:  20%|█▉        | 195/1000 [00:46<02:53,  4.64it/s]"
     ]
    },
    {
     "name": "stdout",
     "output_type": "stream",
     "text": [
      "7.77721712744034e-08\n"
     ]
    },
    {
     "name": "stderr",
     "output_type": "stream",
     "text": [
      "Adam Optimizer:  20%|█▉        | 196/1000 [00:47<02:52,  4.66it/s]"
     ]
    },
    {
     "name": "stdout",
     "output_type": "stream",
     "text": [
      "7.256513583138975e-08\n"
     ]
    },
    {
     "name": "stderr",
     "output_type": "stream",
     "text": [
      "Adam Optimizer:  20%|█▉        | 197/1000 [00:47<02:52,  4.66it/s]"
     ]
    },
    {
     "name": "stdout",
     "output_type": "stream",
     "text": [
      "1.0152027430718984e-07\n"
     ]
    },
    {
     "name": "stderr",
     "output_type": "stream",
     "text": [
      "Adam Optimizer:  20%|█▉        | 198/1000 [00:47<02:52,  4.66it/s]"
     ]
    },
    {
     "name": "stdout",
     "output_type": "stream",
     "text": [
      "1.2236442871029924e-07\n"
     ]
    },
    {
     "name": "stderr",
     "output_type": "stream",
     "text": [
      "Adam Optimizer:  20%|█▉        | 199/1000 [00:47<02:52,  4.66it/s]"
     ]
    },
    {
     "name": "stdout",
     "output_type": "stream",
     "text": [
      "9.428435682563239e-08\n"
     ]
    },
    {
     "name": "stderr",
     "output_type": "stream",
     "text": [
      "Adam Optimizer:  20%|██        | 200/1000 [00:47<02:52,  4.63it/s]"
     ]
    },
    {
     "name": "stdout",
     "output_type": "stream",
     "text": [
      "1.9451963570616303e-07\n"
     ]
    },
    {
     "name": "stderr",
     "output_type": "stream",
     "text": [
      "Adam Optimizer:  20%|██        | 201/1000 [00:48<02:51,  4.65it/s]"
     ]
    },
    {
     "name": "stdout",
     "output_type": "stream",
     "text": [
      "9.303458527003724e-08\n"
     ]
    },
    {
     "name": "stderr",
     "output_type": "stream",
     "text": [
      "Adam Optimizer:  20%|██        | 202/1000 [00:48<02:53,  4.60it/s]"
     ]
    },
    {
     "name": "stdout",
     "output_type": "stream",
     "text": [
      "2.5120784940037026e-07\n"
     ]
    },
    {
     "name": "stderr",
     "output_type": "stream",
     "text": [
      "Adam Optimizer:  20%|██        | 203/1000 [00:48<02:52,  4.63it/s]"
     ]
    },
    {
     "name": "stdout",
     "output_type": "stream",
     "text": [
      "9.072149496460818e-08\n"
     ]
    },
    {
     "name": "stderr",
     "output_type": "stream",
     "text": [
      "Adam Optimizer:  20%|██        | 204/1000 [00:48<02:51,  4.65it/s]"
     ]
    },
    {
     "name": "stdout",
     "output_type": "stream",
     "text": [
      "6.946741518362785e-08\n"
     ]
    },
    {
     "name": "stderr",
     "output_type": "stream",
     "text": [
      "Adam Optimizer:  20%|██        | 205/1000 [00:48<02:52,  4.62it/s]"
     ]
    },
    {
     "name": "stdout",
     "output_type": "stream",
     "text": [
      "2.6220591663201683e-07\n"
     ]
    },
    {
     "name": "stderr",
     "output_type": "stream",
     "text": [
      "Adam Optimizer:  21%|██        | 206/1000 [00:49<02:52,  4.60it/s]"
     ]
    },
    {
     "name": "stdout",
     "output_type": "stream",
     "text": [
      "1.8294650177360418e-07\n"
     ]
    },
    {
     "name": "stderr",
     "output_type": "stream",
     "text": [
      "Adam Optimizer:  21%|██        | 207/1000 [00:49<02:53,  4.57it/s]"
     ]
    },
    {
     "name": "stdout",
     "output_type": "stream",
     "text": [
      "2.3065473632262386e-07\n"
     ]
    },
    {
     "name": "stderr",
     "output_type": "stream",
     "text": [
      "Adam Optimizer:  21%|██        | 208/1000 [00:49<02:52,  4.58it/s]"
     ]
    },
    {
     "name": "stdout",
     "output_type": "stream",
     "text": [
      "1.4673941018469644e-07\n"
     ]
    },
    {
     "name": "stderr",
     "output_type": "stream",
     "text": [
      "Adam Optimizer:  21%|██        | 209/1000 [00:49<02:51,  4.61it/s]"
     ]
    },
    {
     "name": "stdout",
     "output_type": "stream",
     "text": [
      "1.459428679226738e-07\n"
     ]
    },
    {
     "name": "stderr",
     "output_type": "stream",
     "text": [
      "Adam Optimizer:  21%|██        | 210/1000 [00:50<02:51,  4.62it/s]"
     ]
    },
    {
     "name": "stdout",
     "output_type": "stream",
     "text": [
      "1.3054943114518787e-07\n"
     ]
    },
    {
     "name": "stderr",
     "output_type": "stream",
     "text": [
      "Adam Optimizer:  21%|██        | 211/1000 [00:50<02:50,  4.63it/s]"
     ]
    },
    {
     "name": "stdout",
     "output_type": "stream",
     "text": [
      "1.4177185240144878e-07\n"
     ]
    },
    {
     "name": "stderr",
     "output_type": "stream",
     "text": [
      "Adam Optimizer:  21%|██        | 212/1000 [00:50<02:49,  4.65it/s]"
     ]
    },
    {
     "name": "stdout",
     "output_type": "stream",
     "text": [
      "1.0905111977578695e-07\n"
     ]
    },
    {
     "name": "stderr",
     "output_type": "stream",
     "text": [
      "Adam Optimizer:  21%|██▏       | 213/1000 [00:50<02:48,  4.66it/s]"
     ]
    },
    {
     "name": "stdout",
     "output_type": "stream",
     "text": [
      "9.359729969497256e-08\n"
     ]
    },
    {
     "name": "stderr",
     "output_type": "stream",
     "text": [
      "Adam Optimizer:  21%|██▏       | 214/1000 [00:50<02:48,  4.68it/s]"
     ]
    },
    {
     "name": "stdout",
     "output_type": "stream",
     "text": [
      "7.299072840952332e-08\n"
     ]
    },
    {
     "name": "stderr",
     "output_type": "stream",
     "text": [
      "Adam Optimizer:  22%|██▏       | 215/1000 [00:51<02:47,  4.68it/s]"
     ]
    },
    {
     "name": "stdout",
     "output_type": "stream",
     "text": [
      "9.604828651785918e-08\n"
     ]
    },
    {
     "name": "stderr",
     "output_type": "stream",
     "text": [
      "Adam Optimizer:  22%|██▏       | 216/1000 [00:51<02:47,  4.67it/s]"
     ]
    },
    {
     "name": "stdout",
     "output_type": "stream",
     "text": [
      "1.0485152131982475e-07\n"
     ]
    },
    {
     "name": "stderr",
     "output_type": "stream",
     "text": [
      "Adam Optimizer:  22%|██▏       | 217/1000 [00:51<02:47,  4.66it/s]"
     ]
    },
    {
     "name": "stdout",
     "output_type": "stream",
     "text": [
      "1.0608724781978547e-07\n"
     ]
    },
    {
     "name": "stderr",
     "output_type": "stream",
     "text": [
      "Adam Optimizer:  22%|██▏       | 218/1000 [00:51<02:47,  4.68it/s]"
     ]
    },
    {
     "name": "stdout",
     "output_type": "stream",
     "text": [
      "7.625831979478936e-08\n"
     ]
    },
    {
     "name": "stderr",
     "output_type": "stream",
     "text": [
      "Adam Optimizer:  22%|██▏       | 219/1000 [00:51<02:46,  4.69it/s]"
     ]
    },
    {
     "name": "stdout",
     "output_type": "stream",
     "text": [
      "7.188822349977672e-08\n"
     ]
    },
    {
     "name": "stderr",
     "output_type": "stream",
     "text": [
      "Adam Optimizer:  22%|██▏       | 220/1000 [00:52<02:46,  4.70it/s]"
     ]
    },
    {
     "name": "stdout",
     "output_type": "stream",
     "text": [
      "6.645748235388479e-08\n"
     ]
    },
    {
     "name": "stderr",
     "output_type": "stream",
     "text": [
      "Adam Optimizer:  22%|██▏       | 221/1000 [00:52<02:45,  4.70it/s]"
     ]
    },
    {
     "name": "stdout",
     "output_type": "stream",
     "text": [
      "8.285859696025705e-08\n"
     ]
    },
    {
     "name": "stderr",
     "output_type": "stream",
     "text": [
      "Adam Optimizer:  22%|██▏       | 222/1000 [00:52<02:45,  4.69it/s]"
     ]
    },
    {
     "name": "stdout",
     "output_type": "stream",
     "text": [
      "9.13559817296506e-08\n"
     ]
    },
    {
     "name": "stderr",
     "output_type": "stream",
     "text": [
      "Adam Optimizer:  22%|██▏       | 223/1000 [00:52<02:48,  4.61it/s]"
     ]
    },
    {
     "name": "stdout",
     "output_type": "stream",
     "text": [
      "2.5825319707310453e-07\n"
     ]
    },
    {
     "name": "stderr",
     "output_type": "stream",
     "text": [
      "Adam Optimizer:  22%|██▏       | 224/1000 [00:53<02:51,  4.54it/s]"
     ]
    },
    {
     "name": "stdout",
     "output_type": "stream",
     "text": [
      "5.360941798170338e-07\n"
     ]
    },
    {
     "name": "stderr",
     "output_type": "stream",
     "text": [
      "Adam Optimizer:  22%|██▎       | 225/1000 [00:53<02:54,  4.44it/s]"
     ]
    },
    {
     "name": "stdout",
     "output_type": "stream",
     "text": [
      "9.96271178476787e-07\n"
     ]
    },
    {
     "name": "stderr",
     "output_type": "stream",
     "text": [
      "Adam Optimizer:  23%|██▎       | 226/1000 [00:53<02:55,  4.40it/s]"
     ]
    },
    {
     "name": "stdout",
     "output_type": "stream",
     "text": [
      "7.221468069541627e-07\n"
     ]
    },
    {
     "name": "stderr",
     "output_type": "stream",
     "text": [
      "Adam Optimizer:  23%|██▎       | 227/1000 [00:53<02:54,  4.42it/s]"
     ]
    },
    {
     "name": "stdout",
     "output_type": "stream",
     "text": [
      "1.9566438938331352e-07\n"
     ]
    },
    {
     "name": "stderr",
     "output_type": "stream",
     "text": [
      "Adam Optimizer:  23%|██▎       | 228/1000 [00:53<02:55,  4.41it/s]"
     ]
    },
    {
     "name": "stdout",
     "output_type": "stream",
     "text": [
      "7.268560777937235e-07\n"
     ]
    },
    {
     "name": "stderr",
     "output_type": "stream",
     "text": [
      "Adam Optimizer:  23%|██▎       | 229/1000 [00:54<02:54,  4.41it/s]"
     ]
    },
    {
     "name": "stdout",
     "output_type": "stream",
     "text": [
      "4.438357505217665e-07\n"
     ]
    },
    {
     "name": "stderr",
     "output_type": "stream",
     "text": [
      "Adam Optimizer:  23%|██▎       | 230/1000 [00:54<02:55,  4.40it/s]"
     ]
    },
    {
     "name": "stdout",
     "output_type": "stream",
     "text": [
      "6.571220344796145e-07\n"
     ]
    },
    {
     "name": "stderr",
     "output_type": "stream",
     "text": [
      "Adam Optimizer:  23%|██▎       | 231/1000 [00:54<02:53,  4.43it/s]"
     ]
    },
    {
     "name": "stdout",
     "output_type": "stream",
     "text": [
      "2.1220862738085207e-07\n"
     ]
    },
    {
     "name": "stderr",
     "output_type": "stream",
     "text": [
      "Adam Optimizer:  23%|██▎       | 232/1000 [00:54<02:51,  4.47it/s]"
     ]
    },
    {
     "name": "stdout",
     "output_type": "stream",
     "text": [
      "1.1246447626560875e-07\n"
     ]
    },
    {
     "name": "stderr",
     "output_type": "stream",
     "text": [
      "Adam Optimizer:  23%|██▎       | 233/1000 [00:55<02:51,  4.48it/s]"
     ]
    },
    {
     "name": "stdout",
     "output_type": "stream",
     "text": [
      "2.8734402221273705e-07\n"
     ]
    },
    {
     "name": "stderr",
     "output_type": "stream",
     "text": [
      "Adam Optimizer:  23%|██▎       | 234/1000 [00:55<02:50,  4.48it/s]"
     ]
    },
    {
     "name": "stdout",
     "output_type": "stream",
     "text": [
      "3.7128107913265375e-07\n"
     ]
    },
    {
     "name": "stderr",
     "output_type": "stream",
     "text": [
      "Adam Optimizer:  24%|██▎       | 235/1000 [00:55<02:51,  4.47it/s]"
     ]
    },
    {
     "name": "stdout",
     "output_type": "stream",
     "text": [
      "4.3664892068895027e-07\n"
     ]
    },
    {
     "name": "stderr",
     "output_type": "stream",
     "text": [
      "Adam Optimizer:  24%|██▎       | 236/1000 [00:55<02:49,  4.51it/s]"
     ]
    },
    {
     "name": "stdout",
     "output_type": "stream",
     "text": [
      "1.3841030115718818e-07\n"
     ]
    },
    {
     "name": "stderr",
     "output_type": "stream",
     "text": [
      "Adam Optimizer:  24%|██▎       | 237/1000 [00:55<02:48,  4.54it/s]"
     ]
    },
    {
     "name": "stdout",
     "output_type": "stream",
     "text": [
      "5.4741331772925416e-08\n"
     ]
    },
    {
     "name": "stderr",
     "output_type": "stream",
     "text": [
      "Adam Optimizer:  24%|██▍       | 238/1000 [00:56<02:46,  4.57it/s]"
     ]
    },
    {
     "name": "stdout",
     "output_type": "stream",
     "text": [
      "6.094131774595878e-08\n"
     ]
    },
    {
     "name": "stderr",
     "output_type": "stream",
     "text": [
      "Adam Optimizer:  24%|██▍       | 239/1000 [00:56<02:46,  4.57it/s]"
     ]
    },
    {
     "name": "stdout",
     "output_type": "stream",
     "text": [
      "1.266492872241208e-07\n"
     ]
    },
    {
     "name": "stderr",
     "output_type": "stream",
     "text": [
      "Adam Optimizer:  24%|██▍       | 240/1000 [00:56<02:47,  4.55it/s]"
     ]
    },
    {
     "name": "stdout",
     "output_type": "stream",
     "text": [
      "2.4238698898566e-07\n"
     ]
    },
    {
     "name": "stderr",
     "output_type": "stream",
     "text": [
      "Adam Optimizer:  24%|██▍       | 241/1000 [00:56<02:46,  4.55it/s]"
     ]
    },
    {
     "name": "stdout",
     "output_type": "stream",
     "text": [
      "2.000451295179799e-07\n"
     ]
    },
    {
     "name": "stderr",
     "output_type": "stream",
     "text": [
      "Adam Optimizer:  24%|██▍       | 242/1000 [00:57<02:44,  4.60it/s]"
     ]
    },
    {
     "name": "stdout",
     "output_type": "stream",
     "text": [
      "1.243416894733834e-07\n"
     ]
    },
    {
     "name": "stderr",
     "output_type": "stream",
     "text": [
      "Adam Optimizer:  24%|██▍       | 243/1000 [00:57<02:43,  4.63it/s]"
     ]
    },
    {
     "name": "stdout",
     "output_type": "stream",
     "text": [
      "8.935577266061337e-08\n"
     ]
    },
    {
     "name": "stderr",
     "output_type": "stream",
     "text": [
      "Adam Optimizer:  24%|██▍       | 244/1000 [00:57<02:42,  4.65it/s]"
     ]
    },
    {
     "name": "stdout",
     "output_type": "stream",
     "text": [
      "8.36673078728667e-08\n"
     ]
    },
    {
     "name": "stderr",
     "output_type": "stream",
     "text": [
      "Adam Optimizer:  24%|██▍       | 245/1000 [00:57<02:43,  4.62it/s]"
     ]
    },
    {
     "name": "stdout",
     "output_type": "stream",
     "text": [
      "9.432653111830988e-08\n"
     ]
    },
    {
     "name": "stderr",
     "output_type": "stream",
     "text": [
      "Adam Optimizer:  25%|██▍       | 246/1000 [00:57<02:44,  4.58it/s]"
     ]
    },
    {
     "name": "stdout",
     "output_type": "stream",
     "text": [
      "2.538382766831654e-07\n"
     ]
    },
    {
     "name": "stderr",
     "output_type": "stream",
     "text": [
      "Adam Optimizer:  25%|██▍       | 247/1000 [00:58<02:43,  4.60it/s]"
     ]
    },
    {
     "name": "stdout",
     "output_type": "stream",
     "text": [
      "1.2613791103486042e-07\n"
     ]
    },
    {
     "name": "stderr",
     "output_type": "stream",
     "text": [
      "Adam Optimizer:  25%|██▍       | 248/1000 [00:58<02:46,  4.52it/s]"
     ]
    },
    {
     "name": "stdout",
     "output_type": "stream",
     "text": [
      "9.055835978458942e-07\n"
     ]
    },
    {
     "name": "stderr",
     "output_type": "stream",
     "text": [
      "Adam Optimizer:  25%|██▍       | 249/1000 [00:58<02:45,  4.52it/s]"
     ]
    },
    {
     "name": "stdout",
     "output_type": "stream",
     "text": [
      "1.4171637494634232e-07\n"
     ]
    },
    {
     "name": "stderr",
     "output_type": "stream",
     "text": [
      "Adam Optimizer:  25%|██▌       | 250/1000 [00:58<02:44,  4.55it/s]"
     ]
    },
    {
     "name": "stdout",
     "output_type": "stream",
     "text": [
      "1.4660725319494564e-07\n"
     ]
    },
    {
     "name": "stderr",
     "output_type": "stream",
     "text": [
      "Adam Optimizer:  25%|██▌       | 251/1000 [00:59<02:47,  4.48it/s]"
     ]
    },
    {
     "name": "stdout",
     "output_type": "stream",
     "text": [
      "9.419316015149736e-07\n"
     ]
    },
    {
     "name": "stderr",
     "output_type": "stream",
     "text": [
      "Adam Optimizer:  25%|██▌       | 252/1000 [00:59<02:48,  4.45it/s]"
     ]
    },
    {
     "name": "stdout",
     "output_type": "stream",
     "text": [
      "4.851249135513131e-07\n"
     ]
    },
    {
     "name": "stderr",
     "output_type": "stream",
     "text": [
      "Adam Optimizer:  25%|██▌       | 253/1000 [00:59<02:49,  4.40it/s]"
     ]
    },
    {
     "name": "stdout",
     "output_type": "stream",
     "text": [
      "6.935305415585388e-07\n"
     ]
    },
    {
     "name": "stderr",
     "output_type": "stream",
     "text": [
      "Adam Optimizer:  25%|██▌       | 254/1000 [00:59<02:48,  4.42it/s]"
     ]
    },
    {
     "name": "stdout",
     "output_type": "stream",
     "text": [
      "2.383701349125652e-07\n"
     ]
    },
    {
     "name": "stderr",
     "output_type": "stream",
     "text": [
      "Adam Optimizer:  26%|██▌       | 255/1000 [00:59<02:48,  4.42it/s]"
     ]
    },
    {
     "name": "stdout",
     "output_type": "stream",
     "text": [
      "2.5859514462399706e-07\n"
     ]
    },
    {
     "name": "stderr",
     "output_type": "stream",
     "text": [
      "Adam Optimizer:  26%|██▌       | 256/1000 [01:00<02:48,  4.41it/s]"
     ]
    },
    {
     "name": "stdout",
     "output_type": "stream",
     "text": [
      "7.094660641295573e-07\n"
     ]
    },
    {
     "name": "stderr",
     "output_type": "stream",
     "text": [
      "Adam Optimizer:  26%|██▌       | 257/1000 [01:00<02:48,  4.42it/s]"
     ]
    },
    {
     "name": "stdout",
     "output_type": "stream",
     "text": [
      "4.3092363795009865e-07\n"
     ]
    },
    {
     "name": "stderr",
     "output_type": "stream",
     "text": [
      "Adam Optimizer:  26%|██▌       | 258/1000 [01:00<02:44,  4.50it/s]"
     ]
    },
    {
     "name": "stdout",
     "output_type": "stream",
     "text": [
      "1.0450270690953077e-07\n"
     ]
    },
    {
     "name": "stderr",
     "output_type": "stream",
     "text": [
      "Adam Optimizer:  26%|██▌       | 259/1000 [01:00<02:42,  4.55it/s]"
     ]
    },
    {
     "name": "stdout",
     "output_type": "stream",
     "text": [
      "1.290709490086764e-07\n"
     ]
    },
    {
     "name": "stderr",
     "output_type": "stream",
     "text": [
      "Adam Optimizer:  26%|██▌       | 260/1000 [01:01<02:44,  4.50it/s]"
     ]
    },
    {
     "name": "stdout",
     "output_type": "stream",
     "text": [
      "3.04678629555901e-07\n"
     ]
    },
    {
     "name": "stderr",
     "output_type": "stream",
     "text": [
      "Adam Optimizer:  26%|██▌       | 261/1000 [01:01<02:43,  4.51it/s]"
     ]
    },
    {
     "name": "stdout",
     "output_type": "stream",
     "text": [
      "2.718954434681291e-07\n"
     ]
    },
    {
     "name": "stderr",
     "output_type": "stream",
     "text": [
      "Adam Optimizer:  26%|██▌       | 262/1000 [01:01<02:42,  4.54it/s]"
     ]
    },
    {
     "name": "stdout",
     "output_type": "stream",
     "text": [
      "1.5346107149331177e-07\n"
     ]
    },
    {
     "name": "stderr",
     "output_type": "stream",
     "text": [
      "Adam Optimizer:  26%|██▋       | 263/1000 [01:01<02:41,  4.57it/s]"
     ]
    },
    {
     "name": "stdout",
     "output_type": "stream",
     "text": [
      "1.5339552980674342e-07\n"
     ]
    },
    {
     "name": "stderr",
     "output_type": "stream",
     "text": [
      "Adam Optimizer:  26%|██▋       | 264/1000 [01:01<02:41,  4.57it/s]"
     ]
    },
    {
     "name": "stdout",
     "output_type": "stream",
     "text": [
      "1.5857023546566462e-07\n"
     ]
    },
    {
     "name": "stderr",
     "output_type": "stream",
     "text": [
      "Adam Optimizer:  26%|██▋       | 265/1000 [01:02<02:41,  4.55it/s]"
     ]
    },
    {
     "name": "stdout",
     "output_type": "stream",
     "text": [
      "1.967245926676216e-07\n"
     ]
    },
    {
     "name": "stderr",
     "output_type": "stream",
     "text": [
      "Adam Optimizer:  27%|██▋       | 266/1000 [01:02<02:41,  4.54it/s]"
     ]
    },
    {
     "name": "stdout",
     "output_type": "stream",
     "text": [
      "1.1802722205207846e-07\n"
     ]
    },
    {
     "name": "stderr",
     "output_type": "stream",
     "text": [
      "Adam Optimizer:  27%|██▋       | 267/1000 [01:02<02:41,  4.55it/s]"
     ]
    },
    {
     "name": "stdout",
     "output_type": "stream",
     "text": [
      "1.1589283278129668e-07\n"
     ]
    },
    {
     "name": "stderr",
     "output_type": "stream",
     "text": [
      "Adam Optimizer:  27%|██▋       | 268/1000 [01:02<02:40,  4.56it/s]"
     ]
    },
    {
     "name": "stdout",
     "output_type": "stream",
     "text": [
      "9.879037827010138e-08\n"
     ]
    },
    {
     "name": "stderr",
     "output_type": "stream",
     "text": [
      "Adam Optimizer:  27%|██▋       | 269/1000 [01:03<02:38,  4.60it/s]"
     ]
    },
    {
     "name": "stdout",
     "output_type": "stream",
     "text": [
      "1.1861440866932172e-07\n"
     ]
    },
    {
     "name": "stderr",
     "output_type": "stream",
     "text": [
      "Adam Optimizer:  27%|██▋       | 270/1000 [01:03<02:38,  4.61it/s]"
     ]
    },
    {
     "name": "stdout",
     "output_type": "stream",
     "text": [
      "1.622733013645886e-07\n"
     ]
    },
    {
     "name": "stderr",
     "output_type": "stream",
     "text": [
      "Adam Optimizer:  27%|██▋       | 271/1000 [01:03<02:37,  4.62it/s]"
     ]
    },
    {
     "name": "stdout",
     "output_type": "stream",
     "text": [
      "1.1674373473087954e-07\n"
     ]
    },
    {
     "name": "stderr",
     "output_type": "stream",
     "text": [
      "Adam Optimizer:  27%|██▋       | 272/1000 [01:03<02:39,  4.58it/s]"
     ]
    },
    {
     "name": "stdout",
     "output_type": "stream",
     "text": [
      "2.128339346976745e-07\n"
     ]
    },
    {
     "name": "stderr",
     "output_type": "stream",
     "text": [
      "Adam Optimizer:  27%|██▋       | 273/1000 [01:03<02:37,  4.61it/s]"
     ]
    },
    {
     "name": "stdout",
     "output_type": "stream",
     "text": [
      "9.690349209823625e-08\n"
     ]
    },
    {
     "name": "stderr",
     "output_type": "stream",
     "text": [
      "Adam Optimizer:  27%|██▋       | 274/1000 [01:04<02:38,  4.57it/s]"
     ]
    },
    {
     "name": "stdout",
     "output_type": "stream",
     "text": [
      "3.347090822781626e-07\n"
     ]
    },
    {
     "name": "stderr",
     "output_type": "stream",
     "text": [
      "Adam Optimizer:  28%|██▊       | 275/1000 [01:04<02:38,  4.57it/s]"
     ]
    },
    {
     "name": "stdout",
     "output_type": "stream",
     "text": [
      "9.627091758038197e-08\n"
     ]
    },
    {
     "name": "stderr",
     "output_type": "stream",
     "text": [
      "Adam Optimizer:  28%|██▊       | 276/1000 [01:04<02:37,  4.61it/s]"
     ]
    },
    {
     "name": "stdout",
     "output_type": "stream",
     "text": [
      "7.9430067429563e-08\n"
     ]
    },
    {
     "name": "stderr",
     "output_type": "stream",
     "text": [
      "Adam Optimizer:  28%|██▊       | 277/1000 [01:04<02:37,  4.60it/s]"
     ]
    },
    {
     "name": "stdout",
     "output_type": "stream",
     "text": [
      "1.4766732925477e-07\n"
     ]
    },
    {
     "name": "stderr",
     "output_type": "stream",
     "text": [
      "Adam Optimizer:  28%|██▊       | 278/1000 [01:04<02:37,  4.59it/s]"
     ]
    },
    {
     "name": "stdout",
     "output_type": "stream",
     "text": [
      "2.124493657053128e-07\n"
     ]
    },
    {
     "name": "stderr",
     "output_type": "stream",
     "text": [
      "Adam Optimizer:  28%|██▊       | 279/1000 [01:05<02:36,  4.61it/s]"
     ]
    },
    {
     "name": "stdout",
     "output_type": "stream",
     "text": [
      "9.163126545461529e-08\n"
     ]
    },
    {
     "name": "stderr",
     "output_type": "stream",
     "text": [
      "Adam Optimizer:  28%|██▊       | 280/1000 [01:05<02:37,  4.56it/s]"
     ]
    },
    {
     "name": "stdout",
     "output_type": "stream",
     "text": [
      "5.461003842805051e-07\n"
     ]
    },
    {
     "name": "stderr",
     "output_type": "stream",
     "text": [
      "Adam Optimizer:  28%|██▊       | 281/1000 [01:05<02:37,  4.55it/s]"
     ]
    },
    {
     "name": "stdout",
     "output_type": "stream",
     "text": [
      "1.7755270990830732e-07\n"
     ]
    },
    {
     "name": "stderr",
     "output_type": "stream",
     "text": [
      "Adam Optimizer:  28%|██▊       | 282/1000 [01:05<02:38,  4.52it/s]"
     ]
    },
    {
     "name": "stdout",
     "output_type": "stream",
     "text": [
      "2.718090223840126e-07\n"
     ]
    },
    {
     "name": "stderr",
     "output_type": "stream",
     "text": [
      "Adam Optimizer:  28%|██▊       | 283/1000 [01:06<02:40,  4.48it/s]"
     ]
    },
    {
     "name": "stdout",
     "output_type": "stream",
     "text": [
      "4.830971963187436e-07\n"
     ]
    },
    {
     "name": "stderr",
     "output_type": "stream",
     "text": [
      "Adam Optimizer:  28%|██▊       | 284/1000 [01:06<02:41,  4.45it/s]"
     ]
    },
    {
     "name": "stdout",
     "output_type": "stream",
     "text": [
      "2.3614528778382791e-07\n"
     ]
    },
    {
     "name": "stderr",
     "output_type": "stream",
     "text": [
      "Adam Optimizer:  28%|██▊       | 285/1000 [01:06<02:39,  4.47it/s]"
     ]
    },
    {
     "name": "stdout",
     "output_type": "stream",
     "text": [
      "1.6723947527982221e-07\n"
     ]
    },
    {
     "name": "stderr",
     "output_type": "stream",
     "text": [
      "Adam Optimizer:  29%|██▊       | 286/1000 [01:06<02:38,  4.51it/s]"
     ]
    },
    {
     "name": "stdout",
     "output_type": "stream",
     "text": [
      "1.0548528732699869e-07\n"
     ]
    },
    {
     "name": "stderr",
     "output_type": "stream",
     "text": [
      "Adam Optimizer:  29%|██▊       | 287/1000 [01:06<02:39,  4.48it/s]"
     ]
    },
    {
     "name": "stdout",
     "output_type": "stream",
     "text": [
      "3.964915512187283e-07\n"
     ]
    },
    {
     "name": "stderr",
     "output_type": "stream",
     "text": [
      "Adam Optimizer:  29%|██▉       | 288/1000 [01:07<02:39,  4.46it/s]"
     ]
    },
    {
     "name": "stdout",
     "output_type": "stream",
     "text": [
      "2.944225169801549e-07\n"
     ]
    },
    {
     "name": "stderr",
     "output_type": "stream",
     "text": [
      "Adam Optimizer:  29%|██▉       | 289/1000 [01:07<02:37,  4.52it/s]"
     ]
    },
    {
     "name": "stdout",
     "output_type": "stream",
     "text": [
      "9.374314499571484e-08\n"
     ]
    },
    {
     "name": "stderr",
     "output_type": "stream",
     "text": [
      "Adam Optimizer:  29%|██▉       | 290/1000 [01:07<02:35,  4.56it/s]"
     ]
    },
    {
     "name": "stdout",
     "output_type": "stream",
     "text": [
      "8.431999283638711e-08\n"
     ]
    },
    {
     "name": "stderr",
     "output_type": "stream",
     "text": [
      "Adam Optimizer:  29%|██▉       | 291/1000 [01:07<02:34,  4.58it/s]"
     ]
    },
    {
     "name": "stdout",
     "output_type": "stream",
     "text": [
      "9.850290709292384e-08\n"
     ]
    },
    {
     "name": "stderr",
     "output_type": "stream",
     "text": [
      "Adam Optimizer:  29%|██▉       | 292/1000 [01:08<02:35,  4.55it/s]"
     ]
    },
    {
     "name": "stdout",
     "output_type": "stream",
     "text": [
      "1.9198944576212373e-07\n"
     ]
    },
    {
     "name": "stderr",
     "output_type": "stream",
     "text": [
      "Adam Optimizer:  29%|██▉       | 293/1000 [01:08<02:35,  4.54it/s]"
     ]
    },
    {
     "name": "stdout",
     "output_type": "stream",
     "text": [
      "1.7529718386444978e-07\n"
     ]
    },
    {
     "name": "stderr",
     "output_type": "stream",
     "text": [
      "Adam Optimizer:  29%|██▉       | 294/1000 [01:08<02:35,  4.53it/s]"
     ]
    },
    {
     "name": "stdout",
     "output_type": "stream",
     "text": [
      "1.366666875010629e-07\n"
     ]
    },
    {
     "name": "stderr",
     "output_type": "stream",
     "text": [
      "Adam Optimizer:  30%|██▉       | 295/1000 [01:08<02:35,  4.54it/s]"
     ]
    },
    {
     "name": "stdout",
     "output_type": "stream",
     "text": [
      "1.0293180326007612e-07\n"
     ]
    },
    {
     "name": "stderr",
     "output_type": "stream",
     "text": [
      "Adam Optimizer:  30%|██▉       | 296/1000 [01:08<02:33,  4.58it/s]"
     ]
    },
    {
     "name": "stdout",
     "output_type": "stream",
     "text": [
      "8.969616021391249e-08\n"
     ]
    },
    {
     "name": "stderr",
     "output_type": "stream",
     "text": [
      "Adam Optimizer:  30%|██▉       | 297/1000 [01:09<02:32,  4.62it/s]"
     ]
    },
    {
     "name": "stdout",
     "output_type": "stream",
     "text": [
      "1.223642707811573e-07\n"
     ]
    },
    {
     "name": "stderr",
     "output_type": "stream",
     "text": [
      "Adam Optimizer:  30%|██▉       | 298/1000 [01:09<02:31,  4.64it/s]"
     ]
    },
    {
     "name": "stdout",
     "output_type": "stream",
     "text": [
      "8.340311056331414e-08\n"
     ]
    },
    {
     "name": "stderr",
     "output_type": "stream",
     "text": [
      "Adam Optimizer:  30%|██▉       | 299/1000 [01:09<02:32,  4.60it/s]"
     ]
    },
    {
     "name": "stdout",
     "output_type": "stream",
     "text": [
      "3.360339197055142e-07\n"
     ]
    },
    {
     "name": "stderr",
     "output_type": "stream",
     "text": [
      "Adam Optimizer:  30%|███       | 300/1000 [01:09<02:31,  4.61it/s]"
     ]
    },
    {
     "name": "stdout",
     "output_type": "stream",
     "text": [
      "1.4363858660351416e-07\n"
     ]
    },
    {
     "name": "stderr",
     "output_type": "stream",
     "text": [
      "Adam Optimizer:  30%|███       | 301/1000 [01:10<02:31,  4.61it/s]"
     ]
    },
    {
     "name": "stdout",
     "output_type": "stream",
     "text": [
      "1.5678241125155633e-07\n"
     ]
    },
    {
     "name": "stderr",
     "output_type": "stream",
     "text": [
      "Adam Optimizer:  30%|███       | 302/1000 [01:10<02:33,  4.54it/s]"
     ]
    },
    {
     "name": "stdout",
     "output_type": "stream",
     "text": [
      "4.1299067399886196e-07\n"
     ]
    },
    {
     "name": "stderr",
     "output_type": "stream",
     "text": [
      "Adam Optimizer:  30%|███       | 303/1000 [01:10<02:34,  4.51it/s]"
     ]
    },
    {
     "name": "stdout",
     "output_type": "stream",
     "text": [
      "3.1137822193060903e-07\n"
     ]
    },
    {
     "name": "stderr",
     "output_type": "stream",
     "text": [
      "Adam Optimizer:  30%|███       | 304/1000 [01:10<02:32,  4.57it/s]"
     ]
    },
    {
     "name": "stdout",
     "output_type": "stream",
     "text": [
      "8.89511625836823e-08\n"
     ]
    },
    {
     "name": "stderr",
     "output_type": "stream",
     "text": [
      "Adam Optimizer:  30%|███       | 305/1000 [01:10<02:34,  4.50it/s]"
     ]
    },
    {
     "name": "stdout",
     "output_type": "stream",
     "text": [
      "7.756864624865166e-07\n"
     ]
    },
    {
     "name": "stderr",
     "output_type": "stream",
     "text": [
      "Adam Optimizer:  31%|███       | 306/1000 [01:11<02:34,  4.50it/s]"
     ]
    },
    {
     "name": "stdout",
     "output_type": "stream",
     "text": [
      "2.2127497863997466e-07\n"
     ]
    },
    {
     "name": "stderr",
     "output_type": "stream",
     "text": [
      "Adam Optimizer:  31%|███       | 307/1000 [01:11<02:35,  4.46it/s]"
     ]
    },
    {
     "name": "stdout",
     "output_type": "stream",
     "text": [
      "6.257562629612172e-07\n"
     ]
    },
    {
     "name": "stderr",
     "output_type": "stream",
     "text": [
      "Adam Optimizer:  31%|███       | 308/1000 [01:11<02:34,  4.47it/s]"
     ]
    },
    {
     "name": "stdout",
     "output_type": "stream",
     "text": [
      "3.734216716226723e-07\n"
     ]
    },
    {
     "name": "stderr",
     "output_type": "stream",
     "text": [
      "Adam Optimizer:  31%|███       | 309/1000 [01:11<02:36,  4.42it/s]"
     ]
    },
    {
     "name": "stdout",
     "output_type": "stream",
     "text": [
      "9.092408766320407e-07\n"
     ]
    },
    {
     "name": "stderr",
     "output_type": "stream",
     "text": [
      "Adam Optimizer:  31%|███       | 310/1000 [01:12<02:35,  4.44it/s]"
     ]
    },
    {
     "name": "stdout",
     "output_type": "stream",
     "text": [
      "2.97916773866405e-07\n"
     ]
    },
    {
     "name": "stderr",
     "output_type": "stream",
     "text": [
      "Adam Optimizer:  31%|███       | 311/1000 [01:12<02:33,  4.50it/s]"
     ]
    },
    {
     "name": "stdout",
     "output_type": "stream",
     "text": [
      "1.5835011922462921e-07\n"
     ]
    },
    {
     "name": "stderr",
     "output_type": "stream",
     "text": [
      "Adam Optimizer:  31%|███       | 312/1000 [01:12<02:31,  4.55it/s]"
     ]
    },
    {
     "name": "stdout",
     "output_type": "stream",
     "text": [
      "1.9850912922973337e-07\n"
     ]
    },
    {
     "name": "stderr",
     "output_type": "stream",
     "text": [
      "Adam Optimizer:  31%|███▏      | 313/1000 [01:12<02:32,  4.51it/s]"
     ]
    },
    {
     "name": "stdout",
     "output_type": "stream",
     "text": [
      "4.915719724890025e-07\n"
     ]
    },
    {
     "name": "stderr",
     "output_type": "stream",
     "text": [
      "Adam Optimizer:  31%|███▏      | 314/1000 [01:12<02:32,  4.50it/s]"
     ]
    },
    {
     "name": "stdout",
     "output_type": "stream",
     "text": [
      "2.9740080480013666e-07\n"
     ]
    },
    {
     "name": "stderr",
     "output_type": "stream",
     "text": [
      "Adam Optimizer:  32%|███▏      | 315/1000 [01:13<02:30,  4.54it/s]"
     ]
    },
    {
     "name": "stdout",
     "output_type": "stream",
     "text": [
      "1.4178907561097318e-07\n"
     ]
    },
    {
     "name": "stderr",
     "output_type": "stream",
     "text": [
      "Adam Optimizer:  32%|███▏      | 316/1000 [01:13<02:29,  4.58it/s]"
     ]
    },
    {
     "name": "stdout",
     "output_type": "stream",
     "text": [
      "8.829540350628656e-08\n"
     ]
    },
    {
     "name": "stderr",
     "output_type": "stream",
     "text": [
      "Adam Optimizer:  32%|███▏      | 317/1000 [01:13<02:28,  4.60it/s]"
     ]
    },
    {
     "name": "stdout",
     "output_type": "stream",
     "text": [
      "1.2046958799656396e-07\n"
     ]
    },
    {
     "name": "stderr",
     "output_type": "stream",
     "text": [
      "Adam Optimizer:  32%|███▏      | 318/1000 [01:13<02:29,  4.57it/s]"
     ]
    },
    {
     "name": "stdout",
     "output_type": "stream",
     "text": [
      "2.564100851265236e-07\n"
     ]
    },
    {
     "name": "stderr",
     "output_type": "stream",
     "text": [
      "Adam Optimizer:  32%|███▏      | 319/1000 [01:14<02:31,  4.50it/s]"
     ]
    },
    {
     "name": "stdout",
     "output_type": "stream",
     "text": [
      "6.784399554869557e-07\n"
     ]
    },
    {
     "name": "stderr",
     "output_type": "stream",
     "text": [
      "Adam Optimizer:  32%|███▏      | 320/1000 [01:14<02:30,  4.51it/s]"
     ]
    },
    {
     "name": "stdout",
     "output_type": "stream",
     "text": [
      "2.1208047775975844e-07\n"
     ]
    },
    {
     "name": "stderr",
     "output_type": "stream",
     "text": [
      "Adam Optimizer:  32%|███▏      | 321/1000 [01:14<02:32,  4.44it/s]"
     ]
    },
    {
     "name": "stdout",
     "output_type": "stream",
     "text": [
      "1.2280054694276531e-06\n"
     ]
    },
    {
     "name": "stderr",
     "output_type": "stream",
     "text": [
      "Adam Optimizer:  32%|███▏      | 322/1000 [01:14<02:31,  4.48it/s]"
     ]
    },
    {
     "name": "stdout",
     "output_type": "stream",
     "text": [
      "1.5336688271589856e-07\n"
     ]
    },
    {
     "name": "stderr",
     "output_type": "stream",
     "text": [
      "Adam Optimizer:  32%|███▏      | 323/1000 [01:14<02:28,  4.54it/s]"
     ]
    },
    {
     "name": "stdout",
     "output_type": "stream",
     "text": [
      "9.558120091965432e-08\n"
     ]
    },
    {
     "name": "stderr",
     "output_type": "stream",
     "text": [
      "Adam Optimizer:  32%|███▏      | 324/1000 [01:15<02:30,  4.49it/s]"
     ]
    },
    {
     "name": "stdout",
     "output_type": "stream",
     "text": [
      "6.65410210018072e-07\n"
     ]
    },
    {
     "name": "stderr",
     "output_type": "stream",
     "text": [
      "Adam Optimizer:  32%|███▎      | 325/1000 [01:15<02:31,  4.45it/s]"
     ]
    },
    {
     "name": "stdout",
     "output_type": "stream",
     "text": [
      "6.046087838091093e-07\n"
     ]
    },
    {
     "name": "stderr",
     "output_type": "stream",
     "text": [
      "Adam Optimizer:  33%|███▎      | 326/1000 [01:15<02:30,  4.48it/s]"
     ]
    },
    {
     "name": "stdout",
     "output_type": "stream",
     "text": [
      "2.2861730250584344e-07\n"
     ]
    },
    {
     "name": "stderr",
     "output_type": "stream",
     "text": [
      "Adam Optimizer:  33%|███▎      | 327/1000 [01:15<02:28,  4.53it/s]"
     ]
    },
    {
     "name": "stdout",
     "output_type": "stream",
     "text": [
      "1.4480462549639645e-07\n"
     ]
    },
    {
     "name": "stderr",
     "output_type": "stream",
     "text": [
      "Adam Optimizer:  33%|███▎      | 328/1000 [01:16<02:29,  4.49it/s]"
     ]
    },
    {
     "name": "stdout",
     "output_type": "stream",
     "text": [
      "3.565257091546592e-07\n"
     ]
    },
    {
     "name": "stderr",
     "output_type": "stream",
     "text": [
      "Adam Optimizer:  33%|███▎      | 329/1000 [01:16<02:30,  4.47it/s]"
     ]
    },
    {
     "name": "stdout",
     "output_type": "stream",
     "text": [
      "3.881753876546798e-07\n"
     ]
    },
    {
     "name": "stderr",
     "output_type": "stream",
     "text": [
      "Adam Optimizer:  33%|███▎      | 330/1000 [01:16<02:30,  4.44it/s]"
     ]
    },
    {
     "name": "stdout",
     "output_type": "stream",
     "text": [
      "6.218050699779172e-07\n"
     ]
    },
    {
     "name": "stderr",
     "output_type": "stream",
     "text": [
      "Adam Optimizer:  33%|███▎      | 331/1000 [01:16<02:29,  4.46it/s]"
     ]
    },
    {
     "name": "stdout",
     "output_type": "stream",
     "text": [
      "3.6599644815921917e-07\n"
     ]
    },
    {
     "name": "stderr",
     "output_type": "stream",
     "text": [
      "Adam Optimizer:  33%|███▎      | 332/1000 [01:16<02:27,  4.53it/s]"
     ]
    },
    {
     "name": "stdout",
     "output_type": "stream",
     "text": [
      "1.082137006729266e-07\n"
     ]
    },
    {
     "name": "stderr",
     "output_type": "stream",
     "text": [
      "Adam Optimizer:  33%|███▎      | 333/1000 [01:17<02:26,  4.56it/s]"
     ]
    },
    {
     "name": "stdout",
     "output_type": "stream",
     "text": [
      "1.1634003519130922e-07\n"
     ]
    },
    {
     "name": "stderr",
     "output_type": "stream",
     "text": [
      "Adam Optimizer:  33%|███▎      | 334/1000 [01:17<02:26,  4.54it/s]"
     ]
    },
    {
     "name": "stdout",
     "output_type": "stream",
     "text": [
      "3.017069224268242e-07\n"
     ]
    },
    {
     "name": "stderr",
     "output_type": "stream",
     "text": [
      "Adam Optimizer:  34%|███▎      | 335/1000 [01:17<02:28,  4.48it/s]"
     ]
    },
    {
     "name": "stdout",
     "output_type": "stream",
     "text": [
      "6.299686677477549e-07\n"
     ]
    },
    {
     "name": "stderr",
     "output_type": "stream",
     "text": [
      "Adam Optimizer:  34%|███▎      | 336/1000 [01:17<02:26,  4.54it/s]"
     ]
    },
    {
     "name": "stdout",
     "output_type": "stream",
     "text": [
      "1.2158107101900602e-07\n"
     ]
    },
    {
     "name": "stderr",
     "output_type": "stream",
     "text": [
      "Adam Optimizer:  34%|███▎      | 337/1000 [01:18<02:27,  4.50it/s]"
     ]
    },
    {
     "name": "stdout",
     "output_type": "stream",
     "text": [
      "3.908369665736221e-07\n"
     ]
    },
    {
     "name": "stderr",
     "output_type": "stream",
     "text": [
      "Adam Optimizer:  34%|███▍      | 338/1000 [01:18<02:27,  4.48it/s]"
     ]
    },
    {
     "name": "stdout",
     "output_type": "stream",
     "text": [
      "5.154560404871031e-07\n"
     ]
    },
    {
     "name": "stderr",
     "output_type": "stream",
     "text": [
      "Adam Optimizer:  34%|███▍      | 339/1000 [01:18<02:26,  4.52it/s]"
     ]
    },
    {
     "name": "stdout",
     "output_type": "stream",
     "text": [
      "2.0691104637216248e-07\n"
     ]
    },
    {
     "name": "stderr",
     "output_type": "stream",
     "text": [
      "Adam Optimizer:  34%|███▍      | 340/1000 [01:18<02:24,  4.57it/s]"
     ]
    },
    {
     "name": "stdout",
     "output_type": "stream",
     "text": [
      "1.2575169283421892e-07\n"
     ]
    },
    {
     "name": "stderr",
     "output_type": "stream",
     "text": [
      "Adam Optimizer:  34%|███▍      | 341/1000 [01:18<02:26,  4.51it/s]"
     ]
    },
    {
     "name": "stdout",
     "output_type": "stream",
     "text": [
      "4.98942035824393e-07\n"
     ]
    },
    {
     "name": "stderr",
     "output_type": "stream",
     "text": [
      "Adam Optimizer:  34%|███▍      | 342/1000 [01:19<02:26,  4.49it/s]"
     ]
    },
    {
     "name": "stdout",
     "output_type": "stream",
     "text": [
      "3.8058495409999865e-07\n"
     ]
    },
    {
     "name": "stderr",
     "output_type": "stream",
     "text": [
      "Adam Optimizer:  34%|███▍      | 343/1000 [01:19<02:27,  4.46it/s]"
     ]
    },
    {
     "name": "stdout",
     "output_type": "stream",
     "text": [
      "6.581898139874377e-07\n"
     ]
    },
    {
     "name": "stderr",
     "output_type": "stream",
     "text": [
      "Adam Optimizer:  34%|███▍      | 344/1000 [01:19<02:25,  4.52it/s]"
     ]
    },
    {
     "name": "stdout",
     "output_type": "stream",
     "text": [
      "6.974311479538974e-08\n"
     ]
    },
    {
     "name": "stderr",
     "output_type": "stream",
     "text": [
      "Adam Optimizer:  34%|███▍      | 345/1000 [01:19<02:23,  4.56it/s]"
     ]
    },
    {
     "name": "stdout",
     "output_type": "stream",
     "text": [
      "1.3172897801671384e-07\n"
     ]
    },
    {
     "name": "stderr",
     "output_type": "stream",
     "text": [
      "Adam Optimizer:  35%|███▍      | 346/1000 [01:20<02:24,  4.52it/s]"
     ]
    },
    {
     "name": "stdout",
     "output_type": "stream",
     "text": [
      "5.3306088595536e-07\n"
     ]
    },
    {
     "name": "stderr",
     "output_type": "stream",
     "text": [
      "Adam Optimizer:  35%|███▍      | 347/1000 [01:20<02:24,  4.52it/s]"
     ]
    },
    {
     "name": "stdout",
     "output_type": "stream",
     "text": [
      "3.1646005587126757e-07\n"
     ]
    },
    {
     "name": "stderr",
     "output_type": "stream",
     "text": [
      "Adam Optimizer:  35%|███▍      | 348/1000 [01:20<02:23,  4.54it/s]"
     ]
    },
    {
     "name": "stdout",
     "output_type": "stream",
     "text": [
      "1.487091991280657e-07\n"
     ]
    },
    {
     "name": "stderr",
     "output_type": "stream",
     "text": [
      "Adam Optimizer:  35%|███▍      | 349/1000 [01:20<02:22,  4.57it/s]"
     ]
    },
    {
     "name": "stdout",
     "output_type": "stream",
     "text": [
      "1.0628657752726323e-07\n"
     ]
    },
    {
     "name": "stderr",
     "output_type": "stream",
     "text": [
      "Adam Optimizer:  35%|███▌      | 350/1000 [01:20<02:21,  4.60it/s]"
     ]
    },
    {
     "name": "stdout",
     "output_type": "stream",
     "text": [
      "1.1787732212210214e-07\n"
     ]
    },
    {
     "name": "stderr",
     "output_type": "stream",
     "text": [
      "Adam Optimizer:  35%|███▌      | 351/1000 [01:21<02:22,  4.56it/s]"
     ]
    },
    {
     "name": "stdout",
     "output_type": "stream",
     "text": [
      "2.3220565272217086e-07\n"
     ]
    },
    {
     "name": "stderr",
     "output_type": "stream",
     "text": [
      "Adam Optimizer:  35%|███▌      | 352/1000 [01:21<02:22,  4.56it/s]"
     ]
    },
    {
     "name": "stdout",
     "output_type": "stream",
     "text": [
      "1.6630418283268908e-07\n"
     ]
    },
    {
     "name": "stderr",
     "output_type": "stream",
     "text": [
      "Adam Optimizer:  35%|███▌      | 353/1000 [01:21<02:21,  4.58it/s]"
     ]
    },
    {
     "name": "stdout",
     "output_type": "stream",
     "text": [
      "1.6157915501314844e-07\n"
     ]
    },
    {
     "name": "stderr",
     "output_type": "stream",
     "text": [
      "Adam Optimizer:  35%|███▌      | 354/1000 [01:21<02:20,  4.61it/s]"
     ]
    },
    {
     "name": "stdout",
     "output_type": "stream",
     "text": [
      "8.779645428068258e-08\n"
     ]
    },
    {
     "name": "stderr",
     "output_type": "stream",
     "text": [
      "Adam Optimizer:  36%|███▌      | 355/1000 [01:21<02:19,  4.62it/s]"
     ]
    },
    {
     "name": "stdout",
     "output_type": "stream",
     "text": [
      "7.598064637835929e-08\n"
     ]
    },
    {
     "name": "stderr",
     "output_type": "stream",
     "text": [
      "Adam Optimizer:  36%|███▌      | 356/1000 [01:22<02:18,  4.64it/s]"
     ]
    },
    {
     "name": "stdout",
     "output_type": "stream",
     "text": [
      "1.2374884476171274e-07\n"
     ]
    },
    {
     "name": "stderr",
     "output_type": "stream",
     "text": [
      "Adam Optimizer:  36%|███▌      | 357/1000 [01:22<02:18,  4.65it/s]"
     ]
    },
    {
     "name": "stdout",
     "output_type": "stream",
     "text": [
      "1.1660466240102892e-07\n"
     ]
    },
    {
     "name": "stderr",
     "output_type": "stream",
     "text": [
      "Adam Optimizer:  36%|███▌      | 358/1000 [01:22<02:17,  4.65it/s]"
     ]
    },
    {
     "name": "stdout",
     "output_type": "stream",
     "text": [
      "1.852082751223824e-07\n"
     ]
    },
    {
     "name": "stderr",
     "output_type": "stream",
     "text": [
      "Adam Optimizer:  36%|███▌      | 359/1000 [01:22<02:18,  4.62it/s]"
     ]
    },
    {
     "name": "stdout",
     "output_type": "stream",
     "text": [
      "2.383722286879183e-07\n"
     ]
    },
    {
     "name": "stderr",
     "output_type": "stream",
     "text": [
      "Adam Optimizer:  36%|███▌      | 360/1000 [01:23<02:18,  4.61it/s]"
     ]
    },
    {
     "name": "stdout",
     "output_type": "stream",
     "text": [
      "1.6026500102695914e-07\n"
     ]
    },
    {
     "name": "stderr",
     "output_type": "stream",
     "text": [
      "Adam Optimizer:  36%|███▌      | 361/1000 [01:23<02:20,  4.54it/s]"
     ]
    },
    {
     "name": "stdout",
     "output_type": "stream",
     "text": [
      "6.550139887997582e-07\n"
     ]
    },
    {
     "name": "stderr",
     "output_type": "stream",
     "text": [
      "Adam Optimizer:  36%|███▌      | 362/1000 [01:23<02:20,  4.53it/s]"
     ]
    },
    {
     "name": "stdout",
     "output_type": "stream",
     "text": [
      "2.8972197976802474e-07\n"
     ]
    },
    {
     "name": "stderr",
     "output_type": "stream",
     "text": [
      "Adam Optimizer:  36%|███▋      | 363/1000 [01:23<02:21,  4.50it/s]"
     ]
    },
    {
     "name": "stdout",
     "output_type": "stream",
     "text": [
      "5.70025069101687e-07\n"
     ]
    },
    {
     "name": "stderr",
     "output_type": "stream",
     "text": [
      "Adam Optimizer:  36%|███▋      | 364/1000 [01:23<02:23,  4.45it/s]"
     ]
    },
    {
     "name": "stdout",
     "output_type": "stream",
     "text": [
      "7.209137923006709e-07\n"
     ]
    },
    {
     "name": "stderr",
     "output_type": "stream",
     "text": [
      "Adam Optimizer:  36%|███▋      | 365/1000 [01:24<02:23,  4.44it/s]"
     ]
    },
    {
     "name": "stdout",
     "output_type": "stream",
     "text": [
      "4.6726413937688604e-07\n"
     ]
    },
    {
     "name": "stderr",
     "output_type": "stream",
     "text": [
      "Adam Optimizer:  37%|███▋      | 366/1000 [01:24<02:23,  4.41it/s]"
     ]
    },
    {
     "name": "stdout",
     "output_type": "stream",
     "text": [
      "6.220705069569618e-07\n"
     ]
    },
    {
     "name": "stderr",
     "output_type": "stream",
     "text": [
      "Adam Optimizer:  37%|███▋      | 367/1000 [01:24<02:22,  4.44it/s]"
     ]
    },
    {
     "name": "stdout",
     "output_type": "stream",
     "text": [
      "3.2856712910294505e-07\n"
     ]
    },
    {
     "name": "stderr",
     "output_type": "stream",
     "text": [
      "Adam Optimizer:  37%|███▋      | 368/1000 [01:24<02:21,  4.45it/s]"
     ]
    },
    {
     "name": "stdout",
     "output_type": "stream",
     "text": [
      "1.9750293421780194e-07\n"
     ]
    },
    {
     "name": "stderr",
     "output_type": "stream",
     "text": [
      "Adam Optimizer:  37%|███▋      | 369/1000 [01:25<02:20,  4.49it/s]"
     ]
    },
    {
     "name": "stdout",
     "output_type": "stream",
     "text": [
      "1.8943721875720354e-07\n"
     ]
    },
    {
     "name": "stderr",
     "output_type": "stream",
     "text": [
      "Adam Optimizer:  37%|███▋      | 370/1000 [01:25<02:21,  4.46it/s]"
     ]
    },
    {
     "name": "stdout",
     "output_type": "stream",
     "text": [
      "4.3284950147214395e-07\n"
     ]
    },
    {
     "name": "stderr",
     "output_type": "stream",
     "text": [
      "Adam Optimizer:  37%|███▋      | 371/1000 [01:25<02:21,  4.46it/s]"
     ]
    },
    {
     "name": "stdout",
     "output_type": "stream",
     "text": [
      "3.132613288882431e-07\n"
     ]
    },
    {
     "name": "stderr",
     "output_type": "stream",
     "text": [
      "Adam Optimizer:  37%|███▋      | 372/1000 [01:25<02:19,  4.49it/s]"
     ]
    },
    {
     "name": "stdout",
     "output_type": "stream",
     "text": [
      "1.6989283025655756e-07\n"
     ]
    },
    {
     "name": "stderr",
     "output_type": "stream",
     "text": [
      "Adam Optimizer:  37%|███▋      | 373/1000 [01:25<02:18,  4.54it/s]"
     ]
    },
    {
     "name": "stdout",
     "output_type": "stream",
     "text": [
      "9.654171587306688e-08\n"
     ]
    },
    {
     "name": "stderr",
     "output_type": "stream",
     "text": [
      "Adam Optimizer:  37%|███▋      | 374/1000 [01:26<02:17,  4.56it/s]"
     ]
    },
    {
     "name": "stdout",
     "output_type": "stream",
     "text": [
      "8.616559782933728e-08\n"
     ]
    },
    {
     "name": "stderr",
     "output_type": "stream",
     "text": [
      "Adam Optimizer:  38%|███▊      | 375/1000 [01:26<02:17,  4.54it/s]"
     ]
    },
    {
     "name": "stdout",
     "output_type": "stream",
     "text": [
      "2.1263290007050062e-07\n"
     ]
    },
    {
     "name": "stderr",
     "output_type": "stream",
     "text": [
      "Adam Optimizer:  38%|███▊      | 376/1000 [01:26<02:17,  4.53it/s]"
     ]
    },
    {
     "name": "stdout",
     "output_type": "stream",
     "text": [
      "2.768808648156701e-07\n"
     ]
    },
    {
     "name": "stderr",
     "output_type": "stream",
     "text": [
      "Adam Optimizer:  38%|███▊      | 377/1000 [01:26<02:17,  4.54it/s]"
     ]
    },
    {
     "name": "stdout",
     "output_type": "stream",
     "text": [
      "1.7225459281887133e-07\n"
     ]
    },
    {
     "name": "stderr",
     "output_type": "stream",
     "text": [
      "Adam Optimizer:  38%|███▊      | 378/1000 [01:27<02:15,  4.58it/s]"
     ]
    },
    {
     "name": "stdout",
     "output_type": "stream",
     "text": [
      "7.375102649550574e-08\n"
     ]
    },
    {
     "name": "stderr",
     "output_type": "stream",
     "text": [
      "Adam Optimizer:  38%|███▊      | 379/1000 [01:27<02:15,  4.57it/s]"
     ]
    },
    {
     "name": "stdout",
     "output_type": "stream",
     "text": [
      "1.6900009267083194e-07\n"
     ]
    },
    {
     "name": "stderr",
     "output_type": "stream",
     "text": [
      "Adam Optimizer:  38%|███▊      | 380/1000 [01:27<02:14,  4.60it/s]"
     ]
    },
    {
     "name": "stdout",
     "output_type": "stream",
     "text": [
      "7.070414151402163e-08\n"
     ]
    },
    {
     "name": "stderr",
     "output_type": "stream",
     "text": [
      "Adam Optimizer:  38%|███▊      | 381/1000 [01:27<02:15,  4.56it/s]"
     ]
    },
    {
     "name": "stdout",
     "output_type": "stream",
     "text": [
      "3.3420228299619363e-07\n"
     ]
    },
    {
     "name": "stderr",
     "output_type": "stream",
     "text": [
      "Adam Optimizer:  38%|███▊      | 382/1000 [01:27<02:20,  4.40it/s]"
     ]
    },
    {
     "name": "stdout",
     "output_type": "stream",
     "text": [
      "1.9728265434350746e-07\n"
     ]
    },
    {
     "name": "stderr",
     "output_type": "stream",
     "text": [
      "Adam Optimizer:  38%|███▊      | 383/1000 [01:28<02:25,  4.24it/s]"
     ]
    },
    {
     "name": "stdout",
     "output_type": "stream",
     "text": [
      "2.985988422990143e-07\n"
     ]
    },
    {
     "name": "stderr",
     "output_type": "stream",
     "text": [
      "Adam Optimizer:  38%|███▊      | 384/1000 [01:28<02:28,  4.16it/s]"
     ]
    },
    {
     "name": "stdout",
     "output_type": "stream",
     "text": [
      "1.302653202816595e-07\n"
     ]
    },
    {
     "name": "stderr",
     "output_type": "stream",
     "text": [
      "Adam Optimizer:  38%|███▊      | 385/1000 [01:28<02:28,  4.15it/s]"
     ]
    },
    {
     "name": "stdout",
     "output_type": "stream",
     "text": [
      "2.7742693736899124e-07\n"
     ]
    },
    {
     "name": "stderr",
     "output_type": "stream",
     "text": [
      "Adam Optimizer:  39%|███▊      | 386/1000 [01:28<02:23,  4.29it/s]"
     ]
    },
    {
     "name": "stdout",
     "output_type": "stream",
     "text": [
      "1.367315159662948e-07\n"
     ]
    },
    {
     "name": "stderr",
     "output_type": "stream",
     "text": [
      "Adam Optimizer:  39%|███▊      | 387/1000 [01:29<02:21,  4.33it/s]"
     ]
    },
    {
     "name": "stdout",
     "output_type": "stream",
     "text": [
      "2.9930665943486095e-07\n"
     ]
    },
    {
     "name": "stderr",
     "output_type": "stream",
     "text": [
      "Adam Optimizer:  39%|███▉      | 388/1000 [01:29<02:18,  4.42it/s]"
     ]
    },
    {
     "name": "stdout",
     "output_type": "stream",
     "text": [
      "1.5106656307746176e-07\n"
     ]
    },
    {
     "name": "stderr",
     "output_type": "stream",
     "text": [
      "Adam Optimizer:  39%|███▉      | 389/1000 [01:29<02:17,  4.43it/s]"
     ]
    },
    {
     "name": "stdout",
     "output_type": "stream",
     "text": [
      "5.602777525553717e-07\n"
     ]
    },
    {
     "name": "stderr",
     "output_type": "stream",
     "text": [
      "Adam Optimizer:  39%|███▉      | 390/1000 [01:29<02:16,  4.46it/s]"
     ]
    },
    {
     "name": "stdout",
     "output_type": "stream",
     "text": [
      "1.9521376387723052e-07\n"
     ]
    },
    {
     "name": "stderr",
     "output_type": "stream",
     "text": [
      "Adam Optimizer:  39%|███▉      | 391/1000 [01:30<02:17,  4.43it/s]"
     ]
    },
    {
     "name": "stdout",
     "output_type": "stream",
     "text": [
      "4.600142888355136e-07\n"
     ]
    },
    {
     "name": "stderr",
     "output_type": "stream",
     "text": [
      "Adam Optimizer:  39%|███▉      | 392/1000 [01:30<02:15,  4.48it/s]"
     ]
    },
    {
     "name": "stdout",
     "output_type": "stream",
     "text": [
      "1.708573392678385e-07\n"
     ]
    },
    {
     "name": "stderr",
     "output_type": "stream",
     "text": [
      "Adam Optimizer:  39%|███▉      | 393/1000 [01:30<02:15,  4.47it/s]"
     ]
    },
    {
     "name": "stdout",
     "output_type": "stream",
     "text": [
      "2.742990149224333e-07\n"
     ]
    },
    {
     "name": "stderr",
     "output_type": "stream",
     "text": [
      "Adam Optimizer:  39%|███▉      | 394/1000 [01:30<02:15,  4.48it/s]"
     ]
    },
    {
     "name": "stdout",
     "output_type": "stream",
     "text": [
      "2.4031049463098926e-07\n"
     ]
    },
    {
     "name": "stderr",
     "output_type": "stream",
     "text": [
      "Adam Optimizer:  40%|███▉      | 395/1000 [01:30<02:14,  4.50it/s]"
     ]
    },
    {
     "name": "stdout",
     "output_type": "stream",
     "text": [
      "2.129837630704991e-07\n"
     ]
    },
    {
     "name": "stderr",
     "output_type": "stream",
     "text": [
      "Adam Optimizer:  40%|███▉      | 396/1000 [01:31<02:12,  4.55it/s]"
     ]
    },
    {
     "name": "stdout",
     "output_type": "stream",
     "text": [
      "8.652254203389403e-08\n"
     ]
    },
    {
     "name": "stderr",
     "output_type": "stream",
     "text": [
      "Adam Optimizer:  40%|███▉      | 397/1000 [01:31<02:11,  4.60it/s]"
     ]
    },
    {
     "name": "stdout",
     "output_type": "stream",
     "text": [
      "8.492761743748499e-08\n"
     ]
    },
    {
     "name": "stderr",
     "output_type": "stream",
     "text": [
      "Adam Optimizer:  40%|███▉      | 398/1000 [01:31<02:11,  4.59it/s]"
     ]
    },
    {
     "name": "stdout",
     "output_type": "stream",
     "text": [
      "1.5035687661492157e-07\n"
     ]
    },
    {
     "name": "stderr",
     "output_type": "stream",
     "text": [
      "Adam Optimizer:  40%|███▉      | 399/1000 [01:31<02:10,  4.59it/s]"
     ]
    },
    {
     "name": "stdout",
     "output_type": "stream",
     "text": [
      "1.4124727437804977e-07\n"
     ]
    },
    {
     "name": "stderr",
     "output_type": "stream",
     "text": [
      "Adam Optimizer:  40%|████      | 400/1000 [01:32<02:10,  4.60it/s]"
     ]
    },
    {
     "name": "stdout",
     "output_type": "stream",
     "text": [
      "9.849356517724312e-08\n"
     ]
    },
    {
     "name": "stderr",
     "output_type": "stream",
     "text": [
      "Adam Optimizer:  40%|████      | 401/1000 [01:32<02:09,  4.63it/s]"
     ]
    },
    {
     "name": "stdout",
     "output_type": "stream",
     "text": [
      "9.339846565116314e-08\n"
     ]
    },
    {
     "name": "stderr",
     "output_type": "stream",
     "text": [
      "Adam Optimizer:  40%|████      | 402/1000 [01:32<02:09,  4.63it/s]"
     ]
    },
    {
     "name": "stdout",
     "output_type": "stream",
     "text": [
      "8.158294258087678e-08\n"
     ]
    },
    {
     "name": "stderr",
     "output_type": "stream",
     "text": [
      "Adam Optimizer:  40%|████      | 403/1000 [01:32<02:08,  4.65it/s]"
     ]
    },
    {
     "name": "stdout",
     "output_type": "stream",
     "text": [
      "7.040890413262297e-08\n"
     ]
    },
    {
     "name": "stderr",
     "output_type": "stream",
     "text": [
      "Adam Optimizer:  40%|████      | 404/1000 [01:32<02:07,  4.67it/s]"
     ]
    },
    {
     "name": "stdout",
     "output_type": "stream",
     "text": [
      "7.978843675999418e-08\n"
     ]
    },
    {
     "name": "stderr",
     "output_type": "stream",
     "text": [
      "Adam Optimizer:  40%|████      | 405/1000 [01:33<02:07,  4.67it/s]"
     ]
    },
    {
     "name": "stdout",
     "output_type": "stream",
     "text": [
      "9.556869914254567e-08\n"
     ]
    },
    {
     "name": "stderr",
     "output_type": "stream",
     "text": [
      "Adam Optimizer:  41%|████      | 406/1000 [01:33<02:06,  4.68it/s]"
     ]
    },
    {
     "name": "stdout",
     "output_type": "stream",
     "text": [
      "1.0331656650318536e-07\n"
     ]
    },
    {
     "name": "stderr",
     "output_type": "stream",
     "text": [
      "Adam Optimizer:  41%|████      | 407/1000 [01:33<02:06,  4.68it/s]"
     ]
    },
    {
     "name": "stdout",
     "output_type": "stream",
     "text": [
      "8.936363033358826e-08\n"
     ]
    },
    {
     "name": "stderr",
     "output_type": "stream",
     "text": [
      "Adam Optimizer:  41%|████      | 408/1000 [01:33<02:06,  4.68it/s]"
     ]
    },
    {
     "name": "stdout",
     "output_type": "stream",
     "text": [
      "6.82440247803256e-08\n"
     ]
    },
    {
     "name": "stderr",
     "output_type": "stream",
     "text": [
      "Adam Optimizer:  41%|████      | 409/1000 [01:33<02:06,  4.67it/s]"
     ]
    },
    {
     "name": "stdout",
     "output_type": "stream",
     "text": [
      "8.910422266493197e-08\n"
     ]
    },
    {
     "name": "stderr",
     "output_type": "stream",
     "text": [
      "Adam Optimizer:  41%|████      | 410/1000 [01:34<02:06,  4.66it/s]"
     ]
    },
    {
     "name": "stdout",
     "output_type": "stream",
     "text": [
      "1.0444595799232256e-07\n"
     ]
    },
    {
     "name": "stderr",
     "output_type": "stream",
     "text": [
      "Adam Optimizer:  41%|████      | 411/1000 [01:34<02:08,  4.58it/s]"
     ]
    },
    {
     "name": "stdout",
     "output_type": "stream",
     "text": [
      "4.396393470738493e-07\n"
     ]
    },
    {
     "name": "stderr",
     "output_type": "stream",
     "text": [
      "Adam Optimizer:  41%|████      | 412/1000 [01:34<02:10,  4.49it/s]"
     ]
    },
    {
     "name": "stdout",
     "output_type": "stream",
     "text": [
      "8.9336304063594e-07\n"
     ]
    },
    {
     "name": "stderr",
     "output_type": "stream",
     "text": [
      "Adam Optimizer:  41%|████▏     | 413/1000 [01:34<02:11,  4.48it/s]"
     ]
    },
    {
     "name": "stdout",
     "output_type": "stream",
     "text": [
      "4.846694667083551e-07\n"
     ]
    },
    {
     "name": "stderr",
     "output_type": "stream",
     "text": [
      "Adam Optimizer:  41%|████▏     | 414/1000 [01:35<02:13,  4.38it/s]"
     ]
    },
    {
     "name": "stdout",
     "output_type": "stream",
     "text": [
      "1.5313876769703985e-06\n"
     ]
    },
    {
     "name": "stderr",
     "output_type": "stream",
     "text": [
      "Adam Optimizer:  42%|████▏     | 415/1000 [01:35<02:14,  4.35it/s]"
     ]
    },
    {
     "name": "stdout",
     "output_type": "stream",
     "text": [
      "1.4423254822362062e-06\n"
     ]
    },
    {
     "name": "stderr",
     "output_type": "stream",
     "text": [
      "Adam Optimizer:  42%|████▏     | 416/1000 [01:35<02:12,  4.42it/s]"
     ]
    },
    {
     "name": "stdout",
     "output_type": "stream",
     "text": [
      "1.4936051749873102e-07\n"
     ]
    },
    {
     "name": "stderr",
     "output_type": "stream",
     "text": [
      "Adam Optimizer:  42%|████▏     | 417/1000 [01:35<02:12,  4.41it/s]"
     ]
    },
    {
     "name": "stdout",
     "output_type": "stream",
     "text": [
      "3.864062214933807e-07\n"
     ]
    },
    {
     "name": "stderr",
     "output_type": "stream",
     "text": [
      "Adam Optimizer:  42%|████▏     | 418/1000 [01:36<02:12,  4.38it/s]"
     ]
    },
    {
     "name": "stdout",
     "output_type": "stream",
     "text": [
      "1.0375233979036184e-06\n"
     ]
    },
    {
     "name": "stderr",
     "output_type": "stream",
     "text": [
      "Adam Optimizer:  42%|████▏     | 419/1000 [01:36<02:12,  4.39it/s]"
     ]
    },
    {
     "name": "stdout",
     "output_type": "stream",
     "text": [
      "8.677288794222279e-07\n"
     ]
    },
    {
     "name": "stderr",
     "output_type": "stream",
     "text": [
      "Adam Optimizer:  42%|████▏     | 420/1000 [01:36<02:11,  4.42it/s]"
     ]
    },
    {
     "name": "stdout",
     "output_type": "stream",
     "text": [
      "3.51946272080276e-07\n"
     ]
    },
    {
     "name": "stderr",
     "output_type": "stream",
     "text": [
      "Adam Optimizer:  42%|████▏     | 421/1000 [01:36<02:10,  4.43it/s]"
     ]
    },
    {
     "name": "stdout",
     "output_type": "stream",
     "text": [
      "2.2705806542597543e-07\n"
     ]
    },
    {
     "name": "stderr",
     "output_type": "stream",
     "text": [
      "Adam Optimizer:  42%|████▏     | 422/1000 [01:36<02:09,  4.47it/s]"
     ]
    },
    {
     "name": "stdout",
     "output_type": "stream",
     "text": [
      "1.6136700522864504e-07\n"
     ]
    },
    {
     "name": "stderr",
     "output_type": "stream",
     "text": [
      "Adam Optimizer:  42%|████▏     | 423/1000 [01:37<02:08,  4.47it/s]"
     ]
    },
    {
     "name": "stdout",
     "output_type": "stream",
     "text": [
      "3.523988946679193e-07\n"
     ]
    },
    {
     "name": "stderr",
     "output_type": "stream",
     "text": [
      "Adam Optimizer:  42%|████▏     | 424/1000 [01:37<02:09,  4.45it/s]"
     ]
    },
    {
     "name": "stdout",
     "output_type": "stream",
     "text": [
      "4.993669941332441e-07\n"
     ]
    },
    {
     "name": "stderr",
     "output_type": "stream",
     "text": [
      "Adam Optimizer:  42%|████▎     | 425/1000 [01:37<02:09,  4.44it/s]"
     ]
    },
    {
     "name": "stdout",
     "output_type": "stream",
     "text": [
      "3.996284253762141e-07\n"
     ]
    },
    {
     "name": "stderr",
     "output_type": "stream",
     "text": [
      "Adam Optimizer:  43%|████▎     | 426/1000 [01:37<02:07,  4.50it/s]"
     ]
    },
    {
     "name": "stdout",
     "output_type": "stream",
     "text": [
      "1.4450304081623744e-07\n"
     ]
    },
    {
     "name": "stderr",
     "output_type": "stream",
     "text": [
      "Adam Optimizer:  43%|████▎     | 427/1000 [01:38<02:05,  4.56it/s]"
     ]
    },
    {
     "name": "stdout",
     "output_type": "stream",
     "text": [
      "7.474061730043068e-08\n"
     ]
    },
    {
     "name": "stderr",
     "output_type": "stream",
     "text": [
      "Adam Optimizer:  43%|████▎     | 428/1000 [01:38<02:04,  4.59it/s]"
     ]
    },
    {
     "name": "stdout",
     "output_type": "stream",
     "text": [
      "8.247975806018555e-08\n"
     ]
    },
    {
     "name": "stderr",
     "output_type": "stream",
     "text": [
      "Adam Optimizer:  43%|████▎     | 429/1000 [01:38<02:04,  4.58it/s]"
     ]
    },
    {
     "name": "stdout",
     "output_type": "stream",
     "text": [
      "1.8690804445169239e-07\n"
     ]
    },
    {
     "name": "stderr",
     "output_type": "stream",
     "text": [
      "Adam Optimizer:  43%|████▎     | 430/1000 [01:38<02:05,  4.54it/s]"
     ]
    },
    {
     "name": "stdout",
     "output_type": "stream",
     "text": [
      "2.779844157899863e-07\n"
     ]
    },
    {
     "name": "stderr",
     "output_type": "stream",
     "text": [
      "Adam Optimizer:  43%|████▎     | 431/1000 [01:38<02:05,  4.54it/s]"
     ]
    },
    {
     "name": "stdout",
     "output_type": "stream",
     "text": [
      "2.1474315122915079e-07\n"
     ]
    },
    {
     "name": "stderr",
     "output_type": "stream",
     "text": [
      "Adam Optimizer:  43%|████▎     | 432/1000 [01:39<02:04,  4.56it/s]"
     ]
    },
    {
     "name": "stdout",
     "output_type": "stream",
     "text": [
      "1.3393892282794758e-07\n"
     ]
    },
    {
     "name": "stderr",
     "output_type": "stream",
     "text": [
      "Adam Optimizer:  43%|████▎     | 433/1000 [01:39<02:03,  4.60it/s]"
     ]
    },
    {
     "name": "stdout",
     "output_type": "stream",
     "text": [
      "7.575407198127406e-08\n"
     ]
    },
    {
     "name": "stderr",
     "output_type": "stream",
     "text": [
      "Adam Optimizer:  43%|████▎     | 434/1000 [01:39<02:02,  4.61it/s]"
     ]
    },
    {
     "name": "stdout",
     "output_type": "stream",
     "text": [
      "6.028866710223592e-08\n"
     ]
    },
    {
     "name": "stderr",
     "output_type": "stream",
     "text": [
      "Adam Optimizer:  44%|████▎     | 435/1000 [01:39<02:02,  4.61it/s]"
     ]
    },
    {
     "name": "stdout",
     "output_type": "stream",
     "text": [
      "9.925751507272674e-08\n"
     ]
    },
    {
     "name": "stderr",
     "output_type": "stream",
     "text": [
      "Adam Optimizer:  44%|████▎     | 436/1000 [01:39<02:02,  4.61it/s]"
     ]
    },
    {
     "name": "stdout",
     "output_type": "stream",
     "text": [
      "1.41992298063277e-07\n"
     ]
    },
    {
     "name": "stderr",
     "output_type": "stream",
     "text": [
      "Adam Optimizer:  44%|████▎     | 437/1000 [01:40<02:02,  4.61it/s]"
     ]
    },
    {
     "name": "stdout",
     "output_type": "stream",
     "text": [
      "1.2435128450519813e-07\n"
     ]
    },
    {
     "name": "stderr",
     "output_type": "stream",
     "text": [
      "Adam Optimizer:  44%|████▍     | 438/1000 [01:40<02:03,  4.56it/s]"
     ]
    },
    {
     "name": "stdout",
     "output_type": "stream",
     "text": [
      "2.882765109533799e-07\n"
     ]
    },
    {
     "name": "stderr",
     "output_type": "stream",
     "text": [
      "Adam Optimizer:  44%|████▍     | 439/1000 [01:40<02:03,  4.55it/s]"
     ]
    },
    {
     "name": "stdout",
     "output_type": "stream",
     "text": [
      "1.4586566217770217e-07\n"
     ]
    },
    {
     "name": "stderr",
     "output_type": "stream",
     "text": [
      "Adam Optimizer:  44%|████▍     | 440/1000 [01:40<02:04,  4.49it/s]"
     ]
    },
    {
     "name": "stdout",
     "output_type": "stream",
     "text": [
      "5.879105573393457e-07\n"
     ]
    },
    {
     "name": "stderr",
     "output_type": "stream",
     "text": [
      "Adam Optimizer:  44%|████▍     | 441/1000 [01:41<02:02,  4.55it/s]"
     ]
    },
    {
     "name": "stdout",
     "output_type": "stream",
     "text": [
      "6.848631853297572e-08\n"
     ]
    },
    {
     "name": "stderr",
     "output_type": "stream",
     "text": [
      "Adam Optimizer:  44%|████▍     | 442/1000 [01:41<02:03,  4.52it/s]"
     ]
    },
    {
     "name": "stdout",
     "output_type": "stream",
     "text": [
      "5.210871728081881e-07\n"
     ]
    },
    {
     "name": "stderr",
     "output_type": "stream",
     "text": [
      "Adam Optimizer:  44%|████▍     | 443/1000 [01:41<02:03,  4.51it/s]"
     ]
    },
    {
     "name": "stdout",
     "output_type": "stream",
     "text": [
      "2.512877634406311e-07\n"
     ]
    },
    {
     "name": "stderr",
     "output_type": "stream",
     "text": [
      "Adam Optimizer:  44%|████▍     | 444/1000 [01:41<02:03,  4.51it/s]"
     ]
    },
    {
     "name": "stdout",
     "output_type": "stream",
     "text": [
      "2.360038659292094e-07\n"
     ]
    },
    {
     "name": "stderr",
     "output_type": "stream",
     "text": [
      "Adam Optimizer:  44%|████▍     | 445/1000 [01:41<02:03,  4.51it/s]"
     ]
    },
    {
     "name": "stdout",
     "output_type": "stream",
     "text": [
      "2.688941422136225e-07\n"
     ]
    },
    {
     "name": "stderr",
     "output_type": "stream",
     "text": [
      "Adam Optimizer:  45%|████▍     | 446/1000 [01:42<02:03,  4.50it/s]"
     ]
    },
    {
     "name": "stdout",
     "output_type": "stream",
     "text": [
      "5.205901367658085e-07\n"
     ]
    },
    {
     "name": "stderr",
     "output_type": "stream",
     "text": [
      "Adam Optimizer:  45%|████▍     | 447/1000 [01:42<02:02,  4.52it/s]"
     ]
    },
    {
     "name": "stdout",
     "output_type": "stream",
     "text": [
      "1.5941486993777596e-07\n"
     ]
    },
    {
     "name": "stderr",
     "output_type": "stream",
     "text": [
      "Adam Optimizer:  45%|████▍     | 448/1000 [01:42<02:00,  4.57it/s]"
     ]
    },
    {
     "name": "stdout",
     "output_type": "stream",
     "text": [
      "9.791368804510763e-08\n"
     ]
    },
    {
     "name": "stderr",
     "output_type": "stream",
     "text": [
      "Adam Optimizer:  45%|████▍     | 449/1000 [01:42<01:59,  4.60it/s]"
     ]
    },
    {
     "name": "stdout",
     "output_type": "stream",
     "text": [
      "1.0391543629015157e-07\n"
     ]
    },
    {
     "name": "stderr",
     "output_type": "stream",
     "text": [
      "Adam Optimizer:  45%|████▌     | 450/1000 [01:43<02:00,  4.57it/s]"
     ]
    },
    {
     "name": "stdout",
     "output_type": "stream",
     "text": [
      "2.7331860047394693e-07\n"
     ]
    },
    {
     "name": "stderr",
     "output_type": "stream",
     "text": [
      "Adam Optimizer:  45%|████▌     | 451/1000 [01:43<02:00,  4.54it/s]"
     ]
    },
    {
     "name": "stdout",
     "output_type": "stream",
     "text": [
      "2.708568917555252e-07\n"
     ]
    },
    {
     "name": "stderr",
     "output_type": "stream",
     "text": [
      "Adam Optimizer:  45%|████▌     | 452/1000 [01:43<01:59,  4.58it/s]"
     ]
    },
    {
     "name": "stdout",
     "output_type": "stream",
     "text": [
      "1.1618503784824335e-07\n"
     ]
    },
    {
     "name": "stderr",
     "output_type": "stream",
     "text": [
      "Adam Optimizer:  45%|████▌     | 453/1000 [01:43<01:58,  4.62it/s]"
     ]
    },
    {
     "name": "stdout",
     "output_type": "stream",
     "text": [
      "1.0298718779553557e-07\n"
     ]
    },
    {
     "name": "stderr",
     "output_type": "stream",
     "text": [
      "Adam Optimizer:  45%|████▌     | 454/1000 [01:43<01:57,  4.64it/s]"
     ]
    },
    {
     "name": "stdout",
     "output_type": "stream",
     "text": [
      "8.025663656148246e-08\n"
     ]
    },
    {
     "name": "stderr",
     "output_type": "stream",
     "text": [
      "Adam Optimizer:  46%|████▌     | 455/1000 [01:44<01:57,  4.65it/s]"
     ]
    },
    {
     "name": "stdout",
     "output_type": "stream",
     "text": [
      "1.0240854602413267e-07\n"
     ]
    },
    {
     "name": "stderr",
     "output_type": "stream",
     "text": [
      "Adam Optimizer:  46%|████▌     | 456/1000 [01:44<01:57,  4.62it/s]"
     ]
    },
    {
     "name": "stdout",
     "output_type": "stream",
     "text": [
      "1.779491588716001e-07\n"
     ]
    },
    {
     "name": "stderr",
     "output_type": "stream",
     "text": [
      "Adam Optimizer:  46%|████▌     | 457/1000 [01:44<01:58,  4.57it/s]"
     ]
    },
    {
     "name": "stdout",
     "output_type": "stream",
     "text": [
      "3.266925557897373e-07\n"
     ]
    },
    {
     "name": "stderr",
     "output_type": "stream",
     "text": [
      "Adam Optimizer:  46%|████▌     | 458/1000 [01:44<01:58,  4.57it/s]"
     ]
    },
    {
     "name": "stdout",
     "output_type": "stream",
     "text": [
      "1.7123146392849422e-07\n"
     ]
    },
    {
     "name": "stderr",
     "output_type": "stream",
     "text": [
      "Adam Optimizer:  46%|████▌     | 459/1000 [01:45<02:00,  4.50it/s]"
     ]
    },
    {
     "name": "stdout",
     "output_type": "stream",
     "text": [
      "7.138502940979729e-07\n"
     ]
    },
    {
     "name": "stderr",
     "output_type": "stream",
     "text": [
      "Adam Optimizer:  46%|████▌     | 460/1000 [01:45<02:01,  4.45it/s]"
     ]
    },
    {
     "name": "stdout",
     "output_type": "stream",
     "text": [
      "8.936672105980097e-07\n"
     ]
    },
    {
     "name": "stderr",
     "output_type": "stream",
     "text": [
      "Adam Optimizer:  46%|████▌     | 461/1000 [01:45<02:02,  4.41it/s]"
     ]
    },
    {
     "name": "stdout",
     "output_type": "stream",
     "text": [
      "9.68644362489227e-07\n"
     ]
    },
    {
     "name": "stderr",
     "output_type": "stream",
     "text": [
      "Adam Optimizer:  46%|████▌     | 462/1000 [01:45<02:04,  4.33it/s]"
     ]
    },
    {
     "name": "stdout",
     "output_type": "stream",
     "text": [
      "2.4705788432843834e-06\n"
     ]
    },
    {
     "name": "stderr",
     "output_type": "stream",
     "text": [
      "Adam Optimizer:  46%|████▋     | 463/1000 [01:45<02:03,  4.37it/s]"
     ]
    },
    {
     "name": "stdout",
     "output_type": "stream",
     "text": [
      "2.9756221087425547e-07\n"
     ]
    },
    {
     "name": "stderr",
     "output_type": "stream",
     "text": [
      "Adam Optimizer:  46%|████▋     | 464/1000 [01:46<02:00,  4.44it/s]"
     ]
    },
    {
     "name": "stdout",
     "output_type": "stream",
     "text": [
      "1.0024140950030912e-07\n"
     ]
    },
    {
     "name": "stderr",
     "output_type": "stream",
     "text": [
      "Adam Optimizer:  46%|████▋     | 465/1000 [01:46<02:01,  4.40it/s]"
     ]
    },
    {
     "name": "stdout",
     "output_type": "stream",
     "text": [
      "1.1609811538156903e-06\n"
     ]
    },
    {
     "name": "stderr",
     "output_type": "stream",
     "text": [
      "Adam Optimizer:  47%|████▋     | 466/1000 [01:46<02:02,  4.36it/s]"
     ]
    },
    {
     "name": "stdout",
     "output_type": "stream",
     "text": [
      "1.2730588623439057e-06\n"
     ]
    },
    {
     "name": "stderr",
     "output_type": "stream",
     "text": [
      "Adam Optimizer:  47%|████▋     | 467/1000 [01:46<02:01,  4.38it/s]"
     ]
    },
    {
     "name": "stdout",
     "output_type": "stream",
     "text": [
      "5.611828688326145e-07\n"
     ]
    },
    {
     "name": "stderr",
     "output_type": "stream",
     "text": [
      "Adam Optimizer:  47%|████▋     | 468/1000 [01:47<01:59,  4.46it/s]"
     ]
    },
    {
     "name": "stdout",
     "output_type": "stream",
     "text": [
      "9.371182331804739e-08\n"
     ]
    },
    {
     "name": "stderr",
     "output_type": "stream",
     "text": [
      "Adam Optimizer:  47%|████▋     | 469/1000 [01:47<01:57,  4.52it/s]"
     ]
    },
    {
     "name": "stdout",
     "output_type": "stream",
     "text": [
      "1.2478403198581503e-07\n"
     ]
    },
    {
     "name": "stderr",
     "output_type": "stream",
     "text": [
      "Adam Optimizer:  47%|████▋     | 470/1000 [01:47<01:58,  4.49it/s]"
     ]
    },
    {
     "name": "stdout",
     "output_type": "stream",
     "text": [
      "5.484089377301333e-07\n"
     ]
    },
    {
     "name": "stderr",
     "output_type": "stream",
     "text": [
      "Adam Optimizer:  47%|████▋     | 471/1000 [01:47<01:58,  4.45it/s]"
     ]
    },
    {
     "name": "stdout",
     "output_type": "stream",
     "text": [
      "8.504278927850128e-07\n"
     ]
    },
    {
     "name": "stderr",
     "output_type": "stream",
     "text": [
      "Adam Optimizer:  47%|████▋     | 472/1000 [01:47<01:59,  4.41it/s]"
     ]
    },
    {
     "name": "stdout",
     "output_type": "stream",
     "text": [
      "1.0154223698797585e-06\n"
     ]
    },
    {
     "name": "stderr",
     "output_type": "stream",
     "text": [
      "Adam Optimizer:  47%|████▋     | 473/1000 [01:48<01:57,  4.47it/s]"
     ]
    },
    {
     "name": "stdout",
     "output_type": "stream",
     "text": [
      "1.9046971293860115e-07\n"
     ]
    },
    {
     "name": "stderr",
     "output_type": "stream",
     "text": [
      "Adam Optimizer:  47%|████▋     | 474/1000 [01:48<01:59,  4.39it/s]"
     ]
    },
    {
     "name": "stdout",
     "output_type": "stream",
     "text": [
      "1.820585768563861e-06\n"
     ]
    },
    {
     "name": "stderr",
     "output_type": "stream",
     "text": [
      "Adam Optimizer:  48%|████▊     | 475/1000 [01:48<01:58,  4.43it/s]"
     ]
    },
    {
     "name": "stdout",
     "output_type": "stream",
     "text": [
      "1.954111216278364e-07\n"
     ]
    },
    {
     "name": "stderr",
     "output_type": "stream",
     "text": [
      "Adam Optimizer:  48%|████▊     | 476/1000 [01:48<01:56,  4.50it/s]"
     ]
    },
    {
     "name": "stdout",
     "output_type": "stream",
     "text": [
      "9.670906846694408e-08\n"
     ]
    },
    {
     "name": "stderr",
     "output_type": "stream",
     "text": [
      "Adam Optimizer:  48%|████▊     | 477/1000 [01:49<01:57,  4.44it/s]"
     ]
    },
    {
     "name": "stdout",
     "output_type": "stream",
     "text": [
      "1.0028801275574895e-06\n"
     ]
    },
    {
     "name": "stderr",
     "output_type": "stream",
     "text": [
      "Adam Optimizer:  48%|████▊     | 478/1000 [01:49<01:58,  4.40it/s]"
     ]
    },
    {
     "name": "stdout",
     "output_type": "stream",
     "text": [
      "8.591770374604142e-07\n"
     ]
    },
    {
     "name": "stderr",
     "output_type": "stream",
     "text": [
      "Adam Optimizer:  48%|████▊     | 479/1000 [01:49<02:00,  4.31it/s]"
     ]
    },
    {
     "name": "stdout",
     "output_type": "stream",
     "text": [
      "4.2481009372296747e-07\n"
     ]
    },
    {
     "name": "stderr",
     "output_type": "stream",
     "text": [
      "Adam Optimizer:  48%|████▊     | 480/1000 [01:49<02:04,  4.17it/s]"
     ]
    },
    {
     "name": "stdout",
     "output_type": "stream",
     "text": [
      "1.7652878687904478e-07\n"
     ]
    },
    {
     "name": "stderr",
     "output_type": "stream",
     "text": [
      "Adam Optimizer:  48%|████▊     | 481/1000 [01:50<02:06,  4.09it/s]"
     ]
    },
    {
     "name": "stdout",
     "output_type": "stream",
     "text": [
      "2.155507175859682e-07\n"
     ]
    },
    {
     "name": "stderr",
     "output_type": "stream",
     "text": [
      "Adam Optimizer:  48%|████▊     | 482/1000 [01:50<02:10,  3.97it/s]"
     ]
    },
    {
     "name": "stdout",
     "output_type": "stream",
     "text": [
      "5.085710088861353e-07\n"
     ]
    },
    {
     "name": "stderr",
     "output_type": "stream",
     "text": [
      "Adam Optimizer:  48%|████▊     | 483/1000 [01:50<02:06,  4.09it/s]"
     ]
    },
    {
     "name": "stdout",
     "output_type": "stream",
     "text": [
      "2.9285722269261945e-07\n"
     ]
    },
    {
     "name": "stderr",
     "output_type": "stream",
     "text": [
      "Adam Optimizer:  48%|████▊     | 484/1000 [01:50<02:02,  4.22it/s]"
     ]
    },
    {
     "name": "stdout",
     "output_type": "stream",
     "text": [
      "2.143543701254493e-07\n"
     ]
    },
    {
     "name": "stderr",
     "output_type": "stream",
     "text": [
      "Adam Optimizer:  48%|████▊     | 485/1000 [01:51<01:59,  4.29it/s]"
     ]
    },
    {
     "name": "stdout",
     "output_type": "stream",
     "text": [
      "2.591732016296849e-07\n"
     ]
    },
    {
     "name": "stderr",
     "output_type": "stream",
     "text": [
      "Adam Optimizer:  49%|████▊     | 486/1000 [01:51<01:58,  4.34it/s]"
     ]
    },
    {
     "name": "stdout",
     "output_type": "stream",
     "text": [
      "3.5502155236682565e-07\n"
     ]
    },
    {
     "name": "stderr",
     "output_type": "stream",
     "text": [
      "Adam Optimizer:  49%|████▊     | 487/1000 [01:51<01:57,  4.37it/s]"
     ]
    },
    {
     "name": "stdout",
     "output_type": "stream",
     "text": [
      "2.653470863852357e-07\n"
     ]
    },
    {
     "name": "stderr",
     "output_type": "stream",
     "text": [
      "Adam Optimizer:  49%|████▉     | 488/1000 [01:51<01:57,  4.34it/s]"
     ]
    },
    {
     "name": "stdout",
     "output_type": "stream",
     "text": [
      "1.1745333702521614e-06\n"
     ]
    },
    {
     "name": "stderr",
     "output_type": "stream",
     "text": [
      "Adam Optimizer:  49%|████▉     | 489/1000 [01:51<01:57,  4.36it/s]"
     ]
    },
    {
     "name": "stdout",
     "output_type": "stream",
     "text": [
      "2.9567434567584927e-07\n"
     ]
    },
    {
     "name": "stderr",
     "output_type": "stream",
     "text": [
      "Adam Optimizer:  49%|████▉     | 490/1000 [01:52<01:56,  4.38it/s]"
     ]
    },
    {
     "name": "stdout",
     "output_type": "stream",
     "text": [
      "5.446508845889127e-07\n"
     ]
    },
    {
     "name": "stderr",
     "output_type": "stream",
     "text": [
      "Adam Optimizer:  49%|████▉     | 491/1000 [01:52<01:56,  4.36it/s]"
     ]
    },
    {
     "name": "stdout",
     "output_type": "stream",
     "text": [
      "1.0570421550676052e-06\n"
     ]
    },
    {
     "name": "stderr",
     "output_type": "stream",
     "text": [
      "Adam Optimizer:  49%|████▉     | 492/1000 [01:52<01:54,  4.43it/s]"
     ]
    },
    {
     "name": "stdout",
     "output_type": "stream",
     "text": [
      "1.4659401450551447e-07\n"
     ]
    },
    {
     "name": "stderr",
     "output_type": "stream",
     "text": [
      "Adam Optimizer:  49%|████▉     | 493/1000 [01:52<01:56,  4.37it/s]"
     ]
    },
    {
     "name": "stdout",
     "output_type": "stream",
     "text": [
      "1.4612968738703756e-06\n"
     ]
    },
    {
     "name": "stderr",
     "output_type": "stream",
     "text": [
      "Adam Optimizer:  49%|████▉     | 494/1000 [01:53<01:54,  4.43it/s]"
     ]
    },
    {
     "name": "stdout",
     "output_type": "stream",
     "text": [
      "2.0953722878930647e-07\n"
     ]
    },
    {
     "name": "stderr",
     "output_type": "stream",
     "text": [
      "Adam Optimizer:  50%|████▉     | 495/1000 [01:53<01:54,  4.41it/s]"
     ]
    },
    {
     "name": "stdout",
     "output_type": "stream",
     "text": [
      "4.445477541664584e-07\n"
     ]
    },
    {
     "name": "stderr",
     "output_type": "stream",
     "text": [
      "Adam Optimizer:  50%|████▉     | 496/1000 [01:53<01:55,  4.38it/s]"
     ]
    },
    {
     "name": "stdout",
     "output_type": "stream",
     "text": [
      "7.314815368874066e-07\n"
     ]
    },
    {
     "name": "stderr",
     "output_type": "stream",
     "text": [
      "Adam Optimizer:  50%|████▉     | 497/1000 [01:53<01:55,  4.34it/s]"
     ]
    },
    {
     "name": "stdout",
     "output_type": "stream",
     "text": [
      "6.195337081810015e-07\n"
     ]
    },
    {
     "name": "stderr",
     "output_type": "stream",
     "text": [
      "Adam Optimizer:  50%|████▉     | 498/1000 [01:53<01:54,  4.39it/s]"
     ]
    },
    {
     "name": "stdout",
     "output_type": "stream",
     "text": [
      "1.8330593934375101e-07\n"
     ]
    },
    {
     "name": "stderr",
     "output_type": "stream",
     "text": [
      "Adam Optimizer:  50%|████▉     | 499/1000 [01:54<01:52,  4.45it/s]"
     ]
    },
    {
     "name": "stdout",
     "output_type": "stream",
     "text": [
      "1.0426510348909091e-07\n"
     ]
    },
    {
     "name": "stderr",
     "output_type": "stream",
     "text": [
      "Adam Optimizer:  50%|█████     | 500/1000 [01:54<01:51,  4.47it/s]"
     ]
    },
    {
     "name": "stdout",
     "output_type": "stream",
     "text": [
      "1.8653521502333656e-07\n"
     ]
    },
    {
     "name": "stderr",
     "output_type": "stream",
     "text": [
      "Adam Optimizer:  50%|█████     | 501/1000 [01:54<01:52,  4.45it/s]"
     ]
    },
    {
     "name": "stdout",
     "output_type": "stream",
     "text": [
      "4.0910979761412964e-07\n"
     ]
    },
    {
     "name": "stderr",
     "output_type": "stream",
     "text": [
      "Adam Optimizer:  50%|█████     | 502/1000 [01:54<01:51,  4.45it/s]"
     ]
    },
    {
     "name": "stdout",
     "output_type": "stream",
     "text": [
      "2.745429492193727e-07\n"
     ]
    },
    {
     "name": "stderr",
     "output_type": "stream",
     "text": [
      "Adam Optimizer:  50%|█████     | 503/1000 [01:55<01:50,  4.51it/s]"
     ]
    },
    {
     "name": "stdout",
     "output_type": "stream",
     "text": [
      "1.0641107832853284e-07\n"
     ]
    },
    {
     "name": "stderr",
     "output_type": "stream",
     "text": [
      "Adam Optimizer:  50%|█████     | 504/1000 [01:55<01:49,  4.54it/s]"
     ]
    },
    {
     "name": "stdout",
     "output_type": "stream",
     "text": [
      "1.0011722859926313e-07\n"
     ]
    },
    {
     "name": "stderr",
     "output_type": "stream",
     "text": [
      "Adam Optimizer:  50%|█████     | 505/1000 [01:55<01:48,  4.57it/s]"
     ]
    },
    {
     "name": "stdout",
     "output_type": "stream",
     "text": [
      "1.1990434427458213e-07\n"
     ]
    },
    {
     "name": "stderr",
     "output_type": "stream",
     "text": [
      "Adam Optimizer:  51%|█████     | 506/1000 [01:55<01:48,  4.55it/s]"
     ]
    },
    {
     "name": "stdout",
     "output_type": "stream",
     "text": [
      "1.6632588653629853e-07\n"
     ]
    },
    {
     "name": "stderr",
     "output_type": "stream",
     "text": [
      "Adam Optimizer:  51%|█████     | 507/1000 [01:55<01:48,  4.56it/s]"
     ]
    },
    {
     "name": "stdout",
     "output_type": "stream",
     "text": [
      "1.2251111527676592e-07\n"
     ]
    },
    {
     "name": "stderr",
     "output_type": "stream",
     "text": [
      "Adam Optimizer:  51%|█████     | 508/1000 [01:56<01:48,  4.55it/s]"
     ]
    },
    {
     "name": "stdout",
     "output_type": "stream",
     "text": [
      "1.1544476352339304e-07\n"
     ]
    },
    {
     "name": "stderr",
     "output_type": "stream",
     "text": [
      "Adam Optimizer:  51%|█████     | 509/1000 [01:56<01:47,  4.58it/s]"
     ]
    },
    {
     "name": "stdout",
     "output_type": "stream",
     "text": [
      "9.092666695682803e-08\n"
     ]
    },
    {
     "name": "stderr",
     "output_type": "stream",
     "text": [
      "Adam Optimizer:  51%|█████     | 510/1000 [01:56<01:47,  4.57it/s]"
     ]
    },
    {
     "name": "stdout",
     "output_type": "stream",
     "text": [
      "1.4486269010857695e-07\n"
     ]
    },
    {
     "name": "stderr",
     "output_type": "stream",
     "text": [
      "Adam Optimizer:  51%|█████     | 511/1000 [01:56<01:46,  4.57it/s]"
     ]
    },
    {
     "name": "stdout",
     "output_type": "stream",
     "text": [
      "1.3283567808480717e-07\n"
     ]
    },
    {
     "name": "stderr",
     "output_type": "stream",
     "text": [
      "Adam Optimizer:  51%|█████     | 512/1000 [01:57<01:48,  4.51it/s]"
     ]
    },
    {
     "name": "stdout",
     "output_type": "stream",
     "text": [
      "4.074616848588197e-07\n"
     ]
    },
    {
     "name": "stderr",
     "output_type": "stream",
     "text": [
      "Adam Optimizer:  51%|█████▏    | 513/1000 [01:57<01:47,  4.55it/s]"
     ]
    },
    {
     "name": "stdout",
     "output_type": "stream",
     "text": [
      "6.919370954522046e-08\n"
     ]
    },
    {
     "name": "stderr",
     "output_type": "stream",
     "text": [
      "Adam Optimizer:  51%|█████▏    | 514/1000 [01:57<01:48,  4.49it/s]"
     ]
    },
    {
     "name": "stdout",
     "output_type": "stream",
     "text": [
      "6.616966069347908e-07\n"
     ]
    },
    {
     "name": "stderr",
     "output_type": "stream",
     "text": [
      "Adam Optimizer:  52%|█████▏    | 515/1000 [01:57<01:48,  4.47it/s]"
     ]
    },
    {
     "name": "stdout",
     "output_type": "stream",
     "text": [
      "2.195786683158754e-07\n"
     ]
    },
    {
     "name": "stderr",
     "output_type": "stream",
     "text": [
      "Adam Optimizer:  52%|█████▏    | 516/1000 [01:57<01:48,  4.47it/s]"
     ]
    },
    {
     "name": "stdout",
     "output_type": "stream",
     "text": [
      "3.462920066422405e-07\n"
     ]
    },
    {
     "name": "stderr",
     "output_type": "stream",
     "text": [
      "Adam Optimizer:  52%|█████▏    | 517/1000 [01:58<01:47,  4.48it/s]"
     ]
    },
    {
     "name": "stdout",
     "output_type": "stream",
     "text": [
      "2.1281935941359015e-07\n"
     ]
    },
    {
     "name": "stderr",
     "output_type": "stream",
     "text": [
      "Adam Optimizer:  52%|█████▏    | 518/1000 [01:58<01:47,  4.47it/s]"
     ]
    },
    {
     "name": "stdout",
     "output_type": "stream",
     "text": [
      "3.568872525398948e-07\n"
     ]
    },
    {
     "name": "stderr",
     "output_type": "stream",
     "text": [
      "Adam Optimizer:  52%|█████▏    | 519/1000 [01:58<01:47,  4.47it/s]"
     ]
    },
    {
     "name": "stdout",
     "output_type": "stream",
     "text": [
      "2.2957600498674646e-07\n"
     ]
    },
    {
     "name": "stderr",
     "output_type": "stream",
     "text": [
      "Adam Optimizer:  52%|█████▏    | 520/1000 [01:58<01:46,  4.51it/s]"
     ]
    },
    {
     "name": "stdout",
     "output_type": "stream",
     "text": [
      "1.1298911687797406e-07\n"
     ]
    },
    {
     "name": "stderr",
     "output_type": "stream",
     "text": [
      "Adam Optimizer:  52%|█████▏    | 521/1000 [01:59<01:46,  4.52it/s]"
     ]
    },
    {
     "name": "stdout",
     "output_type": "stream",
     "text": [
      "1.4254490128133902e-07\n"
     ]
    },
    {
     "name": "stderr",
     "output_type": "stream",
     "text": [
      "Adam Optimizer:  52%|█████▏    | 522/1000 [01:59<01:46,  4.49it/s]"
     ]
    }
   ],
   "source": [
    "import optax\n",
    "from optax import apply_updates\n",
    "\n",
    "sample_object = plt.imread(r'SilverFast_Resolution_Target_USAF_1951.png')[:, :, 0]\n",
    "sample_object = sample_object[1:-1, 1:-1]  # Crop the image to remove borders\n",
    "sample_shape = sample_object.shape\n",
    "\n",
    "object_x = jnp.linspace(-1e-7, 1e-7, sample_shape[0])\n",
    "object_y = jnp.linspace(-1e-7, 1e-7, sample_shape[1])\n",
    "object_x, object_y = jnp.meshgrid(object_x, object_y)\n",
    "object_x = object_x.ravel()\n",
    "object_y = object_y.ravel()\n",
    "\n",
    "x_det_shape, y_det_shape = Detector.det_shape\n",
    "\n",
    "# flatten detector coordinates\n",
    "x_det = det_coords[:, 0].ravel()\n",
    "y_det = det_coords[:, 1].ravel()\n",
    "\n",
    "@jax.jit\n",
    "def run_to_end_matrix_wrapper(ray_matrix):\n",
    "    \n",
    "    ray = Ray(x=ray_matrix[0],\n",
    "              y=ray_matrix[1],\n",
    "              dx=ray_matrix[2],\n",
    "              dy=ray_matrix[3],\n",
    "              z=jnp.array(PointSource.z, float),\n",
    "              pathlength=0.0,\n",
    "              _one=1.0)\n",
    "    \n",
    "    ray = run_to_end(ray, model)\n",
    "\n",
    "    ray_matrix_out = jnp.array([ray.x, ray.y, ray.dx, ray.dy]).T\n",
    "    return ray_matrix_out, ray.pathlength\n",
    "\n",
    "@jax.jit\n",
    "def loss(tilts, positions, det_coords):\n",
    "\n",
    "    tilts_x, tilts_y = tilts[:, 0], tilts[:, 1]\n",
    "    positions_x, positions_y = positions[:, 0], positions[:, 1]\n",
    "\n",
    "    ray_matrix = jnp.array([positions_x, positions_y, tilts_x, tilts_y]).T\n",
    "    ray_matrix_out, _ = jax.vmap(run_to_end_matrix_wrapper)(ray_matrix)\n",
    "\n",
    "    det_rays_x, det_rays_y, _, _ = ray_matrix_out.T\n",
    "    \n",
    "    rays_at_end = jnp.array([det_rays_x, det_rays_y]).T\n",
    "    error = jnp.linalg.norm(det_coords - rays_at_end) \n",
    "\n",
    "    return error\n",
    "\n",
    "det_coords = Detector.get_coords()\n",
    "cur_tilts = jnp.zeros((det_coords.shape[0], 2))\n",
    "#initialise to random tilts with 1e-3 max slope\n",
    "cur_tilts = jax.random.uniform(jax.random.PRNGKey(0), shape=(det_coords.shape[0], 2), minval=-1e-3, maxval=1e-3)\n",
    "\n",
    "cur_positions = jnp.zeros((det_coords.shape[0], 2))\n",
    "\n",
    "results = {}\n",
    "max_iterations = 1000\n",
    "loss_val = 1.0\n",
    "\n",
    "loss_history = []\n",
    "\n",
    "adam_opt = optax.adam(learning_rate=1e-3)\n",
    "adam_state = adam_opt.init(cur_tilts)\n",
    "\n",
    "@jax.jit\n",
    "def adam_step(cur_tilts, adam_state, cur_positions, det_coords):\n",
    "    loss_val = loss(cur_tilts, cur_positions, det_coords)\n",
    "    grads = jax.jacfwd(loss, argnums=0)(cur_tilts, cur_positions, det_coords)\n",
    "    updates, adam_state = adam_opt.update(grads, adam_state, cur_tilts)\n",
    "    cur_tilts = apply_updates(cur_tilts, updates)\n",
    "    return cur_tilts, adam_state, loss_val\n",
    "\n",
    "for i in tqdm.trange(max_iterations, desc=\"Adam Optimizer\", leave=True):\n",
    "    cur_tilts, adam_state, loss_val = adam_step(cur_tilts, adam_state, cur_positions, det_coords)\n",
    "    loss_history.append(loss_val)\n",
    "    print(loss_val)\n",
    "    if loss_val < 1e-9:\n",
    "        break\n",
    "\n",
    "results[\"adam\"] = loss_history\n",
    "\n",
    "plt.figure()\n",
    "for opt_name, history in results.items():\n",
    "    plt.plot(history, label=opt_name)\n",
    "plt.xlabel('Iteration')\n",
    "plt.ylabel('Loss')\n",
    "plt.yscale('log')\n",
    "plt.title('Loss vs Iteration')\n",
    "plt.legend()\n",
    "plt.grid(True)\n",
    "plt.show()\n",
    "\n"
   ]
  },
  {
   "cell_type": "code",
   "execution_count": null,
   "id": "4715b475",
   "metadata": {},
   "outputs": [
    {
     "ename": "NameError",
     "evalue": "name 'output' is not defined",
     "output_type": "error",
     "traceback": [
      "\u001b[31m---------------------------------------------------------------------------\u001b[39m",
      "\u001b[31mNameError\u001b[39m                                 Traceback (most recent call last)",
      "\u001b[36mCell\u001b[39m\u001b[36m \u001b[39m\u001b[32mIn[5]\u001b[39m\u001b[32m, line 2\u001b[39m\n\u001b[32m      1\u001b[39m fig, ax = plt.subplots(\u001b[32m1\u001b[39m, \u001b[32m2\u001b[39m, figsize=(\u001b[32m10\u001b[39m, \u001b[32m5\u001b[39m))\n\u001b[32m----> \u001b[39m\u001b[32m2\u001b[39m ax[\u001b[32m0\u001b[39m].imshow(np.abs(\u001b[43moutput\u001b[49m), cmap=\u001b[33m'\u001b[39m\u001b[33mgray\u001b[39m\u001b[33m'\u001b[39m)\n\u001b[32m      3\u001b[39m ax[\u001b[32m0\u001b[39m].set_title(\u001b[33m'\u001b[39m\u001b[33mAmplitude\u001b[39m\u001b[33m'\u001b[39m)\n\u001b[32m      4\u001b[39m ax[\u001b[32m1\u001b[39m].imshow(np.angle(output), cmap=\u001b[33m'\u001b[39m\u001b[33mgray\u001b[39m\u001b[33m'\u001b[39m)\n",
      "\u001b[31mNameError\u001b[39m: name 'output' is not defined"
     ]
    },
    {
     "data": {
      "application/vnd.jupyter.widget-view+json": {
       "model_id": "3315b316caaa4180908aaebb640299ce",
       "version_major": 2,
       "version_minor": 0
      },
      "image/png": "[encoded data removed]",
      "text/html": [
       "\n",
       "            <div style=\"display: inline-block;\">\n",
       "                <div class=\"jupyter-widgets widget-label\" style=\"text-align: center;\">\n",
       "                    Figure\n",
       "                </div>\n",
       "                <img src='data:image/png;base64,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' width=1000.0/>\n",
       "            </div>\n",
       "        "
      ],
      "text/plain": [
       "Canvas(toolbar=Toolbar(toolitems=[('Home', 'Reset original view', 'home', 'home'), ('Back', 'Back to previous …"
      ]
     },
     "metadata": {},
     "output_type": "display_data"
    }
   ],
   "source": [
    "fig, ax = plt.subplots(1, 2, figsize=(10, 5))\n",
    "ax[0].imshow(np.abs(output), cmap='gray')\n",
    "ax[0].set_title('Amplitude')\n",
    "ax[1].imshow(np.angle(output), cmap='gray')\n",
    "ax[1].set_title('Phase')\n",
    "plt.show()\n"
   ]
  },
  {
   "cell_type": "code",
   "execution_count": null,
   "id": "ce3c4bb7",
   "metadata": {},
   "outputs": [
    {
     "data": {
      "application/vnd.jupyter.widget-view+json": {
       "model_id": "c4e07aa65b754062814e5fd6108213d0",
       "version_major": 2,
       "version_minor": 0
      },
      "image/png": "[encoded data removed]",
      "text/html": [
       "\n",
       "            <div style=\"display: inline-block;\">\n",
       "                <div class=\"jupyter-widgets widget-label\" style=\"text-align: center;\">\n",
       "                    Figure\n",
       "                </div>\n",
       "                <img src='data:image/png;base64,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' width=640.0/>\n",
       "            </div>\n",
       "        "
      ],
      "text/plain": [
       "Canvas(toolbar=Toolbar(toolitems=[('Home', 'Reset original view', 'home', 'home'), ('Back', 'Back to previous …"
      ]
     },
     "metadata": {},
     "output_type": "display_data"
    },
    {
     "data": {
      "application/vnd.jupyter.widget-view+json": {
       "model_id": "51fb3eab409c411b96e533abc27bf7c0",
       "version_major": 2,
       "version_minor": 0
      },
      "image/png": "[encoded data removed]",
      "text/html": [
       "\n",
       "            <div style=\"display: inline-block;\">\n",
       "                <div class=\"jupyter-widgets widget-label\" style=\"text-align: center;\">\n",
       "                    Figure\n",
       "                </div>\n",
       "                <img src='data:image/png;base64,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' width=640.0/>\n",
       "            </div>\n",
       "        "
      ],
      "text/plain": [
       "Canvas(toolbar=Toolbar(toolitems=[('Home', 'Reset original view', 'home', 'home'), ('Back', 'Back to previous …"
      ]
     },
     "metadata": {},
     "output_type": "display_data"
    }
   ],
   "source": [
    "z_input_aperture = 0.0\n",
    "z_output_aperture = 0.0\n",
    "\n",
    "n_rays = Detector.det_shape[0]\n",
    "x_input, y_input = 1e-7, 0.\n",
    "dx_input, dy_input = solve_slopes_vmap(x_input, y_input, x_det, y_det)\n",
    "\n",
    "output_rays_x = jax_poly_x(x_input, y_input, dx_input, dy_input)\n",
    "output_rays_y = jax_poly_y(x_input, y_input, dx_input, dy_input)\n",
    "output_rays_dx = jax_poly_dx(x_input, y_input, dx_input, dy_input)\n",
    "output_rays_dy = jax_poly_dy(x_input, y_input, dx_input, dy_input)\n",
    "\n",
    "amp = amplitude(x_input, y_input, dx_input, dy_input)\n",
    "opl = jax_poly_opl(x_input, y_input, dx_input, dy_input)\n",
    "phase = (2*jnp.pi*(opl/wavelength) + jnp.pi) % (2*jnp.pi) - jnp.pi\n",
    "phase = phase.reshape((x_det_shape, y_det_shape))\n",
    "amp = amp.reshape((x_det_shape, y_det_shape))\n",
    "\n",
    "wave = jnp.exp(1j*phase) * amp * dx * dy\n",
    "\n",
    "plt.figure()\n",
    "plt.imshow(np.abs(wave), cmap='gray')\n",
    "plt.show()\n",
    "\n",
    "plt.figure()\n",
    "plt.imshow(np.angle(wave), cmap='gray')\n",
    "plt.show()\n",
    "# input_aperture_rays_x = input_rays_x + dx_input * abs(z_init)\n",
    "# input_aperture_rays_y = input_rays_y + dy_input * abs(z_init)\n",
    "\n",
    "# output_aperture_rays_x = output_rays_x + output_rays_dx * -z_image\n",
    "# output_aperture_rays_y = output_rays_y + output_rays_dy * -z_image\n",
    "\n",
    "\n",
    "# plt.figure()\n",
    "# plt.plot([z_init, z_input_aperture], [input_rays_x[:n_rays], input_aperture_rays_x[:n_rays]], 'r-')\n",
    "# plt.plot([z_input_aperture, z_image], [output_aperture_rays_x[:n_rays], output_rays_x[:n_rays]], 'b-')\n",
    "# plt.plot(np.full(det_coords[:n_rays, 0].shape, z_image), det_coords[:n_rays, 0], 'k.')"
   ]
  }
 ],
 "metadata": {
  "kernelspec": {
   "display_name": "JaxGym",
   "language": "python",
   "name": "python3"
  },
  "language_info": {
   "codemirror_mode": {
    "name": "ipython",
    "version": 3
   },
   "file_extension": ".py",
   "mimetype": "text/x-python",
   "name": "python",
   "nbconvert_exporter": "python",
   "pygments_lexer": "ipython3",
   "version": "3.12.6"
  }
 },
 "nbformat": 4,
 "nbformat_minor": 5
}
