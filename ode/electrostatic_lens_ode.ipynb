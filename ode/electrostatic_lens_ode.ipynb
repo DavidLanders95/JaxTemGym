{
 "cells": [
  {
   "cell_type": "code",
   "execution_count": 2,
   "id": "c7601df9",
   "metadata": {},
   "outputs": [
    {
     "ename": "ModuleNotFoundError",
     "evalue": "No module named 'jaxgym'",
     "output_type": "error",
     "traceback": [
      "\u001b[1;31m---------------------------------------------------------------------------\u001b[0m",
      "\u001b[1;31mModuleNotFoundError\u001b[0m                       Traceback (most recent call last)",
      "Cell \u001b[1;32mIn[2], line 1\u001b[0m\n\u001b[1;32m----> 1\u001b[0m \u001b[38;5;28;01mfrom\u001b[39;00m\u001b[38;5;250m \u001b[39m\u001b[38;5;21;01mjaxgym\u001b[39;00m\u001b[38;5;21;01m.\u001b[39;00m\u001b[38;5;21;01mode\u001b[39;00m\u001b[38;5;250m \u001b[39m\u001b[38;5;28;01mimport\u001b[39;00m odedopri, electron_equation_of_motion, electron_equation_of_motion_DA\n\u001b[0;32m      2\u001b[0m \u001b[38;5;28;01mfrom\u001b[39;00m\u001b[38;5;250m \u001b[39m\u001b[38;5;21;01mjaxgym\u001b[39;00m\u001b[38;5;21;01m.\u001b[39;00m\u001b[38;5;21;01mfield\u001b[39;00m\u001b[38;5;250m \u001b[39m\u001b[38;5;28;01mimport\u001b[39;00m schiske_lens_expansion_xyz, obtain_first_order_electrostatic_lens_properties\n\u001b[0;32m      3\u001b[0m \u001b[38;5;28;01mimport\u001b[39;00m\u001b[38;5;250m \u001b[39m\u001b[38;5;21;01mjaxgym\u001b[39;00m\u001b[38;5;21;01m.\u001b[39;00m\u001b[38;5;21;01mcomponents\u001b[39;00m\u001b[38;5;250m \u001b[39m\u001b[38;5;28;01mas\u001b[39;00m\u001b[38;5;250m \u001b[39m\u001b[38;5;21;01mcomp\u001b[39;00m\n",
      "\u001b[1;31mModuleNotFoundError\u001b[0m: No module named 'jaxgym'"
     ]
    }
   ],
   "source": [
    "from jaxgym.ode import odedopri, electron_equation_of_motion, electron_equation_of_motion_DA\n",
    "from jaxgym.field import schiske_lens_expansion_xyz, obtain_first_order_electrostatic_lens_properties\n",
    "import jaxgym.components as comp\n",
    "from jaxgym.ray import Ray, ray_matrix\n",
    "from jaxgym.run import run_to_end\n",
    "\n",
    "import jax.numpy as jnp\n",
    "import sympy as sp\n",
    "\n",
    "from scipy.constants import h as h_planck, e, m_e\n",
    "from daceypy import array, DA\n",
    "\n",
    "import jax"
   ]
  },
  {
   "cell_type": "code",
   "execution_count": 2,
   "id": "d2710361",
   "metadata": {},
   "outputs": [],
   "source": [
    "X, Y, Z = sp.symbols('X Y Z')\n",
    "\n",
    "scale = 1e3 #set to mm scale\n",
    "# Set Parameters for Schiske Electrostatic Lens\n",
    "# Define lens parameters\n",
    "\n",
    "z_init = -0.020*scale  # Convert m to um units\n",
    "a = 0.0004*scale  # Convert m to um units\n",
    "phi_0 = 1  # Volts\n",
    "k = 0.40**(1/2)  # Unitless\n",
    "\n",
    "(\n",
    "    phi_expansion_symbolic,\n",
    "    E_lambda, phi_lambda,\n",
    "    phi_lambda_axial,\n",
    "    phi_lambda_prime,\n",
    "    phi_lambda_double_prime,\n",
    "    phi_lambda_quadruple_prime,\n",
    "    phi_lambda_sextuple_prime\n",
    ") = schiske_lens_expansion_xyz(X, Y, Z, phi_0, a, k)\n",
    "\n",
    "wavelength = h_planck/(2*abs(e)*m_e*phi_lambda_axial(z_init))**(1/2)*scale"
   ]
  },
  {
   "cell_type": "code",
   "execution_count": 3,
   "id": "4d9b72ef",
   "metadata": {},
   "outputs": [],
   "source": [
    "z_pos, g, g_, h, h_, mag_real, z_image, z_focal_real, z_focal_asymp, z_pi = obtain_first_order_electrostatic_lens_properties(\n",
    "    z_init, phi_lambda_axial, phi_lambda_prime, phi_lambda_double_prime, z_sampling=1000)"
   ]
  },
  {
   "cell_type": "code",
   "execution_count": 4,
   "id": "e5febe44",
   "metadata": {},
   "outputs": [
    {
     "name": "stdout",
     "output_type": "stream",
     "text": [
      "-0.8835744434957277 -20.0 17.67049607348454\n"
     ]
    }
   ],
   "source": [
    "print(mag_real, z_init, z_image)"
   ]
  },
  {
   "cell_type": "code",
   "execution_count": 5,
   "id": "ede2a9a9",
   "metadata": {},
   "outputs": [
    {
     "name": "stdout",
     "output_type": "stream",
     "text": [
      "-0.8835744434957277 -0.8835743719960909\n"
     ]
    }
   ],
   "source": [
    "DA.init(3, 5)\n",
    "\n",
    "# Set initial conditions. It does not matter that the slope and position are 0.\n",
    "x0 = 0.\n",
    "y0 = 0.\n",
    "x0_slope = 0.\n",
    "y0_slope = 0.\n",
    "opl = 0.\n",
    "\n",
    "u0 = 1.0\n",
    "\n",
    "x = array([x0 + DA(1), y0 + DA(2), x0_slope + DA(3), y0_slope + DA(4), opl + DA(5)])\n",
    "\n",
    "# solve the equation of motion via the differential algebra method, which delivers the solution as a taylor expansion, directly calculating the value of spherical aberration.\n",
    "with DA.cache_manager():\n",
    "    zf, x_f = odedopri(electron_equation_of_motion_DA, z_init,\n",
    "                        x,  z_image,  1e-6, 10000, 1e-15,  \n",
    "                        int(1e6), (phi_lambda, E_lambda, u0))\n",
    "\n",
    "magnification = x_f[0].getCoefficient([1, 0])\n",
    "Cs_DA = x_f[0].getCoefficient([0, 3])\n",
    "\n",
    "print(mag_real, magnification)"
   ]
  },
  {
   "cell_type": "code",
   "execution_count": 1,
   "id": "0c3ba7a9",
   "metadata": {},
   "outputs": [
    {
     "ename": "NameError",
     "evalue": "name 'jnp' is not defined",
     "output_type": "error",
     "traceback": [
      "\u001b[1;31m---------------------------------------------------------------------------\u001b[0m",
      "\u001b[1;31mNameError\u001b[0m                                 Traceback (most recent call last)",
      "Cell \u001b[1;32mIn[1], line 1\u001b[0m\n\u001b[1;32m----> 1\u001b[0m z_init \u001b[38;5;241m=\u001b[39m \u001b[43mjnp\u001b[49m\u001b[38;5;241m.\u001b[39marray(z_init)\n\u001b[0;32m      2\u001b[0m z_image \u001b[38;5;241m=\u001b[39m jnp\u001b[38;5;241m.\u001b[39marray(z_image)\n\u001b[0;32m      4\u001b[0m PointSource \u001b[38;5;241m=\u001b[39m comp\u001b[38;5;241m.\u001b[39mPointSource(z\u001b[38;5;241m=\u001b[39mz_init, semi_conv\u001b[38;5;241m=\u001b[39m\u001b[38;5;241m0.0\u001b[39m)\n",
      "\u001b[1;31mNameError\u001b[0m: name 'jnp' is not defined"
     ]
    }
   ],
   "source": [
    "z_init = jnp.array(z_init)\n",
    "z_image = jnp.array(z_image)\n",
    "\n",
    "PointSource = comp.PointSource(z=z_init, semi_conv=0.0)\n",
    "ElectrostaticLens = comp.ODE(z=z_init, z_end=z_image, phi_lambda=phi_lambda, E_lambda=E_lambda)\n",
    "Detector = comp.Detector(z=z_image, det_pixel_size=[1e-6, 1e-6], det_shape=(128, 128))\n",
    "model = [PointSource, ElectrostaticLens, Detector]\n",
    "\n",
    "ray = ray_matrix(0., 0., 0., 0., z_init, 0.)\n",
    "ray_out = run_to_end(ray, model)\n",
    "\n",
    "print(ray_out)\n"
   ]
  },
  {
   "cell_type": "code",
   "execution_count": null,
   "id": "dce4c28e",
   "metadata": {},
   "outputs": [],
   "source": [
    "\n",
    "jax.jacfwd(jax.jacfwd(jax.jacfwd(run_to_end(ray, model))))(y0)"
   ]
  }
 ],
 "metadata": {
  "kernelspec": {
   "display_name": "temgym",
   "language": "python",
   "name": "python3"
  },
  "language_info": {
   "codemirror_mode": {
    "name": "ipython",
    "version": 3
   },
   "file_extension": ".py",
   "mimetype": "text/x-python",
   "name": "python",
   "nbconvert_exporter": "python",
   "pygments_lexer": "ipython3",
   "version": "3.12.8"
  }
 },
 "nbformat": 4,
 "nbformat_minor": 5
}
