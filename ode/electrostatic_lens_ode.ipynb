{
 "cells": [
  {
   "cell_type": "code",
   "execution_count": 1,
   "id": "c7601df9",
   "metadata": {},
   "outputs": [],
   "source": [
    "from jaxgym.ode import odedopri,  electron_equation_of_motion_DA\n",
    "from jaxgym.field import schiske_lens_expansion_xyz, obtain_first_order_electrostatic_lens_properties\n",
    "import jaxgym.components as comp\n",
    "from jaxgym.ray import Ray\n",
    "from jaxgym.run import run_to_end, calculate_derivatives\n",
    "from jaxgym.taylor import poly_dict, order_indices, poly_dict_to_sympy_expr\n",
    "\n",
    "import jax\n",
    "import jax.numpy as jnp\n",
    "import numpy as np\n",
    "import optimistix as optx\n",
    "\n",
    "from scipy.constants import h as h_planck, e, m_e\n",
    "from daceypy import array, DA\n",
    "import sympy as sp\n",
    "import os\n",
    "\n",
    "from scipy.integrate import simpson\n",
    "\n",
    "jax.config.update(\"jax_platform_name\", \"cpu\")\n",
    "jax.config.update(\"jax_enable_x64\", True)\n",
    "os.environ[\"XLA_PYTHON_CLIENT_PREALLOCATE\"] = \"false\"\n",
    "os.environ[\"XLA_PYTHON_CLIENT_MEM_LIMIT_MB\"] = \"400\""
   ]
  },
  {
   "cell_type": "code",
   "execution_count": 2,
   "id": "d2710361",
   "metadata": {},
   "outputs": [],
   "source": [
    "X, Y, Z = sp.symbols('X Y Z')\n",
    "\n",
    "scale = 1 #set to mm scale\n",
    "# Set Parameters for Schiske Electrostatic Lens\n",
    "# Define lens parameters\n",
    "\n",
    "z_init = -0.020*scale  # Convert m to um units\n",
    "a = 0.0004*scale  # Convert m to um units\n",
    "phi_0 = 1  # Volts\n",
    "k = 0.40**(1/2)  # Unitless\n",
    "\n",
    "(\n",
    "    phi_expansion_symbolic,\n",
    "    E_lambda, phi_lambda,\n",
    "    phi_lambda_axial,\n",
    "    phi_lambda_prime,\n",
    "    phi_lambda_double_prime,\n",
    "    phi_lambda_quadruple_prime,\n",
    "    phi_lambda_sextuple_prime\n",
    ") = schiske_lens_expansion_xyz(X, Y, Z, phi_0, a, k)\n",
    "\n",
    "wavelength = h_planck/(2*abs(e)*m_e*phi_lambda_axial(z_init))**(1/2)*scale"
   ]
  },
  {
   "cell_type": "code",
   "execution_count": 3,
   "id": "4d9b72ef",
   "metadata": {},
   "outputs": [],
   "source": [
    "z_pos, g, g_, h, h_, mag_real, z_image, z_focal_real, z_focal_asymp, z_pi = obtain_first_order_electrostatic_lens_properties(\n",
    "    z_init, phi_lambda_axial, phi_lambda_prime, phi_lambda_double_prime, z_sampling=1000)\n",
    "\n",
    "R = abs(z_pi) + z_image"
   ]
  },
  {
   "cell_type": "code",
   "execution_count": 4,
   "id": "b9059c01",
   "metadata": {},
   "outputs": [
    {
     "name": "stdout",
     "output_type": "stream",
     "text": [
      "Cs in metres (Aberration Integral Method): -184.69636175520125\n"
     ]
    }
   ],
   "source": [
    "Uz0 = phi_lambda_axial(z_pos[0])\n",
    "\n",
    "U_val = phi_lambda_axial(z_pos)\n",
    "U_val_ = phi_lambda_prime(z_pos)\n",
    "U_val__ = phi_lambda_double_prime(z_pos)\n",
    "U_val____ = phi_lambda_quadruple_prime(z_pos)\n",
    "\n",
    "\n",
    "def L_1():\n",
    "    return (1/(32*jnp.sqrt(U_val)))*((U_val__**2)/(U_val)-U_val____)\n",
    "\n",
    "\n",
    "def L_2():\n",
    "    return (1/(8*jnp.sqrt(U_val)))*(U_val__)\n",
    "\n",
    "\n",
    "def L_3():\n",
    "    return 1/2*(jnp.sqrt(U_val))\n",
    "\n",
    "\n",
    "def F_020():\n",
    "    return (L_1()/4)*h*h*h*h + (L_2()/2)*h*h*h_*h_ + (L_3()/4)*h_*h_*h_*h_\n",
    "\n",
    "\n",
    "Cs = 4/jnp.sqrt(abs(Uz0))*simpson(F_020(), x=z_pos)*mag_real\n",
    "B = simpson(F_020(), x=z_pos)\n",
    "\n",
    "print('Cs in metres (Aberration Integral Method):', Cs)"
   ]
  },
  {
   "cell_type": "code",
   "execution_count": 5,
   "id": "ede2a9a9",
   "metadata": {},
   "outputs": [],
   "source": [
    "order = 4\n",
    "\n",
    "DA.init(order, 5)\n",
    "\n",
    "# Set initial conditions. It does not matter that the slope and position are 0.\n",
    "x0 = 0.\n",
    "y0 = 0.\n",
    "x0_slope = 0.0\n",
    "y0_slope = 0.0\n",
    "opl = 0.\n",
    "\n",
    "u0 = phi_lambda_axial(z_init)  # initial potential\n",
    "x = array([x0 + DA(1), y0 + DA(2), x0_slope + DA(3), y0_slope + DA(4), opl + DA(5)])\n",
    "\n",
    "# solve the equation of motion via the differential algebra method, which delivers the solution as a taylor expansion\n",
    "with DA.cache_manager():\n",
    "    zf, x_f = odedopri(electron_equation_of_motion_DA, z_init,\n",
    "                        x,  z_image,  1e-1, 10000, 1e-15,  \n",
    "                        int(1e5), (phi_lambda, E_lambda, u0))\n",
    "    \n",
    "Cs_daceypy = x_f[0].getCoefficient([0, 0, 3, 0])"
   ]
  },
  {
   "cell_type": "code",
   "execution_count": 6,
   "id": "4178ff56",
   "metadata": {},
   "outputs": [
    {
     "name": "stdout",
     "output_type": "stream",
     "text": [
      "Cs (Aberration Integral Method): -184.69636175520125\n",
      "Cs (DA) - x polynomial -184.69636531277365\n",
      "Cs (DA) - opl polynomial -184.69636531495235\n"
     ]
    }
   ],
   "source": [
    "Cs = 4/jnp.sqrt(abs(Uz0))*simpson(F_020(), x=z_pos)*mag_real\n",
    "print('Cs (Aberration Integral Method):', Cs)\n",
    "print('Cs (DA) - x polynomial', Cs_daceypy)\n",
    "print('Cs (DA) - opl polynomial', x_f[4].getCoefficient([0, 0, 4, 0, ]) * mag_real * 4/3)\n"
   ]
  },
  {
   "cell_type": "code",
   "execution_count": 7,
   "id": "0c3ba7a9",
   "metadata": {},
   "outputs": [],
   "source": [
    "z_init = jnp.array(z_init)\n",
    "z_image = jnp.array(z_image)\n",
    "\n",
    "PointSource = comp.InputPlane(z=z_init)\n",
    "ElectrostaticLens = comp.ODE(z=z_init, z_end=z_image, phi_lambda=phi_lambda, E_lambda=E_lambda)\n",
    "Detector = comp.Detector(z=z_image, det_pixel_size=(55e-6, 55e-6), det_shape = (256, 256))\n",
    "model = [PointSource, ElectrostaticLens, Detector]\n",
    "\n",
    "ray = Ray(0., 0., 0., 0., 0., z_init, 0.0)\n",
    "ray_out = run_to_end(ray, model)\n",
    "\n",
    "derivatives = calculate_derivatives(ray, model, order)"
   ]
  },
  {
   "cell_type": "code",
   "execution_count": null,
   "id": "0d96ab4a",
   "metadata": {},
   "outputs": [],
   "source": [
    "selected_vars = ['x', 'y', 'dx', 'dy', 'pathlength']\n",
    "multi_indices = order_indices(order, n_vars=len(selected_vars))"
   ]
  },
  {
   "cell_type": "code",
   "execution_count": 9,
   "id": "2d912e06",
   "metadata": {},
   "outputs": [],
   "source": [
    "poly_dicts = poly_dict(derivatives, selected_vars, multi_indices[1:])"
   ]
  },
  {
   "cell_type": "code",
   "execution_count": 10,
   "id": "7f497ec5",
   "metadata": {},
   "outputs": [
    {
     "data": {
      "text/latex": [
       "$\\displaystyle x_{out} = - 23069095.9559152 x^{3} - 1384309.95856267 x^{2} x' - 27693.3774475891 x x'^{2} - 23069095.9559152 x y^{2} - 922797.959323745 x y y' - 9231.12581594256 x y'^{2} - 0.883574443486702 x - 184.696365322523 x'^{3} - 461511.999238918 x' y^{2} - 18462.2516316465 x' y y' - 184.696365322523 x' y'^{2} - 3.97026161946812 \\cdot 10^{-14} x'$"
      ],
      "text/plain": [
       "Eq(x_out, -23069095.9559152*x**3 - 1384309.95856267*x**2*x' - 27693.3774475891*x*x'**2 - 23069095.9559152*x*y**2 - 922797.959323745*x*y*y' - 9231.12581594256*x*y'**2 - 0.883574443486702*x - 184.696365322523*x'**3 - 461511.999238918*x'*y**2 - 18462.2516316465*x'*y*y' - 184.696365322523*x'*y'**2 - 3.97026161946812e-14*x')"
      ]
     },
     "metadata": {},
     "output_type": "display_data"
    },
    {
     "data": {
      "text/latex": [
       "$\\displaystyle y_{out} = - 23069095.9559152 x^{2} y - 461511.999238918 x^{2} y' - 922797.959323745 x x' y - 18462.2516316465 x x' y' - 9231.12581594256 x'^{2} y - 184.696365322523 x'^{2} y' - 23069095.9559152 y^{3} - 1384309.95856267 y^{2} y' - 27693.3774475891 y y'^{2} - 0.883574443486702 y - 184.696365322523 y'^{3} - 3.97026161946812 \\cdot 10^{-14} y'$"
      ],
      "text/plain": [
       "Eq(y_out, -23069095.9559152*x**2*y - 461511.999238918*x**2*y' - 922797.959323745*x*x'*y - 18462.2516316465*x*x'*y' - 9231.12581594256*x'**2*y - 184.696365322523*x'**2*y' - 23069095.9559152*y**3 - 1384309.95856267*y**2*y' - 27693.3774475891*y*y'**2 - 0.883574443486702*y - 184.696365322523*y'**3 - 3.97026161946812e-14*y')"
      ]
     },
     "metadata": {},
     "output_type": "display_data"
    },
    {
     "data": {
      "text/latex": [
       "$\\displaystyle dx_{out} = - 1304694783.91109 x^{3} - 78294402.5492511 x^{2} x' - 1566362.58817763 x x'^{2} - 1304694783.91109 x y^{2} - 52187182.9264694 x y y' - 522024.349709946 x y'^{2} - 106.544172191599 x - 10447.0514652327 x'^{3} - 26107219.6227816 x' y^{2} - 1044338.23846768 x' y y' - 10447.0514652327 x' y'^{2} - 1.13179197789377 x'$"
      ],
      "text/plain": [
       "Eq(dx_out, -1304694783.91109*x**3 - 78294402.5492511*x**2*x' - 1566362.58817763*x*x'**2 - 1304694783.91109*x*y**2 - 52187182.9264694*x*y*y' - 522024.349709946*x*y'**2 - 106.544172191599*x - 10447.0514652327*x'**3 - 26107219.6227816*x'*y**2 - 1044338.23846768*x'*y*y' - 10447.0514652327*x'*y'**2 - 1.13179197789377*x')"
      ]
     },
     "metadata": {},
     "output_type": "display_data"
    },
    {
     "data": {
      "text/latex": [
       "$\\displaystyle dy_{out} = - 1304694783.91109 x^{2} y - 26107219.6227816 x^{2} y' - 52187182.9264694 x x' y - 1044338.23846768 x x' y' - 522024.349709946 x'^{2} y - 10447.0514652327 x'^{2} y' - 1304694783.91109 y^{3} - 78294402.5492511 y^{2} y' - 1566362.58817763 y y'^{2} - 106.544172191599 y - 10447.0514652327 y'^{3} - 1.13179197789377 y'$"
      ],
      "text/plain": [
       "Eq(dy_out, -1304694783.91109*x**2*y - 26107219.6227816*x**2*y' - 52187182.9264694*x*x'*y - 1044338.23846768*x*x'*y' - 522024.349709946*x'**2*y - 10447.0514652327*x'**2*y' - 1304694783.91109*y**3 - 78294402.5492511*y**2*y' - 1566362.58817763*y*y'**2 - 106.544172191599*y - 10447.0514652327*y'**3 - 1.13179197789377*y')"
      ]
     },
     "metadata": {},
     "output_type": "display_data"
    },
    {
     "data": {
      "text/latex": [
       "$\\displaystyle \\frac{14.5575945808104 x^{2} + 0.582359667236472 x x' + 0.00582592611101888 x'^{2} + 0.00614249111504384 y^{2} - \\left(49.9800079971435 y + 57.2155099431972 \\sqrt[3]{0.333427112804452 x^{2} y + 0.0133375776782558 x x' y + 0.000133421250430716 x'^{2} y + y^{3} - 0.000133421250429566 y \\left(2498.76059246218 x^{2} + 99.9600159938562 x x' + x'^{2} + 7495.05793546798 y^{2} + 2.14961545807093 \\cdot 10^{-16}\\right) + 1.27706641041575 \\cdot 10^{-8} y + 1.44534104605411 \\cdot 10^{-8} y_{out} + \\left(0.0164712872897871 \\left(x^{2} + 0.0400038388212933 x x' + 0.000400198403567203 x'^{2} + 0.000421944098040811 y^{2} + 8.60272674603369 \\cdot 10^{-20}\\right)^{3} + \\left(0.333427112804452 x^{2} y + 0.0133375776782558 x x' y + 0.000133421250430716 x'^{2} y + y^{3} - 0.000133421250429566 y \\left(2498.76059246218 x^{2} + 99.9600159938562 x x' + x'^{2} + 7495.05793546798 y^{2} + 2.14961545807093 \\cdot 10^{-16}\\right) + 1.27706641041575 \\cdot 10^{-8} y + 1.44534104605411 \\cdot 10^{-8} y_{out}\\right)^{2}\\right)^{0.5}}\\right) \\sqrt[3]{0.333427112804452 x^{2} y + 0.0133375776782558 x x' y + 0.000133421250430716 x'^{2} y + y^{3} - 0.000133421250429566 y \\left(2498.76059246218 x^{2} + 99.9600159938562 x x' + x'^{2} + 7495.05793546798 y^{2} + 2.14961545807093 \\cdot 10^{-16}\\right) + 1.27706641041575 \\cdot 10^{-8} y + 1.44534104605411 \\cdot 10^{-8} y_{out} + \\left(0.0164712872897871 \\left(x^{2} + 0.0400038388212933 x x' + 0.000400198403567203 x'^{2} + 0.000421944098040811 y^{2} + 8.60272674603369 \\cdot 10^{-20}\\right)^{3} + \\left(0.333427112804452 x^{2} y + 0.0133375776782558 x x' y + 0.000133421250430716 x'^{2} y + y^{3} - 0.000133421250429566 y \\left(2498.76059246218 x^{2} + 99.9600159938562 x x' + x'^{2} + 7495.05793546798 y^{2} + 2.14961545807093 \\cdot 10^{-16}\\right) + 1.27706641041575 \\cdot 10^{-8} y + 1.44534104605411 \\cdot 10^{-8} y_{out}\\right)^{2}\\right)^{0.5}} + 1.25235008258253 \\cdot 10^{-18}}{\\sqrt[3]{0.333427112804452 x^{2} y + 0.0133375776782558 x x' y + 0.000133421250430716 x'^{2} y + y^{3} - 0.000133421250429566 y \\left(2498.76059246218 x^{2} + 99.9600159938562 x x' + x'^{2} + 7495.05793546798 y^{2} + 2.14961545807093 \\cdot 10^{-16}\\right) + 1.27706641041575 \\cdot 10^{-8} y + 1.44534104605411 \\cdot 10^{-8} y_{out} + \\left(0.0164712872897871 \\left(x^{2} + 0.0400038388212933 x x' + 0.000400198403567203 x'^{2} + 0.000421944098040811 y^{2} + 8.60272674603369 \\cdot 10^{-20}\\right)^{3} + \\left(0.333427112804452 x^{2} y + 0.0133375776782558 x x' y + 0.000133421250430716 x'^{2} y + y^{3} - 0.000133421250429566 y \\left(2498.76059246218 x^{2} + 99.9600159938562 x x' + x'^{2} + 7495.05793546798 y^{2} + 2.14961545807093 \\cdot 10^{-16}\\right) + 1.27706641041575 \\cdot 10^{-8} y + 1.44534104605411 \\cdot 10^{-8} y_{out}\\right)^{2}\\right)^{0.5}}}$"
      ],
      "text/plain": [
       "(14.5575945808104*x**2 + 0.582359667236472*x*x' + 0.00582592611101888*x'**2 + 0.00614249111504384*y**2 - (49.9800079971435*y + 57.2155099431972*(0.333427112804452*x**2*y + 0.0133375776782558*x*x'*y + 0.000133421250430716*x'**2*y + y**3 - 0.000133421250429566*y*(2498.76059246218*x**2 + 99.9600159938562*x*x' + x'**2 + 7495.05793546798*y**2 + 2.14961545807093e-16) + 1.27706641041575e-8*y + 1.44534104605411e-8*y_out + (0.0164712872897871*(x**2 + 0.0400038388212933*x*x' + 0.000400198403567203*x'**2 + 0.000421944098040811*y**2 + 8.60272674603369e-20)**3 + (0.333427112804452*x**2*y + 0.0133375776782558*x*x'*y + 0.000133421250430716*x'**2*y + y**3 - 0.000133421250429566*y*(2498.76059246218*x**2 + 99.9600159938562*x*x' + x'**2 + 7495.05793546798*y**2 + 2.14961545807093e-16) + 1.27706641041575e-8*y + 1.44534104605411e-8*y_out)**2)**0.5)**(1/3))*(0.333427112804452*x**2*y + 0.0133375776782558*x*x'*y + 0.000133421250430716*x'**2*y + y**3 - 0.000133421250429566*y*(2498.76059246218*x**2 + 99.9600159938562*x*x' + x'**2 + 7495.05793546798*y**2 + 2.14961545807093e-16) + 1.27706641041575e-8*y + 1.44534104605411e-8*y_out + (0.0164712872897871*(x**2 + 0.0400038388212933*x*x' + 0.000400198403567203*x'**2 + 0.000421944098040811*y**2 + 8.60272674603369e-20)**3 + (0.333427112804452*x**2*y + 0.0133375776782558*x*x'*y + 0.000133421250430716*x'**2*y + y**3 - 0.000133421250429566*y*(2498.76059246218*x**2 + 99.9600159938562*x*x' + x'**2 + 7495.05793546798*y**2 + 2.14961545807093e-16) + 1.27706641041575e-8*y + 1.44534104605411e-8*y_out)**2)**0.5)**(1/3) + 1.25235008258253e-18)/(0.333427112804452*x**2*y + 0.0133375776782558*x*x'*y + 0.000133421250430716*x'**2*y + y**3 - 0.000133421250429566*y*(2498.76059246218*x**2 + 99.9600159938562*x*x' + x'**2 + 7495.05793546798*y**2 + 2.14961545807093e-16) + 1.27706641041575e-8*y + 1.44534104605411e-8*y_out + (0.0164712872897871*(x**2 + 0.0400038388212933*x*x' + 0.000400198403567203*x'**2 + 0.000421944098040811*y**2 + 8.60272674603369e-20)**3 + (0.333427112804452*x**2*y + 0.0133375776782558*x*x'*y + 0.000133421250430716*x'**2*y + y**3 - 0.000133421250429566*y*(2498.76059246218*x**2 + 99.9600159938562*x*x' + x'**2 + 7495.05793546798*y**2 + 2.14961545807093e-16) + 1.27706641041575e-8*y + 1.44534104605411e-8*y_out)**2)**0.5)**(1/3)"
      ]
     },
     "metadata": {},
     "output_type": "display_data"
    }
   ],
   "source": [
    "x_var, y_var, dx_var, dy_var, x_out, y_out, dx_out, dy_out, opl_var = sp.symbols(\"x y x' y' x_out y_out dx_out, dy_out S\", real=True)\n",
    "polynomials = poly_dict_to_sympy_expr(poly_dicts, selected_vars, sym_vars=[x_var, y_var, dx_var, dy_var, opl_var])\n",
    "\n",
    "x_out_eq = sp.Eq(x_out, polynomials['x'])\n",
    "y_out_eq = sp.Eq(y_out, polynomials['y'])\n",
    "dx_out_eq = sp.Eq(dx_out, polynomials['dx'])\n",
    "dy_out_eq = sp.Eq(dy_out, polynomials['dy'])\n",
    "\n",
    "display(x_out_eq)\n",
    "display(y_out_eq)\n",
    "display(dx_out_eq)\n",
    "display(dy_out_eq)\n",
    "dx_out = sp.solve(x_out_eq, dx_var)\n",
    "dy_out = sp.solve(y_out_eq, dy_var)\n",
    "S_opl = polynomials['pathlength']\n",
    "\n",
    "display(dy_out[0].simplify())"
   ]
  },
  {
   "cell_type": "code",
   "execution_count": 11,
   "id": "284a5ec8",
   "metadata": {},
   "outputs": [
    {
     "data": {
      "text/latex": [
       "$\\displaystyle - 43438535.6633821 x^{3} - 2199428.57645442 x^{2} x' - 35849.1228341767 x x'^{2} - 43438535.6633822 x y^{2} - 1466260.60217105 x y y' - 11949.7076113923 x y'^{2} + 1.27388136100571 \\cdot 10^{-11} x - 184.696365307494 x'^{3} - 733167.974283363 x' y^{2} - 23899.4152227845 x' y y' - 184.696365307494 x' y'^{2} + 2.65399198874395 \\cdot 10^{-13} x'$"
      ],
      "text/plain": [
       "-43438535.6633821*x**3 - 2199428.57645442*x**2*x' - 35849.1228341767*x*x'**2 - 43438535.6633822*x*y**2 - 1466260.60217105*x*y*y' - 11949.7076113923*x*y'**2 + 1.27388136100571e-11*x - 184.696365307494*x'**3 - 733167.974283363*x'*y**2 - 23899.4152227845*x'*y*y' - 184.696365307494*x'*y'**2 + 2.65399198874395e-13*x'"
      ]
     },
     "metadata": {},
     "output_type": "display_data"
    },
    {
     "data": {
      "text/latex": [
       "$\\displaystyle - 23069095.9559152 x^{3} - 1384309.95856267 x^{2} x' - 27693.3774475891 x x'^{2} - 23069095.9559152 x y^{2} - 922797.959323745 x y y' - 9231.12581594256 x y'^{2} - 0.883574443486702 x - 184.696365322523 x'^{3} - 461511.999238918 x' y^{2} - 18462.2516316465 x' y y' - 184.696365322523 x' y'^{2} - 3.97026161946812 \\cdot 10^{-14} x'$"
      ],
      "text/plain": [
       "-23069095.9559152*x**3 - 1384309.95856267*x**2*x' - 27693.3774475891*x*x'**2 - 23069095.9559152*x*y**2 - 922797.959323745*x*y*y' - 9231.12581594256*x*y'**2 - 0.883574443486702*x - 184.696365322523*x'**3 - 461511.999238918*x'*y**2 - 18462.2516316465*x'*y*y' - 184.696365322523*x'*y'**2 - 3.97026161946812e-14*x'"
      ]
     },
     "metadata": {},
     "output_type": "display_data"
    },
    {
     "data": {
      "text/latex": [
       "$\\displaystyle 361267514.015826 \\sqrt{0.500000000000001 x^{4} + 0.0337551240508255 x^{3} x' + 0.000844798823248176 x^{2} x'^{2} + x^{2} y^{2} + 0.0337551240508255 x^{2} y y' + 0.000268583133642369 x^{2} y'^{2} - 1.95507106236636 \\cdot 10^{-19} x^{2} + 9.28585314015699 \\cdot 10^{-6} x x'^{3} + 0.0337551240508255 x x' y^{2} + 0.00115243137921162 x x' y y' + 9.285853140157 \\cdot 10^{-6} x x' y'^{2} - 6.5993948836045 \\cdot 10^{-21} x x' + 3.78385259246288 \\cdot 10^{-8} x'^{4} + 0.000268583133642369 x'^{2} y^{2} + 9.285853140157 \\cdot 10^{-6} x'^{2} y y' + 7.56770518492574 \\cdot 10^{-8} x'^{2} y'^{2} - 5.37829537713126 \\cdot 10^{-23} x'^{2} + 0.500000000000001 y^{4} + 0.0337551240508255 y^{3} y' + 0.000844798823248176 y^{2} y'^{2} - 1.95507106236636 \\cdot 10^{-19} y^{2} + 9.28585314015699 \\cdot 10^{-6} y y'^{3} - 6.5993948836045 \\cdot 10^{-21} y y' + 3.78385259246288 \\cdot 10^{-8} y'^{4} - 5.37829537713126 \\cdot 10^{-23} y'^{2} + 1.43336357208836 \\cdot 10^{-38}}$"
      ],
      "text/plain": [
       "361267514.015826*sqrt(0.500000000000001*x**4 + 0.0337551240508255*x**3*x' + 0.000844798823248176*x**2*x'**2 + x**2*y**2 + 0.0337551240508255*x**2*y*y' + 0.000268583133642369*x**2*y'**2 - 1.95507106236636e-19*x**2 + 9.28585314015699e-6*x*x'**3 + 0.0337551240508255*x*x'*y**2 + 0.00115243137921162*x*x'*y*y' + 9.285853140157e-6*x*x'*y'**2 - 6.5993948836045e-21*x*x' + 3.78385259246288e-8*x'**4 + 0.000268583133642369*x'**2*y**2 + 9.285853140157e-6*x'**2*y*y' + 7.56770518492574e-8*x'**2*y'**2 - 5.37829537713126e-23*x'**2 + 0.500000000000001*y**4 + 0.0337551240508255*y**3*y' + 0.000844798823248176*y**2*y'**2 - 1.95507106236636e-19*y**2 + 9.28585314015699e-6*y*y'**3 - 6.5993948836045e-21*y*y' + 3.78385259246288e-8*y'**4 - 5.37829537713126e-23*y'**2 + 1.43336357208836e-38)"
      ]
     },
     "metadata": {},
     "output_type": "display_data"
    }
   ],
   "source": [
    "\n",
    "dS_opl_dx = sp.diff(S_opl, dx_var) * mag_real / 3\n",
    "display(dS_opl_dx)\n",
    "display(polynomials['x'])\n",
    "\n",
    "\n",
    "dSdxdx_prime = sp.diff(S_opl, x_var, dx_var)\n",
    "dSdydx_prime = sp.diff(S_opl, y_var, dx_var)\n",
    "dSdxdy_prime = sp.diff(S_opl, x_var, dy_var)\n",
    "dSdydy_prime = sp.diff(S_opl, y_var, dy_var)\n",
    "Hessian = sp.Matrix([[dSdxdx_prime, dSdydx_prime], [dSdxdy_prime, dSdydy_prime]])\n",
    "display(sp.sqrt(sp.det(Hessian)).simplify())"
   ]
  },
  {
   "cell_type": "code",
   "execution_count": 12,
   "id": "616d2221",
   "metadata": {},
   "outputs": [],
   "source": [
    "jax_poly_x = sp.lambdify([x_var, y_var, dx_var, dy_var], polynomials['x'], modules='jax')\n",
    "jax_poly_y = sp.lambdify([x_var, y_var, dx_var, dy_var], polynomials['y'], modules='jax')\n",
    "jax_poly_opl = sp.lambdify([x_var, y_var, dx_var, dy_var], polynomials['pathlength'], modules='jax')"
   ]
  },
  {
   "cell_type": "code",
   "execution_count": 41,
   "id": "c66f7ece",
   "metadata": {},
   "outputs": [
    {
     "name": "stdout",
     "output_type": "stream",
     "text": [
      "[-0.0013937 -0.0013937]\n"
     ]
    }
   ],
   "source": [
    "def image_position(params, args):\n",
    "    dx, dy = params[0], params[1]\n",
    "    x_in, y_in = args[0], args[1]\n",
    "    x_out, y_out = args[2], args[3]\n",
    "    res_x = jax_poly_x(x_in, y_in, dx, dy) - x_out \n",
    "    res_y = jax_poly_y(y_in, y_in, dx, dy) - y_out\n",
    "    return res_x, res_y\n",
    "\n",
    "solver = optx.Newton(rtol=1e-8, atol=1e-8)\n",
    "params = jnp.array([0.0, 0.0])\n",
    "args = jnp.array([0.0, 0.0, 1e-6, 1e-6])\n",
    "sol = optx.root_find(image_position, solver, params, args)\n",
    "\n",
    "print(sol.value)\n",
    "\n",
    "hess = Hessian.subs({x_var: 0.0, y_var: 0.0, dx_var: sol.value[2], dy_var: sol.value[3]})\n",
    "hess = np.array(hess).astype(np.float64)"
   ]
  },
  {
   "cell_type": "code",
   "execution_count": 42,
   "id": "73178d18",
   "metadata": {},
   "outputs": [
    {
     "data": {
      "text/plain": [
       "-222582515.0322084j"
      ]
     },
     "execution_count": 42,
     "metadata": {},
     "output_type": "execute_result"
    }
   ],
   "source": [
    "(1 / (wavelength * 1j)) * np.sqrt(np.linalg.det(hess))"
   ]
  },
  {
   "cell_type": "code",
   "execution_count": 15,
   "id": "d921a211",
   "metadata": {},
   "outputs": [
    {
     "name": "stdout",
     "output_type": "stream",
     "text": [
      "     I  COEFFICIENT              ORDER EXPONENTS                  I  COEFFICIENT              ORDER EXPONENTS\n",
      "     1    3.7410593889031396e-02   0   0  0  0  0  0              1    3.7410593889038488e-02   0   0  0  0  0  0\n",
      "     0    1.0000000000000000e+00   1   0  0  0  0  1              0    1.0000000000000000e+00   1   0  0  0  0  1\n",
      "     1   -4.5055490371578915e-13   2   0  0  0  2  0              1    1.3498661281634294e-13   2   0  0  0  2  0\n",
      "     2   -4.3252089410028560e-11   2   0  1  0  1  0              2    2.0658530441863832e-11   2   0  1  0  1  0\n",
      "     3   -4.5055490371578915e-13   2   0  0  2  0  0              3    1.3498661281634294e-13   2   0  0  2  0  0\n",
      "     4   -4.3252089410028560e-11   2   1  0  1  0  0              4    2.0658530441863832e-11   2   1  0  1  0  0\n",
      "     5    4.7068796329324236e+01   2   0  2  0  0  0              5    4.7068796331136703e+01   2   0  2  0  0  0\n",
      "     6    4.7068796329324236e+01   2   2  0  0  0  0              6    4.7068796331136703e+01   2   2  0  0  0  0\n",
      "     7    1.5677487618784693e+02   4   0  0  0  4  0              7    1.5677487619417775e+02   4   0  0  0  4  0\n",
      "     8    4.0572838087809985e+04   4   0  1  0  3  0              8    4.0572838088427656e+04   4   0  1  0  3  0\n",
      "     9    3.1354975237569460e+02   4   0  0  2  2  0              9    3.1354975238835550e+02   4   0  0  2  2  0\n",
      "    10    4.0572838087810051e+04   4   1  0  1  2  0             10    4.0572838088427918e+04   4   1  0  1  2  0\n",
      "    11    3.7338595395051180e+06   4   0  2  0  2  0             11    3.7338595394929522e+06   4   0  2  0  2  0\n",
      "    12    1.2446624837668643e+06   4   2  0  0  2  0             12    1.2446624837588642e+06   4   2  0  0  2  0\n",
      "    13    4.0572838087810051e+04   4   0  1  2  1  0             13    4.0572838088427910e+04   4   0  1  2  1  0\n",
      "    14    4.9783941114764903e+06   4   1  1  1  1  0             14    4.9783941114682164e+06   4   1  1  1  1  0\n",
      "    15    1.4748684499709079e+08   4   0  3  0  1  0             15    1.4748684499441448e+08   4   0  3  0  1  0\n",
      "    16    1.4748684499709097e+08   4   2  1  0  1  0             16    1.4748684499441388e+08   4   2  1  0  1  0\n",
      "    17    1.5677487618784693e+02   4   0  0  4  0  0             17    1.5677487619417775e+02   4   0  0  4  0  0\n",
      "    18    4.0572838087809985e+04   4   1  0  3  0  0             18    4.0572838088427656e+04   4   1  0  3  0  0\n",
      "    19    1.2446624837668643e+06   4   0  2  2  0  0             19    1.2446624837588642e+06   4   0  2  2  0  0\n",
      "    20    3.7338595395051180e+06   4   2  0  2  0  0             20    3.7338595394929522e+06   4   2  0  2  0  0\n",
      "    21    1.4748684499709097e+08   4   1  2  1  0  0             21    1.4748684499441388e+08   4   1  2  1  0  0\n",
      "    22    1.4748684499709079e+08   4   3  0  1  0  0             22    1.4748684499441448e+08   4   3  0  1  0  0\n",
      "    23    2.1314255827226491e+09   4   0  4  0  0  0             23    2.1314255826568360e+09   4   0  4  0  0  0\n",
      "    24    4.2628511654453101e+09   4   2  2  0  0  0             24    4.2628511653136730e+09   4   2  2  0  0  0\n",
      "    25    2.1314255827226491e+09   4   4  0  0  0  0             25    2.1314255826568360e+09   4   4  0  0  0  0\n",
      "------------------------------------------------             ------------------------------------------------\n"
     ]
    }
   ],
   "source": [
    "var = 'pathlength'\n",
    "\n",
    "if var == 'x':\n",
    "    var_idx = 0\n",
    "elif var == 'y':\n",
    "    var_idx = 1\n",
    "elif var == 'dx':\n",
    "    var_idx = 2\n",
    "elif var == 'dy':\n",
    "    var_idx = 3\n",
    "elif var == 'pathlength':\n",
    "    var_idx = 4\n",
    "else:\n",
    "    raise ValueError(f\"Unknown variable: {var}\")\n",
    "\n",
    "header = f\"{'I':>6}  {'COEFFICIENT':>3}   {'ORDER':>16} {'EXPONENTS':>4}\"\n",
    "const = f\"{1:6d}   {getattr(ray_out, var): .16e}   {0} {'  0  0  0  0  0':15s}\"\n",
    "\n",
    "print_jax = [header, const]\n",
    "for idx, entry in enumerate(poly_dicts[var]):\n",
    "    exponents = tuple(map(int, entry[:-1]))\n",
    "    coeff = entry[-1]\n",
    "    total_order = sum(exponents)\n",
    "    exponents_str = \" \".join(f\"{e:2d}\" for e in exponents)\n",
    "    print_jax.append(f\"{idx:6d}   {coeff: .16e}   {total_order}  {exponents_str}\")\n",
    "print_jax.append('------------------------------------------------')\n",
    "\n",
    "\n",
    "header = f\"{'I':>6}  {'COEFFICIENT':>3}   {'ORDER':>16} {'EXPONENTS':>4}\"\n",
    "const = f\"{1:6d}   {x_f[var_idx].getCoefficient([0, 0]): .16e}   {0} {'  0  0  0  0  0':15s}\"\n",
    "\n",
    "print_daceypy = [header, const]\n",
    "\n",
    "for idx, entry in enumerate(poly_dicts[var]):\n",
    "    exponents = tuple(map(int, entry[:-1]))\n",
    "    coeff = x_f[var_idx].getCoefficient(list(exponents))\n",
    "    total_order = sum(exponents)\n",
    "    exponents_str = \" \".join(f\"{e:2d}\" for e in exponents)\n",
    "    print_daceypy.append(f\"{idx:6d}   {coeff: .16e}   {total_order}  {exponents_str}\")\n",
    "print_daceypy.append('------------------------------------------------')\n",
    "\n",
    "# Print the two blocks side by side\n",
    "for left, right in zip(print_jax, print_daceypy):\n",
    "    print(f\"{left:<60} {right}\")\n"
   ]
  }
 ],
 "metadata": {
  "kernelspec": {
   "display_name": "JaxGym (pyenv)",
   "language": "python",
   "name": "jaxgym"
  },
  "language_info": {
   "codemirror_mode": {
    "name": "ipython",
    "version": 3
   },
   "file_extension": ".py",
   "mimetype": "text/x-python",
   "name": "python",
   "nbconvert_exporter": "python",
   "pygments_lexer": "ipython3",
   "version": "3.12.6"
  }
 },
 "nbformat": 4,
 "nbformat_minor": 5
}
