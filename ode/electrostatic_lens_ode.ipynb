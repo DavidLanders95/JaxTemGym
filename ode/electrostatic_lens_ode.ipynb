{
 "cells": [
  {
   "cell_type": "code",
   "execution_count": 51,
   "id": "c7601df9",
   "metadata": {},
   "outputs": [],
   "source": [
    "from jaxgym.ode import odedopri,  electron_equation_of_motion_DA\n",
    "from jaxgym.field import schiske_lens_expansion_xyz, obtain_first_order_electrostatic_lens_properties\n",
    "import jaxgym.components as comp\n",
    "from jaxgym.ray import Ray\n",
    "from jaxgym.run import run_to_end, calculate_derivatives\n",
    "from jaxgym.taylor import poly_dict, order_indices, poly_dict_to_sympy_expr\n",
    "\n",
    "import jax\n",
    "import jax.numpy as jnp\n",
    "import numpy as np\n",
    "import optimistix as optx\n",
    "\n",
    "from scipy.constants import h as h_planck, e, m_e\n",
    "from daceypy import array, DA\n",
    "import sympy as sp\n",
    "import os\n",
    "\n",
    "from scipy.integrate import simpson\n",
    "\n",
    "jax.config.update(\"jax_platform_name\", \"cpu\")\n",
    "jax.config.update(\"jax_enable_x64\", True)\n",
    "os.environ[\"XLA_PYTHON_CLIENT_PREALLOCATE\"] = \"false\"\n",
    "os.environ[\"XLA_PYTHON_CLIENT_MEM_LIMIT_MB\"] = \"400\""
   ]
  },
  {
   "cell_type": "code",
   "execution_count": 130,
   "id": "d2710361",
   "metadata": {},
   "outputs": [],
   "source": [
    "X, Y, Z = sp.symbols('X Y Z')\n",
    "\n",
    "scale = 1 #set to mm scale\n",
    "# Set Parameters for Schiske Electrostatic Lens\n",
    "# Define lens parameters\n",
    "\n",
    "z_init = -0.020*scale  # Convert m to um units\n",
    "a = 0.0004*scale  # Convert m to um units\n",
    "phi_0 = 60e4  # Volts\n",
    "\n",
    "k = 0.40**(1/2)  # Unitless\n",
    "\n",
    "(\n",
    "    phi_expansion_symbolic,\n",
    "    E_lambda, phi_lambda,\n",
    "    phi_lambda_axial,\n",
    "    phi_lambda_prime,\n",
    "    phi_lambda_double_prime,\n",
    "    phi_lambda_quadruple_prime,\n",
    "    phi_lambda_sextuple_prime\n",
    ") = schiske_lens_expansion_xyz(X, Y, Z, phi_0, a, k)\n",
    "\n",
    "wavelength = h_planck/(2*abs(e)*m_e*phi_lambda_axial(z_init))**(1/2)*scale"
   ]
  },
  {
   "cell_type": "code",
   "execution_count": 131,
   "id": "4d9b72ef",
   "metadata": {},
   "outputs": [],
   "source": [
    "z_pos, g, g_, h, h_, mag_real, z_image, z_focal_real, z_focal_asymp, z_pi = obtain_first_order_electrostatic_lens_properties(\n",
    "    z_init, phi_lambda_axial, phi_lambda_prime, phi_lambda_double_prime, z_sampling=1000)\n",
    "\n",
    "R_image_to_aperture = np.abs(z_init)\n",
    "p_I = phi_lambda_axial(z_image)\n",
    "p_O = phi_lambda_axial(z_init)\n"
   ]
  },
  {
   "cell_type": "code",
   "execution_count": 132,
   "id": "b9059c01",
   "metadata": {},
   "outputs": [
    {
     "name": "stdout",
     "output_type": "stream",
     "text": [
      "Cs in metres (Aberration Integral Method): -184.69636177930158\n"
     ]
    }
   ],
   "source": [
    "Uz0 = phi_lambda_axial(z_pos[0])\n",
    "\n",
    "U_val = phi_lambda_axial(z_pos)\n",
    "U_val_ = phi_lambda_prime(z_pos)\n",
    "U_val__ = phi_lambda_double_prime(z_pos)\n",
    "U_val____ = phi_lambda_quadruple_prime(z_pos)\n",
    "\n",
    "\n",
    "def L_1():\n",
    "    return (1/(32*jnp.sqrt(U_val)))*((U_val__**2)/(U_val)-U_val____)\n",
    "\n",
    "\n",
    "def L_2():\n",
    "    return (1/(8*jnp.sqrt(U_val)))*(U_val__)\n",
    "\n",
    "\n",
    "def L_3():\n",
    "    return 1/2*(jnp.sqrt(U_val))\n",
    "\n",
    "\n",
    "def F_020():\n",
    "    return (L_1()/4)*h*h*h*h + (L_2()/2)*h*h*h_*h_ + (L_3()/4)*h_*h_*h_*h_\n",
    "\n",
    "\n",
    "Cs = 4/jnp.sqrt(abs(Uz0))*simpson(F_020(), x=z_pos)*mag_real\n",
    "B = simpson(F_020(), x=z_pos)\n",
    "\n",
    "print('Cs in metres (Aberration Integral Method):', Cs)"
   ]
  },
  {
   "cell_type": "code",
   "execution_count": 133,
   "id": "ede2a9a9",
   "metadata": {},
   "outputs": [],
   "source": [
    "order = 4\n",
    "\n",
    "DA.init(order, 5)\n",
    "\n",
    "# Set initial conditions. It does not matter that the slope and position are 0.\n",
    "x0 = 0.\n",
    "y0 = 0.\n",
    "x0_slope = 0.0\n",
    "y0_slope = 0.0\n",
    "opl = 0.\n",
    "\n",
    "u0 = phi_lambda_axial(z_init)  # initial potential\n",
    "x = array([x0 + DA(1), y0 + DA(2), x0_slope + DA(3), y0_slope + DA(4), opl + DA(5)])\n",
    "\n",
    "# solve the equation of motion via the differential algebra method, which delivers the solution as a taylor expansion\n",
    "with DA.cache_manager():\n",
    "    zf, x_f = odedopri(electron_equation_of_motion_DA, z_init,\n",
    "                        x,  z_image,  1e-1, 10000, 1e-15,  \n",
    "                        int(1e5), (phi_lambda, E_lambda, u0))\n",
    "    \n",
    "Cs_daceypy = x_f[0].getCoefficient([0, 0, 3, 0])"
   ]
  },
  {
   "cell_type": "code",
   "execution_count": 134,
   "id": "4178ff56",
   "metadata": {},
   "outputs": [
    {
     "name": "stdout",
     "output_type": "stream",
     "text": [
      "Cs (Aberration Integral Method): -184.69636177930158\n",
      "Cs (DA) - x polynomial -184.69636531168646\n",
      "Cs (DA) - opl polynomial -184.69636531166043\n"
     ]
    }
   ],
   "source": [
    "Cs = 4/jnp.sqrt(abs(Uz0))*simpson(F_020(), x=z_pos)*mag_real\n",
    "print('Cs (Aberration Integral Method):', Cs)\n",
    "print('Cs (DA) - x polynomial', Cs_daceypy)\n",
    "print('Cs (DA) - opl polynomial', x_f[4].getCoefficient([0, 0, 4, 0, ]) * mag_real * 4/3)\n"
   ]
  },
  {
   "cell_type": "code",
   "execution_count": 144,
   "id": "0c3ba7a9",
   "metadata": {},
   "outputs": [
    {
     "name": "stdout",
     "output_type": "stream",
     "text": [
      "0.00704 0.00704\n"
     ]
    }
   ],
   "source": [
    "z_init = jnp.array(z_init)\n",
    "z_image = jnp.array(z_image)\n",
    "\n",
    "PointSource = comp.InputPlane(z=z_init)\n",
    "ElectrostaticLens = comp.ODE(z=z_init, z_end=z_image, phi_lambda=phi_lambda, E_lambda=E_lambda)\n",
    "Detector = comp.Detector(z=z_image, det_pixel_size=(55e-6, 55e-6), det_shape = (256, 256))\n",
    "model = [PointSource, ElectrostaticLens, Detector]\n",
    "\n",
    "det_coords = Detector.get_coords()\n",
    "print(jnp.max(det_coords[0]), jnp.max(det_coords[1]))\n",
    "\n",
    "ray = Ray(0., 0., 0., 0., 0., z_init, 0.0)\n",
    "ray_out = run_to_end(ray, model)\n",
    "\n",
    "derivatives = calculate_derivatives(ray, model, order)"
   ]
  },
  {
   "cell_type": "code",
   "execution_count": 58,
   "id": "0d96ab4a",
   "metadata": {},
   "outputs": [],
   "source": [
    "selected_vars = ['x', 'y', 'dx', 'dy', 'pathlength']\n",
    "multi_indices = order_indices(order, n_vars=len(selected_vars))"
   ]
  },
  {
   "cell_type": "code",
   "execution_count": 59,
   "id": "2d912e06",
   "metadata": {},
   "outputs": [],
   "source": [
    "poly_dicts = poly_dict(derivatives, selected_vars, multi_indices[1:])"
   ]
  },
  {
   "cell_type": "code",
   "execution_count": 136,
   "id": "7f497ec5",
   "metadata": {},
   "outputs": [
    {
     "name": "stdout",
     "output_type": "stream",
     "text": [
      "-23069095.9559152*x**3 - 1384309.95856267*x**2*x' - 27693.3774475891*x*x'**2 - 23069095.9559152*x*y**2 - 922797.959323745*x*y*y' - 9231.12581594256*x*y'**2 - 0.883574443486702*x - 184.696365322523*x'**3 - 461511.999238918*x'*y**2 - 18462.2516316465*x'*y*y' - 184.696365322523*x'*y'**2 - 3.97026161946812e-14*x'\n"
     ]
    }
   ],
   "source": [
    "x_var, y_var, dx_var, dy_var, x_out, y_out, dx_out, dy_out, opl_var = sp.symbols(\"x y x' y' x_out y_out dx_out, dy_out S\", real=True)\n",
    "x_a, y_a = sp.symbols(\"x_a y_a\", real=True)\n",
    "polynomials = poly_dict_to_sympy_expr(poly_dicts, selected_vars, sym_vars=[x_var, y_var, dx_var, dy_var, opl_var])\n",
    "\n",
    "poly_opl = polynomials['pathlength']\n",
    "print(polynomials['x'])\n",
    "poly_x = sp.Eq(polynomials['x'], x_out)\n",
    "poly_y = sp.Eq(polynomials['y'], y_out)\n",
    "poly_dx = sp.solve(poly_x, dx_var)[0]\n",
    "poly_dy = sp.solve(poly_y, dy_var)[0]\n"
   ]
  },
  {
   "cell_type": "markdown",
   "id": "faa784dd",
   "metadata": {},
   "source": [
    "Convert polynomials from function of input slope to function of aperture. Replace everywhere x' with x_a and y' with y_a.\n",
    "\n",
    "For this we will simply say that x_a = x_o' * R where R is the distance to the aperture"
   ]
  },
  {
   "cell_type": "code",
   "execution_count": 145,
   "id": "7c342379",
   "metadata": {},
   "outputs": [],
   "source": [
    "poly_x_xa = polynomials['x'].subs({dx_var:x_a / R_image_to_aperture, dy_var:y_a / R_image_to_aperture})\n",
    "poly_y_xa = polynomials['y'].subs({dx_var:x_a / R_image_to_aperture, dy_var:y_a / R_image_to_aperture})\n",
    "poly_opl_xa = polynomials['pathlength'].subs({dx_var:x_a / R_image_to_aperture, dy_var:y_a / R_image_to_aperture})"
   ]
  },
  {
   "cell_type": "code",
   "execution_count": 146,
   "id": "616d2221",
   "metadata": {},
   "outputs": [],
   "source": [
    "jax_poly_x_xa = sp.lambdify([x_var, y_var, x_a, y_a], poly_x_xa, modules='jax')\n",
    "jax_poly_y_ya = sp.lambdify([x_var, y_var, x_a, y_a], poly_y_xa, modules='jax')\n",
    "jax_poly_opl_xa = sp.lambdify([x_var, y_var, x_a, y_a], poly_opl_xa, modules='jax')\n",
    "\n",
    "jax_poly_x = sp.lambdify([x_var, y_var, dx_var, dy_var], polynomials['x'], modules='jax')\n",
    "jax_poly_y = sp.lambdify([x_var, y_var, dx_var, dy_var], polynomials['y'], modules='jax')\n",
    "jax_poly_opl = sp.lambdify([x_var, y_var, dx_var, dy_var], polynomials['pathlength'], modules='jax')"
   ]
  },
  {
   "cell_type": "code",
   "execution_count": null,
   "id": "c66f7ece",
   "metadata": {},
   "outputs": [
    {
     "name": "stdout",
     "output_type": "stream",
     "text": [
      "Input Aperture Pos: [-0.00053321 -0.00053321]\n",
      "Input Slopes: [-0.0266606 -0.0266606]\n",
      "0.006999999999999999\n",
      "0.006999999999999999\n",
      "0.006999999999999999\n",
      "0.007000000000000001\n",
      "1.0*S + 0.00031682252557148\n",
      "1.0*S + 0.00031682252557148\n"
     ]
    }
   ],
   "source": [
    "def input_slope_from_image_position(params, args):\n",
    "    dx, dy = params           # params is a rank-1 array of length 2\n",
    "    x_in, y_in, x_out, y_out = args\n",
    "    res_x = jax_poly_x(x_in, y_in, dx, dy) - x_out \n",
    "    res_y = jax_poly_y(x_in, y_in, dx, dy) - y_out\n",
    "    return jnp.stack([res_x, res_y])\n",
    "\n",
    "def input_aperture_from_image_position(params, args):\n",
    "    dx, dy = params           # params is a rank-1 array of length 2\n",
    "    x_in, y_in, x_out, y_out = args\n",
    "    res_x = jax_poly_x_xa(x_in, y_in, dx, dy) - x_out \n",
    "    res_y = jax_poly_y_ya(x_in, y_in, dx, dy) - y_out\n",
    "    return jnp.stack([res_x, res_y])\n",
    "\n",
    "\n",
    "solver = optx.Newton(rtol=1e-13, atol=1e-13)\n",
    "params = jnp.array([0.0, 0.0])  # initial guess for dx and dy\n",
    "args = (0.0, 0.0, 7e-3, 7e-3)\n",
    "sol = optx.root_find(input_slope_from_image_position, solver, params, args).value\n",
    "sol_a = optx.root_find(input_aperture_from_image_position, solver, params, args).value\n",
    "\n",
    "jax_poly_x_xa(0, 0, sol_a[0], sol_a[1])\n",
    "print('Input Aperture Pos:', sol_a)\n",
    "print('Input Slopes:', sol)\n",
    "\n",
    "print(jax_poly_x_xa(0, 0, sol_a[0], sol_a[1]))\n",
    "print(jax_poly_y_ya(0, 0, sol_a[0], sol_a[1]))\n",
    "print(jax_poly_x(0, 0, sol[0], sol[1]))\n",
    "print(jax_poly_y(0, 0, sol[0], sol[1]))\n",
    "\n",
    "print(jax_poly_opl_xa(0, 0, sol_a[0], sol_a[1]))\n",
    "print(jax_poly_opl(0, 0, sol[0], sol[1]))"
   ]
  },
  {
   "cell_type": "code",
   "execution_count": 151,
   "id": "55f57743",
   "metadata": {},
   "outputs": [
    {
     "name": "stdout",
     "output_type": "stream",
     "text": [
      "Hessian det (xa): 30660304012.1624*sqrt(0.173546124834627*x**4 + 0.585807097233285*x**3*x_a + 0.733057810197867*x**2*x_a**2 + 0.347092249669253*x**2*y**2 + 0.585807097233286*x**2*y*y_a + 0.233057810197868*x**2*y_a**2 - 6.78590013299994e-20*x**2 + 0.402880957064423*x*x_a**3 + 0.585807097233286*x*x_a*y**2 + x*x_a*y*y_a + 0.402880957064423*x*x_a*y_a**2 - 1.14529940830302e-19*x*x_a + 0.0820841192959234*x_a**4 + 0.233057810197868*x_a**2*y**2 + 0.402880957064423*x_a**2*y*y_a + 0.164168238591846*x_a**2*y_a**2 - 4.66691160458557e-20*x_a**2 + 0.173546124834627*y**4 + 0.585807097233285*y**3*y_a + 0.733057810197867*y**2*y_a**2 - 6.78590013299994e-20*y**2 + 0.402880957064423*y*y_a**3 - 1.14529940830302e-19*y*y_a + 0.0820841192959234*y_a**4 - 4.66691160458557e-20*y_a**2 + 4.97509386830106e-39)\n",
      "Hessian det (xp): 361267514.015826*sqrt(0.500000000000001*x**4 + 0.0337551240508255*x**3*x' + 0.000844798823248176*x**2*x'**2 + x**2*y**2 + 0.0337551240508255*x**2*y*y' + 0.000268583133642369*x**2*y'**2 - 1.95507106236636e-19*x**2 + 9.28585314015699e-6*x*x'**3 + 0.0337551240508255*x*x'*y**2 + 0.00115243137921162*x*x'*y*y' + 9.285853140157e-6*x*x'*y'**2 - 6.5993948836045e-21*x*x' + 3.78385259246288e-8*x'**4 + 0.000268583133642369*x'**2*y**2 + 9.285853140157e-6*x'**2*y*y' + 7.56770518492574e-8*x'**2*y'**2 - 5.37829537713126e-23*x'**2 + 0.500000000000001*y**4 + 0.0337551240508255*y**3*y' + 0.000844798823248176*y**2*y'**2 - 1.95507106236636e-19*y**2 + 9.28585314015699e-6*y*y'**3 - 6.5993948836045e-21*y*y' + 3.78385259246288e-8*y'**4 - 5.37829537713126e-23*y'**2 + 1.43336357208836e-38)\n"
     ]
    }
   ],
   "source": [
    "dSdxodxa = sp.diff(poly_opl_xa, x_var, x_a)\n",
    "dSdxodya = sp.diff(poly_opl_xa, x_var, y_a)\n",
    "dSdyodxa = sp.diff(poly_opl_xa, y_var, x_a)\n",
    "dSdyodya = sp.diff(poly_opl_xa, y_var, y_a)\n",
    "\n",
    "dSdxodxp = sp.diff(poly_opl, x_var, dx_var)\n",
    "dSdxodyp = sp.diff(poly_opl, x_var, dy_var)\n",
    "dSdyodxp = sp.diff(poly_opl, y_var, dx_var)\n",
    "dSdyodyp = sp.diff(poly_opl, y_var, dy_var)\n",
    "\n",
    "hess_xa = sp.Matrix([[dSdxodxa, dSdxodya], [dSdyodxa, dSdyodya]])\n",
    "hess_xp = sp.Matrix([[dSdxodxp, dSdxodyp], [dSdyodxp, dSdyodyp]])\n",
    "\n",
    "det_hess_xa = sp.sqrt(hess_xa.det())\n",
    "det_hess_xp = sp.sqrt(hess_xp.det())\n",
    "\n",
    "det_hess_xa_f = sp.lambdify([x_var, y_var, x_a, y_a], det_hess_xa, modules='jax')\n",
    "det_hess_xp_f = sp.lambdify([x_var, y_var, dx_var, dy_var], det_hess_xp, modules='jax')\n",
    "\n",
    "print('Hessian det (xa):', det_hess_xa)\n",
    "print('Hessian det (xp):', det_hess_xp)\n"
   ]
  },
  {
   "cell_type": "code",
   "execution_count": 152,
   "id": "73178d18",
   "metadata": {},
   "outputs": [
    {
     "name": "stdout",
     "output_type": "stream",
     "text": [
      "Amplitude (xa): -63090702606539.63j\n",
      "Amplitude (xp): -63090702606539.6j\n"
     ]
    }
   ],
   "source": [
    "amplitude_xa = 1 / (1j * wavelength) * det_hess_xa_f(0, 0, sol_a[0], sol_a[1])\n",
    "amplitude_xp = 1 / (1j * wavelength) * det_hess_xp_f(0, 0, sol[0], sol[1])\n",
    "\n",
    "print('Amplitude (xa):', amplitude_xa * R_image_to_aperture)\n",
    "print('Amplitude (xp):', amplitude_xp)"
   ]
  },
  {
   "cell_type": "code",
   "execution_count": 153,
   "id": "d921a211",
   "metadata": {},
   "outputs": [
    {
     "name": "stdout",
     "output_type": "stream",
     "text": [
      "     I  COEFFICIENT              ORDER EXPONENTS                  I  COEFFICIENT              ORDER EXPONENTS\n",
      "     1    3.7410593888927583e-02   0   0  0  0  0  0              1    3.7410593888934779e-02   0   0  0  0  0  0\n",
      "     0    1.0000000000000000e+00   1   0  0  0  0  1              0    1.0000000000000000e+00   1   0  0  0  0  1\n",
      "     1   -4.5055490371578915e-13   2   0  0  0  2  0              1    6.8988353441393202e-14   2   0  0  0  2  0\n",
      "     2   -4.3252089410028560e-11   2   0  1  0  1  0              2    8.1939524609886405e-12   2   0  1  0  1  0\n",
      "     3   -4.5055490371578915e-13   2   0  0  2  0  0              3    6.8988353441393202e-14   2   0  0  2  0  0\n",
      "     4   -4.3252089410028560e-11   2   1  0  1  0  0              4    8.1939524609886405e-12   2   1  0  1  0  0\n",
      "     5    4.7068796329324236e+01   2   0  2  0  0  0              5    4.7068796330550931e+01   2   0  2  0  0  0\n",
      "     6    4.7068796329324236e+01   2   2  0  0  0  0              6    4.7068796330550931e+01   2   2  0  0  0  0\n",
      "     7    1.5677487618784693e+02   4   0  0  0  4  0              7    1.5677487619294936e+02   4   0  0  0  4  0\n",
      "     8    4.0572838087809985e+04   4   0  1  0  3  0              8    4.0572838088128396e+04   4   0  1  0  3  0\n",
      "     9    3.1354975237569460e+02   4   0  0  2  2  0              9    3.1354975238589873e+02   4   0  0  2  2  0\n",
      "    10    4.0572838087810051e+04   4   1  0  1  2  0             10    4.0572838088128468e+04   4   1  0  1  2  0\n",
      "    11    3.7338595395051180e+06   4   0  2  0  2  0             11    3.7338595394665105e+06   4   0  2  0  2  0\n",
      "    12    1.2446624837668643e+06   4   2  0  0  2  0             12    1.2446624837500465e+06   4   2  0  0  2  0\n",
      "    13    4.0572838087810051e+04   4   0  1  2  1  0             13    4.0572838088128468e+04   4   0  1  2  1  0\n",
      "    14    4.9783941114764903e+06   4   1  1  1  1  0             14    4.9783941114329165e+06   4   1  1  1  1  0\n",
      "    15    1.4748684499709079e+08   4   0  3  0  1  0             15    1.4748684499340069e+08   4   0  3  0  1  0\n",
      "    16    1.4748684499709097e+08   4   2  1  0  1  0             16    1.4748684499339956e+08   4   2  1  0  1  0\n",
      "    17    1.5677487618784693e+02   4   0  0  4  0  0             17    1.5677487619294936e+02   4   0  0  4  0  0\n",
      "    18    4.0572838087809985e+04   4   1  0  3  0  0             18    4.0572838088128388e+04   4   1  0  3  0  0\n",
      "    19    1.2446624837668643e+06   4   0  2  2  0  0             19    1.2446624837500465e+06   4   0  2  2  0  0\n",
      "    20    3.7338595395051180e+06   4   2  0  2  0  0             20    3.7338595394665101e+06   4   2  0  2  0  0\n",
      "    21    1.4748684499709097e+08   4   1  2  1  0  0             21    1.4748684499339956e+08   4   1  2  1  0  0\n",
      "    22    1.4748684499709079e+08   4   3  0  1  0  0             22    1.4748684499340069e+08   4   3  0  1  0  0\n",
      "    23    2.1314255827226491e+09   4   0  4  0  0  0             23    2.1314255826424940e+09   4   0  4  0  0  0\n",
      "    24    4.2628511654453101e+09   4   2  2  0  0  0             24    4.2628511652849879e+09   4   2  2  0  0  0\n",
      "    25    2.1314255827226491e+09   4   4  0  0  0  0             25    2.1314255826424940e+09   4   4  0  0  0  0\n",
      "------------------------------------------------             ------------------------------------------------\n"
     ]
    }
   ],
   "source": [
    "var = 'pathlength'\n",
    "\n",
    "if var == 'x':\n",
    "    var_idx = 0\n",
    "elif var == 'y':\n",
    "    var_idx = 1\n",
    "elif var == 'dx':\n",
    "    var_idx = 2\n",
    "elif var == 'dy':\n",
    "    var_idx = 3\n",
    "elif var == 'pathlength':\n",
    "    var_idx = 4\n",
    "else:\n",
    "    raise ValueError(f\"Unknown variable: {var}\")\n",
    "\n",
    "header = f\"{'I':>6}  {'COEFFICIENT':>3}   {'ORDER':>16} {'EXPONENTS':>4}\"\n",
    "const = f\"{1:6d}   {getattr(ray_out, var): .16e}   {0} {'  0  0  0  0  0':15s}\"\n",
    "\n",
    "print_jax = [header, const]\n",
    "for idx, entry in enumerate(poly_dicts[var]):\n",
    "    exponents = tuple(map(int, entry[:-1]))\n",
    "    coeff = entry[-1]\n",
    "    total_order = sum(exponents)\n",
    "    exponents_str = \" \".join(f\"{e:2d}\" for e in exponents)\n",
    "    print_jax.append(f\"{idx:6d}   {coeff: .16e}   {total_order}  {exponents_str}\")\n",
    "print_jax.append('------------------------------------------------')\n",
    "\n",
    "\n",
    "header = f\"{'I':>6}  {'COEFFICIENT':>3}   {'ORDER':>16} {'EXPONENTS':>4}\"\n",
    "const = f\"{1:6d}   {x_f[var_idx].getCoefficient([0, 0]): .16e}   {0} {'  0  0  0  0  0':15s}\"\n",
    "\n",
    "print_daceypy = [header, const]\n",
    "\n",
    "for idx, entry in enumerate(poly_dicts[var]):\n",
    "    exponents = tuple(map(int, entry[:-1]))\n",
    "    coeff = x_f[var_idx].getCoefficient(list(exponents))\n",
    "    total_order = sum(exponents)\n",
    "    exponents_str = \" \".join(f\"{e:2d}\" for e in exponents)\n",
    "    print_daceypy.append(f\"{idx:6d}   {coeff: .16e}   {total_order}  {exponents_str}\")\n",
    "print_daceypy.append('------------------------------------------------')\n",
    "\n",
    "# Print the two blocks side by side\n",
    "for left, right in zip(print_jax, print_daceypy):\n",
    "    print(f\"{left:<60} {right}\")\n"
   ]
  }
 ],
 "metadata": {
  "kernelspec": {
   "display_name": "JaxGym (pyenv)",
   "language": "python",
   "name": "jaxgym"
  },
  "language_info": {
   "codemirror_mode": {
    "name": "ipython",
    "version": 3
   },
   "file_extension": ".py",
   "mimetype": "text/x-python",
   "name": "python",
   "nbconvert_exporter": "python",
   "pygments_lexer": "ipython3",
   "version": "3.12.6"
  }
 },
 "nbformat": 4,
 "nbformat_minor": 5
}
